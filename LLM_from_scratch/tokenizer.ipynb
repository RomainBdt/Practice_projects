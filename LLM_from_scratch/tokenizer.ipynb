{
 "cells": [
  {
   "cell_type": "code",
   "execution_count": 1,
   "id": "6df6f739",
   "metadata": {
    "execution": {
     "iopub.execute_input": "2024-02-28T10:15:24.678210Z",
     "iopub.status.busy": "2024-02-28T10:15:24.677381Z",
     "iopub.status.idle": "2024-02-28T10:15:39.693810Z",
     "shell.execute_reply": "2024-02-28T10:15:39.692808Z"
    },
    "papermill": {
     "duration": 15.028648,
     "end_time": "2024-02-28T10:15:39.696506",
     "exception": false,
     "start_time": "2024-02-28T10:15:24.667858",
     "status": "completed"
    },
    "tags": []
   },
   "outputs": [
    {
     "name": "stdout",
     "output_type": "stream",
     "text": [
      "Requirement already satisfied: datasets in /opt/conda/lib/python3.10/site-packages (2.1.0)\r\n",
      "Collecting datasets\r\n",
      "  Downloading datasets-2.17.1-py3-none-any.whl.metadata (20 kB)\r\n",
      "Requirement already satisfied: filelock in /opt/conda/lib/python3.10/site-packages (from datasets) (3.13.1)\r\n",
      "Requirement already satisfied: numpy>=1.17 in /opt/conda/lib/python3.10/site-packages (from datasets) (1.26.4)\r\n",
      "Requirement already satisfied: pyarrow>=12.0.0 in /opt/conda/lib/python3.10/site-packages (from datasets) (15.0.0)\r\n",
      "Collecting pyarrow-hotfix (from datasets)\r\n",
      "  Downloading pyarrow_hotfix-0.6-py3-none-any.whl.metadata (3.6 kB)\r\n",
      "Requirement already satisfied: dill<0.3.9,>=0.3.0 in /opt/conda/lib/python3.10/site-packages (from datasets) (0.3.8)\r\n",
      "Requirement already satisfied: pandas in /opt/conda/lib/python3.10/site-packages (from datasets) (2.2.0)\r\n",
      "Requirement already satisfied: requests>=2.19.0 in /opt/conda/lib/python3.10/site-packages (from datasets) (2.31.0)\r\n",
      "Requirement already satisfied: tqdm>=4.62.1 in /opt/conda/lib/python3.10/site-packages (from datasets) (4.66.1)\r\n",
      "Requirement already satisfied: xxhash in /opt/conda/lib/python3.10/site-packages (from datasets) (3.4.1)\r\n",
      "Requirement already satisfied: multiprocess in /opt/conda/lib/python3.10/site-packages (from datasets) (0.70.16)\r\n",
      "Collecting fsspec<=2023.10.0,>=2023.1.0 (from fsspec[http]<=2023.10.0,>=2023.1.0->datasets)\r\n",
      "  Downloading fsspec-2023.10.0-py3-none-any.whl.metadata (6.8 kB)\r\n",
      "Requirement already satisfied: aiohttp in /opt/conda/lib/python3.10/site-packages (from datasets) (3.9.1)\r\n",
      "Requirement already satisfied: huggingface-hub>=0.19.4 in /opt/conda/lib/python3.10/site-packages (from datasets) (0.20.3)\r\n",
      "Requirement already satisfied: packaging in /opt/conda/lib/python3.10/site-packages (from datasets) (21.3)\r\n",
      "Requirement already satisfied: pyyaml>=5.1 in /opt/conda/lib/python3.10/site-packages (from datasets) (6.0.1)\r\n",
      "Requirement already satisfied: attrs>=17.3.0 in /opt/conda/lib/python3.10/site-packages (from aiohttp->datasets) (23.2.0)\r\n",
      "Requirement already satisfied: multidict<7.0,>=4.5 in /opt/conda/lib/python3.10/site-packages (from aiohttp->datasets) (6.0.4)\r\n",
      "Requirement already satisfied: yarl<2.0,>=1.0 in /opt/conda/lib/python3.10/site-packages (from aiohttp->datasets) (1.9.3)\r\n",
      "Requirement already satisfied: frozenlist>=1.1.1 in /opt/conda/lib/python3.10/site-packages (from aiohttp->datasets) (1.4.1)\r\n",
      "Requirement already satisfied: aiosignal>=1.1.2 in /opt/conda/lib/python3.10/site-packages (from aiohttp->datasets) (1.3.1)\r\n",
      "Requirement already satisfied: async-timeout<5.0,>=4.0 in /opt/conda/lib/python3.10/site-packages (from aiohttp->datasets) (4.0.3)\r\n",
      "Requirement already satisfied: typing-extensions>=3.7.4.3 in /opt/conda/lib/python3.10/site-packages (from huggingface-hub>=0.19.4->datasets) (4.9.0)\r\n",
      "Requirement already satisfied: pyparsing!=3.0.5,>=2.0.2 in /opt/conda/lib/python3.10/site-packages (from packaging->datasets) (3.1.1)\r\n",
      "Requirement already satisfied: charset-normalizer<4,>=2 in /opt/conda/lib/python3.10/site-packages (from requests>=2.19.0->datasets) (3.3.2)\r\n",
      "Requirement already satisfied: idna<4,>=2.5 in /opt/conda/lib/python3.10/site-packages (from requests>=2.19.0->datasets) (3.6)\r\n",
      "Requirement already satisfied: urllib3<3,>=1.21.1 in /opt/conda/lib/python3.10/site-packages (from requests>=2.19.0->datasets) (1.26.18)\r\n",
      "Requirement already satisfied: certifi>=2017.4.17 in /opt/conda/lib/python3.10/site-packages (from requests>=2.19.0->datasets) (2024.2.2)\r\n",
      "Requirement already satisfied: python-dateutil>=2.8.2 in /opt/conda/lib/python3.10/site-packages (from pandas->datasets) (2.8.2)\r\n",
      "Requirement already satisfied: pytz>=2020.1 in /opt/conda/lib/python3.10/site-packages (from pandas->datasets) (2023.3.post1)\r\n",
      "Requirement already satisfied: tzdata>=2022.7 in /opt/conda/lib/python3.10/site-packages (from pandas->datasets) (2023.4)\r\n",
      "Requirement already satisfied: six>=1.5 in /opt/conda/lib/python3.10/site-packages (from python-dateutil>=2.8.2->pandas->datasets) (1.16.0)\r\n",
      "Downloading datasets-2.17.1-py3-none-any.whl (536 kB)\r\n",
      "\u001b[2K   \u001b[90m━━━━━━━━━━━━━━━━━━━━━━━━━━━━━━━━━━━━━━━━\u001b[0m \u001b[32m536.7/536.7 kB\u001b[0m \u001b[31m17.5 MB/s\u001b[0m eta \u001b[36m0:00:00\u001b[0m\r\n",
      "\u001b[?25hDownloading fsspec-2023.10.0-py3-none-any.whl (166 kB)\r\n",
      "\u001b[2K   \u001b[90m━━━━━━━━━━━━━━━━━━━━━━━━━━━━━━━━━━━━━━━━\u001b[0m \u001b[32m166.4/166.4 kB\u001b[0m \u001b[31m9.7 MB/s\u001b[0m eta \u001b[36m0:00:00\u001b[0m\r\n",
      "\u001b[?25hDownloading pyarrow_hotfix-0.6-py3-none-any.whl (7.9 kB)\r\n",
      "Installing collected packages: pyarrow-hotfix, fsspec, datasets\r\n",
      "  Attempting uninstall: fsspec\r\n",
      "    Found existing installation: fsspec 2024.2.0\r\n",
      "    Uninstalling fsspec-2024.2.0:\r\n",
      "      Successfully uninstalled fsspec-2024.2.0\r\n",
      "  Attempting uninstall: datasets\r\n",
      "    Found existing installation: datasets 2.1.0\r\n",
      "    Uninstalling datasets-2.1.0:\r\n",
      "      Successfully uninstalled datasets-2.1.0\r\n",
      "\u001b[31mERROR: pip's dependency resolver does not currently take into account all the packages that are installed. This behaviour is the source of the following dependency conflicts.\r\n",
      "gcsfs 2023.12.2.post1 requires fsspec==2023.12.2, but you have fsspec 2023.10.0 which is incompatible.\r\n",
      "s3fs 2024.2.0 requires fsspec==2024.2.0, but you have fsspec 2023.10.0 which is incompatible.\u001b[0m\u001b[31m\r\n",
      "\u001b[0mSuccessfully installed datasets-2.17.1 fsspec-2023.10.0 pyarrow-hotfix-0.6\r\n"
     ]
    }
   ],
   "source": [
    "!pip install -U datasets"
   ]
  },
  {
   "cell_type": "markdown",
   "id": "efd0149f",
   "metadata": {
    "papermill": {
     "duration": 0.008198,
     "end_time": "2024-02-28T10:15:39.713961",
     "exception": false,
     "start_time": "2024-02-28T10:15:39.705763",
     "status": "completed"
    },
    "tags": []
   },
   "source": [
    "# Sources:\n",
    "1 - https://karpathy.ai/zero-to-hero.html  \n",
    "2 - https://www.youtube.com/watch?v=kCc8FmEb1nY  \n",
    "3 - https://github.com/karpathy/minbpe/tree/master  "
   ]
  },
  {
   "cell_type": "markdown",
   "id": "d0111124",
   "metadata": {
    "papermill": {
     "duration": 0.00872,
     "end_time": "2024-02-28T10:15:39.731753",
     "exception": false,
     "start_time": "2024-02-28T10:15:39.723033",
     "status": "completed"
    },
    "tags": []
   },
   "source": [
    "# Imports"
   ]
  },
  {
   "cell_type": "code",
   "execution_count": 2,
   "id": "6a727a05",
   "metadata": {
    "execution": {
     "iopub.execute_input": "2024-02-28T10:15:39.750786Z",
     "iopub.status.busy": "2024-02-28T10:15:39.750353Z",
     "iopub.status.idle": "2024-02-28T10:15:41.957636Z",
     "shell.execute_reply": "2024-02-28T10:15:41.956381Z"
    },
    "papermill": {
     "duration": 2.219681,
     "end_time": "2024-02-28T10:15:41.960155",
     "exception": false,
     "start_time": "2024-02-28T10:15:39.740474",
     "status": "completed"
    },
    "tags": []
   },
   "outputs": [],
   "source": [
    "import regex as re\n",
    "from datasets import load_dataset\n",
    "from collections import Counter, OrderedDict\n",
    "from tqdm import trange\n",
    "import json\n",
    "from tqdm import tqdm"
   ]
  },
  {
   "cell_type": "markdown",
   "id": "d5213a60",
   "metadata": {
    "papermill": {
     "duration": 0.008129,
     "end_time": "2024-02-28T10:15:41.976973",
     "exception": false,
     "start_time": "2024-02-28T10:15:41.968844",
     "status": "completed"
    },
    "tags": []
   },
   "source": [
    "# Parameters"
   ]
  },
  {
   "cell_type": "code",
   "execution_count": 3,
   "id": "e061f519",
   "metadata": {
    "execution": {
     "iopub.execute_input": "2024-02-28T10:15:41.996725Z",
     "iopub.status.busy": "2024-02-28T10:15:41.995473Z",
     "iopub.status.idle": "2024-02-28T10:15:42.000629Z",
     "shell.execute_reply": "2024-02-28T10:15:41.999888Z"
    },
    "papermill": {
     "duration": 0.017037,
     "end_time": "2024-02-28T10:15:42.002505",
     "exception": false,
     "start_time": "2024-02-28T10:15:41.985468",
     "status": "completed"
    },
    "tags": []
   },
   "outputs": [],
   "source": [
    "# Dataset parameters\n",
    "train_ratio = 0.9\n",
    "sample_size = 1_000\n",
    "\n",
    "# Parameters for Additional test\n",
    "max_single_char_vocab_size = 150\n",
    "max_vocab_size = 500\n",
    "min_freq = 100\n",
    "UNK_TOKEN = \"<UNK>\"\n",
    "\n",
    "# select a tokenizer among BasicTokenizer, RegexTokenizer and MostCommonRegexTokenizer\n",
    "tokenizer_name = \"MostCommonRegexTokenizer\"\n",
    "\n",
    "SEED = 15"
   ]
  },
  {
   "cell_type": "markdown",
   "id": "1b7d7862",
   "metadata": {
    "papermill": {
     "duration": 0.008076,
     "end_time": "2024-02-28T10:15:42.019177",
     "exception": false,
     "start_time": "2024-02-28T10:15:42.011101",
     "status": "completed"
    },
    "tags": []
   },
   "source": [
    "# Load files"
   ]
  },
  {
   "cell_type": "code",
   "execution_count": 4,
   "id": "fe53d95d",
   "metadata": {
    "execution": {
     "iopub.execute_input": "2024-02-28T10:15:42.039149Z",
     "iopub.status.busy": "2024-02-28T10:15:42.038443Z",
     "iopub.status.idle": "2024-02-28T10:18:22.201286Z",
     "shell.execute_reply": "2024-02-28T10:18:22.200387Z"
    },
    "papermill": {
     "duration": 160.176388,
     "end_time": "2024-02-28T10:18:22.205112",
     "exception": false,
     "start_time": "2024-02-28T10:15:42.028724",
     "status": "completed"
    },
    "tags": []
   },
   "outputs": [
    {
     "data": {
      "application/vnd.jupyter.widget-view+json": {
       "model_id": "d5ba6fe8b58b4d158e5171366a7e94c0",
       "version_major": 2,
       "version_minor": 0
      },
      "text/plain": [
       "Downloading readme:   0%|          | 0.00/131k [00:00<?, ?B/s]"
      ]
     },
     "metadata": {},
     "output_type": "display_data"
    },
    {
     "data": {
      "application/vnd.jupyter.widget-view+json": {
       "model_id": "5d830a608f5a474ba2328a708979395a",
       "version_major": 2,
       "version_minor": 0
      },
      "text/plain": [
       "Resolving data files:   0%|          | 0/17 [00:00<?, ?it/s]"
      ]
     },
     "metadata": {},
     "output_type": "display_data"
    },
    {
     "data": {
      "application/vnd.jupyter.widget-view+json": {
       "model_id": "d3e969b8b60144d98e31d8c3eeec73bb",
       "version_major": 2,
       "version_minor": 0
      },
      "text/plain": [
       "Downloading data:   0%|          | 0.00/769M [00:00<?, ?B/s]"
      ]
     },
     "metadata": {},
     "output_type": "display_data"
    },
    {
     "data": {
      "application/vnd.jupyter.widget-view+json": {
       "model_id": "f4017d135de446e8a8389b434e65560b",
       "version_major": 2,
       "version_minor": 0
      },
      "text/plain": [
       "Downloading data:   0%|          | 0.00/422M [00:00<?, ?B/s]"
      ]
     },
     "metadata": {},
     "output_type": "display_data"
    },
    {
     "data": {
      "application/vnd.jupyter.widget-view+json": {
       "model_id": "422357823417445e9953dde43302e836",
       "version_major": 2,
       "version_minor": 0
      },
      "text/plain": [
       "Downloading data:   0%|          | 0.00/348M [00:00<?, ?B/s]"
      ]
     },
     "metadata": {},
     "output_type": "display_data"
    },
    {
     "data": {
      "application/vnd.jupyter.widget-view+json": {
       "model_id": "c05835ef8cbe4d6a82cb124d425c7ef2",
       "version_major": 2,
       "version_minor": 0
      },
      "text/plain": [
       "Downloading data:   0%|          | 0.00/296M [00:00<?, ?B/s]"
      ]
     },
     "metadata": {},
     "output_type": "display_data"
    },
    {
     "data": {
      "application/vnd.jupyter.widget-view+json": {
       "model_id": "0c061618949a48788e2b4e21075da33d",
       "version_major": 2,
       "version_minor": 0
      },
      "text/plain": [
       "Downloading data:   0%|          | 0.00/284M [00:00<?, ?B/s]"
      ]
     },
     "metadata": {},
     "output_type": "display_data"
    },
    {
     "data": {
      "application/vnd.jupyter.widget-view+json": {
       "model_id": "82f7ec6cd20b4045851e2649e525697d",
       "version_major": 2,
       "version_minor": 0
      },
      "text/plain": [
       "Downloading data:   0%|          | 0.00/259M [00:00<?, ?B/s]"
      ]
     },
     "metadata": {},
     "output_type": "display_data"
    },
    {
     "data": {
      "application/vnd.jupyter.widget-view+json": {
       "model_id": "a7c82c974bf649fcb10969117b8bb1d2",
       "version_major": 2,
       "version_minor": 0
      },
      "text/plain": [
       "Downloading data:   0%|          | 0.00/219M [00:00<?, ?B/s]"
      ]
     },
     "metadata": {},
     "output_type": "display_data"
    },
    {
     "data": {
      "application/vnd.jupyter.widget-view+json": {
       "model_id": "864a0eec0c69458787c9c04cadf90838",
       "version_major": 2,
       "version_minor": 0
      },
      "text/plain": [
       "Downloading data:   0%|          | 0.00/216M [00:00<?, ?B/s]"
      ]
     },
     "metadata": {},
     "output_type": "display_data"
    },
    {
     "data": {
      "application/vnd.jupyter.widget-view+json": {
       "model_id": "1ba51477d16043f48e4d6257f7f94fa6",
       "version_major": 2,
       "version_minor": 0
      },
      "text/plain": [
       "Downloading data:   0%|          | 0.00/205M [00:00<?, ?B/s]"
      ]
     },
     "metadata": {},
     "output_type": "display_data"
    },
    {
     "data": {
      "application/vnd.jupyter.widget-view+json": {
       "model_id": "2a0dd1c91279469f88283d86087879b4",
       "version_major": 2,
       "version_minor": 0
      },
      "text/plain": [
       "Downloading data:   0%|          | 0.00/205M [00:00<?, ?B/s]"
      ]
     },
     "metadata": {},
     "output_type": "display_data"
    },
    {
     "data": {
      "application/vnd.jupyter.widget-view+json": {
       "model_id": "f93085f74b654effb494a3f9cddd24ec",
       "version_major": 2,
       "version_minor": 0
      },
      "text/plain": [
       "Downloading data:   0%|          | 0.00/205M [00:00<?, ?B/s]"
      ]
     },
     "metadata": {},
     "output_type": "display_data"
    },
    {
     "data": {
      "application/vnd.jupyter.widget-view+json": {
       "model_id": "dc154ce533b24248b5e3e6e3121d0c98",
       "version_major": 2,
       "version_minor": 0
      },
      "text/plain": [
       "Downloading data:   0%|          | 0.00/169M [00:00<?, ?B/s]"
      ]
     },
     "metadata": {},
     "output_type": "display_data"
    },
    {
     "data": {
      "application/vnd.jupyter.widget-view+json": {
       "model_id": "1edf9c6924e047c8a113dd6328a48b72",
       "version_major": 2,
       "version_minor": 0
      },
      "text/plain": [
       "Downloading data:   0%|          | 0.00/210M [00:00<?, ?B/s]"
      ]
     },
     "metadata": {},
     "output_type": "display_data"
    },
    {
     "data": {
      "application/vnd.jupyter.widget-view+json": {
       "model_id": "e6005a8859f34529af7a88f525fd6fc1",
       "version_major": 2,
       "version_minor": 0
      },
      "text/plain": [
       "Downloading data:   0%|          | 0.00/214M [00:00<?, ?B/s]"
      ]
     },
     "metadata": {},
     "output_type": "display_data"
    },
    {
     "data": {
      "application/vnd.jupyter.widget-view+json": {
       "model_id": "aaf31f4e09e3408d8a0e503ea250910e",
       "version_major": 2,
       "version_minor": 0
      },
      "text/plain": [
       "Downloading data:   0%|          | 0.00/222M [00:00<?, ?B/s]"
      ]
     },
     "metadata": {},
     "output_type": "display_data"
    },
    {
     "data": {
      "application/vnd.jupyter.widget-view+json": {
       "model_id": "db17bfbcf6bc43388fbe84eb03220f0a",
       "version_major": 2,
       "version_minor": 0
      },
      "text/plain": [
       "Downloading data:   0%|          | 0.00/186M [00:00<?, ?B/s]"
      ]
     },
     "metadata": {},
     "output_type": "display_data"
    },
    {
     "data": {
      "application/vnd.jupyter.widget-view+json": {
       "model_id": "cdbc496f9ebe410d917052bf1ce1852b",
       "version_major": 2,
       "version_minor": 0
      },
      "text/plain": [
       "Downloading data:   0%|          | 0.00/186M [00:00<?, ?B/s]"
      ]
     },
     "metadata": {},
     "output_type": "display_data"
    },
    {
     "data": {
      "application/vnd.jupyter.widget-view+json": {
       "model_id": "0b5921ac15af4ecb914b1eac47de4595",
       "version_major": 2,
       "version_minor": 0
      },
      "text/plain": [
       "Generating train split:   0%|          | 0/2564646 [00:00<?, ? examples/s]"
      ]
     },
     "metadata": {},
     "output_type": "display_data"
    },
    {
     "name": "stdout",
     "output_type": "stream",
     "text": [
      "Dataset size: 2564646\n"
     ]
    }
   ],
   "source": [
    "# Define the path to the dataset\n",
    "dataset_name = \"20231101.fr\"\n",
    "\n",
    "# Load the dataset\n",
    "raw_dataset = load_dataset(\"wikimedia/wikipedia\", dataset_name)\n",
    "print(f\"Dataset size: {raw_dataset['train'].num_rows}\")"
   ]
  },
  {
   "cell_type": "markdown",
   "id": "a20b6fc6",
   "metadata": {
    "papermill": {
     "duration": 0.01434,
     "end_time": "2024-02-28T10:18:22.238361",
     "exception": false,
     "start_time": "2024-02-28T10:18:22.224021",
     "status": "completed"
    },
    "tags": []
   },
   "source": [
    "# Data preparation"
   ]
  },
  {
   "cell_type": "code",
   "execution_count": 5,
   "id": "84433334",
   "metadata": {
    "execution": {
     "iopub.execute_input": "2024-02-28T10:18:22.263723Z",
     "iopub.status.busy": "2024-02-28T10:18:22.263321Z",
     "iopub.status.idle": "2024-02-28T10:18:22.535688Z",
     "shell.execute_reply": "2024-02-28T10:18:22.534872Z"
    },
    "papermill": {
     "duration": 0.28804,
     "end_time": "2024-02-28T10:18:22.538197",
     "exception": false,
     "start_time": "2024-02-28T10:18:22.250157",
     "status": "completed"
    },
    "tags": []
   },
   "outputs": [],
   "source": [
    "# Create training and evaluation datasets\n",
    "if sample_size < 0:\n",
    "    train_sample = round(raw_dataset['train'].num_rows * train_ratio)\n",
    "    test_sample = round(raw_dataset['train'].num_rows * (1- train_ratio))\n",
    "else:\n",
    "    train_sample = round(sample_size * train_ratio)\n",
    "    test_sample = round(sample_size * (1- train_ratio))\n",
    "\n",
    "ds_train_test = raw_dataset['train'].train_test_split(train_size=train_sample, test_size=test_sample, seed=SEED)\n",
    "train_text = ''.join([t['text'] for t in ds_train_test['train']])"
   ]
  },
  {
   "cell_type": "code",
   "execution_count": 6,
   "id": "0301bff3",
   "metadata": {
    "execution": {
     "iopub.execute_input": "2024-02-28T10:18:22.563434Z",
     "iopub.status.busy": "2024-02-28T10:18:22.563056Z",
     "iopub.status.idle": "2024-02-28T10:18:22.911457Z",
     "shell.execute_reply": "2024-02-28T10:18:22.910419Z"
    },
    "papermill": {
     "duration": 0.364743,
     "end_time": "2024-02-28T10:18:22.914348",
     "exception": false,
     "start_time": "2024-02-28T10:18:22.549605",
     "status": "completed"
    },
    "tags": []
   },
   "outputs": [
    {
     "name": "stdout",
     "output_type": "stream",
     "text": [
      "Number of unique words:  74972\n",
      "Number of unique characters:  874\n",
      "Number of unique characters above threshold:  110\n",
      "Number of unique characters below threshold:  764\n"
     ]
    }
   ],
   "source": [
    "# Get some statistics about the data\n",
    "print(\"Number of unique words: \", len(set(train_text.split())))\n",
    "print(\"Number of unique characters: \", len(set(train_text)))\n",
    "counter = Counter(train_text)\n",
    "chars_above_threshold = [c for c in counter if counter[c] >= min_freq]\n",
    "print(\"Number of unique characters above threshold: \", len(chars_above_threshold))\n",
    "chars_below_threshold = [c for c in counter if counter[c] < min_freq]\n",
    "print(\"Number of unique characters below threshold: \", len(chars_below_threshold))"
   ]
  },
  {
   "cell_type": "markdown",
   "id": "563526c8",
   "metadata": {
    "papermill": {
     "duration": 0.011381,
     "end_time": "2024-02-28T10:18:22.937525",
     "exception": false,
     "start_time": "2024-02-28T10:18:22.926144",
     "status": "completed"
    },
    "tags": []
   },
   "source": [
    "# Step 1\n",
    "Create a simple Byte Pair Encoder (BPE)"
   ]
  },
  {
   "cell_type": "code",
   "execution_count": 7,
   "id": "adef0669",
   "metadata": {
    "execution": {
     "iopub.execute_input": "2024-02-28T10:18:22.969455Z",
     "iopub.status.busy": "2024-02-28T10:18:22.968934Z",
     "iopub.status.idle": "2024-02-28T10:18:22.991271Z",
     "shell.execute_reply": "2024-02-28T10:18:22.990096Z"
    },
    "papermill": {
     "duration": 0.044601,
     "end_time": "2024-02-28T10:18:22.993864",
     "exception": false,
     "start_time": "2024-02-28T10:18:22.949263",
     "status": "completed"
    },
    "tags": []
   },
   "outputs": [],
   "source": [
    "class BasicTokenizer():\n",
    "    def __init__(self):\n",
    "        self.text_to_int = {}  # {text: int}\n",
    "        self.int_to_text = {}  # {int: text}\n",
    "        self.merged_dict = OrderedDict()  # {(token, token): token}\n",
    "        \n",
    "    def train(self, text, max_vocab_size, verbose=False):\n",
    "        self.text_to_int, self.int_to_text = self._create_initial_vocabulary(text)  \n",
    "        self.current_vocab_size = len(self.text_to_int)\n",
    "        \n",
    "        train_tokens = self.encode(text) \n",
    "        \n",
    "        if verbose: \n",
    "            self.print_stats(train_tokens)\n",
    "        \n",
    "        if self.current_vocab_size < max_vocab_size:\n",
    "            iter_count = max_vocab_size - self.current_vocab_size\n",
    "            for _ in trange(iter_count):\n",
    "                token_pairs = self._get_pairs(train_tokens)\n",
    "                most_freq = self._get_most_common_token_pair(token_pairs)\n",
    "                \n",
    "                str_pair = ''.join([self.int_to_text[most_freq[0]], self.int_to_text[most_freq[1]]])\n",
    "                self.text_to_int[str_pair] = self.current_vocab_size\n",
    "                self.int_to_text[self.current_vocab_size] = str_pair\n",
    "                self.merged_dict[most_freq] = self.text_to_int[str_pair]\n",
    "                self.current_vocab_size += 1\n",
    "\n",
    "                new_train_tokens = self._replace_token_pairs(train_tokens, most_freq, self.text_to_int[str_pair])\n",
    "                train_tokens = new_train_tokens\n",
    "\n",
    "                if verbose:\n",
    "                    self.print_stats(train_tokens, str_pair, most_freq)\n",
    "\n",
    "    def print_stats(self, train_tokens, str_pair=\"\", token_pair=None):\n",
    "        print(\"Updated vocab size:\", self.current_vocab_size, \n",
    "              \"Updated sequence length:\", len(train_tokens), \n",
    "              \"New vocab:\", str_pair, \n",
    "              \"Token pair:\", token_pair)\n",
    "        \n",
    "    def _get_pairs(self, tokens):\n",
    "        return list(zip(tokens, tokens[1:]))\n",
    "    \n",
    "    def _create_initial_vocabulary(self, text):\n",
    "        sorted_text = sorted(set(text))\n",
    "        text_to_int = {c: i for i, c in enumerate(sorted_text)}\n",
    "        int_to_text = {i: c for i, c in enumerate(sorted_text)}\n",
    "        return text_to_int, int_to_text\n",
    "\n",
    "    def _get_most_common_token_pair(self, token_pairs):\n",
    "        counter = Counter(token_pairs)\n",
    "        most_freq = counter.most_common(1)[0][0]\n",
    "        return most_freq\n",
    "    \n",
    "    def _replace_token_pairs(self, tokens, target_pair, new_token):\n",
    "        \"\"\"\n",
    "        Replace all occurrences of `target_pair` in `tokens` by `new_token`.\n",
    "        \"\"\"\n",
    "        new_tokens = []\n",
    "        i = 0\n",
    "        while i < len(tokens) - 1:\n",
    "            if (tokens[i], tokens[i+1]) == target_pair:\n",
    "                new_tokens.append(new_token)\n",
    "                i += 2\n",
    "            else:\n",
    "                new_tokens.append(tokens[i])\n",
    "                i += 1\n",
    "        if i < len(tokens):\n",
    "            new_tokens.append(tokens[i])\n",
    "        return new_tokens\n",
    "\n",
    "    def encode(self, text):\n",
    "        tokens = [self.text_to_int[char] for char in text]\n",
    "        for key in self.merged_dict:\n",
    "            tokens = self._replace_token_pairs(tokens, key, self.merged_dict[key])\n",
    "        return tokens\n",
    "            \n",
    "    \n",
    "    def decode(self, tokens):\n",
    "        return \"\".join([self.int_to_text[i] for i in tokens])\n"
   ]
  },
  {
   "cell_type": "code",
   "execution_count": 8,
   "id": "0a9de266",
   "metadata": {
    "execution": {
     "iopub.execute_input": "2024-02-28T10:18:23.023130Z",
     "iopub.status.busy": "2024-02-28T10:18:23.022396Z",
     "iopub.status.idle": "2024-02-28T10:18:23.030396Z",
     "shell.execute_reply": "2024-02-28T10:18:23.029183Z"
    },
    "papermill": {
     "duration": 0.025442,
     "end_time": "2024-02-28T10:18:23.032897",
     "exception": false,
     "start_time": "2024-02-28T10:18:23.007455",
     "status": "completed"
    },
    "tags": []
   },
   "outputs": [],
   "source": [
    "if tokenizer_name == \"BasicTokenizer\":\n",
    "    tokenizer = BasicTokenizer()\n",
    "    tokenizer.train(train_text, max_vocab_size=max_vocab_size, verbose=False)\n",
    "\n",
    "    text = \"Bonjour le monde, comment va ta journée?\"\n",
    "    code = tokenizer.encode(text)\n",
    "    print(f\"len original text: {len(text)}, len bpe text: {len(code)}\") \n",
    "    print(code)\n",
    "    print(tokenizer.decode(code))"
   ]
  },
  {
   "cell_type": "markdown",
   "id": "789a67d9",
   "metadata": {
    "papermill": {
     "duration": 0.011588,
     "end_time": "2024-02-28T10:18:23.057203",
     "exception": false,
     "start_time": "2024-02-28T10:18:23.045615",
     "status": "completed"
    },
    "tags": []
   },
   "source": [
    "# Step 2\n",
    "Improve the BPE from step 1 by splitting first the text into words and then applying the BPE to each word. This will avoid having tokens that are composed of multiple words or heterogeneous (word + number for example)"
   ]
  },
  {
   "cell_type": "code",
   "execution_count": 9,
   "id": "a725a6d5",
   "metadata": {
    "execution": {
     "iopub.execute_input": "2024-02-28T10:18:23.083633Z",
     "iopub.status.busy": "2024-02-28T10:18:23.082592Z",
     "iopub.status.idle": "2024-02-28T10:18:23.106989Z",
     "shell.execute_reply": "2024-02-28T10:18:23.106047Z"
    },
    "papermill": {
     "duration": 0.040546,
     "end_time": "2024-02-28T10:18:23.109334",
     "exception": false,
     "start_time": "2024-02-28T10:18:23.068788",
     "status": "completed"
    },
    "tags": []
   },
   "outputs": [],
   "source": [
    "class RegexTokenizer():\n",
    "    def __init__(self):\n",
    "        self.text_to_int = {}  # {text: int}\n",
    "        self.int_to_text = {}  # {int: text}\n",
    "        self.merged_dict = OrderedDict()  # {(token, token): token}\n",
    "        \n",
    "    def train(self, text, max_vocab_size, verbose=False, show_progress=False):\n",
    "        self.text_to_int, self.int_to_text = self._create_initial_vocabulary(text)\n",
    "        self.current_vocab_size = len(self.text_to_int)\n",
    "        \n",
    "        tokens_splits = self.encode(text)\n",
    "        \n",
    "        if verbose: \n",
    "            self.print_stats(tokens_splits)\n",
    "            \n",
    "        if self.current_vocab_size < max_vocab_size:\n",
    "            iter_count = max_vocab_size - self.current_vocab_size\n",
    "            for _ in trange(iter_count, disable=not show_progress):\n",
    "                token_pairs = []\n",
    "                for tokens_split in tokens_splits:\n",
    "                    if len(tokens_split) > 1:\n",
    "                        token_pairs.extend(self._get_pairs(tokens_split))\n",
    "                        \n",
    "                most_freq = self._get_most_common_token_pair(token_pairs)\n",
    "                \n",
    "                str_pair = ''.join([self.int_to_text[most_freq[0]], self.int_to_text[most_freq[1]]])\n",
    "                self.text_to_int[str_pair] = self.current_vocab_size\n",
    "                self.int_to_text[self.current_vocab_size] = str_pair\n",
    "                self.merged_dict[most_freq] = self.text_to_int[str_pair]\n",
    "                \n",
    "                new_tokens_splits = [self._replace_token_pairs(t, most_freq, self.current_vocab_size) for t in tokens_splits]\n",
    "                tokens_splits = new_tokens_splits\n",
    "                self.current_vocab_size += 1\n",
    "                \n",
    "                if verbose: \n",
    "                    self.print_stats(tokens_splits, str_pair, most_freq)\n",
    "\n",
    "    def print_stats(self, tokens_splits, str_pair=\"\", token_pair=None):\n",
    "        print(\"Updated vocab size:\", self.current_vocab_size, \n",
    "              \"Updated sequence length:\", sum([len(split) for split in tokens_splits]),\n",
    "              \"New vocab:\", str_pair, \n",
    "              \"Token pair:\", token_pair)\n",
    "        \n",
    "    def _get_pairs(self, tokens):\n",
    "        return list(zip(tokens, tokens[1:]))\n",
    "    \n",
    "    def _create_initial_vocabulary(self, text):\n",
    "        sorted_text = sorted(set(text))\n",
    "        text_to_int = {c: i for i, c in enumerate(sorted_text)}\n",
    "        int_to_text = {i: c for i, c in enumerate(sorted_text)}\n",
    "        return text_to_int, int_to_text\n",
    "\n",
    "    def _get_most_common_token_pair(self, token_pairs):\n",
    "        counter = Counter(token_pairs)\n",
    "        most_freq = counter.most_common(1)[0][0]\n",
    "        return most_freq\n",
    "    \n",
    "    def _replace_token_pairs(self, tokens, target_pair, new_token):\n",
    "        \"\"\"\n",
    "        Replace all occurrences of `target_pair` in `tokens` by `new_token`.\n",
    "        \"\"\"\n",
    "        new_tokens = []\n",
    "        i = 0\n",
    "        while i < len(tokens) - 1:\n",
    "            if (tokens[i], tokens[i+1]) == target_pair:\n",
    "                new_tokens.append(new_token)\n",
    "                i += 2\n",
    "            else:\n",
    "                new_tokens.append(tokens[i])\n",
    "                i += 1\n",
    "        if i < len(tokens):\n",
    "            new_tokens.append(tokens[i])\n",
    "        return new_tokens\n",
    "\n",
    "    def _simple_encode(self, text):\n",
    "        \n",
    "        tokens = [self.text_to_int[char] for char in text]\n",
    "        for key in self.merged_dict:\n",
    "            tokens = self._replace_token_pairs(tokens, key, self.merged_dict[key])\n",
    "        return tokens\n",
    "    \n",
    "    def encode(self, text):\n",
    "        text_splits = self._split_text(text)\n",
    "        tokens_splits = [self._simple_encode(text_split) for text_split in text_splits]\n",
    "        return tokens_splits\n",
    "        \n",
    "    def _split_text(self, text):\n",
    "        split_text = re.findall(GPT4_SPLIT_PATTERN, text)\n",
    "        return split_text\n",
    "    \n",
    "    def decode(self, tokens_splits):\n",
    "        texts = []\n",
    "        for tokens in tokens_splits:\n",
    "            texts.append(\"\".join([self.int_to_text[i] for i in tokens]))\n",
    "        return \"\".join(texts)\n",
    "    \n",
    "    def save_vocab(self, path):\n",
    "        int_to_text = self.int_to_text\n",
    "        with open(path, \"w\") as f:\n",
    "            json.dump(int_to_text, f)\n"
   ]
  },
  {
   "cell_type": "code",
   "execution_count": 10,
   "id": "c1d83c06",
   "metadata": {
    "execution": {
     "iopub.execute_input": "2024-02-28T10:18:23.137198Z",
     "iopub.status.busy": "2024-02-28T10:18:23.136679Z",
     "iopub.status.idle": "2024-02-28T10:18:23.145454Z",
     "shell.execute_reply": "2024-02-28T10:18:23.144598Z"
    },
    "papermill": {
     "duration": 0.027257,
     "end_time": "2024-02-28T10:18:23.148272",
     "exception": false,
     "start_time": "2024-02-28T10:18:23.121015",
     "status": "completed"
    },
    "tags": []
   },
   "outputs": [],
   "source": [
    "if tokenizer_name == \"RegexTokenizer\":\n",
    "    GPT4_SPLIT_PATTERN = r\"\"\"'(?i:[sdmt]|ll|ve|re)|[^\\r\\n\\p{L}\\p{N}]?+\\p{L}+|\\p{N}{1,3}| ?[^\\s\\p{L}\\p{N}]++[\\r\\n]*|\\s*[\\r\\n]|\\s+(?!\\S)|\\s+\"\"\"\n",
    "    tokenizer = RegexTokenizer()\n",
    "    tokenizer.train(train_text, max_vocab_size=max_vocab_size, verbose=True, show_progress=True)\n",
    "    tokenizer.save_vocab(\"RegexTokenizerVocab.txt\")\n",
    "\n",
    "    text = \"Bonjour le monde, comment va ta journée?\"\n",
    "    code = tokenizer.encode(text)\n",
    "    print(f\"len original text: {len(text)}, len bpe text: {sum([len(c) for c in code])}\")\n",
    "    print(code)\n",
    "    print(tokenizer.decode(code))"
   ]
  },
  {
   "cell_type": "code",
   "execution_count": 11,
   "id": "9a989076",
   "metadata": {
    "execution": {
     "iopub.execute_input": "2024-02-28T10:18:23.173349Z",
     "iopub.status.busy": "2024-02-28T10:18:23.172951Z",
     "iopub.status.idle": "2024-02-28T10:18:23.178342Z",
     "shell.execute_reply": "2024-02-28T10:18:23.177315Z"
    },
    "papermill": {
     "duration": 0.020239,
     "end_time": "2024-02-28T10:18:23.180487",
     "exception": false,
     "start_time": "2024-02-28T10:18:23.160248",
     "status": "completed"
    },
    "tags": []
   },
   "outputs": [],
   "source": [
    "if tokenizer_name == \"RegexTokenizer\":\n",
    "    tokenized_text = tokenizer.encode(train_text)\n",
    "    flat_tokenized_text = [item for sublist in tokenized_text for item in tqdm(sublist)]  # flatten code\n",
    "    counter = Counter(flat_tokenized_text)\n",
    "    counter"
   ]
  },
  {
   "cell_type": "code",
   "execution_count": 12,
   "id": "6fd307fb",
   "metadata": {
    "execution": {
     "iopub.execute_input": "2024-02-28T10:18:23.205957Z",
     "iopub.status.busy": "2024-02-28T10:18:23.204846Z",
     "iopub.status.idle": "2024-02-28T10:18:23.210031Z",
     "shell.execute_reply": "2024-02-28T10:18:23.209270Z"
    },
    "papermill": {
     "duration": 0.019804,
     "end_time": "2024-02-28T10:18:23.211980",
     "exception": false,
     "start_time": "2024-02-28T10:18:23.192176",
     "status": "completed"
    },
    "tags": []
   },
   "outputs": [],
   "source": [
    "if tokenizer_name == \"RegexTokenizer\":\n",
    "    print([(v, tokenizer.int_to_text[v], count) for v, count in counter.most_common()])"
   ]
  },
  {
   "cell_type": "markdown",
   "id": "ab44a7c9",
   "metadata": {
    "papermill": {
     "duration": 0.011201,
     "end_time": "2024-02-28T10:18:23.234598",
     "exception": false,
     "start_time": "2024-02-28T10:18:23.223397",
     "status": "completed"
    },
    "tags": []
   },
   "source": [
    "# Additional test\n",
    "Remove least common characters from the dictionary (below a threshold value) before merging characters  \n",
    "This step will help to have a much smaller dictionary and will speed up the process  \n",
    "Need to create a fallback in case of no common characters is found during the encoding"
   ]
  },
  {
   "cell_type": "code",
   "execution_count": 13,
   "id": "82a84805",
   "metadata": {
    "execution": {
     "iopub.execute_input": "2024-02-28T10:18:23.259464Z",
     "iopub.status.busy": "2024-02-28T10:18:23.259119Z",
     "iopub.status.idle": "2024-02-28T10:18:23.284205Z",
     "shell.execute_reply": "2024-02-28T10:18:23.283250Z"
    },
    "papermill": {
     "duration": 0.040342,
     "end_time": "2024-02-28T10:18:23.286424",
     "exception": false,
     "start_time": "2024-02-28T10:18:23.246082",
     "status": "completed"
    },
    "tags": []
   },
   "outputs": [],
   "source": [
    "class MostCommonRegexTokenizer():\n",
    "    def __init__(self):\n",
    "        self.text_to_int = {UNK_TOKEN: 0}  # {text: int}\n",
    "        self.int_to_text = {0: UNK_TOKEN}  # {int: text}\n",
    "        self.merged_dict = OrderedDict()  # {(token, token): token}\n",
    "        \n",
    "    def train(self, text, max_vocab_size, min_freq, max_single_char_vocab_size, verbose=False, show_progress=False):\n",
    "        self.text_size = len(text)\n",
    "        self.char_counter = Counter(text)\n",
    "        filtered_text = self.remove_least_common_characters(text, min_freq)\n",
    "        text_to_int, int_to_text = self._create_initial_vocabulary(filtered_text, max_single_char_vocab_size)\n",
    "        self.text_to_int.update(text_to_int)\n",
    "        self.int_to_text.update(int_to_text)\n",
    "        self.current_vocab_size = len(self.text_to_int)\n",
    "        \n",
    "        tokens_splits = self.encode(filtered_text)\n",
    "        \n",
    "        if verbose: \n",
    "            self._print_stats(tokens_splits)\n",
    "        \n",
    "        print('Creating merged dictionary...')\n",
    "        if self.current_vocab_size < max_vocab_size:\n",
    "            iter_count = max_vocab_size - self.current_vocab_size\n",
    "            for _ in trange(iter_count, disable=not show_progress):\n",
    "                token_pairs = []\n",
    "                for tokens_split in tokens_splits:\n",
    "                    if len(tokens_split) > 1:\n",
    "                        token_pairs.extend(self._get_pairs(tokens_split))\n",
    "                        \n",
    "                most_freq = self._get_most_common_token_pair(token_pairs)\n",
    "                \n",
    "                str_pair = ''.join([self.int_to_text[most_freq[0]], self.int_to_text[most_freq[1]]])\n",
    "                self.text_to_int[str_pair] = self.current_vocab_size\n",
    "                self.int_to_text[self.current_vocab_size] = str_pair\n",
    "                self.merged_dict[most_freq] = self.text_to_int[str_pair]\n",
    "                \n",
    "                new_tokens_splits = [self._replace_token_pairs(t, most_freq, self.current_vocab_size) for t in tokens_splits]\n",
    "                tokens_splits = new_tokens_splits\n",
    "                self.current_vocab_size += 1\n",
    "                \n",
    "                if verbose: \n",
    "                    self._print_stats(tokens_splits, str_pair, most_freq)\n",
    "\n",
    "    def _print_stats(self, tokens_splits, str_pair=\"\", token_pair=None):\n",
    "        current_text_size = sum([len(split) for split in tokens_splits])\n",
    "        print(f\"Updated vocab size: {self.current_vocab_size} \"\n",
    "              f\"Updated sequence length: {current_text_size} \"\n",
    "              f\"New vocab: {repr(str_pair)} \"\n",
    "              f\"Token pair: {token_pair} \"\n",
    "              f\"Compression ratio: {self.text_size / current_text_size - 1:.2f}% \"\n",
    "             )\n",
    "        \n",
    "    def _get_pairs(self, tokens):\n",
    "        \"\"\" Returns a list of tuples containing pairs of adjacent tokens from the input tokens list\"\"\"\n",
    "        return list(zip(tokens, tokens[1:]))\n",
    "    \n",
    "    def _create_initial_vocabulary(self, text, max_single_char_vocab_size):        \n",
    "        print(\"Creating initial vocabulary...\")\n",
    "        sorted_char = sorted(set(text))\n",
    "        most_common_chars = [char for char, count in self.char_counter.most_common(max_single_char_vocab_size)]\n",
    "        filtered_sorted_char = [c for c in sorted_char if c in most_common_chars]\n",
    "        start_id = len(self.text_to_int)\n",
    "        text_to_int = {c: start_id+i for i, c in enumerate(filtered_sorted_char)}\n",
    "        int_to_text = {start_id+i: c for i, c in enumerate(filtered_sorted_char)}\n",
    "        return text_to_int, int_to_text\n",
    "\n",
    "    def _get_most_common_token_pair(self, token_pairs):\n",
    "        \"\"\"Gets the most frequent token pair from the given list of token pairs.\n",
    "    \n",
    "        This ignores token pairs that contain <UNK> tokens. It will raise a ValueError if no\n",
    "        valid token pairs are found.\n",
    "        \n",
    "        Args:\n",
    "            token_pairs: List of token id pairs\n",
    "        \n",
    "        Returns:\n",
    "            The most frequent token id pair\n",
    "        \"\"\"\n",
    "        counter = Counter(token_pairs)\n",
    "        # Get the first most frequent pair (excluding <UNK>)\n",
    "        for pair, freq in counter.most_common():\n",
    "            if pair[0]!= 0 and pair[1]!= 0:\n",
    "                return pair\n",
    "        else:\n",
    "            raise ValueError(\"No pairs found\")\n",
    "    \n",
    "\n",
    "    def _replace_token_pairs(self, tokens, target_pair, new_token):\n",
    "        \"\"\"\n",
    "        Replaces occurrences of a given token pair in the input \n",
    "        token list with a new token.\n",
    "        \n",
    "        Iterates through tokens checking for the target pair. \n",
    "        When found, appends the new token to the output and \n",
    "        advances the index by 2 to skip the pair. Otherwise just \n",
    "        appends the current token.\n",
    "        \n",
    "        Returns the new list of tokens.\n",
    "        \"\"\"\n",
    "        new_tokens = []\n",
    "        i = 0\n",
    "        while i < len(tokens) - 1:\n",
    "            if (tokens[i], tokens[i+1]) == target_pair:\n",
    "                new_tokens.append(new_token)\n",
    "                i += 2\n",
    "            else:\n",
    "                new_tokens.append(tokens[i])\n",
    "                i += 1\n",
    "        if i < len(tokens):\n",
    "            new_tokens.append(tokens[i])\n",
    "        return new_tokens\n",
    "\n",
    "\n",
    "    def _simple_encode(self, text):\n",
    "        \"\"\"Encodes the given text into a list of token IDs.\n",
    "    \n",
    "        This uses a simple encoding scheme of looking up each character in the \n",
    "        text_to_int mapping and falling back to the unknown token ID if not found.\n",
    "        \n",
    "        It then iterates through the tokens, looking for any token pairs that match\n",
    "        the merged_dict and replacing them with the merged token ID.\n",
    "        \n",
    "        Args:\n",
    "            text: The text to encode\n",
    "        \n",
    "        Returns: \n",
    "            The list of encoded token IDs.\n",
    "        \"\"\"\n",
    "        tokens = [self.text_to_int.get(char, 0) for char in text]  # fallback to <UNK> when not found\n",
    "        for key in self.merged_dict:\n",
    "            tokens = self._replace_token_pairs(tokens, key, self.merged_dict[key])\n",
    "        return tokens\n",
    "    \n",
    "    def encode(self, text):\n",
    "        print(\"Encoding...\")\n",
    "        text_splits = self._split_text(text)\n",
    "        tokens_splits = [self._simple_encode(text_split) for text_split in tqdm(text_splits)]\n",
    "        return tokens_splits\n",
    "        \n",
    "    def _split_text(self, text):\n",
    "        split_text = re.findall(GPT4_SPLIT_PATTERN, text)\n",
    "        return split_text\n",
    "    \n",
    "    def decode(self, tokens_splits):\n",
    "        print(\"Decoding...\")\n",
    "        texts = []\n",
    "        for tokens in tokens_splits:\n",
    "            texts.append(\"\".join([self.int_to_text[i] for i in tokens]))\n",
    "        return \"\".join(texts)\n",
    "    \n",
    "    def save_vocab(self, path):\n",
    "        print(\"Saving vocab...\")\n",
    "        int_to_text = self.int_to_text\n",
    "        with open(path, \"w\") as f:\n",
    "            json.dump(int_to_text, f)\n",
    "                \n",
    "    def remove_least_common_characters(self, text, min_freq):\n",
    "        \"\"\"\n",
    "        Remove characters that appear less than `min_freq` in `text` using regex.\n",
    "        \"\"\"\n",
    "        print(\"Removing least common characters...\")\n",
    "        least_common_chars = {c for c in self.char_counter if self.char_counter[c] < min_freq}\n",
    "        if least_common_chars:  \n",
    "            pattern = '[' + re.escape(''.join(least_common_chars)) + ']'\n",
    "            filtered_text = re.sub(pattern, '', text)\n",
    "            return filtered_text\n",
    "        else:\n",
    "            return text\n"
   ]
  },
  {
   "cell_type": "code",
   "execution_count": 14,
   "id": "e560cdde",
   "metadata": {
    "execution": {
     "iopub.execute_input": "2024-02-28T10:18:23.311180Z",
     "iopub.status.busy": "2024-02-28T10:18:23.310541Z",
     "iopub.status.idle": "2024-02-28T10:30:21.273585Z",
     "shell.execute_reply": "2024-02-28T10:30:21.272259Z"
    },
    "papermill": {
     "duration": 717.978731,
     "end_time": "2024-02-28T10:30:21.276564",
     "exception": false,
     "start_time": "2024-02-28T10:18:23.297833",
     "status": "completed"
    },
    "tags": []
   },
   "outputs": [
    {
     "name": "stdout",
     "output_type": "stream",
     "text": [
      "Removing least common characters...\n",
      "Creating initial vocabulary...\n",
      "Encoding...\n"
     ]
    },
    {
     "name": "stderr",
     "output_type": "stream",
     "text": [
      "100%|██████████| 556316/556316 [00:01<00:00, 304702.66it/s]\n"
     ]
    },
    {
     "name": "stdout",
     "output_type": "stream",
     "text": [
      "Updated vocab size: 111 Updated sequence length: 2720406 New vocab: '' Token pair: None Compression ratio: 0.00% \n",
      "Creating merged dictionary...\n"
     ]
    },
    {
     "name": "stderr",
     "output_type": "stream",
     "text": [
      "  0%|          | 1/389 [00:02<18:05,  2.80s/it]"
     ]
    },
    {
     "name": "stdout",
     "output_type": "stream",
     "text": [
      "Updated vocab size: 112 Updated sequence length: 2662698 New vocab: ' d' Token pair: (2, 58) Compression ratio: 0.02% \n"
     ]
    },
    {
     "name": "stderr",
     "output_type": "stream",
     "text": [
      "  1%|          | 2/389 [00:05<17:49,  2.76s/it]"
     ]
    },
    {
     "name": "stdout",
     "output_type": "stream",
     "text": [
      "Updated vocab size: 113 Updated sequence length: 2617658 New vocab: 'es' Token pair: (59, 73) Compression ratio: 0.04% \n"
     ]
    },
    {
     "name": "stderr",
     "output_type": "stream",
     "text": [
      "  1%|          | 3/389 [00:08<17:50,  2.77s/it]"
     ]
    },
    {
     "name": "stdout",
     "output_type": "stream",
     "text": [
      "Updated vocab size: 114 Updated sequence length: 2580341 New vocab: ' l' Token pair: (2, 66) Compression ratio: 0.06% \n"
     ]
    },
    {
     "name": "stderr",
     "output_type": "stream",
     "text": [
      "  1%|          | 4/389 [00:10<17:11,  2.68s/it]"
     ]
    },
    {
     "name": "stdout",
     "output_type": "stream",
     "text": [
      "Updated vocab size: 115 Updated sequence length: 2544761 New vocab: 'en' Token pair: (59, 68) Compression ratio: 0.07% \n"
     ]
    },
    {
     "name": "stderr",
     "output_type": "stream",
     "text": [
      "  1%|▏         | 5/389 [00:13<17:23,  2.72s/it]"
     ]
    },
    {
     "name": "stdout",
     "output_type": "stream",
     "text": [
      "Updated vocab size: 116 Updated sequence length: 2510912 New vocab: 'on' Token pair: (69, 68) Compression ratio: 0.08% \n"
     ]
    },
    {
     "name": "stderr",
     "output_type": "stream",
     "text": [
      "  2%|▏         | 6/389 [00:15<16:27,  2.58s/it]"
     ]
    },
    {
     "name": "stdout",
     "output_type": "stream",
     "text": [
      "Updated vocab size: 117 Updated sequence length: 2482634 New vocab: 'an' Token pair: (55, 68) Compression ratio: 0.10% \n"
     ]
    },
    {
     "name": "stderr",
     "output_type": "stream",
     "text": [
      "  2%|▏         | 7/389 [00:18<16:40,  2.62s/it]"
     ]
    },
    {
     "name": "stdout",
     "output_type": "stream",
     "text": [
      "Updated vocab size: 118 Updated sequence length: 2455570 New vocab: ' de' Token pair: (111, 59) Compression ratio: 0.11% \n"
     ]
    },
    {
     "name": "stderr",
     "output_type": "stream",
     "text": [
      "  2%|▏         | 8/389 [00:20<15:48,  2.49s/it]"
     ]
    },
    {
     "name": "stdout",
     "output_type": "stream",
     "text": [
      "Updated vocab size: 119 Updated sequence length: 2430038 New vocab: ' p' Token pair: (2, 70) Compression ratio: 0.12% \n"
     ]
    },
    {
     "name": "stderr",
     "output_type": "stream",
     "text": [
      "  2%|▏         | 9/389 [00:23<16:04,  2.54s/it]"
     ]
    },
    {
     "name": "stdout",
     "output_type": "stream",
     "text": [
      "Updated vocab size: 120 Updated sequence length: 2408176 New vocab: 're' Token pair: (72, 59) Compression ratio: 0.13% \n"
     ]
    },
    {
     "name": "stderr",
     "output_type": "stream",
     "text": [
      "  3%|▎         | 10/389 [00:25<15:54,  2.52s/it]"
     ]
    },
    {
     "name": "stdout",
     "output_type": "stream",
     "text": [
      "Updated vocab size: 121 Updated sequence length: 2387056 New vocab: 'ti' Token pair: (74, 63) Compression ratio: 0.14% \n"
     ]
    },
    {
     "name": "stderr",
     "output_type": "stream",
     "text": [
      "  3%|▎         | 11/389 [00:28<15:14,  2.42s/it]"
     ]
    },
    {
     "name": "stdout",
     "output_type": "stream",
     "text": [
      "Updated vocab size: 122 Updated sequence length: 2366539 New vocab: ' s' Token pair: (2, 73) Compression ratio: 0.15% \n"
     ]
    },
    {
     "name": "stderr",
     "output_type": "stream",
     "text": [
      "  3%|▎         | 12/389 [00:30<15:33,  2.48s/it]"
     ]
    },
    {
     "name": "stdout",
     "output_type": "stream",
     "text": [
      "Updated vocab size: 123 Updated sequence length: 2346456 New vocab: 'er' Token pair: (59, 72) Compression ratio: 0.16% \n"
     ]
    },
    {
     "name": "stderr",
     "output_type": "stream",
     "text": [
      "  3%|▎         | 13/389 [00:33<15:29,  2.47s/it]"
     ]
    },
    {
     "name": "stdout",
     "output_type": "stream",
     "text": [
      "Updated vocab size: 124 Updated sequence length: 2326502 New vocab: ' c' Token pair: (2, 57) Compression ratio: 0.17% \n"
     ]
    },
    {
     "name": "stderr",
     "output_type": "stream",
     "text": [
      "  4%|▎         | 14/389 [00:35<14:52,  2.38s/it]"
     ]
    },
    {
     "name": "stdout",
     "output_type": "stream",
     "text": [
      "Updated vocab size: 125 Updated sequence length: 2306909 New vocab: 'is' Token pair: (63, 73) Compression ratio: 0.18% \n"
     ]
    },
    {
     "name": "stderr",
     "output_type": "stream",
     "text": [
      "  4%|▍         | 15/389 [00:38<15:15,  2.45s/it]"
     ]
    },
    {
     "name": "stdout",
     "output_type": "stream",
     "text": [
      "Updated vocab size: 126 Updated sequence length: 2289065 New vocab: 'in' Token pair: (63, 68) Compression ratio: 0.19% \n"
     ]
    },
    {
     "name": "stderr",
     "output_type": "stream",
     "text": [
      "  4%|▍         | 16/389 [00:40<14:34,  2.35s/it]"
     ]
    },
    {
     "name": "stdout",
     "output_type": "stream",
     "text": [
      "Updated vocab size: 127 Updated sequence length: 2271253 New vocab: 'ar' Token pair: (55, 72) Compression ratio: 0.20% \n"
     ]
    },
    {
     "name": "stderr",
     "output_type": "stream",
     "text": [
      "  4%|▍         | 17/389 [00:42<14:52,  2.40s/it]"
     ]
    },
    {
     "name": "stdout",
     "output_type": "stream",
     "text": [
      "Updated vocab size: 128 Updated sequence length: 2254026 New vocab: 'ou' Token pair: (69, 75) Compression ratio: 0.21% \n"
     ]
    },
    {
     "name": "stderr",
     "output_type": "stream",
     "text": [
      "  5%|▍         | 18/389 [00:44<14:44,  2.38s/it]"
     ]
    },
    {
     "name": "stdout",
     "output_type": "stream",
     "text": [
      "Updated vocab size: 129 Updated sequence length: 2237494 New vocab: ' a' Token pair: (2, 55) Compression ratio: 0.22% \n"
     ]
    },
    {
     "name": "stderr",
     "output_type": "stream",
     "text": [
      "  5%|▍         | 19/389 [00:47<14:36,  2.37s/it]"
     ]
    },
    {
     "name": "stdout",
     "output_type": "stream",
     "text": [
      "Updated vocab size: 130 Updated sequence length: 2222973 New vocab: 'et' Token pair: (59, 74) Compression ratio: 0.22% \n"
     ]
    },
    {
     "name": "stderr",
     "output_type": "stream",
     "text": [
      "  5%|▌         | 20/389 [00:49<14:00,  2.28s/it]"
     ]
    },
    {
     "name": "stdout",
     "output_type": "stream",
     "text": [
      "Updated vocab size: 131 Updated sequence length: 2209004 New vocab: 'qu' Token pair: (71, 75) Compression ratio: 0.23% \n"
     ]
    },
    {
     "name": "stderr",
     "output_type": "stream",
     "text": [
      "  5%|▌         | 21/389 [00:51<14:25,  2.35s/it]"
     ]
    },
    {
     "name": "stdout",
     "output_type": "stream",
     "text": [
      "Updated vocab size: 132 Updated sequence length: 2195336 New vocab: 'le' Token pair: (66, 59) Compression ratio: 0.24% \n"
     ]
    },
    {
     "name": "stderr",
     "output_type": "stream",
     "text": [
      "  6%|▌         | 22/389 [00:54<14:19,  2.34s/it]"
     ]
    },
    {
     "name": "stdout",
     "output_type": "stream",
     "text": [
      "Updated vocab size: 133 Updated sequence length: 2182097 New vocab: 'ent' Token pair: (114, 74) Compression ratio: 0.25% \n"
     ]
    },
    {
     "name": "stderr",
     "output_type": "stream",
     "text": [
      "  6%|▌         | 23/389 [00:56<13:44,  2.25s/it]"
     ]
    },
    {
     "name": "stdout",
     "output_type": "stream",
     "text": [
      "Updated vocab size: 134 Updated sequence length: 2169912 New vocab: 'it' Token pair: (63, 74) Compression ratio: 0.25% \n"
     ]
    },
    {
     "name": "stderr",
     "output_type": "stream",
     "text": [
      "  6%|▌         | 24/389 [00:58<14:09,  2.33s/it]"
     ]
    },
    {
     "name": "stdout",
     "output_type": "stream",
     "text": [
      "Updated vocab size: 135 Updated sequence length: 2158101 New vocab: ' la' Token pair: (113, 55) Compression ratio: 0.26% \n"
     ]
    },
    {
     "name": "stderr",
     "output_type": "stream",
     "text": [
      "  6%|▋         | 25/389 [01:01<14:00,  2.31s/it]"
     ]
    },
    {
     "name": "stdout",
     "output_type": "stream",
     "text": [
      "Updated vocab size: 136 Updated sequence length: 2146714 New vocab: 'or' Token pair: (69, 72) Compression ratio: 0.27% \n"
     ]
    },
    {
     "name": "stderr",
     "output_type": "stream",
     "text": [
      "  7%|▋         | 26/389 [01:03<13:33,  2.24s/it]"
     ]
    },
    {
     "name": "stdout",
     "output_type": "stream",
     "text": [
      "Updated vocab size: 137 Updated sequence length: 2135406 New vocab: 'un' Token pair: (75, 68) Compression ratio: 0.28% \n"
     ]
    },
    {
     "name": "stderr",
     "output_type": "stream",
     "text": [
      "  7%|▋         | 27/389 [01:05<14:02,  2.33s/it]"
     ]
    },
    {
     "name": "stdout",
     "output_type": "stream",
     "text": [
      "Updated vocab size: 138 Updated sequence length: 2124404 New vocab: '\\n\\n' Token pair: (1, 1) Compression ratio: 0.28% \n"
     ]
    },
    {
     "name": "stderr",
     "output_type": "stream",
     "text": [
      "  7%|▋         | 28/389 [01:07<13:25,  2.23s/it]"
     ]
    },
    {
     "name": "stdout",
     "output_type": "stream",
     "text": [
      "Updated vocab size: 139 Updated sequence length: 2113821 New vocab: 'ur' Token pair: (75, 72) Compression ratio: 0.29% \n"
     ]
    },
    {
     "name": "stderr",
     "output_type": "stream",
     "text": [
      "  7%|▋         | 29/389 [01:10<13:47,  2.30s/it]"
     ]
    },
    {
     "name": "stdout",
     "output_type": "stream",
     "text": [
      "Updated vocab size: 140 Updated sequence length: 2103589 New vocab: ' et' Token pair: (2, 129) Compression ratio: 0.29% \n"
     ]
    },
    {
     "name": "stderr",
     "output_type": "stream",
     "text": [
      "  8%|▊         | 30/389 [01:12<13:13,  2.21s/it]"
     ]
    },
    {
     "name": "stdout",
     "output_type": "stream",
     "text": [
      "Updated vocab size: 141 Updated sequence length: 2093441 New vocab: 'te' Token pair: (74, 59) Compression ratio: 0.30% \n"
     ]
    },
    {
     "name": "stderr",
     "output_type": "stream",
     "text": [
      "  8%|▊         | 31/389 [01:14<13:40,  2.29s/it]"
     ]
    },
    {
     "name": "stdout",
     "output_type": "stream",
     "text": [
      "Updated vocab size: 142 Updated sequence length: 2083398 New vocab: ' m' Token pair: (2, 67) Compression ratio: 0.31% \n"
     ]
    },
    {
     "name": "stderr",
     "output_type": "stream",
     "text": [
      "  8%|▊         | 32/389 [01:16<13:36,  2.29s/it]"
     ]
    },
    {
     "name": "stdout",
     "output_type": "stream",
     "text": [
      "Updated vocab size: 143 Updated sequence length: 2073715 New vocab: 'il' Token pair: (63, 66) Compression ratio: 0.31% \n"
     ]
    },
    {
     "name": "stderr",
     "output_type": "stream",
     "text": [
      "  8%|▊         | 33/389 [01:18<12:59,  2.19s/it]"
     ]
    },
    {
     "name": "stdout",
     "output_type": "stream",
     "text": [
      "Updated vocab size: 144 Updated sequence length: 2064381 New vocab: 'al' Token pair: (55, 66) Compression ratio: 0.32% \n"
     ]
    },
    {
     "name": "stderr",
     "output_type": "stream",
     "text": [
      "  9%|▊         | 34/389 [01:21<13:22,  2.26s/it]"
     ]
    },
    {
     "name": "stdout",
     "output_type": "stream",
     "text": [
      "Updated vocab size: 145 Updated sequence length: 2055227 New vocab: ' le' Token pair: (113, 59) Compression ratio: 0.32% \n"
     ]
    },
    {
     "name": "stderr",
     "output_type": "stream",
     "text": [
      "  9%|▉         | 35/389 [01:23<13:16,  2.25s/it]"
     ]
    },
    {
     "name": "stdout",
     "output_type": "stream",
     "text": [
      "Updated vocab size: 146 Updated sequence length: 2046207 New vocab: 'tion' Token pair: (120, 115) Compression ratio: 0.33% \n"
     ]
    },
    {
     "name": "stderr",
     "output_type": "stream",
     "text": [
      "  9%|▉         | 36/389 [01:25<12:45,  2.17s/it]"
     ]
    },
    {
     "name": "stdout",
     "output_type": "stream",
     "text": [
      "Updated vocab size: 147 Updated sequence length: 2037697 New vocab: 'om' Token pair: (69, 67) Compression ratio: 0.34% \n"
     ]
    },
    {
     "name": "stderr",
     "output_type": "stream",
     "text": [
      " 10%|▉         | 37/389 [01:27<13:08,  2.24s/it]"
     ]
    },
    {
     "name": "stdout",
     "output_type": "stream",
     "text": [
      "Updated vocab size: 148 Updated sequence length: 2029234 New vocab: ' en' Token pair: (2, 114) Compression ratio: 0.34% \n"
     ]
    },
    {
     "name": "stderr",
     "output_type": "stream",
     "text": [
      " 10%|▉         | 38/389 [01:29<12:32,  2.14s/it]"
     ]
    },
    {
     "name": "stdout",
     "output_type": "stream",
     "text": [
      "Updated vocab size: 149 Updated sequence length: 2020872 New vocab: ' f' Token pair: (2, 60) Compression ratio: 0.35% \n"
     ]
    },
    {
     "name": "stderr",
     "output_type": "stream",
     "text": [
      " 10%|█         | 39/389 [01:32<12:58,  2.23s/it]"
     ]
    },
    {
     "name": "stdout",
     "output_type": "stream",
     "text": [
      "Updated vocab size: 150 Updated sequence length: 2013059 New vocab: ' à' Token pair: (2, 89) Compression ratio: 0.35% \n"
     ]
    },
    {
     "name": "stderr",
     "output_type": "stream",
     "text": [
      " 10%|█         | 40/389 [01:34<12:28,  2.15s/it]"
     ]
    },
    {
     "name": "stdout",
     "output_type": "stream",
     "text": [
      "Updated vocab size: 151 Updated sequence length: 2005277 New vocab: 'ra' Token pair: (72, 55) Compression ratio: 0.36% \n"
     ]
    },
    {
     "name": "stderr",
     "output_type": "stream",
     "text": [
      " 11%|█         | 41/389 [01:36<13:01,  2.25s/it]"
     ]
    },
    {
     "name": "stdout",
     "output_type": "stream",
     "text": [
      "Updated vocab size: 152 Updated sequence length: 1997785 New vocab: 'el' Token pair: (59, 66) Compression ratio: 0.36% \n"
     ]
    },
    {
     "name": "stderr",
     "output_type": "stream",
     "text": [
      " 11%|█         | 42/389 [01:38<12:24,  2.14s/it]"
     ]
    },
    {
     "name": "stdout",
     "output_type": "stream",
     "text": [
      "Updated vocab size: 153 Updated sequence length: 1990705 New vocab: 'ri' Token pair: (72, 63) Compression ratio: 0.37% \n"
     ]
    },
    {
     "name": "stderr",
     "output_type": "stream",
     "text": [
      " 11%|█         | 43/389 [01:40<12:46,  2.21s/it]"
     ]
    },
    {
     "name": "stdout",
     "output_type": "stream",
     "text": [
      "Updated vocab size: 154 Updated sequence length: 1983658 New vocab: ' L' Token pair: (2, 38) Compression ratio: 0.37% \n"
     ]
    },
    {
     "name": "stderr",
     "output_type": "stream",
     "text": [
      " 11%|█▏        | 44/389 [01:42<12:11,  2.12s/it]"
     ]
    },
    {
     "name": "stdout",
     "output_type": "stream",
     "text": [
      "Updated vocab size: 155 Updated sequence length: 1976717 New vocab: ' t' Token pair: (2, 74) Compression ratio: 0.38% \n"
     ]
    },
    {
     "name": "stderr",
     "output_type": "stream",
     "text": [
      " 12%|█▏        | 45/389 [01:45<12:38,  2.20s/it]"
     ]
    },
    {
     "name": "stdout",
     "output_type": "stream",
     "text": [
      "Updated vocab size: 156 Updated sequence length: 1969950 New vocab: ' un' Token pair: (2, 136) Compression ratio: 0.38% \n"
     ]
    },
    {
     "name": "stderr",
     "output_type": "stream",
     "text": [
      " 12%|█▏        | 46/389 [01:47<12:04,  2.11s/it]"
     ]
    },
    {
     "name": "stdout",
     "output_type": "stream",
     "text": [
      "Updated vocab size: 157 Updated sequence length: 1963251 New vocab: 'us' Token pair: (75, 73) Compression ratio: 0.39% \n"
     ]
    },
    {
     "name": "stderr",
     "output_type": "stream",
     "text": [
      " 12%|█▏        | 47/389 [01:49<12:26,  2.18s/it]"
     ]
    },
    {
     "name": "stdout",
     "output_type": "stream",
     "text": [
      "Updated vocab size: 158 Updated sequence length: 1956671 New vocab: 'ré' Token pair: (72, 94) Compression ratio: 0.39% \n"
     ]
    },
    {
     "name": "stderr",
     "output_type": "stream",
     "text": [
      " 12%|█▏        | 48/389 [01:51<12:19,  2.17s/it]"
     ]
    },
    {
     "name": "stdout",
     "output_type": "stream",
     "text": [
      "Updated vocab size: 159 Updated sequence length: 1950287 New vocab: ' des' Token pair: (111, 112) Compression ratio: 0.40% \n"
     ]
    },
    {
     "name": "stderr",
     "output_type": "stream",
     "text": [
      " 13%|█▎        | 49/389 [01:53<11:47,  2.08s/it]"
     ]
    },
    {
     "name": "stdout",
     "output_type": "stream",
     "text": [
      "Updated vocab size: 160 Updated sequence length: 1944065 New vocab: 'que' Token pair: (130, 59) Compression ratio: 0.40% \n"
     ]
    },
    {
     "name": "stderr",
     "output_type": "stream",
     "text": [
      " 13%|█▎        | 50/389 [01:55<12:12,  2.16s/it]"
     ]
    },
    {
     "name": "stdout",
     "output_type": "stream",
     "text": [
      "Updated vocab size: 161 Updated sequence length: 1937911 New vocab: ' du' Token pair: (111, 75) Compression ratio: 0.41% \n"
     ]
    },
    {
     "name": "stderr",
     "output_type": "stream",
     "text": [
      " 13%|█▎        | 51/389 [01:57<11:40,  2.07s/it]"
     ]
    },
    {
     "name": "stdout",
     "output_type": "stream",
     "text": [
      "Updated vocab size: 162 Updated sequence length: 1931814 New vocab: 'est' Token pair: (112, 74) Compression ratio: 0.41% \n"
     ]
    },
    {
     "name": "stderr",
     "output_type": "stream",
     "text": [
      " 13%|█▎        | 52/389 [02:00<12:02,  2.14s/it]"
     ]
    },
    {
     "name": "stdout",
     "output_type": "stream",
     "text": [
      "Updated vocab size: 163 Updated sequence length: 1925743 New vocab: ' C' Token pair: (2, 29) Compression ratio: 0.41% \n"
     ]
    },
    {
     "name": "stderr",
     "output_type": "stream",
     "text": [
      " 14%|█▎        | 53/389 [02:02<11:57,  2.14s/it]"
     ]
    },
    {
     "name": "stdout",
     "output_type": "stream",
     "text": [
      "Updated vocab size: 164 Updated sequence length: 1919893 New vocab: 'our' Token pair: (127, 72) Compression ratio: 0.42% \n"
     ]
    },
    {
     "name": "stderr",
     "output_type": "stream",
     "text": [
      " 14%|█▍        | 54/389 [02:03<11:25,  2.05s/it]"
     ]
    },
    {
     "name": "stdout",
     "output_type": "stream",
     "text": [
      "Updated vocab size: 165 Updated sequence length: 1914059 New vocab: '.\\n\\n' Token pair: (12, 137) Compression ratio: 0.42% \n"
     ]
    },
    {
     "name": "stderr",
     "output_type": "stream",
     "text": [
      " 14%|█▍        | 55/389 [02:06<11:51,  2.13s/it]"
     ]
    },
    {
     "name": "stdout",
     "output_type": "stream",
     "text": [
      "Updated vocab size: 166 Updated sequence length: 1908232 New vocab: ' (' Token pair: (2, 8) Compression ratio: 0.43% \n"
     ]
    },
    {
     "name": "stderr",
     "output_type": "stream",
     "text": [
      " 14%|█▍        | 56/389 [02:08<11:26,  2.06s/it]"
     ]
    },
    {
     "name": "stdout",
     "output_type": "stream",
     "text": [
      "Updated vocab size: 167 Updated sequence length: 1902452 New vocab: ' S' Token pair: (2, 45) Compression ratio: 0.43% \n"
     ]
    },
    {
     "name": "stderr",
     "output_type": "stream",
     "text": [
      " 15%|█▍        | 57/389 [02:10<11:47,  2.13s/it]"
     ]
    },
    {
     "name": "stdout",
     "output_type": "stream",
     "text": [
      "Updated vocab size: 168 Updated sequence length: 1896708 New vocab: 'ro' Token pair: (72, 69) Compression ratio: 0.44% \n"
     ]
    },
    {
     "name": "stderr",
     "output_type": "stream",
     "text": [
      " 15%|█▍        | 58/389 [02:12<11:14,  2.04s/it]"
     ]
    },
    {
     "name": "stdout",
     "output_type": "stream",
     "text": [
      "Updated vocab size: 169 Updated sequence length: 1890983 New vocab: 'ment' Token pair: (67, 132) Compression ratio: 0.44% \n"
     ]
    },
    {
     "name": "stderr",
     "output_type": "stream",
     "text": [
      " 15%|█▌        | 59/389 [02:14<11:11,  2.04s/it]"
     ]
    },
    {
     "name": "stdout",
     "output_type": "stream",
     "text": [
      "Updated vocab size: 170 Updated sequence length: 1885286 New vocab: 'ant' Token pair: (116, 74) Compression ratio: 0.44% \n"
     ]
    },
    {
     "name": "stderr",
     "output_type": "stream",
     "text": [
      " 15%|█▌        | 60/389 [02:16<11:33,  2.11s/it]"
     ]
    },
    {
     "name": "stdout",
     "output_type": "stream",
     "text": [
      "Updated vocab size: 171 Updated sequence length: 1879593 New vocab: 'ie' Token pair: (63, 59) Compression ratio: 0.45% \n"
     ]
    },
    {
     "name": "stderr",
     "output_type": "stream",
     "text": [
      " 16%|█▌        | 61/389 [02:18<11:27,  2.09s/it]"
     ]
    },
    {
     "name": "stdout",
     "output_type": "stream",
     "text": [
      "Updated vocab size: 172 Updated sequence length: 1874009 New vocab: ' n' Token pair: (2, 68) Compression ratio: 0.45% \n"
     ]
    },
    {
     "name": "stderr",
     "output_type": "stream",
     "text": [
      " 16%|█▌        | 62/389 [02:20<10:56,  2.01s/it]"
     ]
    },
    {
     "name": "stdout",
     "output_type": "stream",
     "text": [
      "Updated vocab size: 173 Updated sequence length: 1868511 New vocab: 'ch' Token pair: (57, 62) Compression ratio: 0.46% \n"
     ]
    },
    {
     "name": "stderr",
     "output_type": "stream",
     "text": [
      " 16%|█▌        | 63/389 [02:22<11:17,  2.08s/it]"
     ]
    },
    {
     "name": "stdout",
     "output_type": "stream",
     "text": [
      "Updated vocab size: 174 Updated sequence length: 1863061 New vocab: 'ans' Token pair: (116, 73) Compression ratio: 0.46% \n"
     ]
    },
    {
     "name": "stderr",
     "output_type": "stream",
     "text": [
      " 16%|█▋        | 64/389 [02:24<11:13,  2.07s/it]"
     ]
    },
    {
     "name": "stdout",
     "output_type": "stream",
     "text": [
      "Updated vocab size: 175 Updated sequence length: 1857614 New vocab: 'ce' Token pair: (57, 59) Compression ratio: 0.47% \n"
     ]
    },
    {
     "name": "stderr",
     "output_type": "stream",
     "text": [
      " 17%|█▋        | 65/389 [02:26<10:44,  1.99s/it]"
     ]
    },
    {
     "name": "stdout",
     "output_type": "stream",
     "text": [
      "Updated vocab size: 176 Updated sequence length: 1852267 New vocab: ' par' Token pair: (118, 126) Compression ratio: 0.47% \n"
     ]
    },
    {
     "name": "stderr",
     "output_type": "stream",
     "text": [
      " 17%|█▋        | 66/389 [02:28<11:07,  2.07s/it]"
     ]
    },
    {
     "name": "stdout",
     "output_type": "stream",
     "text": [
      "Updated vocab size: 177 Updated sequence length: 1846969 New vocab: ' M' Token pair: (2, 39) Compression ratio: 0.47% \n"
     ]
    },
    {
     "name": "stderr",
     "output_type": "stream",
     "text": [
      " 17%|█▋        | 67/389 [02:30<10:37,  1.98s/it]"
     ]
    },
    {
     "name": "stdout",
     "output_type": "stream",
     "text": [
      "Updated vocab size: 178 Updated sequence length: 1841749 New vocab: ' :' Token pair: (2, 24) Compression ratio: 0.48% \n"
     ]
    },
    {
     "name": "stderr",
     "output_type": "stream",
     "text": [
      " 17%|█▋        | 68/389 [02:32<10:58,  2.05s/it]"
     ]
    },
    {
     "name": "stdout",
     "output_type": "stream",
     "text": [
      "Updated vocab size: 179 Updated sequence length: 1836601 New vocab: '19' Token pair: (15, 23) Compression ratio: 0.48% \n"
     ]
    },
    {
     "name": "stderr",
     "output_type": "stream",
     "text": [
      " 18%|█▊        | 69/389 [02:34<10:56,  2.05s/it]"
     ]
    },
    {
     "name": "stdout",
     "output_type": "stream",
     "text": [
      "Updated vocab size: 180 Updated sequence length: 1831506 New vocab: 'au' Token pair: (55, 75) Compression ratio: 0.49% \n"
     ]
    },
    {
     "name": "stderr",
     "output_type": "stream",
     "text": [
      " 18%|█▊        | 70/389 [02:36<10:27,  1.97s/it]"
     ]
    },
    {
     "name": "stdout",
     "output_type": "stream",
     "text": [
      "Updated vocab size: 181 Updated sequence length: 1826502 New vocab: 'ol' Token pair: (69, 66) Compression ratio: 0.49% \n"
     ]
    },
    {
     "name": "stderr",
     "output_type": "stream",
     "text": [
      " 18%|█▊        | 71/389 [02:38<10:28,  1.98s/it]"
     ]
    },
    {
     "name": "stdout",
     "output_type": "stream",
     "text": [
      "Updated vocab size: 182 Updated sequence length: 1821508 New vocab: 'at' Token pair: (55, 74) Compression ratio: 0.49% \n"
     ]
    },
    {
     "name": "stderr",
     "output_type": "stream",
     "text": [
      " 19%|█▊        | 72/389 [02:40<10:45,  2.03s/it]"
     ]
    },
    {
     "name": "stdout",
     "output_type": "stream",
     "text": [
      "Updated vocab size: 183 Updated sequence length: 1816578 New vocab: ' les' Token pair: (113, 112) Compression ratio: 0.50% \n"
     ]
    },
    {
     "name": "stderr",
     "output_type": "stream",
     "text": [
      " 19%|█▉        | 73/389 [02:42<10:40,  2.03s/it]"
     ]
    },
    {
     "name": "stdout",
     "output_type": "stream",
     "text": [
      "Updated vocab size: 184 Updated sequence length: 1811651 New vocab: ' P' Token pair: (2, 42) Compression ratio: 0.50% \n"
     ]
    },
    {
     "name": "stderr",
     "output_type": "stream",
     "text": [
      " 19%|█▉        | 74/389 [02:44<10:37,  2.02s/it]"
     ]
    },
    {
     "name": "stdout",
     "output_type": "stream",
     "text": [
      "Updated vocab size: 185 Updated sequence length: 1806786 New vocab: ' v' Token pair: (2, 76) Compression ratio: 0.51% \n"
     ]
    },
    {
     "name": "stderr",
     "output_type": "stream",
     "text": [
      " 19%|█▉        | 75/389 [02:46<10:09,  1.94s/it]"
     ]
    },
    {
     "name": "stdout",
     "output_type": "stream",
     "text": [
      "Updated vocab size: 186 Updated sequence length: 1801935 New vocab: ' é' Token pair: (2, 94) Compression ratio: 0.51% \n"
     ]
    },
    {
     "name": "stderr",
     "output_type": "stream",
     "text": [
      " 20%|█▉        | 76/389 [02:48<10:31,  2.02s/it]"
     ]
    },
    {
     "name": "stdout",
     "output_type": "stream",
     "text": [
      "Updated vocab size: 187 Updated sequence length: 1797143 New vocab: 'ne' Token pair: (68, 59) Compression ratio: 0.52% \n"
     ]
    },
    {
     "name": "stderr",
     "output_type": "stream",
     "text": [
      " 20%|█▉        | 77/389 [02:50<10:02,  1.93s/it]"
     ]
    },
    {
     "name": "stdout",
     "output_type": "stream",
     "text": [
      "Updated vocab size: 188 Updated sequence length: 1792367 New vocab: ' au' Token pair: (128, 75) Compression ratio: 0.52% \n"
     ]
    },
    {
     "name": "stderr",
     "output_type": "stream",
     "text": [
      " 20%|██        | 78/389 [02:52<10:23,  2.00s/it]"
     ]
    },
    {
     "name": "stdout",
     "output_type": "stream",
     "text": [
      "Updated vocab size: 189 Updated sequence length: 1787599 New vocab: 'me' Token pair: (67, 59) Compression ratio: 0.52% \n"
     ]
    },
    {
     "name": "stderr",
     "output_type": "stream",
     "text": [
      " 20%|██        | 79/389 [02:54<10:20,  2.00s/it]"
     ]
    },
    {
     "name": "stdout",
     "output_type": "stream",
     "text": [
      "Updated vocab size: 190 Updated sequence length: 1782831 New vocab: 'as' Token pair: (55, 73) Compression ratio: 0.53% \n"
     ]
    },
    {
     "name": "stderr",
     "output_type": "stream",
     "text": [
      " 21%|██        | 80/389 [02:56<09:52,  1.92s/it]"
     ]
    },
    {
     "name": "stdout",
     "output_type": "stream",
     "text": [
      "Updated vocab size: 191 Updated sequence length: 1778287 New vocab: ' est' Token pair: (2, 161) Compression ratio: 0.53% \n"
     ]
    },
    {
     "name": "stderr",
     "output_type": "stream",
     "text": [
      " 21%|██        | 81/389 [02:58<10:13,  1.99s/it]"
     ]
    },
    {
     "name": "stdout",
     "output_type": "stream",
     "text": [
      "Updated vocab size: 192 Updated sequence length: 1773913 New vocab: ' \\n' Token pair: (2, 1) Compression ratio: 0.54% \n"
     ]
    },
    {
     "name": "stderr",
     "output_type": "stream",
     "text": [
      " 21%|██        | 82/389 [03:00<09:45,  1.91s/it]"
     ]
    },
    {
     "name": "stdout",
     "output_type": "stream",
     "text": [
      "Updated vocab size: 193 Updated sequence length: 1769578 New vocab: 'ont' Token pair: (115, 74) Compression ratio: 0.54% \n"
     ]
    },
    {
     "name": "stderr",
     "output_type": "stream",
     "text": [
      " 21%|██▏       | 83/389 [03:02<10:05,  1.98s/it]"
     ]
    },
    {
     "name": "stdout",
     "output_type": "stream",
     "text": [
      "Updated vocab size: 194 Updated sequence length: 1765282 New vocab: 'ation' Token pair: (55, 145) Compression ratio: 0.54% \n"
     ]
    },
    {
     "name": "stderr",
     "output_type": "stream",
     "text": [
      " 22%|██▏       | 84/389 [03:04<10:02,  1.98s/it]"
     ]
    },
    {
     "name": "stdout",
     "output_type": "stream",
     "text": [
      "Updated vocab size: 195 Updated sequence length: 1761171 New vocab: 'si' Token pair: (73, 63) Compression ratio: 0.55% \n"
     ]
    },
    {
     "name": "stderr",
     "output_type": "stream",
     "text": [
      " 22%|██▏       | 85/389 [03:06<09:35,  1.89s/it]"
     ]
    },
    {
     "name": "stdout",
     "output_type": "stream",
     "text": [
      "Updated vocab size: 196 Updated sequence length: 1757070 New vocab: ' b' Token pair: (2, 56) Compression ratio: 0.55% \n"
     ]
    },
    {
     "name": "stderr",
     "output_type": "stream",
     "text": [
      " 22%|██▏       | 86/389 [03:08<09:55,  1.97s/it]"
     ]
    },
    {
     "name": "stdout",
     "output_type": "stream",
     "text": [
      "Updated vocab size: 197 Updated sequence length: 1753005 New vocab: ' B' Token pair: (2, 28) Compression ratio: 0.55% \n"
     ]
    },
    {
     "name": "stderr",
     "output_type": "stream",
     "text": [
      " 22%|██▏       | 87/389 [03:10<09:55,  1.97s/it]"
     ]
    },
    {
     "name": "stdout",
     "output_type": "stream",
     "text": [
      "Updated vocab size: 198 Updated sequence length: 1748972 New vocab: ' A' Token pair: (2, 27) Compression ratio: 0.56% \n"
     ]
    },
    {
     "name": "stderr",
     "output_type": "stream",
     "text": [
      " 23%|██▎       | 88/389 [03:11<09:27,  1.89s/it]"
     ]
    },
    {
     "name": "stdout",
     "output_type": "stream",
     "text": [
      "Updated vocab size: 199 Updated sequence length: 1744943 New vocab: 'ci' Token pair: (57, 63) Compression ratio: 0.56% \n"
     ]
    },
    {
     "name": "stderr",
     "output_type": "stream",
     "text": [
      " 23%|██▎       | 89/389 [03:14<09:46,  1.96s/it]"
     ]
    },
    {
     "name": "stdout",
     "output_type": "stream",
     "text": [
      "Updated vocab size: 200 Updated sequence length: 1740995 New vocab: 'se' Token pair: (73, 59) Compression ratio: 0.56% \n"
     ]
    },
    {
     "name": "stderr",
     "output_type": "stream",
     "text": [
      " 23%|██▎       | 90/389 [03:15<09:20,  1.87s/it]"
     ]
    },
    {
     "name": "stdout",
     "output_type": "stream",
     "text": [
      "Updated vocab size: 201 Updated sequence length: 1737097 New vocab: 'ée' Token pair: (94, 59) Compression ratio: 0.57% \n"
     ]
    },
    {
     "name": "stderr",
     "output_type": "stream",
     "text": [
      " 23%|██▎       | 91/389 [03:17<09:38,  1.94s/it]"
     ]
    },
    {
     "name": "stdout",
     "output_type": "stream",
     "text": [
      "Updated vocab size: 202 Updated sequence length: 1733217 New vocab: '20' Token pair: (16, 14) Compression ratio: 0.57% \n"
     ]
    },
    {
     "name": "stderr",
     "output_type": "stream",
     "text": [
      " 24%|██▎       | 92/389 [03:19<09:33,  1.93s/it]"
     ]
    },
    {
     "name": "stdout",
     "output_type": "stream",
     "text": [
      "Updated vocab size: 203 Updated sequence length: 1729353 New vocab: 've' Token pair: (76, 59) Compression ratio: 0.57% \n"
     ]
    },
    {
     "name": "stderr",
     "output_type": "stream",
     "text": [
      " 24%|██▍       | 93/389 [03:21<09:08,  1.85s/it]"
     ]
    },
    {
     "name": "stdout",
     "output_type": "stream",
     "text": [
      "Updated vocab size: 204 Updated sequence length: 1725543 New vocab: ' qu' Token pair: (2, 130) Compression ratio: 0.58% \n"
     ]
    },
    {
     "name": "stderr",
     "output_type": "stream",
     "text": [
      " 24%|██▍       | 94/389 [03:23<09:28,  1.93s/it]"
     ]
    },
    {
     "name": "stdout",
     "output_type": "stream",
     "text": [
      "Updated vocab size: 205 Updated sequence length: 1721741 New vocab: 'ais' Token pair: (55, 124) Compression ratio: 0.58% \n"
     ]
    },
    {
     "name": "stderr",
     "output_type": "stream",
     "text": [
      " 24%|██▍       | 95/389 [03:25<09:04,  1.85s/it]"
     ]
    },
    {
     "name": "stdout",
     "output_type": "stream",
     "text": [
      "Updated vocab size: 206 Updated sequence length: 1718065 New vocab: ' g' Token pair: (2, 61) Compression ratio: 0.58% \n"
     ]
    },
    {
     "name": "stderr",
     "output_type": "stream",
     "text": [
      " 25%|██▍       | 96/389 [03:27<09:23,  1.92s/it]"
     ]
    },
    {
     "name": "stdout",
     "output_type": "stream",
     "text": [
      "Updated vocab size: 207 Updated sequence length: 1714444 New vocab: 'res' Token pair: (72, 112) Compression ratio: 0.59% \n"
     ]
    },
    {
     "name": "stderr",
     "output_type": "stream",
     "text": [
      " 25%|██▍       | 97/389 [03:28<08:57,  1.84s/it]"
     ]
    },
    {
     "name": "stdout",
     "output_type": "stream",
     "text": [
      "Updated vocab size: 208 Updated sequence length: 1710840 New vocab: 'de' Token pair: (58, 59) Compression ratio: 0.59% \n"
     ]
    },
    {
     "name": "stderr",
     "output_type": "stream",
     "text": [
      " 25%|██▌       | 98/389 [03:30<09:17,  1.92s/it]"
     ]
    },
    {
     "name": "stdout",
     "output_type": "stream",
     "text": [
      "Updated vocab size: 209 Updated sequence length: 1707253 New vocab: 'ag' Token pair: (55, 61) Compression ratio: 0.59% \n"
     ]
    },
    {
     "name": "stderr",
     "output_type": "stream",
     "text": [
      " 25%|██▌       | 99/389 [03:32<08:52,  1.84s/it]"
     ]
    },
    {
     "name": "stdout",
     "output_type": "stream",
     "text": [
      "Updated vocab size: 210 Updated sequence length: 1703746 New vocab: 'ire' Token pair: (63, 119) Compression ratio: 0.60% \n"
     ]
    },
    {
     "name": "stderr",
     "output_type": "stream",
     "text": [
      " 26%|██▌       | 100/389 [03:35<09:39,  2.01s/it]"
     ]
    },
    {
     "name": "stdout",
     "output_type": "stream",
     "text": [
      "Updated vocab size: 211 Updated sequence length: 1700290 New vocab: ' com' Token pair: (123, 146) Compression ratio: 0.60% \n"
     ]
    },
    {
     "name": "stderr",
     "output_type": "stream",
     "text": [
      " 26%|██▌       | 101/389 [03:37<10:01,  2.09s/it]"
     ]
    },
    {
     "name": "stdout",
     "output_type": "stream",
     "text": [
      "Updated vocab size: 212 Updated sequence length: 1696838 New vocab: 'li' Token pair: (66, 63) Compression ratio: 0.60% \n"
     ]
    },
    {
     "name": "stderr",
     "output_type": "stream",
     "text": [
      " 26%|██▌       | 102/389 [03:39<10:29,  2.19s/it]"
     ]
    },
    {
     "name": "stdout",
     "output_type": "stream",
     "text": [
      "Updated vocab size: 213 Updated sequence length: 1693395 New vocab: ' dans' Token pair: (111, 173) Compression ratio: 0.61% \n"
     ]
    },
    {
     "name": "stderr",
     "output_type": "stream",
     "text": [
      " 26%|██▋       | 103/389 [03:41<10:22,  2.18s/it]"
     ]
    },
    {
     "name": "stdout",
     "output_type": "stream",
     "text": [
      "Updated vocab size: 214 Updated sequence length: 1689982 New vocab: ' D' Token pair: (2, 30) Compression ratio: 0.61% \n"
     ]
    },
    {
     "name": "stderr",
     "output_type": "stream",
     "text": [
      " 27%|██▋       | 104/389 [03:44<10:44,  2.26s/it]"
     ]
    },
    {
     "name": "stdout",
     "output_type": "stream",
     "text": [
      "Updated vocab size: 215 Updated sequence length: 1686576 New vocab: ' dé' Token pair: (111, 94) Compression ratio: 0.61% \n"
     ]
    },
    {
     "name": "stderr",
     "output_type": "stream",
     "text": [
      " 27%|██▋       | 105/389 [03:46<10:11,  2.15s/it]"
     ]
    },
    {
     "name": "stdout",
     "output_type": "stream",
     "text": [
      "Updated vocab size: 216 Updated sequence length: 1683190 New vocab: 'am' Token pair: (55, 67) Compression ratio: 0.62% \n"
     ]
    },
    {
     "name": "stderr",
     "output_type": "stream",
     "text": [
      " 27%|██▋       | 106/389 [03:47<09:27,  2.00s/it]"
     ]
    },
    {
     "name": "stdout",
     "output_type": "stream",
     "text": [
      "Updated vocab size: 217 Updated sequence length: 1680028 New vocab: 'té' Token pair: (74, 94) Compression ratio: 0.62% \n"
     ]
    },
    {
     "name": "stderr",
     "output_type": "stream",
     "text": [
      " 28%|██▊       | 107/389 [03:49<09:31,  2.03s/it]"
     ]
    },
    {
     "name": "stdout",
     "output_type": "stream",
     "text": [
      "Updated vocab size: 218 Updated sequence length: 1676870 New vocab: ' re' Token pair: (2, 119) Compression ratio: 0.62% \n"
     ]
    },
    {
     "name": "stderr",
     "output_type": "stream",
     "text": [
      " 28%|██▊       | 108/389 [03:51<09:19,  1.99s/it]"
     ]
    },
    {
     "name": "stdout",
     "output_type": "stream",
     "text": [
      "Updated vocab size: 219 Updated sequence length: 1673745 New vocab: ' T' Token pair: (2, 46) Compression ratio: 0.63% \n"
     ]
    },
    {
     "name": "stderr",
     "output_type": "stream",
     "text": [
      " 28%|██▊       | 109/389 [03:53<08:47,  1.88s/it]"
     ]
    },
    {
     "name": "stdout",
     "output_type": "stream",
     "text": [
      "Updated vocab size: 220 Updated sequence length: 1670658 New vocab: ' une' Token pair: (155, 59) Compression ratio: 0.63% \n"
     ]
    },
    {
     "name": "stderr",
     "output_type": "stream",
     "text": [
      " 28%|██▊       | 110/389 [03:55<09:03,  1.95s/it]"
     ]
    },
    {
     "name": "stdout",
     "output_type": "stream",
     "text": [
      "Updated vocab size: 221 Updated sequence length: 1667627 New vocab: 'ran' Token pair: (72, 116) Compression ratio: 0.63% \n"
     ]
    },
    {
     "name": "stderr",
     "output_type": "stream",
     "text": [
      " 29%|██▊       | 111/389 [03:57<08:36,  1.86s/it]"
     ]
    },
    {
     "name": "stdout",
     "output_type": "stream",
     "text": [
      "Updated vocab size: 222 Updated sequence length: 1664643 New vocab: ' R' Token pair: (2, 44) Compression ratio: 0.64% \n"
     ]
    },
    {
     "name": "stderr",
     "output_type": "stream",
     "text": [
      " 29%|██▉       | 112/389 [03:59<08:31,  1.85s/it]"
     ]
    },
    {
     "name": "stdout",
     "output_type": "stream",
     "text": [
      "Updated vocab size: 223 Updated sequence length: 1661727 New vocab: 'ain' Token pair: (55, 125) Compression ratio: 0.64% \n"
     ]
    },
    {
     "name": "stderr",
     "output_type": "stream",
     "text": [
      " 29%|██▉       | 113/389 [04:01<08:45,  1.91s/it]"
     ]
    },
    {
     "name": "stdout",
     "output_type": "stream",
     "text": [
      "Updated vocab size: 224 Updated sequence length: 1658835 New vocab: ' ré' Token pair: (2, 157) Compression ratio: 0.64% \n"
     ]
    },
    {
     "name": "stderr",
     "output_type": "stream",
     "text": [
      " 29%|██▉       | 114/389 [04:03<08:41,  1.90s/it]"
     ]
    },
    {
     "name": "stdout",
     "output_type": "stream",
     "text": [
      "Updated vocab size: 225 Updated sequence length: 1655986 New vocab: ' con' Token pair: (123, 115) Compression ratio: 0.64% \n"
     ]
    },
    {
     "name": "stderr",
     "output_type": "stream",
     "text": [
      " 30%|██▉       | 115/389 [04:04<08:38,  1.89s/it]"
     ]
    },
    {
     "name": "stdout",
     "output_type": "stream",
     "text": [
      "Updated vocab size: 226 Updated sequence length: 1653172 New vocab: 'di' Token pair: (58, 63) Compression ratio: 0.65% \n"
     ]
    },
    {
     "name": "stderr",
     "output_type": "stream",
     "text": [
      " 30%|██▉       | 116/389 [04:06<08:35,  1.89s/it]"
     ]
    },
    {
     "name": "stdout",
     "output_type": "stream",
     "text": [
      "Updated vocab size: 227 Updated sequence length: 1650372 New vocab: ' F' Token pair: (2, 32) Compression ratio: 0.65% \n"
     ]
    },
    {
     "name": "stderr",
     "output_type": "stream",
     "text": [
      " 30%|███       | 117/389 [04:08<08:12,  1.81s/it]"
     ]
    },
    {
     "name": "stdout",
     "output_type": "stream",
     "text": [
      "Updated vocab size: 228 Updated sequence length: 1647676 New vocab: ' G' Token pair: (2, 33) Compression ratio: 0.65% \n"
     ]
    },
    {
     "name": "stderr",
     "output_type": "stream",
     "text": [
      " 30%|███       | 118/389 [04:10<08:12,  1.82s/it]"
     ]
    },
    {
     "name": "stdout",
     "output_type": "stream",
     "text": [
      "Updated vocab size: 229 Updated sequence length: 1644983 New vocab: 'ers' Token pair: (122, 73) Compression ratio: 0.66% \n"
     ]
    },
    {
     "name": "stderr",
     "output_type": "stream",
     "text": [
      " 31%|███       | 119/389 [04:12<08:27,  1.88s/it]"
     ]
    },
    {
     "name": "stdout",
     "output_type": "stream",
     "text": [
      "Updated vocab size: 230 Updated sequence length: 1642348 New vocab: 'ig' Token pair: (63, 61) Compression ratio: 0.66% \n"
     ]
    },
    {
     "name": "stderr",
     "output_type": "stream",
     "text": [
      " 31%|███       | 120/389 [04:14<08:29,  1.89s/it]"
     ]
    },
    {
     "name": "stdout",
     "output_type": "stream",
     "text": [
      "Updated vocab size: 231 Updated sequence length: 1639760 New vocab: ' pour' Token pair: (118, 163) Compression ratio: 0.66% \n"
     ]
    },
    {
     "name": "stderr",
     "output_type": "stream",
     "text": [
      " 31%|███       | 121/389 [04:16<08:26,  1.89s/it]"
     ]
    },
    {
     "name": "stdout",
     "output_type": "stream",
     "text": [
      "Updated vocab size: 232 Updated sequence length: 1637216 New vocab: 'ot' Token pair: (69, 74) Compression ratio: 0.66% \n"
     ]
    },
    {
     "name": "stderr",
     "output_type": "stream",
     "text": [
      " 31%|███▏      | 122/389 [04:17<08:02,  1.81s/it]"
     ]
    },
    {
     "name": "stdout",
     "output_type": "stream",
     "text": [
      "Updated vocab size: 233 Updated sequence length: 1634692 New vocab: ' I' Token pair: (2, 35) Compression ratio: 0.67% \n"
     ]
    },
    {
     "name": "stderr",
     "output_type": "stream",
     "text": [
      " 32%|███▏      | 123/389 [04:19<08:20,  1.88s/it]"
     ]
    },
    {
     "name": "stdout",
     "output_type": "stream",
     "text": [
      "Updated vocab size: 234 Updated sequence length: 1632181 New vocab: ' se' Token pair: (121, 59) Compression ratio: 0.67% \n"
     ]
    },
    {
     "name": "stderr",
     "output_type": "stream",
     "text": [
      " 32%|███▏      | 124/389 [04:21<08:17,  1.88s/it]"
     ]
    },
    {
     "name": "stdout",
     "output_type": "stream",
     "text": [
      "Updated vocab size: 235 Updated sequence length: 1629678 New vocab: 'ist' Token pair: (124, 74) Compression ratio: 0.67% \n"
     ]
    },
    {
     "name": "stderr",
     "output_type": "stream",
     "text": [
      " 32%|███▏      | 125/389 [04:23<07:55,  1.80s/it]"
     ]
    },
    {
     "name": "stdout",
     "output_type": "stream",
     "text": [
      "Updated vocab size: 236 Updated sequence length: 1627207 New vocab: 'ir' Token pair: (63, 72) Compression ratio: 0.67% \n"
     ]
    },
    {
     "name": "stderr",
     "output_type": "stream",
     "text": [
      " 32%|███▏      | 126/389 [04:25<08:14,  1.88s/it]"
     ]
    },
    {
     "name": "stdout",
     "output_type": "stream",
     "text": [
      "Updated vocab size: 237 Updated sequence length: 1624749 New vocab: ' in' Token pair: (2, 125) Compression ratio: 0.68% \n"
     ]
    },
    {
     "name": "stderr",
     "output_type": "stream",
     "text": [
      " 33%|███▎      | 127/389 [04:26<07:52,  1.80s/it]"
     ]
    },
    {
     "name": "stdout",
     "output_type": "stream",
     "text": [
      "Updated vocab size: 238 Updated sequence length: 1622306 New vocab: 'os' Token pair: (69, 73) Compression ratio: 0.68% \n"
     ]
    },
    {
     "name": "stderr",
     "output_type": "stream",
     "text": [
      " 33%|███▎      | 128/389 [04:28<08:10,  1.88s/it]"
     ]
    },
    {
     "name": "stdout",
     "output_type": "stream",
     "text": [
      "Updated vocab size: 239 Updated sequence length: 1619876 New vocab: ' E' Token pair: (2, 31) Compression ratio: 0.68% \n"
     ]
    },
    {
     "name": "stderr",
     "output_type": "stream",
     "text": [
      " 33%|███▎      | 129/389 [04:30<07:47,  1.80s/it]"
     ]
    },
    {
     "name": "stdout",
     "output_type": "stream",
     "text": [
      "Updated vocab size: 240 Updated sequence length: 1617455 New vocab: ' ch' Token pair: (123, 62) Compression ratio: 0.68% \n"
     ]
    },
    {
     "name": "stderr",
     "output_type": "stream",
     "text": [
      " 33%|███▎      | 130/389 [04:32<08:04,  1.87s/it]"
     ]
    },
    {
     "name": "stdout",
     "output_type": "stream",
     "text": [
      "Updated vocab size: 241 Updated sequence length: 1615062 New vocab: ' e' Token pair: (2, 59) Compression ratio: 0.69% \n"
     ]
    },
    {
     "name": "stderr",
     "output_type": "stream",
     "text": [
      " 34%|███▎      | 131/389 [04:34<07:42,  1.79s/it]"
     ]
    },
    {
     "name": "stdout",
     "output_type": "stream",
     "text": [
      "Updated vocab size: 242 Updated sequence length: 1612669 New vocab: ' pl' Token pair: (118, 66) Compression ratio: 0.69% \n"
     ]
    },
    {
     "name": "stderr",
     "output_type": "stream",
     "text": [
      " 34%|███▍      | 132/389 [04:36<07:58,  1.86s/it]"
     ]
    },
    {
     "name": "stdout",
     "output_type": "stream",
     "text": [
      "Updated vocab size: 243 Updated sequence length: 1610324 New vocab: ' J' Token pair: (2, 36) Compression ratio: 0.69% \n"
     ]
    },
    {
     "name": "stderr",
     "output_type": "stream",
     "text": [
      " 34%|███▍      | 133/389 [04:37<07:36,  1.78s/it]"
     ]
    },
    {
     "name": "stdout",
     "output_type": "stream",
     "text": [
      "Updated vocab size: 244 Updated sequence length: 1607981 New vocab: ' j' Token pair: (2, 64) Compression ratio: 0.69% \n"
     ]
    },
    {
     "name": "stderr",
     "output_type": "stream",
     "text": [
      " 34%|███▍      | 134/389 [04:39<07:54,  1.86s/it]"
     ]
    },
    {
     "name": "stdout",
     "output_type": "stream",
     "text": [
      "Updated vocab size: 245 Updated sequence length: 1605690 New vocab: 'ale' Token pair: (55, 131) Compression ratio: 0.70% \n"
     ]
    },
    {
     "name": "stderr",
     "output_type": "stream",
     "text": [
      " 35%|███▍      | 135/389 [04:41<07:32,  1.78s/it]"
     ]
    },
    {
     "name": "stdout",
     "output_type": "stream",
     "text": [
      "Updated vocab size: 246 Updated sequence length: 1603404 New vocab: 'les' Token pair: (66, 112) Compression ratio: 0.70% \n"
     ]
    },
    {
     "name": "stderr",
     "output_type": "stream",
     "text": [
      " 35%|███▍      | 136/389 [04:43<07:50,  1.86s/it]"
     ]
    },
    {
     "name": "stdout",
     "output_type": "stream",
     "text": [
      "Updated vocab size: 247 Updated sequence length: 1601176 New vocab: 'ab' Token pair: (55, 56) Compression ratio: 0.70% \n"
     ]
    },
    {
     "name": "stderr",
     "output_type": "stream",
     "text": [
      " 35%|███▌      | 137/389 [04:45<07:33,  1.80s/it]"
     ]
    },
    {
     "name": "stdout",
     "output_type": "stream",
     "text": [
      "Updated vocab size: 248 Updated sequence length: 1598963 New vocab: 'ac' Token pair: (55, 57) Compression ratio: 0.70% \n"
     ]
    },
    {
     "name": "stderr",
     "output_type": "stream",
     "text": [
      " 35%|███▌      | 138/389 [04:47<07:52,  1.88s/it]"
     ]
    },
    {
     "name": "stdout",
     "output_type": "stream",
     "text": [
      "Updated vocab size: 249 Updated sequence length: 1596760 New vocab: 'mp' Token pair: (67, 70) Compression ratio: 0.71% \n"
     ]
    },
    {
     "name": "stderr",
     "output_type": "stream",
     "text": [
      " 36%|███▌      | 139/389 [04:49<07:46,  1.87s/it]"
     ]
    },
    {
     "name": "stdout",
     "output_type": "stream",
     "text": [
      "Updated vocab size: 250 Updated sequence length: 1594601 New vocab: 'elle' Token pair: (151, 131) Compression ratio: 0.71% \n"
     ]
    },
    {
     "name": "stderr",
     "output_type": "stream",
     "text": [
      " 36%|███▌      | 140/389 [04:50<07:42,  1.86s/it]"
     ]
    },
    {
     "name": "stdout",
     "output_type": "stream",
     "text": [
      "Updated vocab size: 251 Updated sequence length: 1592446 New vocab: ' pro' Token pair: (118, 167) Compression ratio: 0.71% \n"
     ]
    },
    {
     "name": "stderr",
     "output_type": "stream",
     "text": [
      " 36%|███▌      | 141/389 [04:52<07:21,  1.78s/it]"
     ]
    },
    {
     "name": "stdout",
     "output_type": "stream",
     "text": [
      "Updated vocab size: 252 Updated sequence length: 1590294 New vocab: ' H' Token pair: (2, 34) Compression ratio: 0.71% \n"
     ]
    },
    {
     "name": "stderr",
     "output_type": "stream",
     "text": [
      " 37%|███▋      | 142/389 [04:54<07:41,  1.87s/it]"
     ]
    },
    {
     "name": "stdout",
     "output_type": "stream",
     "text": [
      "Updated vocab size: 253 Updated sequence length: 1588145 New vocab: ' sur' Token pair: (121, 138) Compression ratio: 0.71% \n"
     ]
    },
    {
     "name": "stderr",
     "output_type": "stream",
     "text": [
      " 37%|███▋      | 143/389 [04:56<07:18,  1.78s/it]"
     ]
    },
    {
     "name": "stdout",
     "output_type": "stream",
     "text": [
      "Updated vocab size: 254 Updated sequence length: 1586038 New vocab: 'ul' Token pair: (75, 66) Compression ratio: 0.72% \n"
     ]
    },
    {
     "name": "stderr",
     "output_type": "stream",
     "text": [
      " 37%|███▋      | 144/389 [04:58<07:35,  1.86s/it]"
     ]
    },
    {
     "name": "stdout",
     "output_type": "stream",
     "text": [
      "Updated vocab size: 255 Updated sequence length: 1583954 New vocab: 'ren' Token pair: (72, 114) Compression ratio: 0.72% \n"
     ]
    },
    {
     "name": "stderr",
     "output_type": "stream",
     "text": [
      " 37%|███▋      | 145/389 [04:59<07:13,  1.78s/it]"
     ]
    },
    {
     "name": "stdout",
     "output_type": "stream",
     "text": [
      "Updated vocab size: 256 Updated sequence length: 1581875 New vocab: 'ité' Token pair: (133, 94) Compression ratio: 0.72% \n"
     ]
    },
    {
     "name": "stderr",
     "output_type": "stream",
     "text": [
      " 38%|███▊      | 146/389 [05:01<07:31,  1.86s/it]"
     ]
    },
    {
     "name": "stdout",
     "output_type": "stream",
     "text": [
      "Updated vocab size: 257 Updated sequence length: 1579819 New vocab: 'og' Token pair: (69, 61) Compression ratio: 0.72% \n"
     ]
    },
    {
     "name": "stderr",
     "output_type": "stream",
     "text": [
      " 38%|███▊      | 147/389 [05:03<07:08,  1.77s/it]"
     ]
    },
    {
     "name": "stdout",
     "output_type": "stream",
     "text": [
      "Updated vocab size: 258 Updated sequence length: 1577786 New vocab: 'tu' Token pair: (74, 75) Compression ratio: 0.73% \n"
     ]
    },
    {
     "name": "stderr",
     "output_type": "stream",
     "text": [
      " 38%|███▊      | 148/389 [05:05<07:24,  1.85s/it]"
     ]
    },
    {
     "name": "stdout",
     "output_type": "stream",
     "text": [
      "Updated vocab size: 259 Updated sequence length: 1575777 New vocab: 'op' Token pair: (69, 70) Compression ratio: 0.73% \n"
     ]
    },
    {
     "name": "stderr",
     "output_type": "stream",
     "text": [
      " 38%|███▊      | 149/389 [05:07<07:04,  1.77s/it]"
     ]
    },
    {
     "name": "stdout",
     "output_type": "stream",
     "text": [
      "Updated vocab size: 260 Updated sequence length: 1573775 New vocab: 'ter' Token pair: (74, 122) Compression ratio: 0.73% \n"
     ]
    },
    {
     "name": "stderr",
     "output_type": "stream",
     "text": [
      " 39%|███▊      | 150/389 [05:09<07:20,  1.84s/it]"
     ]
    },
    {
     "name": "stdout",
     "output_type": "stream",
     "text": [
      "Updated vocab size: 261 Updated sequence length: 1571787 New vocab: 'ic' Token pair: (63, 57) Compression ratio: 0.73% \n"
     ]
    },
    {
     "name": "stderr",
     "output_type": "stream",
     "text": [
      " 39%|███▉      | 151/389 [05:10<06:58,  1.76s/it]"
     ]
    },
    {
     "name": "stdout",
     "output_type": "stream",
     "text": [
      "Updated vocab size: 262 Updated sequence length: 1569812 New vocab: 'ère' Token pair: (93, 119) Compression ratio: 0.73% \n"
     ]
    },
    {
     "name": "stderr",
     "output_type": "stream",
     "text": [
      " 39%|███▉      | 152/389 [05:12<07:13,  1.83s/it]"
     ]
    },
    {
     "name": "stdout",
     "output_type": "stream",
     "text": [
      "Updated vocab size: 263 Updated sequence length: 1567858 New vocab: ' N' Token pair: (2, 40) Compression ratio: 0.74% \n"
     ]
    },
    {
     "name": "stderr",
     "output_type": "stream",
     "text": [
      " 39%|███▉      | 153/389 [05:14<07:11,  1.83s/it]"
     ]
    },
    {
     "name": "stdout",
     "output_type": "stream",
     "text": [
      "Updated vocab size: 264 Updated sequence length: 1565917 New vocab: 'ait' Token pair: (55, 133) Compression ratio: 0.74% \n"
     ]
    },
    {
     "name": "stderr",
     "output_type": "stream",
     "text": [
      " 40%|███▉      | 154/389 [05:16<06:52,  1.75s/it]"
     ]
    },
    {
     "name": "stdout",
     "output_type": "stream",
     "text": [
      "Updated vocab size: 265 Updated sequence length: 1563979 New vocab: '.\\n' Token pair: (12, 1) Compression ratio: 0.74% \n"
     ]
    },
    {
     "name": "stderr",
     "output_type": "stream",
     "text": [
      " 40%|███▉      | 155/389 [05:18<07:12,  1.85s/it]"
     ]
    },
    {
     "name": "stdout",
     "output_type": "stream",
     "text": [
      "Updated vocab size: 266 Updated sequence length: 1562045 New vocab: 'iv' Token pair: (63, 76) Compression ratio: 0.74% \n"
     ]
    },
    {
     "name": "stderr",
     "output_type": "stream",
     "text": [
      " 40%|████      | 156/389 [05:19<06:50,  1.76s/it]"
     ]
    },
    {
     "name": "stdout",
     "output_type": "stream",
     "text": [
      "Updated vocab size: 267 Updated sequence length: 1560144 New vocab: ' qui' Token pair: (203, 63) Compression ratio: 0.75% \n"
     ]
    },
    {
     "name": "stderr",
     "output_type": "stream",
     "text": [
      " 40%|████      | 157/389 [05:21<06:48,  1.76s/it]"
     ]
    },
    {
     "name": "stdout",
     "output_type": "stream",
     "text": [
      "Updated vocab size: 268 Updated sequence length: 1558265 New vocab: 'eu' Token pair: (59, 75) Compression ratio: 0.75% \n"
     ]
    },
    {
     "name": "stderr",
     "output_type": "stream",
     "text": [
      " 41%|████      | 158/389 [05:23<06:59,  1.82s/it]"
     ]
    },
    {
     "name": "stdout",
     "output_type": "stream",
     "text": [
      "Updated vocab size: 269 Updated sequence length: 1556391 New vocab: 'ion' Token pair: (63, 115) Compression ratio: 0.75% \n"
     ]
    },
    {
     "name": "stderr",
     "output_type": "stream",
     "text": [
      " 41%|████      | 159/389 [05:25<06:56,  1.81s/it]"
     ]
    },
    {
     "name": "stdout",
     "output_type": "stream",
     "text": [
      "Updated vocab size: 270 Updated sequence length: 1554518 New vocab: 'ff' Token pair: (60, 60) Compression ratio: 0.75% \n"
     ]
    },
    {
     "name": "stderr",
     "output_type": "stream",
     "text": [
      " 41%|████      | 160/389 [05:26<06:53,  1.81s/it]"
     ]
    },
    {
     "name": "stdout",
     "output_type": "stream",
     "text": [
      "Updated vocab size: 271 Updated sequence length: 1552699 New vocab: ' h' Token pair: (2, 62) Compression ratio: 0.75% \n"
     ]
    },
    {
     "name": "stderr",
     "output_type": "stream",
     "text": [
      " 41%|████▏     | 161/389 [05:28<06:34,  1.73s/it]"
     ]
    },
    {
     "name": "stdout",
     "output_type": "stream",
     "text": [
      "Updated vocab size: 272 Updated sequence length: 1550882 New vocab: 'ouv' Token pair: (127, 76) Compression ratio: 0.76% \n"
     ]
    },
    {
     "name": "stderr",
     "output_type": "stream",
     "text": [
      " 42%|████▏     | 162/389 [05:30<06:49,  1.80s/it]"
     ]
    },
    {
     "name": "stdout",
     "output_type": "stream",
     "text": [
      "Updated vocab size: 273 Updated sequence length: 1549075 New vocab: 'ien' Token pair: (63, 114) Compression ratio: 0.76% \n"
     ]
    },
    {
     "name": "stderr",
     "output_type": "stream",
     "text": [
      " 42%|████▏     | 163/389 [05:32<06:48,  1.81s/it]"
     ]
    },
    {
     "name": "stdout",
     "output_type": "stream",
     "text": [
      "Updated vocab size: 274 Updated sequence length: 1547270 New vocab: ' \\n\\n' Token pair: (2, 137) Compression ratio: 0.76% \n"
     ]
    },
    {
     "name": "stderr",
     "output_type": "stream",
     "text": [
      " 42%|████▏     | 164/389 [05:33<06:28,  1.73s/it]"
     ]
    },
    {
     "name": "stdout",
     "output_type": "stream",
     "text": [
      "Updated vocab size: 275 Updated sequence length: 1545474 New vocab: 'ès' Token pair: (93, 73) Compression ratio: 0.76% \n"
     ]
    },
    {
     "name": "stderr",
     "output_type": "stream",
     "text": [
      " 42%|████▏     | 165/389 [05:35<06:44,  1.81s/it]"
     ]
    },
    {
     "name": "stdout",
     "output_type": "stream",
     "text": [
      "Updated vocab size: 276 Updated sequence length: 1543678 New vocab: 'éri' Token pair: (94, 152) Compression ratio: 0.76% \n"
     ]
    },
    {
     "name": "stderr",
     "output_type": "stream",
     "text": [
      " 43%|████▎     | 166/389 [05:37<06:41,  1.80s/it]"
     ]
    },
    {
     "name": "stdout",
     "output_type": "stream",
     "text": [
      "Updated vocab size: 277 Updated sequence length: 1541890 New vocab: 'ue' Token pair: (75, 59) Compression ratio: 0.77% \n"
     ]
    },
    {
     "name": "stderr",
     "output_type": "stream",
     "text": [
      " 43%|████▎     | 167/389 [05:39<06:22,  1.72s/it]"
     ]
    },
    {
     "name": "stdout",
     "output_type": "stream",
     "text": [
      "Updated vocab size: 278 Updated sequence length: 1540113 New vocab: 'ces' Token pair: (57, 112) Compression ratio: 0.77% \n"
     ]
    },
    {
     "name": "stderr",
     "output_type": "stream",
     "text": [
      " 43%|████▎     | 168/389 [05:41<06:38,  1.80s/it]"
     ]
    },
    {
     "name": "stdout",
     "output_type": "stream",
     "text": [
      "Updated vocab size: 279 Updated sequence length: 1538339 New vocab: ' o' Token pair: (2, 69) Compression ratio: 0.77% \n"
     ]
    },
    {
     "name": "stderr",
     "output_type": "stream",
     "text": [
      " 43%|████▎     | 169/389 [05:42<06:19,  1.73s/it]"
     ]
    },
    {
     "name": "stdout",
     "output_type": "stream",
     "text": [
      "Updated vocab size: 280 Updated sequence length: 1536580 New vocab: 'tre' Token pair: (74, 119) Compression ratio: 0.77% \n"
     ]
    },
    {
     "name": "stderr",
     "output_type": "stream",
     "text": [
      " 44%|████▎     | 170/389 [05:44<06:34,  1.80s/it]"
     ]
    },
    {
     "name": "stdout",
     "output_type": "stream",
     "text": [
      "Updated vocab size: 281 Updated sequence length: 1534831 New vocab: 'pe' Token pair: (70, 59) Compression ratio: 0.77% \n"
     ]
    },
    {
     "name": "stderr",
     "output_type": "stream",
     "text": [
      " 44%|████▍     | 171/389 [05:46<06:16,  1.73s/it]"
     ]
    },
    {
     "name": "stdout",
     "output_type": "stream",
     "text": [
      "Updated vocab size: 282 Updated sequence length: 1533105 New vocab: 'né' Token pair: (68, 94) Compression ratio: 0.78% \n"
     ]
    },
    {
     "name": "stderr",
     "output_type": "stream",
     "text": [
      " 44%|████▍     | 172/389 [05:48<06:32,  1.81s/it]"
     ]
    },
    {
     "name": "stdout",
     "output_type": "stream",
     "text": [
      "Updated vocab size: 283 Updated sequence length: 1531388 New vocab: ' Le' Token pair: (153, 59) Compression ratio: 0.78% \n"
     ]
    },
    {
     "name": "stderr",
     "output_type": "stream",
     "text": [
      " 44%|████▍     | 173/389 [05:50<06:30,  1.81s/it]"
     ]
    },
    {
     "name": "stdout",
     "output_type": "stream",
     "text": [
      "Updated vocab size: 284 Updated sequence length: 1529675 New vocab: '201' Token pair: (201, 15) Compression ratio: 0.78% \n"
     ]
    },
    {
     "name": "stderr",
     "output_type": "stream",
     "text": [
      " 45%|████▍     | 174/389 [05:51<06:11,  1.73s/it]"
     ]
    },
    {
     "name": "stdout",
     "output_type": "stream",
     "text": [
      "Updated vocab size: 285 Updated sequence length: 1527981 New vocab: 'vec' Token pair: (202, 57) Compression ratio: 0.78% \n"
     ]
    },
    {
     "name": "stderr",
     "output_type": "stream",
     "text": [
      " 45%|████▍     | 175/389 [05:53<06:25,  1.80s/it]"
     ]
    },
    {
     "name": "stdout",
     "output_type": "stream",
     "text": [
      "Updated vocab size: 286 Updated sequence length: 1526289 New vocab: 'ique' Token pair: (63, 159) Compression ratio: 0.78% \n"
     ]
    },
    {
     "name": "stderr",
     "output_type": "stream",
     "text": [
      " 45%|████▌     | 176/389 [05:55<06:07,  1.72s/it]"
     ]
    },
    {
     "name": "stdout",
     "output_type": "stream",
     "text": [
      "Updated vocab size: 287 Updated sequence length: 1524608 New vocab: 'and' Token pair: (116, 58) Compression ratio: 0.79% \n"
     ]
    },
    {
     "name": "stderr",
     "output_type": "stream",
     "text": [
      " 46%|████▌     | 177/389 [05:57<06:19,  1.79s/it]"
     ]
    },
    {
     "name": "stdout",
     "output_type": "stream",
     "text": [
      "Updated vocab size: 288 Updated sequence length: 1522929 New vocab: \"'un\" Token pair: (7, 136) Compression ratio: 0.79% \n"
     ]
    },
    {
     "name": "stderr",
     "output_type": "stream",
     "text": [
      " 46%|████▌     | 178/389 [05:58<06:01,  1.71s/it]"
     ]
    },
    {
     "name": "stdout",
     "output_type": "stream",
     "text": [
      "Updated vocab size: 289 Updated sequence length: 1521260 New vocab: 'ille' Token pair: (142, 131) Compression ratio: 0.79% \n"
     ]
    },
    {
     "name": "stderr",
     "output_type": "stream",
     "text": [
      " 46%|████▌     | 179/389 [06:00<06:14,  1.78s/it]"
     ]
    },
    {
     "name": "stdout",
     "output_type": "stream",
     "text": [
      "Updated vocab size: 290 Updated sequence length: 1519612 New vocab: ' il' Token pair: (2, 142) Compression ratio: 0.79% \n"
     ]
    },
    {
     "name": "stderr",
     "output_type": "stream",
     "text": [
      " 46%|████▋     | 180/389 [06:02<05:56,  1.71s/it]"
     ]
    },
    {
     "name": "stdout",
     "output_type": "stream",
     "text": [
      "Updated vocab size: 291 Updated sequence length: 1517969 New vocab: 'ap' Token pair: (55, 70) Compression ratio: 0.79% \n"
     ]
    },
    {
     "name": "stderr",
     "output_type": "stream",
     "text": [
      " 47%|████▋     | 181/389 [06:04<06:10,  1.78s/it]"
     ]
    },
    {
     "name": "stdout",
     "output_type": "stream",
     "text": [
      "Updated vocab size: 292 Updated sequence length: 1516332 New vocab: '||' Token pair: (81, 81) Compression ratio: 0.80% \n"
     ]
    },
    {
     "name": "stderr",
     "output_type": "stream",
     "text": [
      " 47%|████▋     | 182/389 [06:05<05:55,  1.72s/it]"
     ]
    },
    {
     "name": "stdout",
     "output_type": "stream",
     "text": [
      "Updated vocab size: 293 Updated sequence length: 1514707 New vocab: 'aire' Token pair: (55, 209) Compression ratio: 0.80% \n"
     ]
    },
    {
     "name": "stderr",
     "output_type": "stream",
     "text": [
      " 47%|████▋     | 183/389 [06:07<05:53,  1.72s/it]"
     ]
    },
    {
     "name": "stdout",
     "output_type": "stream",
     "text": [
      "Updated vocab size: 294 Updated sequence length: 1513087 New vocab: ' K' Token pair: (2, 37) Compression ratio: 0.80% \n"
     ]
    },
    {
     "name": "stderr",
     "output_type": "stream",
     "text": [
      " 47%|████▋     | 184/389 [06:09<06:04,  1.78s/it]"
     ]
    },
    {
     "name": "stdout",
     "output_type": "stream",
     "text": [
      "Updated vocab size: 295 Updated sequence length: 1511488 New vocab: '200' Token pair: (201, 14) Compression ratio: 0.80% \n"
     ]
    },
    {
     "name": "stderr",
     "output_type": "stream",
     "text": [
      " 48%|████▊     | 185/389 [06:10<06:01,  1.77s/it]"
     ]
    },
    {
     "name": "stdout",
     "output_type": "stream",
     "text": [
      "Updated vocab size: 296 Updated sequence length: 1509895 New vocab: ' V' Token pair: (2, 48) Compression ratio: 0.80% \n"
     ]
    },
    {
     "name": "stderr",
     "output_type": "stream",
     "text": [
      " 48%|████▊     | 186/389 [06:12<05:58,  1.77s/it]"
     ]
    },
    {
     "name": "stdout",
     "output_type": "stream",
     "text": [
      "Updated vocab size: 297 Updated sequence length: 1508310 New vocab: 'urs' Token pair: (138, 73) Compression ratio: 0.81% \n"
     ]
    },
    {
     "name": "stderr",
     "output_type": "stream",
     "text": [
      " 48%|████▊     | 187/389 [06:14<05:43,  1.70s/it]"
     ]
    },
    {
     "name": "stdout",
     "output_type": "stream",
     "text": [
      "Updated vocab size: 298 Updated sequence length: 1506737 New vocab: 'mi' Token pair: (67, 63) Compression ratio: 0.81% \n"
     ]
    },
    {
     "name": "stderr",
     "output_type": "stream",
     "text": [
      " 48%|████▊     | 188/389 [06:16<05:57,  1.78s/it]"
     ]
    },
    {
     "name": "stdout",
     "output_type": "stream",
     "text": [
      "Updated vocab size: 299 Updated sequence length: 1505165 New vocab: 'ge' Token pair: (61, 59) Compression ratio: 0.81% \n"
     ]
    },
    {
     "name": "stderr",
     "output_type": "stream",
     "text": [
      " 49%|████▊     | 189/389 [06:17<05:54,  1.77s/it]"
     ]
    },
    {
     "name": "stdout",
     "output_type": "stream",
     "text": [
      "Updated vocab size: 300 Updated sequence length: 1503593 New vocab: ' que' Token pair: (2, 159) Compression ratio: 0.81% \n"
     ]
    },
    {
     "name": "stderr",
     "output_type": "stream",
     "text": [
      " 49%|████▉     | 190/389 [06:19<05:36,  1.69s/it]"
     ]
    },
    {
     "name": "stdout",
     "output_type": "stream",
     "text": [
      "Updated vocab size: 301 Updated sequence length: 1502025 New vocab: 'ai' Token pair: (55, 63) Compression ratio: 0.81% \n"
     ]
    },
    {
     "name": "stderr",
     "output_type": "stream",
     "text": [
      " 49%|████▉     | 191/389 [06:21<05:39,  1.71s/it]"
     ]
    },
    {
     "name": "stdout",
     "output_type": "stream",
     "text": [
      "Updated vocab size: 302 Updated sequence length: 1500459 New vocab: 'ort' Token pair: (135, 74) Compression ratio: 0.81% \n"
     ]
    },
    {
     "name": "stderr",
     "output_type": "stream",
     "text": [
      " 49%|████▉     | 192/389 [06:23<05:49,  1.77s/it]"
     ]
    },
    {
     "name": "stdout",
     "output_type": "stream",
     "text": [
      "Updated vocab size: 303 Updated sequence length: 1498895 New vocab: 'ction' Token pair: (57, 145) Compression ratio: 0.82% \n"
     ]
    },
    {
     "name": "stderr",
     "output_type": "stream",
     "text": [
      " 50%|████▉     | 193/389 [06:24<05:46,  1.77s/it]"
     ]
    },
    {
     "name": "stdout",
     "output_type": "stream",
     "text": [
      "Updated vocab size: 304 Updated sequence length: 1497340 New vocab: ' ex' Token pair: (240, 78) Compression ratio: 0.82% \n"
     ]
    },
    {
     "name": "stderr",
     "output_type": "stream",
     "text": [
      " 50%|████▉     | 194/389 [06:26<05:43,  1.76s/it]"
     ]
    },
    {
     "name": "stdout",
     "output_type": "stream",
     "text": [
      "Updated vocab size: 305 Updated sequence length: 1495794 New vocab: ' avec' Token pair: (128, 284) Compression ratio: 0.82% \n"
     ]
    },
    {
     "name": "stderr",
     "output_type": "stream",
     "text": [
      " 50%|█████     | 195/389 [06:28<05:28,  1.69s/it]"
     ]
    },
    {
     "name": "stdout",
     "output_type": "stream",
     "text": [
      "Updated vocab size: 306 Updated sequence length: 1494281 New vocab: ' r' Token pair: (2, 72) Compression ratio: 0.82% \n"
     ]
    },
    {
     "name": "stderr",
     "output_type": "stream",
     "text": [
      " 50%|█████     | 196/389 [06:30<05:40,  1.76s/it]"
     ]
    },
    {
     "name": "stdout",
     "output_type": "stream",
     "text": [
      "Updated vocab size: 307 Updated sequence length: 1492768 New vocab: 'ques' Token pair: (130, 112) Compression ratio: 0.82% \n"
     ]
    },
    {
     "name": "stderr",
     "output_type": "stream",
     "text": [
      " 51%|█████     | 197/389 [06:31<05:37,  1.76s/it]"
     ]
    },
    {
     "name": "stdout",
     "output_type": "stream",
     "text": [
      "Updated vocab size: 308 Updated sequence length: 1491273 New vocab: 'és' Token pair: (94, 73) Compression ratio: 0.83% \n"
     ]
    },
    {
     "name": "stderr",
     "output_type": "stream",
     "text": [
      " 51%|█████     | 198/389 [06:33<05:22,  1.69s/it]"
     ]
    },
    {
     "name": "stdout",
     "output_type": "stream",
     "text": [
      "Updated vocab size: 309 Updated sequence length: 1489785 New vocab: 'ite' Token pair: (133, 59) Compression ratio: 0.83% \n"
     ]
    },
    {
     "name": "stderr",
     "output_type": "stream",
     "text": [
      " 51%|█████     | 199/389 [06:35<05:36,  1.77s/it]"
     ]
    },
    {
     "name": "stdout",
     "output_type": "stream",
     "text": [
      "Updated vocab size: 310 Updated sequence length: 1488303 New vocab: ' su' Token pair: (121, 75) Compression ratio: 0.83% \n"
     ]
    },
    {
     "name": "stderr",
     "output_type": "stream",
     "text": [
      " 51%|█████▏    | 200/389 [06:37<05:34,  1.77s/it]"
     ]
    },
    {
     "name": "stdout",
     "output_type": "stream",
     "text": [
      "Updated vocab size: 311 Updated sequence length: 1486833 New vocab: ' plus' Token pair: (241, 156) Compression ratio: 0.83% \n"
     ]
    },
    {
     "name": "stderr",
     "output_type": "stream",
     "text": [
      " 52%|█████▏    | 201/389 [06:38<05:18,  1.70s/it]"
     ]
    },
    {
     "name": "stdout",
     "output_type": "stream",
     "text": [
      "Updated vocab size: 312 Updated sequence length: 1485370 New vocab: 'ux' Token pair: (75, 78) Compression ratio: 0.83% \n"
     ]
    },
    {
     "name": "stderr",
     "output_type": "stream",
     "text": [
      " 52%|█████▏    | 202/389 [06:40<05:18,  1.71s/it]"
     ]
    },
    {
     "name": "stdout",
     "output_type": "stream",
     "text": [
      "Updated vocab size: 313 Updated sequence length: 1483934 New vocab: ' an' Token pair: (2, 116) Compression ratio: 0.84% \n"
     ]
    },
    {
     "name": "stderr",
     "output_type": "stream",
     "text": [
      " 52%|█████▏    | 203/389 [06:42<05:29,  1.77s/it]"
     ]
    },
    {
     "name": "stdout",
     "output_type": "stream",
     "text": [
      "Updated vocab size: 314 Updated sequence length: 1482525 New vocab: 'ine' Token pair: (125, 59) Compression ratio: 0.84% \n"
     ]
    },
    {
     "name": "stderr",
     "output_type": "stream",
     "text": [
      " 52%|█████▏    | 204/389 [06:44<05:25,  1.76s/it]"
     ]
    },
    {
     "name": "stdout",
     "output_type": "stream",
     "text": [
      "Updated vocab size: 315 Updated sequence length: 1481122 New vocab: '),' Token pair: (9, 10) Compression ratio: 0.84% \n"
     ]
    },
    {
     "name": "stderr",
     "output_type": "stream",
     "text": [
      " 53%|█████▎    | 205/389 [06:45<05:11,  1.69s/it]"
     ]
    },
    {
     "name": "stdout",
     "output_type": "stream",
     "text": [
      "Updated vocab size: 316 Updated sequence length: 1479757 New vocab: 'ois' Token pair: (69, 124) Compression ratio: 0.84% \n"
     ]
    },
    {
     "name": "stderr",
     "output_type": "stream",
     "text": [
      " 53%|█████▎    | 206/389 [06:47<05:24,  1.77s/it]"
     ]
    },
    {
     "name": "stdout",
     "output_type": "stream",
     "text": [
      "Updated vocab size: 317 Updated sequence length: 1478393 New vocab: ' son' Token pair: (121, 115) Compression ratio: 0.84% \n"
     ]
    },
    {
     "name": "stderr",
     "output_type": "stream",
     "text": [
      " 53%|█████▎    | 207/389 [06:49<05:08,  1.69s/it]"
     ]
    },
    {
     "name": "stdout",
     "output_type": "stream",
     "text": [
      "Updated vocab size: 318 Updated sequence length: 1477032 New vocab: 'vi' Token pair: (76, 63) Compression ratio: 0.84% \n"
     ]
    },
    {
     "name": "stderr",
     "output_type": "stream",
     "text": [
      " 53%|█████▎    | 208/389 [06:50<05:19,  1.76s/it]"
     ]
    },
    {
     "name": "stdout",
     "output_type": "stream",
     "text": [
      "Updated vocab size: 319 Updated sequence length: 1475675 New vocab: 'mb' Token pair: (67, 56) Compression ratio: 0.85% \n"
     ]
    },
    {
     "name": "stderr",
     "output_type": "stream",
     "text": [
      " 54%|█████▎    | 209/389 [06:52<05:06,  1.70s/it]"
     ]
    },
    {
     "name": "stdout",
     "output_type": "stream",
     "text": [
      "Updated vocab size: 320 Updated sequence length: 1474322 New vocab: \"'é\" Token pair: (7, 94) Compression ratio: 0.85% \n"
     ]
    },
    {
     "name": "stderr",
     "output_type": "stream",
     "text": [
      " 54%|█████▍    | 210/389 [06:54<05:17,  1.78s/it]"
     ]
    },
    {
     "name": "stdout",
     "output_type": "stream",
     "text": [
      "Updated vocab size: 321 Updated sequence length: 1472972 New vocab: 'ut' Token pair: (75, 74) Compression ratio: 0.85% \n"
     ]
    },
    {
     "name": "stderr",
     "output_type": "stream",
     "text": [
      " 54%|█████▍    | 211/389 [06:55<05:02,  1.70s/it]"
     ]
    },
    {
     "name": "stdout",
     "output_type": "stream",
     "text": [
      "Updated vocab size: 322 Updated sequence length: 1471627 New vocab: 'age' Token pair: (208, 59) Compression ratio: 0.85% \n"
     ]
    },
    {
     "name": "stderr",
     "output_type": "stream",
     "text": [
      " 54%|█████▍    | 212/389 [06:57<05:13,  1.77s/it]"
     ]
    },
    {
     "name": "stdout",
     "output_type": "stream",
     "text": [
      "Updated vocab size: 323 Updated sequence length: 1470284 New vocab: ' Ch' Token pair: (162, 62) Compression ratio: 0.85% \n"
     ]
    },
    {
     "name": "stderr",
     "output_type": "stream",
     "text": [
      " 55%|█████▍    | 213/389 [06:59<04:56,  1.68s/it]"
     ]
    },
    {
     "name": "stdout",
     "output_type": "stream",
     "text": [
      "Updated vocab size: 324 Updated sequence length: 1468942 New vocab: 'ub' Token pair: (75, 56) Compression ratio: 0.85% \n"
     ]
    },
    {
     "name": "stderr",
     "output_type": "stream",
     "text": [
      " 55%|█████▌    | 214/389 [07:01<05:06,  1.75s/it]"
     ]
    },
    {
     "name": "stdout",
     "output_type": "stream",
     "text": [
      "Updated vocab size: 325 Updated sequence length: 1467611 New vocab: 'ad' Token pair: (55, 58) Compression ratio: 0.86% \n"
     ]
    },
    {
     "name": "stderr",
     "output_type": "stream",
     "text": [
      " 55%|█████▌    | 215/389 [07:03<05:03,  1.74s/it]"
     ]
    },
    {
     "name": "stdout",
     "output_type": "stream",
     "text": [
      "Updated vocab size: 326 Updated sequence length: 1466289 New vocab: 'ph' Token pair: (70, 62) Compression ratio: 0.86% \n"
     ]
    },
    {
     "name": "stderr",
     "output_type": "stream",
     "text": [
      " 56%|█████▌    | 216/389 [07:04<04:49,  1.67s/it]"
     ]
    },
    {
     "name": "stdout",
     "output_type": "stream",
     "text": [
      "Updated vocab size: 327 Updated sequence length: 1464983 New vocab: 'st' Token pair: (73, 74) Compression ratio: 0.86% \n"
     ]
    },
    {
     "name": "stderr",
     "output_type": "stream",
     "text": [
      " 56%|█████▌    | 217/389 [07:06<05:01,  1.75s/it]"
     ]
    },
    {
     "name": "stdout",
     "output_type": "stream",
     "text": [
      "Updated vocab size: 328 Updated sequence length: 1463706 New vocab: 'ill' Token pair: (142, 66) Compression ratio: 0.86% \n"
     ]
    },
    {
     "name": "stderr",
     "output_type": "stream",
     "text": [
      " 56%|█████▌    | 218/389 [07:08<04:58,  1.75s/it]"
     ]
    },
    {
     "name": "stdout",
     "output_type": "stream",
     "text": [
      "Updated vocab size: 329 Updated sequence length: 1462432 New vocab: 'ay' Token pair: (55, 79) Compression ratio: 0.86% \n"
     ]
    },
    {
     "name": "stderr",
     "output_type": "stream",
     "text": [
      " 56%|█████▋    | 219/389 [07:09<04:43,  1.67s/it]"
     ]
    },
    {
     "name": "stdout",
     "output_type": "stream",
     "text": [
      "Updated vocab size: 330 Updated sequence length: 1461162 New vocab: 'nes' Token pair: (68, 112) Compression ratio: 0.86% \n"
     ]
    },
    {
     "name": "stderr",
     "output_type": "stream",
     "text": [
      " 57%|█████▋    | 220/389 [07:11<04:56,  1.76s/it]"
     ]
    },
    {
     "name": "stdout",
     "output_type": "stream",
     "text": [
      "Updated vocab size: 331 Updated sequence length: 1459894 New vocab: '18' Token pair: (15, 22) Compression ratio: 0.87% \n"
     ]
    },
    {
     "name": "stderr",
     "output_type": "stream",
     "text": [
      " 57%|█████▋    | 221/389 [07:13<04:41,  1.68s/it]"
     ]
    },
    {
     "name": "stdout",
     "output_type": "stream",
     "text": [
      "Updated vocab size: 332 Updated sequence length: 1458631 New vocab: ' ||' Token pair: (2, 291) Compression ratio: 0.87% \n"
     ]
    },
    {
     "name": "stderr",
     "output_type": "stream",
     "text": [
      " 57%|█████▋    | 222/389 [07:15<04:54,  1.76s/it]"
     ]
    },
    {
     "name": "stdout",
     "output_type": "stream",
     "text": [
      "Updated vocab size: 333 Updated sequence length: 1457373 New vocab: 'du' Token pair: (58, 75) Compression ratio: 0.87% \n"
     ]
    },
    {
     "name": "stderr",
     "output_type": "stream",
     "text": [
      " 57%|█████▋    | 223/389 [07:16<04:39,  1.68s/it]"
     ]
    },
    {
     "name": "stdout",
     "output_type": "stream",
     "text": [
      "Updated vocab size: 334 Updated sequence length: 1456119 New vocab: 'che' Token pair: (172, 59) Compression ratio: 0.87% \n"
     ]
    },
    {
     "name": "stderr",
     "output_type": "stream",
     "text": [
      " 58%|█████▊    | 224/389 [07:18<04:50,  1.76s/it]"
     ]
    },
    {
     "name": "stdout",
     "output_type": "stream",
     "text": [
      "Updated vocab size: 335 Updated sequence length: 1454869 New vocab: ' Il' Token pair: (232, 66) Compression ratio: 0.87% \n"
     ]
    },
    {
     "name": "stderr",
     "output_type": "stream",
     "text": [
      " 58%|█████▊    | 225/389 [07:20<04:35,  1.68s/it]"
     ]
    },
    {
     "name": "stdout",
     "output_type": "stream",
     "text": [
      "Updated vocab size: 336 Updated sequence length: 1453620 New vocab: ' La' Token pair: (153, 55) Compression ratio: 0.87% \n"
     ]
    },
    {
     "name": "stderr",
     "output_type": "stream",
     "text": [
      " 58%|█████▊    | 226/389 [07:21<04:46,  1.76s/it]"
     ]
    },
    {
     "name": "stdout",
     "output_type": "stream",
     "text": [
      "Updated vocab size: 337 Updated sequence length: 1452384 New vocab: ' ou' Token pair: (2, 127) Compression ratio: 0.87% \n"
     ]
    },
    {
     "name": "stderr",
     "output_type": "stream",
     "text": [
      " 58%|█████▊    | 227/389 [07:23<04:34,  1.69s/it]"
     ]
    },
    {
     "name": "stdout",
     "output_type": "stream",
     "text": [
      "Updated vocab size: 338 Updated sequence length: 1451150 New vocab: ' «' Token pair: (2, 83) Compression ratio: 0.88% \n"
     ]
    },
    {
     "name": "stderr",
     "output_type": "stream",
     "text": [
      " 59%|█████▊    | 228/389 [07:25<04:44,  1.77s/it]"
     ]
    },
    {
     "name": "stdout",
     "output_type": "stream",
     "text": [
      "Updated vocab size: 339 Updated sequence length: 1449936 New vocab: '199' Token pair: (178, 23) Compression ratio: 0.88% \n"
     ]
    },
    {
     "name": "stderr",
     "output_type": "stream",
     "text": [
      " 59%|█████▉    | 229/389 [07:26<04:29,  1.68s/it]"
     ]
    },
    {
     "name": "stdout",
     "output_type": "stream",
     "text": [
      "Updated vocab size: 340 Updated sequence length: 1448726 New vocab: 'aux' Token pair: (179, 78) Compression ratio: 0.88% \n"
     ]
    },
    {
     "name": "stderr",
     "output_type": "stream",
     "text": [
      " 59%|█████▉    | 230/389 [07:28<04:28,  1.69s/it]"
     ]
    },
    {
     "name": "stdout",
     "output_type": "stream",
     "text": [
      "Updated vocab size: 341 Updated sequence length: 1447517 New vocab: 'pp' Token pair: (70, 70) Compression ratio: 0.88% \n"
     ]
    },
    {
     "name": "stderr",
     "output_type": "stream",
     "text": [
      " 59%|█████▉    | 231/389 [07:30<04:36,  1.75s/it]"
     ]
    },
    {
     "name": "stdout",
     "output_type": "stream",
     "text": [
      "Updated vocab size: 342 Updated sequence length: 1446318 New vocab: 'oc' Token pair: (69, 57) Compression ratio: 0.88% \n"
     ]
    },
    {
     "name": "stderr",
     "output_type": "stream",
     "text": [
      " 60%|█████▉    | 232/389 [07:32<04:33,  1.74s/it]"
     ]
    },
    {
     "name": "stdout",
     "output_type": "stream",
     "text": [
      "Updated vocab size: 343 Updated sequence length: 1445129 New vocab: ' comm' Token pair: (210, 67) Compression ratio: 0.88% \n"
     ]
    },
    {
     "name": "stderr",
     "output_type": "stream",
     "text": [
      " 60%|█████▉    | 233/389 [07:33<04:30,  1.73s/it]"
     ]
    },
    {
     "name": "stdout",
     "output_type": "stream",
     "text": [
      "Updated vocab size: 344 Updated sequence length: 1443941 New vocab: 'ard' Token pair: (126, 58) Compression ratio: 0.89% \n"
     ]
    },
    {
     "name": "stderr",
     "output_type": "stream",
     "text": [
      " 60%|██████    | 234/389 [07:35<04:18,  1.67s/it]"
     ]
    },
    {
     "name": "stdout",
     "output_type": "stream",
     "text": [
      "Updated vocab size: 345 Updated sequence length: 1442755 New vocab: ' parti' Token pair: (175, 120) Compression ratio: 0.89% \n"
     ]
    },
    {
     "name": "stderr",
     "output_type": "stream",
     "text": [
      " 60%|██████    | 235/389 [07:37<04:26,  1.73s/it]"
     ]
    },
    {
     "name": "stdout",
     "output_type": "stream",
     "text": [
      "Updated vocab size: 346 Updated sequence length: 1441582 New vocab: 'ous' Token pair: (127, 73) Compression ratio: 0.89% \n"
     ]
    },
    {
     "name": "stderr",
     "output_type": "stream",
     "text": [
      " 61%|██████    | 236/389 [07:39<04:24,  1.73s/it]"
     ]
    },
    {
     "name": "stdout",
     "output_type": "stream",
     "text": [
      "Updated vocab size: 347 Updated sequence length: 1440411 New vocab: ' ,' Token pair: (2, 10) Compression ratio: 0.89% \n"
     ]
    },
    {
     "name": "stderr",
     "output_type": "stream",
     "text": [
      " 61%|██████    | 237/389 [07:40<04:11,  1.65s/it]"
     ]
    },
    {
     "name": "stdout",
     "output_type": "stream",
     "text": [
      "Updated vocab size: 348 Updated sequence length: 1439249 New vocab: 'ib' Token pair: (63, 56) Compression ratio: 0.89% \n"
     ]
    },
    {
     "name": "stderr",
     "output_type": "stream",
     "text": [
      " 61%|██████    | 238/389 [07:42<04:20,  1.73s/it]"
     ]
    },
    {
     "name": "stdout",
     "output_type": "stream",
     "text": [
      "Updated vocab size: 349 Updated sequence length: 1438098 New vocab: 'ance' Token pair: (116, 174) Compression ratio: 0.89% \n"
     ]
    },
    {
     "name": "stderr",
     "output_type": "stream",
     "text": [
      " 61%|██████▏   | 239/389 [07:44<04:18,  1.73s/it]"
     ]
    },
    {
     "name": "stdout",
     "output_type": "stream",
     "text": [
      "Updated vocab size: 350 Updated sequence length: 1436950 New vocab: ' W' Token pair: (2, 49) Compression ratio: 0.90% \n"
     ]
    },
    {
     "name": "stderr",
     "output_type": "stream",
     "text": [
      " 62%|██████▏   | 240/389 [07:45<04:06,  1.65s/it]"
     ]
    },
    {
     "name": "stdout",
     "output_type": "stream",
     "text": [
      "Updated vocab size: 351 Updated sequence length: 1435808 New vocab: ' pré' Token pair: (118, 157) Compression ratio: 0.90% \n"
     ]
    },
    {
     "name": "stderr",
     "output_type": "stream",
     "text": [
      " 62%|██████▏   | 241/389 [07:47<04:16,  1.73s/it]"
     ]
    },
    {
     "name": "stdout",
     "output_type": "stream",
     "text": [
      "Updated vocab size: 352 Updated sequence length: 1434669 New vocab: 'rès' Token pair: (72, 274) Compression ratio: 0.90% \n"
     ]
    },
    {
     "name": "stderr",
     "output_type": "stream",
     "text": [
      " 62%|██████▏   | 242/389 [07:49<04:03,  1.66s/it]"
     ]
    },
    {
     "name": "stdout",
     "output_type": "stream",
     "text": [
      "Updated vocab size: 353 Updated sequence length: 1433531 New vocab: ' sont' Token pair: (121, 192) Compression ratio: 0.90% \n"
     ]
    },
    {
     "name": "stderr",
     "output_type": "stream",
     "text": [
      " 62%|██████▏   | 243/389 [07:51<04:13,  1.74s/it]"
     ]
    },
    {
     "name": "stdout",
     "output_type": "stream",
     "text": [
      "Updated vocab size: 354 Updated sequence length: 1432396 New vocab: ' ar' Token pair: (2, 126) Compression ratio: 0.90% \n"
     ]
    },
    {
     "name": "stderr",
     "output_type": "stream",
     "text": [
      " 63%|██████▎   | 244/389 [07:52<04:00,  1.66s/it]"
     ]
    },
    {
     "name": "stdout",
     "output_type": "stream",
     "text": [
      "Updated vocab size: 355 Updated sequence length: 1431271 New vocab: 'tique' Token pair: (120, 159) Compression ratio: 0.90% \n"
     ]
    },
    {
     "name": "stderr",
     "output_type": "stream",
     "text": [
      " 63%|██████▎   | 245/389 [07:54<04:11,  1.74s/it]"
     ]
    },
    {
     "name": "stdout",
     "output_type": "stream",
     "text": [
      "Updated vocab size: 356 Updated sequence length: 1430152 New vocab: ' »' Token pair: (2, 85) Compression ratio: 0.90% \n"
     ]
    },
    {
     "name": "stderr",
     "output_type": "stream",
     "text": [
      " 63%|██████▎   | 246/389 [07:55<03:59,  1.68s/it]"
     ]
    },
    {
     "name": "stdout",
     "output_type": "stream",
     "text": [
      "Updated vocab size: 357 Updated sequence length: 1429034 New vocab: \"'A\" Token pair: (7, 27) Compression ratio: 0.91% \n"
     ]
    },
    {
     "name": "stderr",
     "output_type": "stream",
     "text": [
      " 63%|██████▎   | 247/389 [07:57<04:07,  1.74s/it]"
     ]
    },
    {
     "name": "stdout",
     "output_type": "stream",
     "text": [
      "Updated vocab size: 358 Updated sequence length: 1427930 New vocab: 'ond' Token pair: (115, 58) Compression ratio: 0.91% \n"
     ]
    },
    {
     "name": "stderr",
     "output_type": "stream",
     "text": [
      " 64%|██████▍   | 248/389 [07:59<03:54,  1.66s/it]"
     ]
    },
    {
     "name": "stdout",
     "output_type": "stream",
     "text": [
      "Updated vocab size: 359 Updated sequence length: 1426832 New vocab: 'um' Token pair: (75, 67) Compression ratio: 0.91% \n"
     ]
    },
    {
     "name": "stderr",
     "output_type": "stream",
     "text": [
      " 64%|██████▍   | 249/389 [08:01<04:02,  1.73s/it]"
     ]
    },
    {
     "name": "stdout",
     "output_type": "stream",
     "text": [
      "Updated vocab size: 360 Updated sequence length: 1425742 New vocab: 'oire' Token pair: (69, 209) Compression ratio: 0.91% \n"
     ]
    },
    {
     "name": "stderr",
     "output_type": "stream",
     "text": [
      " 64%|██████▍   | 250/389 [08:02<04:00,  1.73s/it]"
     ]
    },
    {
     "name": "stdout",
     "output_type": "stream",
     "text": [
      "Updated vocab size: 361 Updated sequence length: 1424654 New vocab: ' di' Token pair: (111, 63) Compression ratio: 0.91% \n"
     ]
    },
    {
     "name": "stderr",
     "output_type": "stream",
     "text": [
      " 65%|██████▍   | 251/389 [08:04<03:58,  1.73s/it]"
     ]
    },
    {
     "name": "stdout",
     "output_type": "stream",
     "text": [
      "Updated vocab size: 362 Updated sequence length: 1423567 New vocab: 'ons' Token pair: (115, 73) Compression ratio: 0.91% \n"
     ]
    },
    {
     "name": "stderr",
     "output_type": "stream",
     "text": [
      " 65%|██████▍   | 252/389 [08:06<03:46,  1.65s/it]"
     ]
    },
    {
     "name": "stdout",
     "output_type": "stream",
     "text": [
      "Updated vocab size: 363 Updated sequence length: 1422486 New vocab: 'entre' Token pair: (132, 119) Compression ratio: 0.91% \n"
     ]
    },
    {
     "name": "stderr",
     "output_type": "stream",
     "text": [
      " 65%|██████▌   | 253/389 [08:08<03:54,  1.73s/it]"
     ]
    },
    {
     "name": "stdout",
     "output_type": "stream",
     "text": [
      "Updated vocab size: 364 Updated sequence length: 1421408 New vocab: 'ors' Token pair: (135, 73) Compression ratio: 0.92% \n"
     ]
    },
    {
     "name": "stderr",
     "output_type": "stream",
     "text": [
      " 65%|██████▌   | 254/389 [08:09<03:52,  1.72s/it]"
     ]
    },
    {
     "name": "stdout",
     "output_type": "stream",
     "text": [
      "Updated vocab size: 365 Updated sequence length: 1420343 New vocab: 'teur' Token pair: (140, 138) Compression ratio: 0.92% \n"
     ]
    },
    {
     "name": "stderr",
     "output_type": "stream",
     "text": [
      " 66%|██████▌   | 255/389 [08:11<03:41,  1.66s/it]"
     ]
    },
    {
     "name": "stdout",
     "output_type": "stream",
     "text": [
      "Updated vocab size: 366 Updated sequence length: 1419282 New vocab: ' comp' Token pair: (210, 70) Compression ratio: 0.92% \n"
     ]
    },
    {
     "name": "stderr",
     "output_type": "stream",
     "text": [
      " 66%|██████▌   | 256/389 [08:13<03:49,  1.73s/it]"
     ]
    },
    {
     "name": "stdout",
     "output_type": "stream",
     "text": [
      "Updated vocab size: 367 Updated sequence length: 1418229 New vocab: 'rou' Token pair: (72, 127) Compression ratio: 0.92% \n"
     ]
    },
    {
     "name": "stderr",
     "output_type": "stream",
     "text": [
      " 66%|██████▌   | 257/389 [08:14<03:38,  1.65s/it]"
     ]
    },
    {
     "name": "stdout",
     "output_type": "stream",
     "text": [
      "Updated vocab size: 368 Updated sequence length: 1417192 New vocab: 'ert' Token pair: (122, 74) Compression ratio: 0.92% \n"
     ]
    },
    {
     "name": "stderr",
     "output_type": "stream",
     "text": [
      " 66%|██████▋   | 258/389 [08:16<03:46,  1.73s/it]"
     ]
    },
    {
     "name": "stdout",
     "output_type": "stream",
     "text": [
      "Updated vocab size: 369 Updated sequence length: 1416157 New vocab: 'uis' Token pair: (75, 124) Compression ratio: 0.92% \n"
     ]
    },
    {
     "name": "stderr",
     "output_type": "stream",
     "text": [
      " 67%|██████▋   | 259/389 [08:18<03:44,  1.72s/it]"
     ]
    },
    {
     "name": "stdout",
     "output_type": "stream",
     "text": [
      "Updated vocab size: 370 Updated sequence length: 1415123 New vocab: 'ob' Token pair: (69, 56) Compression ratio: 0.92% \n"
     ]
    },
    {
     "name": "stderr",
     "output_type": "stream",
     "text": [
      " 67%|██████▋   | 260/389 [08:19<03:33,  1.65s/it]"
     ]
    },
    {
     "name": "stdout",
     "output_type": "stream",
     "text": [
      "Updated vocab size: 371 Updated sequence length: 1414095 New vocab: 'ord' Token pair: (135, 58) Compression ratio: 0.93% \n"
     ]
    },
    {
     "name": "stderr",
     "output_type": "stream",
     "text": [
      " 67%|██████▋   | 261/389 [08:21<03:41,  1.73s/it]"
     ]
    },
    {
     "name": "stdout",
     "output_type": "stream",
     "text": [
      "Updated vocab size: 372 Updated sequence length: 1413074 New vocab: 'end' Token pair: (114, 58) Compression ratio: 0.93% \n"
     ]
    },
    {
     "name": "stderr",
     "output_type": "stream",
     "text": [
      " 67%|██████▋   | 262/389 [08:23<03:30,  1.65s/it]"
     ]
    },
    {
     "name": "stdout",
     "output_type": "stream",
     "text": [
      "Updated vocab size: 373 Updated sequence length: 1412056 New vocab: ' O' Token pair: (2, 41) Compression ratio: 0.93% \n"
     ]
    },
    {
     "name": "stderr",
     "output_type": "stream",
     "text": [
      " 68%|██████▊   | 263/389 [08:25<03:37,  1.73s/it]"
     ]
    },
    {
     "name": "stdout",
     "output_type": "stream",
     "text": [
      "Updated vocab size: 374 Updated sequence length: 1411049 New vocab: 'ui' Token pair: (75, 63) Compression ratio: 0.93% \n"
     ]
    },
    {
     "name": "stderr",
     "output_type": "stream",
     "text": [
      " 68%|██████▊   | 264/389 [08:26<03:36,  1.73s/it]"
     ]
    },
    {
     "name": "stdout",
     "output_type": "stream",
     "text": [
      "Updated vocab size: 375 Updated sequence length: 1410057 New vocab: 'im' Token pair: (63, 67) Compression ratio: 0.93% \n"
     ]
    },
    {
     "name": "stderr",
     "output_type": "stream",
     "text": [
      " 68%|██████▊   | 265/389 [08:28<03:25,  1.66s/it]"
     ]
    },
    {
     "name": "stdout",
     "output_type": "stream",
     "text": [
      "Updated vocab size: 376 Updated sequence length: 1409068 New vocab: ' sa' Token pair: (121, 55) Compression ratio: 0.93% \n"
     ]
    },
    {
     "name": "stderr",
     "output_type": "stream",
     "text": [
      " 68%|██████▊   | 266/389 [08:30<03:33,  1.73s/it]"
     ]
    },
    {
     "name": "stdout",
     "output_type": "stream",
     "text": [
      "Updated vocab size: 377 Updated sequence length: 1408086 New vocab: 'lis' Token pair: (66, 124) Compression ratio: 0.93% \n"
     ]
    },
    {
     "name": "stderr",
     "output_type": "stream",
     "text": [
      " 69%|██████▊   | 267/389 [08:31<03:21,  1.65s/it]"
     ]
    },
    {
     "name": "stdout",
     "output_type": "stream",
     "text": [
      "Updated vocab size: 378 Updated sequence length: 1407105 New vocab: ' tra' Token pair: (154, 150) Compression ratio: 0.94% \n"
     ]
    },
    {
     "name": "stderr",
     "output_type": "stream",
     "text": [
      " 69%|██████▉   | 268/389 [08:33<03:28,  1.72s/it]"
     ]
    },
    {
     "name": "stdout",
     "output_type": "stream",
     "text": [
      "Updated vocab size: 379 Updated sequence length: 1406124 New vocab: 'onn' Token pair: (115, 68) Compression ratio: 0.94% \n"
     ]
    },
    {
     "name": "stderr",
     "output_type": "stream",
     "text": [
      " 69%|██████▉   | 269/389 [08:34<03:17,  1.65s/it]"
     ]
    },
    {
     "name": "stdout",
     "output_type": "stream",
     "text": [
      "Updated vocab size: 380 Updated sequence length: 1405146 New vocab: ' nom' Token pair: (171, 146) Compression ratio: 0.94% \n"
     ]
    },
    {
     "name": "stderr",
     "output_type": "stream",
     "text": [
      " 69%|██████▉   | 270/389 [08:36<03:24,  1.72s/it]"
     ]
    },
    {
     "name": "stdout",
     "output_type": "stream",
     "text": [
      "Updated vocab size: 381 Updated sequence length: 1404175 New vocab: 'fé' Token pair: (60, 94) Compression ratio: 0.94% \n"
     ]
    },
    {
     "name": "stderr",
     "output_type": "stream",
     "text": [
      " 70%|██████▉   | 271/389 [08:38<03:13,  1.64s/it]"
     ]
    },
    {
     "name": "stdout",
     "output_type": "stream",
     "text": [
      "Updated vocab size: 382 Updated sequence length: 1403204 New vocab: 'ris' Token pair: (72, 124) Compression ratio: 0.94% \n"
     ]
    },
    {
     "name": "stderr",
     "output_type": "stream",
     "text": [
      " 70%|██████▉   | 272/389 [08:40<03:20,  1.71s/it]"
     ]
    },
    {
     "name": "stdout",
     "output_type": "stream",
     "text": [
      "Updated vocab size: 383 Updated sequence length: 1402234 New vocab: 'ct' Token pair: (57, 74) Compression ratio: 0.94% \n"
     ]
    },
    {
     "name": "stderr",
     "output_type": "stream",
     "text": [
      " 70%|███████   | 273/389 [08:41<03:17,  1.70s/it]"
     ]
    },
    {
     "name": "stdout",
     "output_type": "stream",
     "text": [
      "Updated vocab size: 384 Updated sequence length: 1401265 New vocab: ' ra' Token pair: (2, 150) Compression ratio: 0.94% \n"
     ]
    },
    {
     "name": "stderr",
     "output_type": "stream",
     "text": [
      " 70%|███████   | 274/389 [08:43<03:07,  1.63s/it]"
     ]
    },
    {
     "name": "stdout",
     "output_type": "stream",
     "text": [
      "Updated vocab size: 385 Updated sequence length: 1400300 New vocab: 'ette' Token pair: (129, 140) Compression ratio: 0.94% \n"
     ]
    },
    {
     "name": "stderr",
     "output_type": "stream",
     "text": [
      " 71%|███████   | 275/389 [08:45<03:15,  1.71s/it]"
     ]
    },
    {
     "name": "stdout",
     "output_type": "stream",
     "text": [
      "Updated vocab size: 386 Updated sequence length: 1399335 New vocab: ')\\n' Token pair: (9, 1) Compression ratio: 0.95% \n"
     ]
    },
    {
     "name": "stderr",
     "output_type": "stream",
     "text": [
      " 71%|███████   | 276/389 [08:46<03:04,  1.64s/it]"
     ]
    },
    {
     "name": "stdout",
     "output_type": "stream",
     "text": [
      "Updated vocab size: 387 Updated sequence length: 1398372 New vocab: 'he' Token pair: (62, 59) Compression ratio: 0.95% \n"
     ]
    },
    {
     "name": "stderr",
     "output_type": "stream",
     "text": [
      " 71%|███████   | 277/389 [08:48<03:11,  1.71s/it]"
     ]
    },
    {
     "name": "stdout",
     "output_type": "stream",
     "text": [
      "Updated vocab size: 388 Updated sequence length: 1397410 New vocab: ' aux' Token pair: (187, 78) Compression ratio: 0.95% \n"
     ]
    },
    {
     "name": "stderr",
     "output_type": "stream",
     "text": [
      " 71%|███████▏  | 278/389 [08:50<03:01,  1.64s/it]"
     ]
    },
    {
     "name": "stdout",
     "output_type": "stream",
     "text": [
      "Updated vocab size: 389 Updated sequence length: 1396458 New vocab: 'lle' Token pair: (66, 131) Compression ratio: 0.95% \n"
     ]
    },
    {
     "name": "stderr",
     "output_type": "stream",
     "text": [
      " 72%|███████▏  | 279/389 [08:51<03:08,  1.71s/it]"
     ]
    },
    {
     "name": "stdout",
     "output_type": "stream",
     "text": [
      "Updated vocab size: 390 Updated sequence length: 1395511 New vocab: 'ing' Token pair: (125, 61) Compression ratio: 0.95% \n"
     ]
    },
    {
     "name": "stderr",
     "output_type": "stream",
     "text": [
      " 72%|███████▏  | 280/389 [08:53<02:57,  1.63s/it]"
     ]
    },
    {
     "name": "stdout",
     "output_type": "stream",
     "text": [
      "Updated vocab size: 391 Updated sequence length: 1394573 New vocab: ' pas' Token pair: (118, 189) Compression ratio: 0.95% \n"
     ]
    },
    {
     "name": "stderr",
     "output_type": "stream",
     "text": [
      " 72%|███████▏  | 281/389 [08:55<03:04,  1.71s/it]"
     ]
    },
    {
     "name": "stdout",
     "output_type": "stream",
     "text": [
      "Updated vocab size: 392 Updated sequence length: 1393635 New vocab: 'mes' Token pair: (67, 112) Compression ratio: 0.95% \n"
     ]
    },
    {
     "name": "stderr",
     "output_type": "stream",
     "text": [
      " 72%|███████▏  | 282/389 [08:56<03:02,  1.70s/it]"
     ]
    },
    {
     "name": "stdout",
     "output_type": "stream",
     "text": [
      "Updated vocab size: 393 Updated sequence length: 1392699 New vocab: 'la' Token pair: (66, 55) Compression ratio: 0.96% \n"
     ]
    },
    {
     "name": "stderr",
     "output_type": "stream",
     "text": [
      " 73%|███████▎  | 283/389 [08:58<02:54,  1.65s/it]"
     ]
    },
    {
     "name": "stdout",
     "output_type": "stream",
     "text": [
      "Updated vocab size: 394 Updated sequence length: 1391769 New vocab: 'Le' Token pair: (38, 59) Compression ratio: 0.96% \n"
     ]
    },
    {
     "name": "stderr",
     "output_type": "stream",
     "text": [
      " 73%|███████▎  | 284/389 [09:00<03:00,  1.72s/it]"
     ]
    },
    {
     "name": "stdout",
     "output_type": "stream",
     "text": [
      "Updated vocab size: 395 Updated sequence length: 1390842 New vocab: 'ranç' Token pair: (220, 92) Compression ratio: 0.96% \n"
     ]
    },
    {
     "name": "stderr",
     "output_type": "stream",
     "text": [
      " 73%|███████▎  | 285/389 [09:01<02:50,  1.64s/it]"
     ]
    },
    {
     "name": "stdout",
     "output_type": "stream",
     "text": [
      "Updated vocab size: 396 Updated sequence length: 1389916 New vocab: 'oir' Token pair: (69, 235) Compression ratio: 0.96% \n"
     ]
    },
    {
     "name": "stderr",
     "output_type": "stream",
     "text": [
      " 74%|███████▎  | 286/389 [09:03<02:56,  1.71s/it]"
     ]
    },
    {
     "name": "stdout",
     "output_type": "stream",
     "text": [
      "Updated vocab size: 397 Updated sequence length: 1389008 New vocab: 'remi' Token pair: (119, 297) Compression ratio: 0.96% \n"
     ]
    },
    {
     "name": "stderr",
     "output_type": "stream",
     "text": [
      " 74%|███████▍  | 287/389 [09:05<02:47,  1.64s/it]"
     ]
    },
    {
     "name": "stdout",
     "output_type": "stream",
     "text": [
      "Updated vocab size: 398 Updated sequence length: 1388107 New vocab: 'iste' Token pair: (124, 140) Compression ratio: 0.96% \n"
     ]
    },
    {
     "name": "stderr",
     "output_type": "stream",
     "text": [
      " 74%|███████▍  | 288/389 [09:07<02:52,  1.71s/it]"
     ]
    },
    {
     "name": "stdout",
     "output_type": "stream",
     "text": [
      "Updated vocab size: 399 Updated sequence length: 1387216 New vocab: ' for' Token pair: (148, 135) Compression ratio: 0.96% \n"
     ]
    },
    {
     "name": "stderr",
     "output_type": "stream",
     "text": [
      " 74%|███████▍  | 289/389 [09:08<02:50,  1.70s/it]"
     ]
    },
    {
     "name": "stdout",
     "output_type": "stream",
     "text": [
      "Updated vocab size: 400 Updated sequence length: 1386338 New vocab: 'iè' Token pair: (63, 93) Compression ratio: 0.96% \n"
     ]
    },
    {
     "name": "stderr",
     "output_type": "stream",
     "text": [
      " 75%|███████▍  | 290/389 [09:10<02:41,  1.63s/it]"
     ]
    },
    {
     "name": "stdout",
     "output_type": "stream",
     "text": [
      "Updated vocab size: 401 Updated sequence length: 1385467 New vocab: ' ét' Token pair: (185, 74) Compression ratio: 0.97% \n"
     ]
    },
    {
     "name": "stderr",
     "output_type": "stream",
     "text": [
      " 75%|███████▍  | 291/389 [09:12<02:47,  1.71s/it]"
     ]
    },
    {
     "name": "stdout",
     "output_type": "stream",
     "text": [
      "Updated vocab size: 402 Updated sequence length: 1384599 New vocab: 'oy' Token pair: (69, 79) Compression ratio: 0.97% \n"
     ]
    },
    {
     "name": "stderr",
     "output_type": "stream",
     "text": [
      " 75%|███████▌  | 292/389 [09:13<02:38,  1.63s/it]"
     ]
    },
    {
     "name": "stdout",
     "output_type": "stream",
     "text": [
      "Updated vocab size: 403 Updated sequence length: 1383731 New vocab: 'av' Token pair: (55, 76) Compression ratio: 0.97% \n"
     ]
    },
    {
     "name": "stderr",
     "output_type": "stream",
     "text": [
      " 75%|███████▌  | 293/389 [09:15<02:44,  1.71s/it]"
     ]
    },
    {
     "name": "stdout",
     "output_type": "stream",
     "text": [
      "Updated vocab size: 404 Updated sequence length: 1382869 New vocab: 'lé' Token pair: (66, 94) Compression ratio: 0.97% \n"
     ]
    },
    {
     "name": "stderr",
     "output_type": "stream",
     "text": [
      " 76%|███████▌  | 294/389 [09:16<02:35,  1.63s/it]"
     ]
    },
    {
     "name": "stdout",
     "output_type": "stream",
     "text": [
      "Updated vocab size: 405 Updated sequence length: 1382010 New vocab: 'Un' Token pair: (47, 68) Compression ratio: 0.97% \n"
     ]
    },
    {
     "name": "stderr",
     "output_type": "stream",
     "text": [
      " 76%|███████▌  | 295/389 [09:18<02:40,  1.71s/it]"
     ]
    },
    {
     "name": "stdout",
     "output_type": "stream",
     "text": [
      "Updated vocab size: 406 Updated sequence length: 1381153 New vocab: 'ins' Token pair: (125, 73) Compression ratio: 0.97% \n"
     ]
    },
    {
     "name": "stderr",
     "output_type": "stream",
     "text": [
      " 76%|███████▌  | 296/389 [09:20<02:38,  1.70s/it]"
     ]
    },
    {
     "name": "stdout",
     "output_type": "stream",
     "text": [
      "Updated vocab size: 407 Updated sequence length: 1380301 New vocab: 'féren' Token pair: (380, 254) Compression ratio: 0.97% \n"
     ]
    },
    {
     "name": "stderr",
     "output_type": "stream",
     "text": [
      " 76%|███████▋  | 297/389 [09:21<02:29,  1.62s/it]"
     ]
    },
    {
     "name": "stdout",
     "output_type": "stream",
     "text": [
      "Updated vocab size: 408 Updated sequence length: 1379452 New vocab: 'oci' Token pair: (69, 198) Compression ratio: 0.97% \n"
     ]
    },
    {
     "name": "stderr",
     "output_type": "stream",
     "text": [
      " 77%|███████▋  | 298/389 [09:23<02:34,  1.70s/it]"
     ]
    },
    {
     "name": "stdout",
     "output_type": "stream",
     "text": [
      "Updated vocab size: 409 Updated sequence length: 1378603 New vocab: 'id' Token pair: (63, 58) Compression ratio: 0.98% \n"
     ]
    },
    {
     "name": "stderr",
     "output_type": "stream",
     "text": [
      " 77%|███████▋  | 299/389 [09:25<02:26,  1.63s/it]"
     ]
    },
    {
     "name": "stdout",
     "output_type": "stream",
     "text": [
      "Updated vocab size: 410 Updated sequence length: 1377760 New vocab: '198' Token pair: (178, 22) Compression ratio: 0.98% \n"
     ]
    },
    {
     "name": "stderr",
     "output_type": "stream",
     "text": [
      " 77%|███████▋  | 300/389 [09:27<02:31,  1.70s/it]"
     ]
    },
    {
     "name": "stdout",
     "output_type": "stream",
     "text": [
      "Updated vocab size: 411 Updated sequence length: 1376920 New vocab: 'ure' Token pair: (75, 119) Compression ratio: 0.98% \n"
     ]
    },
    {
     "name": "stderr",
     "output_type": "stream",
     "text": [
      " 77%|███████▋  | 301/389 [09:28<02:28,  1.69s/it]"
     ]
    },
    {
     "name": "stdout",
     "output_type": "stream",
     "text": [
      "Updated vocab size: 412 Updated sequence length: 1376080 New vocab: 'éc' Token pair: (94, 57) Compression ratio: 0.98% \n"
     ]
    },
    {
     "name": "stderr",
     "output_type": "stream",
     "text": [
      " 78%|███████▊  | 302/389 [09:30<02:22,  1.64s/it]"
     ]
    },
    {
     "name": "stdout",
     "output_type": "stream",
     "text": [
      "Updated vocab size: 413 Updated sequence length: 1375240 New vocab: 'ier' Token pair: (63, 122) Compression ratio: 0.98% \n"
     ]
    },
    {
     "name": "stderr",
     "output_type": "stream",
     "text": [
      " 78%|███████▊  | 303/389 [09:32<02:27,  1.71s/it]"
     ]
    },
    {
     "name": "stdout",
     "output_type": "stream",
     "text": [
      "Updated vocab size: 414 Updated sequence length: 1374402 New vocab: ' été' Token pair: (185, 216) Compression ratio: 0.98% \n"
     ]
    },
    {
     "name": "stderr",
     "output_type": "stream",
     "text": [
      " 78%|███████▊  | 304/389 [09:33<02:18,  1.63s/it]"
     ]
    },
    {
     "name": "stdout",
     "output_type": "stream",
     "text": [
      "Updated vocab size: 415 Updated sequence length: 1373567 New vocab: ' ;' Token pair: (2, 25) Compression ratio: 0.98% \n"
     ]
    },
    {
     "name": "stderr",
     "output_type": "stream",
     "text": [
      " 78%|███████▊  | 305/389 [09:35<02:22,  1.69s/it]"
     ]
    },
    {
     "name": "stdout",
     "output_type": "stream",
     "text": [
      "Updated vocab size: 416 Updated sequence length: 1373100 New vocab: '  ' Token pair: (2, 2) Compression ratio: 0.98% \n"
     ]
    },
    {
     "name": "stderr",
     "output_type": "stream",
     "text": [
      " 79%|███████▊  | 306/389 [09:37<02:20,  1.69s/it]"
     ]
    },
    {
     "name": "stdout",
     "output_type": "stream",
     "text": [
      "Updated vocab size: 417 Updated sequence length: 1372272 New vocab: 'raph' Token pair: (150, 325) Compression ratio: 0.98% \n"
     ]
    },
    {
     "name": "stderr",
     "output_type": "stream",
     "text": [
      " 79%|███████▉  | 307/389 [09:38<02:17,  1.68s/it]"
     ]
    },
    {
     "name": "stdout",
     "output_type": "stream",
     "text": [
      "Updated vocab size: 418 Updated sequence length: 1371446 New vocab: ' Les' Token pair: (153, 112) Compression ratio: 0.99% \n"
     ]
    },
    {
     "name": "stderr",
     "output_type": "stream",
     "text": [
      " 79%|███████▉  | 308/389 [09:40<02:09,  1.60s/it]"
     ]
    },
    {
     "name": "stdout",
     "output_type": "stream",
     "text": [
      "Updated vocab size: 419 Updated sequence length: 1370630 New vocab: 'art' Token pair: (126, 74) Compression ratio: 0.99% \n"
     ]
    },
    {
     "name": "stderr",
     "output_type": "stream",
     "text": [
      " 79%|███████▉  | 309/389 [09:42<02:13,  1.67s/it]"
     ]
    },
    {
     "name": "stdout",
     "output_type": "stream",
     "text": [
      "Updated vocab size: 420 Updated sequence length: 1369816 New vocab: 'rançais' Token pair: (394, 204) Compression ratio: 0.99% \n"
     ]
    },
    {
     "name": "stderr",
     "output_type": "stream",
     "text": [
      " 80%|███████▉  | 310/389 [09:43<02:12,  1.67s/it]"
     ]
    },
    {
     "name": "stdout",
     "output_type": "stream",
     "text": [
      "Updated vocab size: 421 Updated sequence length: 1369021 New vocab: ' -' Token pair: (2, 11) Compression ratio: 0.99% \n"
     ]
    },
    {
     "name": "stderr",
     "output_type": "stream",
     "text": [
      " 80%|███████▉  | 311/389 [09:45<02:05,  1.61s/it]"
     ]
    },
    {
     "name": "stdout",
     "output_type": "stream",
     "text": [
      "Updated vocab size: 422 Updated sequence length: 1368231 New vocab: ' av' Token pair: (128, 76) Compression ratio: 0.99% \n"
     ]
    },
    {
     "name": "stderr",
     "output_type": "stream",
     "text": [
      " 80%|████████  | 312/389 [09:47<02:09,  1.68s/it]"
     ]
    },
    {
     "name": "stdout",
     "output_type": "stream",
     "text": [
      "Updated vocab size: 423 Updated sequence length: 1367443 New vocab: ' premi' Token pair: (118, 396) Compression ratio: 0.99% \n"
     ]
    },
    {
     "name": "stderr",
     "output_type": "stream",
     "text": [
      " 80%|████████  | 313/389 [09:48<02:07,  1.68s/it]"
     ]
    },
    {
     "name": "stdout",
     "output_type": "stream",
     "text": [
      "Updated vocab size: 424 Updated sequence length: 1366656 New vocab: 'tin' Token pair: (120, 68) Compression ratio: 0.99% \n"
     ]
    },
    {
     "name": "stderr",
     "output_type": "stream",
     "text": [
      " 81%|████████  | 314/389 [09:50<02:00,  1.61s/it]"
     ]
    },
    {
     "name": "stdout",
     "output_type": "stream",
     "text": [
      "Updated vocab size: 425 Updated sequence length: 1365870 New vocab: 'eur' Token pair: (59, 138) Compression ratio: 0.99% \n"
     ]
    },
    {
     "name": "stderr",
     "output_type": "stream",
     "text": [
      " 81%|████████  | 315/389 [09:52<02:04,  1.69s/it]"
     ]
    },
    {
     "name": "stdout",
     "output_type": "stream",
     "text": [
      "Updated vocab size: 426 Updated sequence length: 1365087 New vocab: 'ations' Token pair: (193, 73) Compression ratio: 0.99% \n"
     ]
    },
    {
     "name": "stderr",
     "output_type": "stream",
     "text": [
      " 81%|████████  | 316/389 [09:53<01:57,  1.61s/it]"
     ]
    },
    {
     "name": "stdout",
     "output_type": "stream",
     "text": [
      "Updated vocab size: 427 Updated sequence length: 1364316 New vocab: 'ru' Token pair: (72, 75) Compression ratio: 1.00% \n"
     ]
    },
    {
     "name": "stderr",
     "output_type": "stream",
     "text": [
      " 81%|████████▏ | 317/389 [09:55<01:56,  1.62s/it]"
     ]
    },
    {
     "name": "stdout",
     "output_type": "stream",
     "text": [
      "Updated vocab size: 428 Updated sequence length: 1363546 New vocab: ' ce' Token pair: (123, 59) Compression ratio: 1.00% \n"
     ]
    },
    {
     "name": "stderr",
     "output_type": "stream",
     "text": [
      " 82%|████████▏ | 318/389 [09:56<01:59,  1.68s/it]"
     ]
    },
    {
     "name": "stdout",
     "output_type": "stream",
     "text": [
      "Updated vocab size: 429 Updated sequence length: 1362777 New vocab: 'tif' Token pair: (120, 60) Compression ratio: 1.00% \n"
     ]
    },
    {
     "name": "stderr",
     "output_type": "stream",
     "text": [
      " 82%|████████▏ | 319/389 [09:58<01:57,  1.68s/it]"
     ]
    },
    {
     "name": "stdout",
     "output_type": "stream",
     "text": [
      "Updated vocab size: 430 Updated sequence length: 1362010 New vocab: 'ec' Token pair: (59, 57) Compression ratio: 1.00% \n"
     ]
    },
    {
     "name": "stderr",
     "output_type": "stream",
     "text": [
      " 82%|████████▏ | 320/389 [10:00<01:55,  1.67s/it]"
     ]
    },
    {
     "name": "stdout",
     "output_type": "stream",
     "text": [
      "Updated vocab size: 431 Updated sequence length: 1361246 New vocab: ' ac' Token pair: (128, 57) Compression ratio: 1.00% \n"
     ]
    },
    {
     "name": "stderr",
     "output_type": "stream",
     "text": [
      " 83%|████████▎ | 321/389 [10:01<01:49,  1.61s/it]"
     ]
    },
    {
     "name": "stdout",
     "output_type": "stream",
     "text": [
      "Updated vocab size: 432 Updated sequence length: 1360483 New vocab: ' En' Token pair: (238, 68) Compression ratio: 1.00% \n"
     ]
    },
    {
     "name": "stderr",
     "output_type": "stream",
     "text": [
      " 83%|████████▎ | 322/389 [10:03<01:53,  1.69s/it]"
     ]
    },
    {
     "name": "stdout",
     "output_type": "stream",
     "text": [
      "Updated vocab size: 433 Updated sequence length: 1359725 New vocab: ' cont' Token pair: (123, 192) Compression ratio: 1.00% \n"
     ]
    },
    {
     "name": "stderr",
     "output_type": "stream",
     "text": [
      " 83%|████████▎ | 323/389 [10:05<01:51,  1.69s/it]"
     ]
    },
    {
     "name": "stdout",
     "output_type": "stream",
     "text": [
      "Updated vocab size: 434 Updated sequence length: 1358968 New vocab: 'ograph' Token pair: (256, 416) Compression ratio: 1.00% \n"
     ]
    },
    {
     "name": "stderr",
     "output_type": "stream",
     "text": [
      " 83%|████████▎ | 324/389 [10:06<01:44,  1.61s/it]"
     ]
    },
    {
     "name": "stdout",
     "output_type": "stream",
     "text": [
      "Updated vocab size: 435 Updated sequence length: 1358211 New vocab: 'férences' Token pair: (406, 277) Compression ratio: 1.00% \n"
     ]
    },
    {
     "name": "stderr",
     "output_type": "stream",
     "text": [
      " 84%|████████▎ | 325/389 [10:08<01:47,  1.68s/it]"
     ]
    },
    {
     "name": "stdout",
     "output_type": "stream",
     "text": [
      "Updated vocab size: 436 Updated sequence length: 1357459 New vocab: 'oi' Token pair: (69, 63) Compression ratio: 1.01% \n"
     ]
    },
    {
     "name": "stderr",
     "output_type": "stream",
     "text": [
      " 84%|████████▍ | 326/389 [10:10<01:41,  1.61s/it]"
     ]
    },
    {
     "name": "stdout",
     "output_type": "stream",
     "text": [
      "Updated vocab size: 437 Updated sequence length: 1356712 New vocab: ' Par' Token pair: (183, 126) Compression ratio: 1.01% \n"
     ]
    },
    {
     "name": "stderr",
     "output_type": "stream",
     "text": [
      " 84%|████████▍ | 327/389 [10:11<01:43,  1.67s/it]"
     ]
    },
    {
     "name": "stdout",
     "output_type": "stream",
     "text": [
      "Updated vocab size: 438 Updated sequence length: 1355975 New vocab: 'od' Token pair: (69, 58) Compression ratio: 1.01% \n"
     ]
    },
    {
     "name": "stderr",
     "output_type": "stream",
     "text": [
      " 84%|████████▍ | 328/389 [10:13<01:41,  1.67s/it]"
     ]
    },
    {
     "name": "stdout",
     "output_type": "stream",
     "text": [
      "Updated vocab size: 439 Updated sequence length: 1355238 New vocab: 'ées' Token pair: (94, 112) Compression ratio: 1.01% \n"
     ]
    },
    {
     "name": "stderr",
     "output_type": "stream",
     "text": [
      " 85%|████████▍ | 329/389 [10:15<01:40,  1.67s/it]"
     ]
    },
    {
     "name": "stdout",
     "output_type": "stream",
     "text": [
      "Updated vocab size: 440 Updated sequence length: 1354503 New vocab: ' comme' Token pair: (210, 188) Compression ratio: 1.01% \n"
     ]
    },
    {
     "name": "stderr",
     "output_type": "stream",
     "text": [
      " 85%|████████▍ | 330/389 [10:16<01:34,  1.60s/it]"
     ]
    },
    {
     "name": "stdout",
     "output_type": "stream",
     "text": [
      "Updated vocab size: 441 Updated sequence length: 1353768 New vocab: '197' Token pair: (178, 21) Compression ratio: 1.01% \n"
     ]
    },
    {
     "name": "stderr",
     "output_type": "stream",
     "text": [
      " 85%|████████▌ | 331/389 [10:18<01:36,  1.67s/it]"
     ]
    },
    {
     "name": "stdout",
     "output_type": "stream",
     "text": [
      "Updated vocab size: 442 Updated sequence length: 1353039 New vocab: 'ens' Token pair: (114, 73) Compression ratio: 1.01% \n"
     ]
    },
    {
     "name": "stderr",
     "output_type": "stream",
     "text": [
      " 85%|████████▌ | 332/389 [10:20<01:34,  1.66s/it]"
     ]
    },
    {
     "name": "stdout",
     "output_type": "stream",
     "text": [
      "Updated vocab size: 443 Updated sequence length: 1352311 New vocab: \"'une\" Token pair: (287, 59) Compression ratio: 1.01% \n"
     ]
    },
    {
     "name": "stderr",
     "output_type": "stream",
     "text": [
      " 86%|████████▌ | 333/389 [10:21<01:29,  1.60s/it]"
     ]
    },
    {
     "name": "stdout",
     "output_type": "stream",
     "text": [
      "Updated vocab size: 444 Updated sequence length: 1351586 New vocab: 'amp' Token pair: (215, 70) Compression ratio: 1.01% \n"
     ]
    },
    {
     "name": "stderr",
     "output_type": "stream",
     "text": [
      " 86%|████████▌ | 334/389 [10:23<01:32,  1.68s/it]"
     ]
    },
    {
     "name": "stdout",
     "output_type": "stream",
     "text": [
      "Updated vocab size: 445 Updated sequence length: 1350861 New vocab: ' al' Token pair: (128, 66) Compression ratio: 1.02% \n"
     ]
    },
    {
     "name": "stderr",
     "output_type": "stream",
     "text": [
      " 86%|████████▌ | 335/389 [10:25<01:30,  1.68s/it]"
     ]
    },
    {
     "name": "stdout",
     "output_type": "stream",
     "text": [
      "Updated vocab size: 446 Updated sequence length: 1350138 New vocab: ' deux' Token pair: (117, 311) Compression ratio: 1.02% \n"
     ]
    },
    {
     "name": "stderr",
     "output_type": "stream",
     "text": [
      " 86%|████████▋ | 336/389 [10:26<01:24,  1.60s/it]"
     ]
    },
    {
     "name": "stdout",
     "output_type": "stream",
     "text": [
      "Updated vocab size: 447 Updated sequence length: 1349416 New vocab: ' entre' Token pair: (2, 362) Compression ratio: 1.02% \n"
     ]
    },
    {
     "name": "stderr",
     "output_type": "stream",
     "text": [
      " 87%|████████▋ | 337/389 [10:28<01:27,  1.67s/it]"
     ]
    },
    {
     "name": "stdout",
     "output_type": "stream",
     "text": [
      "Updated vocab size: 448 Updated sequence length: 1348697 New vocab: 'ussi' Token pair: (156, 194) Compression ratio: 1.02% \n"
     ]
    },
    {
     "name": "stderr",
     "output_type": "stream",
     "text": [
      " 87%|████████▋ | 338/389 [10:29<01:21,  1.60s/it]"
     ]
    },
    {
     "name": "stdout",
     "output_type": "stream",
     "text": [
      "Updated vocab size: 449 Updated sequence length: 1347978 New vocab: 'olog' Token pair: (180, 256) Compression ratio: 1.02% \n"
     ]
    },
    {
     "name": "stderr",
     "output_type": "stream",
     "text": [
      " 87%|████████▋ | 339/389 [10:31<01:24,  1.68s/it]"
     ]
    },
    {
     "name": "stdout",
     "output_type": "stream",
     "text": [
      "Updated vocab size: 450 Updated sequence length: 1347260 New vocab: ' français' Token pair: (148, 419) Compression ratio: 1.02% \n"
     ]
    },
    {
     "name": "stderr",
     "output_type": "stream",
     "text": [
      " 87%|████████▋ | 340/389 [10:33<01:23,  1.70s/it]"
     ]
    },
    {
     "name": "stdout",
     "output_type": "stream",
     "text": [
      "Updated vocab size: 451 Updated sequence length: 1346543 New vocab: ' commun' Token pair: (342, 136) Compression ratio: 1.02% \n"
     ]
    },
    {
     "name": "stderr",
     "output_type": "stream",
     "text": [
      " 88%|████████▊ | 341/389 [10:34<01:17,  1.62s/it]"
     ]
    },
    {
     "name": "stdout",
     "output_type": "stream",
     "text": [
      "Updated vocab size: 452 Updated sequence length: 1345829 New vocab: 'cip' Token pair: (198, 70) Compression ratio: 1.02% \n"
     ]
    },
    {
     "name": "stderr",
     "output_type": "stream",
     "text": [
      " 88%|████████▊ | 342/389 [10:36<01:19,  1.69s/it]"
     ]
    },
    {
     "name": "stdout",
     "output_type": "stream",
     "text": [
      "Updated vocab size: 453 Updated sequence length: 1345116 New vocab: 'rit' Token pair: (72, 133) Compression ratio: 1.02% \n"
     ]
    },
    {
     "name": "stderr",
     "output_type": "stream",
     "text": [
      " 88%|████████▊ | 343/389 [10:38<01:17,  1.69s/it]"
     ]
    },
    {
     "name": "stdout",
     "output_type": "stream",
     "text": [
      "Updated vocab size: 454 Updated sequence length: 1344407 New vocab: ' am' Token pair: (128, 67) Compression ratio: 1.03% \n"
     ]
    },
    {
     "name": "stderr",
     "output_type": "stream",
     "text": [
      " 88%|████████▊ | 344/389 [10:39<01:12,  1.61s/it]"
     ]
    },
    {
     "name": "stdout",
     "output_type": "stream",
     "text": [
      "Updated vocab size: 455 Updated sequence length: 1343699 New vocab: ' É' Token pair: (2, 87) Compression ratio: 1.03% \n"
     ]
    },
    {
     "name": "stderr",
     "output_type": "stream",
     "text": [
      " 89%|████████▊ | 345/389 [10:41<01:14,  1.69s/it]"
     ]
    },
    {
     "name": "stdout",
     "output_type": "stream",
     "text": [
      "Updated vocab size: 456 Updated sequence length: 1342999 New vocab: ' app' Token pair: (128, 340) Compression ratio: 1.03% \n"
     ]
    },
    {
     "name": "stderr",
     "output_type": "stream",
     "text": [
      " 89%|████████▉ | 346/389 [10:43<01:09,  1.61s/it]"
     ]
    },
    {
     "name": "stdout",
     "output_type": "stream",
     "text": [
      "Updated vocab size: 457 Updated sequence length: 1342301 New vocab: 'La' Token pair: (38, 55) Compression ratio: 1.03% \n"
     ]
    },
    {
     "name": "stderr",
     "output_type": "stream",
     "text": [
      " 89%|████████▉ | 347/389 [10:44<01:10,  1.69s/it]"
     ]
    },
    {
     "name": "stdout",
     "output_type": "stream",
     "text": [
      "Updated vocab size: 458 Updated sequence length: 1341604 New vocab: 'alis' Token pair: (143, 124) Compression ratio: 1.03% \n"
     ]
    },
    {
     "name": "stderr",
     "output_type": "stream",
     "text": [
      " 89%|████████▉ | 348/389 [10:46<01:05,  1.61s/it]"
     ]
    },
    {
     "name": "stdout",
     "output_type": "stream",
     "text": [
      "Updated vocab size: 459 Updated sequence length: 1340908 New vocab: 'all' Token pair: (143, 66) Compression ratio: 1.03% \n"
     ]
    },
    {
     "name": "stderr",
     "output_type": "stream",
     "text": [
      " 90%|████████▉ | 349/389 [10:48<01:07,  1.68s/it]"
     ]
    },
    {
     "name": "stdout",
     "output_type": "stream",
     "text": [
      "Updated vocab size: 460 Updated sequence length: 1340213 New vocab: 'sent' Token pair: (73, 132) Compression ratio: 1.03% \n"
     ]
    },
    {
     "name": "stderr",
     "output_type": "stream",
     "text": [
      " 90%|████████▉ | 350/389 [10:49<01:05,  1.67s/it]"
     ]
    },
    {
     "name": "stdout",
     "output_type": "stream",
     "text": [
      "Updated vocab size: 461 Updated sequence length: 1339519 New vocab: 'tions' Token pair: (145, 73) Compression ratio: 1.03% \n"
     ]
    },
    {
     "name": "stderr",
     "output_type": "stream",
     "text": [
      " 90%|█████████ | 351/389 [10:51<01:00,  1.60s/it]"
     ]
    },
    {
     "name": "stdout",
     "output_type": "stream",
     "text": [
      "Updated vocab size: 462 Updated sequence length: 1338833 New vocab: ' cl' Token pair: (123, 66) Compression ratio: 1.03% \n"
     ]
    },
    {
     "name": "stderr",
     "output_type": "stream",
     "text": [
      " 90%|█████████ | 352/389 [10:53<01:02,  1.68s/it]"
     ]
    },
    {
     "name": "stdout",
     "output_type": "stream",
     "text": [
      "Updated vocab size: 463 Updated sequence length: 1338150 New vocab: ' te' Token pair: (2, 140) Compression ratio: 1.03% \n"
     ]
    },
    {
     "name": "stderr",
     "output_type": "stream",
     "text": [
      " 91%|█████████ | 353/389 [10:54<00:57,  1.61s/it]"
     ]
    },
    {
     "name": "stdout",
     "output_type": "stream",
     "text": [
      "Updated vocab size: 464 Updated sequence length: 1337467 New vocab: 'iens' Token pair: (272, 73) Compression ratio: 1.04% \n"
     ]
    },
    {
     "name": "stderr",
     "output_type": "stream",
     "text": [
      " 91%|█████████ | 354/389 [10:56<00:56,  1.61s/it]"
     ]
    },
    {
     "name": "stdout",
     "output_type": "stream",
     "text": [
      "Updated vocab size: 465 Updated sequence length: 1336785 New vocab: 'ubli' Token pair: (323, 211) Compression ratio: 1.04% \n"
     ]
    },
    {
     "name": "stderr",
     "output_type": "stream",
     "text": [
      " 91%|█████████▏| 355/389 [10:58<00:57,  1.68s/it]"
     ]
    },
    {
     "name": "stdout",
     "output_type": "stream",
     "text": [
      "Updated vocab size: 466 Updated sequence length: 1336105 New vocab: 'tat' Token pair: (74, 181) Compression ratio: 1.04% \n"
     ]
    },
    {
     "name": "stderr",
     "output_type": "stream",
     "text": [
      " 92%|█████████▏| 356/389 [10:59<00:55,  1.67s/it]"
     ]
    },
    {
     "name": "stdout",
     "output_type": "stream",
     "text": [
      "Updated vocab size: 467 Updated sequence length: 1335428 New vocab: 'ence' Token pair: (114, 174) Compression ratio: 1.04% \n"
     ]
    },
    {
     "name": "stderr",
     "output_type": "stream",
     "text": [
      " 92%|█████████▏| 357/389 [11:01<00:53,  1.67s/it]"
     ]
    },
    {
     "name": "stdout",
     "output_type": "stream",
     "text": [
      "Updated vocab size: 468 Updated sequence length: 1334755 New vocab: 'En' Token pair: (31, 68) Compression ratio: 1.04% \n"
     ]
    },
    {
     "name": "stderr",
     "output_type": "stream",
     "text": [
      " 92%|█████████▏| 358/389 [11:02<00:49,  1.59s/it]"
     ]
    },
    {
     "name": "stdout",
     "output_type": "stream",
     "text": [
      "Updated vocab size: 469 Updated sequence length: 1334084 New vocab: ' déc' Token pair: (214, 57) Compression ratio: 1.04% \n"
     ]
    },
    {
     "name": "stderr",
     "output_type": "stream",
     "text": [
      " 92%|█████████▏| 359/389 [11:04<00:50,  1.69s/it]"
     ]
    },
    {
     "name": "stdout",
     "output_type": "stream",
     "text": [
      "Updated vocab size: 470 Updated sequence length: 1333419 New vocab: 'aine' Token pair: (222, 59) Compression ratio: 1.04% \n"
     ]
    },
    {
     "name": "stderr",
     "output_type": "stream",
     "text": [
      " 93%|█████████▎| 360/389 [11:06<00:48,  1.68s/it]"
     ]
    },
    {
     "name": "stdout",
     "output_type": "stream",
     "text": [
      "Updated vocab size: 471 Updated sequence length: 1332756 New vocab: 'ants' Token pair: (169, 73) Compression ratio: 1.04% \n"
     ]
    },
    {
     "name": "stderr",
     "output_type": "stream",
     "text": [
      " 93%|█████████▎| 361/389 [11:07<00:44,  1.60s/it]"
     ]
    },
    {
     "name": "stdout",
     "output_type": "stream",
     "text": [
      "Updated vocab size: 472 Updated sequence length: 1332095 New vocab: 'ém' Token pair: (94, 67) Compression ratio: 1.04% \n"
     ]
    },
    {
     "name": "stderr",
     "output_type": "stream",
     "text": [
      " 93%|█████████▎| 362/389 [11:09<00:45,  1.67s/it]"
     ]
    },
    {
     "name": "stdout",
     "output_type": "stream",
     "text": [
      "Updated vocab size: 473 Updated sequence length: 1331435 New vocab: ' mar' Token pair: (141, 126) Compression ratio: 1.05% \n"
     ]
    },
    {
     "name": "stderr",
     "output_type": "stream",
     "text": [
      " 93%|█████████▎| 363/389 [11:11<00:43,  1.68s/it]"
     ]
    },
    {
     "name": "stdout",
     "output_type": "stream",
     "text": [
      "Updated vocab size: 474 Updated sequence length: 1330777 New vocab: 'ign' Token pair: (229, 68) Compression ratio: 1.05% \n"
     ]
    },
    {
     "name": "stderr",
     "output_type": "stream",
     "text": [
      " 94%|█████████▎| 364/389 [11:12<00:40,  1.61s/it]"
     ]
    },
    {
     "name": "stdout",
     "output_type": "stream",
     "text": [
      "Updated vocab size: 475 Updated sequence length: 1330121 New vocab: 'ang' Token pair: (116, 61) Compression ratio: 1.05% \n"
     ]
    },
    {
     "name": "stderr",
     "output_type": "stream",
     "text": [
      " 94%|█████████▍| 365/389 [11:14<00:38,  1.61s/it]"
     ]
    },
    {
     "name": "stdout",
     "output_type": "stream",
     "text": [
      "Updated vocab size: 476 Updated sequence length: 1329465 New vocab: 'tres' Token pair: (74, 206) Compression ratio: 1.05% \n"
     ]
    },
    {
     "name": "stderr",
     "output_type": "stream",
     "text": [
      " 94%|█████████▍| 366/389 [11:16<00:38,  1.68s/it]"
     ]
    },
    {
     "name": "stdout",
     "output_type": "stream",
     "text": [
      "Updated vocab size: 477 Updated sequence length: 1328809 New vocab: 'alement' Token pair: (244, 168) Compression ratio: 1.05% \n"
     ]
    },
    {
     "name": "stderr",
     "output_type": "stream",
     "text": [
      " 94%|█████████▍| 367/389 [11:17<00:36,  1.67s/it]"
     ]
    },
    {
     "name": "stdout",
     "output_type": "stream",
     "text": [
      "Updated vocab size: 478 Updated sequence length: 1328159 New vocab: 'rin' Token pair: (72, 125) Compression ratio: 1.05% \n"
     ]
    },
    {
     "name": "stderr",
     "output_type": "stream",
     "text": [
      " 95%|█████████▍| 368/389 [11:19<00:35,  1.67s/it]"
     ]
    },
    {
     "name": "stdout",
     "output_type": "stream",
     "text": [
      "Updated vocab size: 479 Updated sequence length: 1327511 New vocab: ' Mar' Token pair: (176, 126) Compression ratio: 1.05% \n"
     ]
    },
    {
     "name": "stderr",
     "output_type": "stream",
     "text": [
      " 95%|█████████▍| 369/389 [11:20<00:31,  1.60s/it]"
     ]
    },
    {
     "name": "stdout",
     "output_type": "stream",
     "text": [
      "Updated vocab size: 480 Updated sequence length: 1326863 New vocab: ' ses' Token pair: (121, 112) Compression ratio: 1.05% \n"
     ]
    },
    {
     "name": "stderr",
     "output_type": "stream",
     "text": [
      " 95%|█████████▌| 370/389 [11:22<00:31,  1.67s/it]"
     ]
    },
    {
     "name": "stdout",
     "output_type": "stream",
     "text": [
      "Updated vocab size: 481 Updated sequence length: 1326215 New vocab: ' ti' Token pair: (2, 120) Compression ratio: 1.05% \n"
     ]
    },
    {
     "name": "stderr",
     "output_type": "stream",
     "text": [
      " 95%|█████████▌| 371/389 [11:24<00:30,  1.68s/it]"
     ]
    },
    {
     "name": "stdout",
     "output_type": "stream",
     "text": [
      "Updated vocab size: 482 Updated sequence length: 1325570 New vocab: 'out' Token pair: (127, 74) Compression ratio: 1.05% \n"
     ]
    },
    {
     "name": "stderr",
     "output_type": "stream",
     "text": [
      " 96%|█████████▌| 372/389 [11:25<00:27,  1.60s/it]"
     ]
    },
    {
     "name": "stdout",
     "output_type": "stream",
     "text": [
      "Updated vocab size: 483 Updated sequence length: 1324927 New vocab: \"'in\" Token pair: (7, 125) Compression ratio: 1.06% \n"
     ]
    },
    {
     "name": "stderr",
     "output_type": "stream",
     "text": [
      " 96%|█████████▌| 373/389 [11:27<00:26,  1.68s/it]"
     ]
    },
    {
     "name": "stdout",
     "output_type": "stream",
     "text": [
      "Updated vocab size: 484 Updated sequence length: 1324286 New vocab: 'sion' Token pair: (194, 115) Compression ratio: 1.06% \n"
     ]
    },
    {
     "name": "stderr",
     "output_type": "stream",
     "text": [
      " 96%|█████████▌| 374/389 [11:29<00:25,  1.69s/it]"
     ]
    },
    {
     "name": "stdout",
     "output_type": "stream",
     "text": [
      "Updated vocab size: 485 Updated sequence length: 1323646 New vocab: \"'ar\" Token pair: (7, 126) Compression ratio: 1.06% \n"
     ]
    },
    {
     "name": "stderr",
     "output_type": "stream",
     "text": [
      " 96%|█████████▋| 375/389 [11:30<00:22,  1.61s/it]"
     ]
    },
    {
     "name": "stdout",
     "output_type": "stream",
     "text": [
      "Updated vocab size: 486 Updated sequence length: 1323008 New vocab: 'éd' Token pair: (94, 58) Compression ratio: 1.06% \n"
     ]
    },
    {
     "name": "stderr",
     "output_type": "stream",
     "text": [
      " 97%|█████████▋| 376/389 [11:32<00:21,  1.69s/it]"
     ]
    },
    {
     "name": "stdout",
     "output_type": "stream",
     "text": [
      "Updated vocab size: 487 Updated sequence length: 1322371 New vocab: 'éric' Token pair: (275, 57) Compression ratio: 1.06% \n"
     ]
    },
    {
     "name": "stderr",
     "output_type": "stream",
     "text": [
      " 97%|█████████▋| 377/389 [11:34<00:19,  1.62s/it]"
     ]
    },
    {
     "name": "stdout",
     "output_type": "stream",
     "text": [
      "Updated vocab size: 488 Updated sequence length: 1321739 New vocab: ' mais' Token pair: (141, 204) Compression ratio: 1.06% \n"
     ]
    },
    {
     "name": "stderr",
     "output_type": "stream",
     "text": [
      " 97%|█████████▋| 378/389 [11:36<00:18,  1.71s/it]"
     ]
    },
    {
     "name": "stdout",
     "output_type": "stream",
     "text": [
      "Updated vocab size: 489 Updated sequence length: 1321108 New vocab: 'ture' Token pair: (257, 119) Compression ratio: 1.06% \n"
     ]
    },
    {
     "name": "stderr",
     "output_type": "stream",
     "text": [
      " 97%|█████████▋| 379/389 [11:37<00:16,  1.62s/it]"
     ]
    },
    {
     "name": "stdout",
     "output_type": "stream",
     "text": [
      "Updated vocab size: 490 Updated sequence length: 1320479 New vocab: 'éné' Token pair: (94, 281) Compression ratio: 1.06% \n"
     ]
    },
    {
     "name": "stderr",
     "output_type": "stream",
     "text": [
      " 98%|█████████▊| 380/389 [11:39<00:15,  1.69s/it]"
     ]
    },
    {
     "name": "stdout",
     "output_type": "stream",
     "text": [
      "Updated vocab size: 491 Updated sequence length: 1319851 New vocab: 'imp' Token pair: (63, 248) Compression ratio: 1.06% \n"
     ]
    },
    {
     "name": "stderr",
     "output_type": "stream",
     "text": [
      " 98%|█████████▊| 381/389 [11:40<00:12,  1.60s/it]"
     ]
    },
    {
     "name": "stdout",
     "output_type": "stream",
     "text": [
      "Updated vocab size: 492 Updated sequence length: 1319227 New vocab: ' An' Token pair: (197, 68) Compression ratio: 1.06% \n"
     ]
    },
    {
     "name": "stderr",
     "output_type": "stream",
     "text": [
      " 98%|█████████▊| 382/389 [11:42<00:11,  1.67s/it]"
     ]
    },
    {
     "name": "stdout",
     "output_type": "stream",
     "text": [
      "Updated vocab size: 493 Updated sequence length: 1318603 New vocab: 'én' Token pair: (94, 68) Compression ratio: 1.07% \n"
     ]
    },
    {
     "name": "stderr",
     "output_type": "stream",
     "text": [
      " 98%|█████████▊| 383/389 [11:44<00:09,  1.66s/it]"
     ]
    },
    {
     "name": "stdout",
     "output_type": "stream",
     "text": [
      "Updated vocab size: 494 Updated sequence length: 1317980 New vocab: 'erm' Token pair: (122, 67) Compression ratio: 1.07% \n"
     ]
    },
    {
     "name": "stderr",
     "output_type": "stream",
     "text": [
      " 99%|█████████▊| 384/389 [11:45<00:07,  1.58s/it]"
     ]
    },
    {
     "name": "stdout",
     "output_type": "stream",
     "text": [
      "Updated vocab size: 495 Updated sequence length: 1317357 New vocab: ' po' Token pair: (118, 69) Compression ratio: 1.07% \n"
     ]
    },
    {
     "name": "stderr",
     "output_type": "stream",
     "text": [
      " 99%|█████████▉| 385/389 [11:47<00:06,  1.65s/it]"
     ]
    },
    {
     "name": "stdout",
     "output_type": "stream",
     "text": [
      "Updated vocab size: 496 Updated sequence length: 1316738 New vocab: 'ours' Token pair: (163, 73) Compression ratio: 1.07% \n"
     ]
    },
    {
     "name": "stderr",
     "output_type": "stream",
     "text": [
      " 99%|█████████▉| 386/389 [11:48<00:04,  1.58s/it]"
     ]
    },
    {
     "name": "stdout",
     "output_type": "stream",
     "text": [
      "Updated vocab size: 497 Updated sequence length: 1316124 New vocab: ' ne' Token pair: (171, 59) Compression ratio: 1.07% \n"
     ]
    },
    {
     "name": "stderr",
     "output_type": "stream",
     "text": [
      " 99%|█████████▉| 387/389 [11:50<00:03,  1.65s/it]"
     ]
    },
    {
     "name": "stdout",
     "output_type": "stream",
     "text": [
      "Updated vocab size: 498 Updated sequence length: 1315520 New vocab: ' peu' Token pair: (118, 267) Compression ratio: 1.07% \n"
     ]
    },
    {
     "name": "stderr",
     "output_type": "stream",
     "text": [
      "100%|█████████▉| 388/389 [11:52<00:01,  1.65s/it]"
     ]
    },
    {
     "name": "stdout",
     "output_type": "stream",
     "text": [
      "Updated vocab size: 499 Updated sequence length: 1314917 New vocab: 'ét' Token pair: (94, 74) Compression ratio: 1.07% \n"
     ]
    },
    {
     "name": "stderr",
     "output_type": "stream",
     "text": [
      "100%|██████████| 389/389 [11:53<00:00,  1.83s/it]\n"
     ]
    },
    {
     "name": "stdout",
     "output_type": "stream",
     "text": [
      "Updated vocab size: 500 Updated sequence length: 1314314 New vocab: 'ass' Token pair: (189, 73) Compression ratio: 1.07% \n",
      "Saving vocab...\n",
      "Encoding...\n"
     ]
    },
    {
     "name": "stderr",
     "output_type": "stream",
     "text": [
      "100%|██████████| 9/9 [00:00<00:00, 1505.73it/s]"
     ]
    },
    {
     "name": "stdout",
     "output_type": "stream",
     "text": [
      "len original text: 40, len bpe text: 20\n",
      "[[28, 115, 64, 163], [144], [141, 115, 207], [10], [210, 168], [184, 55], [154, 55], [243, 163, 68, 200], [0]]\n",
      "Decoding...\n",
      "Bonjour le monde, comment va ta journée<UNK>\n",
      "CPU times: user 11min 53s, sys: 4.02 s, total: 11min 57s\n",
      "Wall time: 11min 57s\n"
     ]
    },
    {
     "name": "stderr",
     "output_type": "stream",
     "text": [
      "\n"
     ]
    }
   ],
   "source": [
    "%%time\n",
    "if tokenizer_name == \"MostCommonRegexTokenizer\":\n",
    "    GPT4_SPLIT_PATTERN = r\"\"\"'(?i:[sdmt]|ll|ve|re)|[^\\r\\n\\p{L}\\p{N}]?+\\p{L}+|\\p{N}{1,3}| ?[^\\s\\p{L}\\p{N}]++[\\r\\n]*|\\s*[\\r\\n]|\\s+(?!\\S)|\\s+\"\"\"\n",
    "    tokenizer = MostCommonRegexTokenizer()\n",
    "    tokenizer.train(\n",
    "        text=train_text, \n",
    "        max_vocab_size=max_vocab_size, \n",
    "        min_freq=min_freq, \n",
    "        max_single_char_vocab_size=max_single_char_vocab_size,\n",
    "        verbose=True, \n",
    "        show_progress=True)\n",
    "    tokenizer.save_vocab(\"MostCommonRegexTokenizer.txt\")\n",
    "\n",
    "    text = \"Bonjour le monde, comment va ta journée?\"\n",
    "    code = tokenizer.encode(text)\n",
    "    print(f\"len original text: {len(text)}, len bpe text: {sum([len(c) for c in code])}\")\n",
    "    print(code)\n",
    "    print(tokenizer.decode(code))"
   ]
  },
  {
   "cell_type": "code",
   "execution_count": 15,
   "id": "b2651fb8",
   "metadata": {
    "execution": {
     "iopub.execute_input": "2024-02-28T10:30:21.403244Z",
     "iopub.status.busy": "2024-02-28T10:30:21.402883Z",
     "iopub.status.idle": "2024-02-28T10:30:21.602262Z",
     "shell.execute_reply": "2024-02-28T10:30:21.601259Z"
    },
    "papermill": {
     "duration": 0.265408,
     "end_time": "2024-02-28T10:30:21.604418",
     "exception": false,
     "start_time": "2024-02-28T10:30:21.339010",
     "status": "completed"
    },
    "tags": []
   },
   "outputs": [],
   "source": [
    "if tokenizer_name == \"MostCommonRegexTokenizer\":\n",
    "    counter = Counter(train_text)\n",
    "    counter.most_common()"
   ]
  },
  {
   "cell_type": "code",
   "execution_count": 16,
   "id": "f0974681",
   "metadata": {
    "execution": {
     "iopub.execute_input": "2024-02-28T10:30:21.730097Z",
     "iopub.status.busy": "2024-02-28T10:30:21.729690Z",
     "iopub.status.idle": "2024-02-28T10:34:54.016301Z",
     "shell.execute_reply": "2024-02-28T10:34:54.014224Z"
    },
    "papermill": {
     "duration": 272.352405,
     "end_time": "2024-02-28T10:34:54.019265",
     "exception": false,
     "start_time": "2024-02-28T10:30:21.666860",
     "status": "completed"
    },
    "tags": []
   },
   "outputs": [
    {
     "name": "stdout",
     "output_type": "stream",
     "text": [
      "Encoding...\n"
     ]
    },
    {
     "name": "stderr",
     "output_type": "stream",
     "text": [
      "100%|██████████| 557149/557149 [04:31<00:00, 2050.43it/s]\n"
     ]
    },
    {
     "name": "stdout",
     "output_type": "stream",
     "text": [
      "key:2        str:' '        count:33220\n",
      "key:117      str:' de'      count:26341\n",
      "key:10       str:','        count:25110\n",
      "key:73       str:'s'        count:18508\n",
      "key:55       str:'a'        count:16118\n",
      "key:59       str:'e'        count:16074\n",
      "key:112      str:'es'       count:14013\n",
      "key:57       str:'c'        count:13260\n",
      "key:63       str:'i'        count:13103\n",
      "key:122      str:'er'       count:12889\n",
      "key:74       str:'t'        count:12607\n",
      "key:69       str:'o'        count:12014\n",
      "key:134      str:' la'      count:11810\n",
      "key:70       str:'p'        count:11781\n",
      "key:12       str:'.'        count:11714\n",
      "key:94       str:'é'        count:11611\n",
      "key:113      str:' l'       count:11416\n",
      "key:66       str:'l'        count:10687\n",
      "key:115      str:'on'       count:10593\n",
      "key:7        str:\"'\"        count:10443\n",
      "key:75       str:'u'        count:10426\n",
      "key:139      str:' et'      count:10232\n",
      "key:121      str:' s'       count:10229\n",
      "key:111      str:' d'       count:10169\n",
      "key:61       str:'g'        count:9843\n",
      "key:116      str:'an'       count:9175\n",
      "key:144      str:' le'      count:9153\n",
      "key:123      str:' c'       count:9011\n",
      "key:118      str:' p'       count:8954\n",
      "key:141      str:' m'       count:8750\n",
      "key:147      str:' en'      count:8463\n",
      "key:67       str:'m'        count:8447\n",
      "key:11       str:'-'        count:8261\n",
      "key:58       str:'d'        count:8143\n",
      "key:68       str:'n'        count:8058\n",
      "key:76       str:'v'        count:8044\n",
      "key:62       str:'h'        count:8036\n",
      "key:119      str:'re'       count:8009\n",
      "key:125      str:'in'       count:7949\n",
      "key:143      str:'al'       count:7942\n",
      "key:1        str:'\\n'       count:7875\n",
      "key:149      str:' à'       count:7813\n",
      "key:120      str:'ti'       count:7585\n",
      "key:114      str:'en'       count:7561\n",
      "key:72       str:'r'        count:7485\n",
      "key:124      str:'is'       count:7336\n",
      "key:56       str:'b'        count:7123\n",
      "key:135      str:'or'       count:6822\n",
      "key:79       str:'y'        count:6798\n",
      "key:148      str:' f'       count:6752\n",
      "key:126      str:'ar'       count:6631\n",
      "key:131      str:'le'       count:6598\n",
      "key:140      str:'te'       count:6534\n",
      "key:128      str:' a'       count:6491\n",
      "key:158      str:' des'     count:6384\n",
      "key:60       str:'f'        count:6192\n",
      "key:160      str:' du'      count:6154\n",
      "key:133      str:'it'       count:5961\n",
      "key:154      str:' t'       count:5954\n",
      "key:164      str:'.\\n\\n'    count:5834\n",
      "key:165      str:' ('       count:5826\n",
      "key:166      str:' S'       count:5776\n",
      "key:132      str:'ent'      count:5738\n",
      "key:170      str:'ie'       count:5688\n",
      "key:127      str:'ou'       count:5453\n",
      "key:151      str:'el'       count:5333\n",
      "key:152      str:'ri'       count:5286\n",
      "key:177      str:' :'       count:5220\n",
      "key:142      str:'il'       count:5089\n",
      "key:168      str:'ment'     count:5069\n",
      "key:169      str:'ant'      count:5034\n",
      "key:138      str:'ur'       count:4997\n",
      "key:150      str:'ra'       count:4996\n",
      "key:182      str:' les'     count:4930\n",
      "key:184      str:' v'       count:4860\n",
      "key:186      str:'ne'       count:4792\n",
      "key:162      str:' C'       count:4726\n",
      "key:15       str:'1'        count:4726\n",
      "key:176      str:' M'       count:4649\n",
      "key:190      str:' est'     count:4543\n",
      "key:156      str:'us'       count:4512\n",
      "key:65       str:'k'        count:4487\n",
      "key:191      str:' \\n'      count:4352\n",
      "key:181      str:'at'       count:4313\n",
      "key:180      str:'ol'       count:4285\n",
      "key:172      str:'ch'       count:4245\n",
      "key:183      str:' P'       count:4177\n",
      "key:175      str:' par'     count:4161\n",
      "key:195      str:' b'       count:4096\n",
      "key:146      str:'om'       count:4076\n",
      "key:196      str:' B'       count:4062\n",
      "key:188      str:'me'       count:4033\n",
      "key:171      str:' n'       count:3986\n",
      "key:199      str:'se'       count:3948\n",
      "key:200      str:'ée'       count:3898\n",
      "key:179      str:'au'       count:3885\n",
      "key:14       str:'0'        count:3865\n",
      "key:187      str:' au'      count:3814\n",
      "key:155      str:' un'      count:3680\n",
      "key:16       str:'2'        count:3646\n",
      "key:205      str:' g'       count:3642\n",
      "key:174      str:'ce'       count:3619\n",
      "key:207      str:'de'       count:3603\n",
      "key:167      str:'ro'       count:3587\n",
      "key:9        str:')'        count:3557\n",
      "key:193      str:'ation'    count:3513\n",
      "key:212      str:' dans'    count:3443\n",
      "key:213      str:' D'       count:3411\n",
      "key:197      str:' A'       count:3407\n",
      "key:137      str:'\\n\\n'     count:3369\n",
      "key:129      str:'et'       count:3321\n",
      "key:153      str:' L'       count:3253\n",
      "key:78       str:'x'        count:3233\n",
      "key:189      str:'as'       count:3223\n",
      "key:217      str:' re'      count:3152\n",
      "key:185      str:' é'       count:3141\n",
      "key:218      str:' T'       count:3124\n",
      "key:93       str:'è'        count:3089\n",
      "key:219      str:' une'     count:3087\n",
      "key:221      str:' R'       count:2981\n",
      "key:206      str:'res'      count:2965\n",
      "key:19       str:'5'        count:2941\n",
      "key:17       str:'3'        count:2908\n",
      "key:223      str:' ré'      count:2891\n",
      "key:18       str:'4'        count:2874\n",
      "key:224      str:' con'     count:2849\n",
      "key:20       str:'6'        count:2825\n",
      "key:225      str:'di'       count:2815\n",
      "key:226      str:' F'       count:2780\n",
      "key:80       str:'z'        count:2777\n",
      "key:211      str:'li'       count:2771\n",
      "key:194      str:'si'       count:2751\n",
      "key:214      str:' dé'      count:2735\n",
      "key:227      str:' G'       count:2694\n",
      "key:228      str:'ers'      count:2693\n",
      "key:215      str:'am'       count:2661\n",
      "key:0        str:'<UNK>'    count:2657\n",
      "key:163      str:'our'      count:2643\n",
      "key:230      str:' pour'    count:2588\n",
      "key:157      str:'ré'       count:2548\n",
      "key:231      str:'ot'       count:2544\n",
      "key:233      str:' se'      count:2511\n",
      "key:234      str:'ist'      count:2502\n",
      "key:145      str:'tion'     count:2466\n",
      "key:198      str:'ci'       count:2466\n",
      "key:236      str:' in'      count:2458\n",
      "key:237      str:'os'       count:2443\n",
      "key:192      str:'ont'      count:2439\n",
      "key:130      str:'qu'       count:2427\n",
      "key:239      str:' ch'      count:2420\n",
      "key:27       str:'A'        count:2368\n",
      "key:204      str:'ais'      count:2356\n",
      "key:178      str:'19'       count:2356\n",
      "key:21       str:'7'        count:2350\n",
      "key:29       str:'C'        count:2350\n",
      "key:242      str:' J'       count:2345\n",
      "key:243      str:' j'       count:2343\n",
      "key:216      str:'té'       count:2324\n",
      "key:64       str:'j'        count:2291\n",
      "key:245      str:'les'      count:2286\n",
      "key:222      str:'ain'      count:2251\n",
      "key:208      str:'ag'       count:2245\n",
      "key:246      str:'ab'       count:2230\n",
      "key:247      str:'ac'       count:2216\n",
      "key:202      str:'ve'       count:2170\n",
      "key:249      str:'elle'     count:2159\n",
      "key:250      str:' pro'     count:2155\n",
      "key:251      str:' H'       count:2150\n",
      "key:252      str:' sur'     count:2149\n",
      "key:136      str:'un'       count:2145\n",
      "key:253      str:'ul'       count:2107\n",
      "key:220      str:'ran'      count:2104\n",
      "key:38       str:'L'        count:2103\n",
      "key:255      str:'ité'      count:2079\n",
      "key:77       str:'w'        count:2076\n",
      "key:22       str:'8'        count:2064\n",
      "key:23       str:'9'        count:2021\n",
      "key:258      str:'op'       count:2009\n",
      "key:173      str:'ans'      count:2007\n",
      "key:259      str:'ter'      count:2002\n",
      "key:260      str:'ic'       count:1987\n",
      "key:229      str:'ig'       count:1976\n",
      "key:261      str:'ère'      count:1975\n",
      "key:35       str:'I'        count:1958\n",
      "key:262      str:' N'       count:1954\n",
      "key:263      str:'ait'      count:1941\n",
      "key:45       str:'S'        count:1939\n",
      "key:264      str:'.\\n'      count:1938\n",
      "key:265      str:'iv'       count:1934\n",
      "key:203      str:' qu'      count:1906\n",
      "key:266      str:' qui'     count:1901\n",
      "key:110      str:'’'        count:1893\n",
      "key:268      str:'ion'      count:1874\n",
      "key:269      str:'ff'       count:1873\n",
      "key:159      str:'que'      count:1833\n",
      "key:42       str:'P'        count:1823\n",
      "key:270      str:' h'       count:1818\n",
      "key:271      str:'ouv'      count:1817\n",
      "key:273      str:' \\n\\n'    count:1798\n",
      "key:30       str:'D'        count:1789\n",
      "key:276      str:'ue'       count:1787\n",
      "key:278      str:' o'       count:1774\n",
      "key:279      str:'tre'      count:1759\n",
      "key:280      str:'pe'       count:1749\n",
      "key:95       str:'ê'        count:1728\n",
      "key:282      str:' Le'      count:1717\n",
      "key:283      str:'201'      count:1713\n",
      "key:285      str:'ique'     count:1692\n",
      "key:286      str:'and'      count:1681\n",
      "key:288      str:'ille'     count:1669\n",
      "key:238      str:' E'       count:1665\n",
      "key:289      str:' il'      count:1648\n",
      "key:290      str:'ap'       count:1643\n",
      "key:244      str:'ale'      count:1635\n",
      "key:292      str:'aire'     count:1625\n",
      "key:293      str:' K'       count:1620\n",
      "key:40       str:'N'        count:1607\n",
      "key:294      str:'200'      count:1599\n",
      "key:298      str:'ge'       count:1598\n",
      "key:295      str:' V'       count:1593\n",
      "key:296      str:'urs'      count:1585\n",
      "key:248      str:'mp'       count:1575\n",
      "key:299      str:' que'     count:1572\n",
      "key:301      str:'ort'      count:1566\n",
      "key:302      str:'ction'    count:1564\n",
      "key:300      str:'ai'       count:1563\n",
      "key:303      str:' ex'      count:1555\n",
      "key:161      str:'est'      count:1554\n",
      "key:304      str:' avec'    count:1546\n",
      "key:235      str:'ir'       count:1545\n",
      "key:306      str:'ques'     count:1513\n",
      "key:305      str:' r'       count:1509\n",
      "key:307      str:'és'       count:1495\n",
      "key:308      str:'ite'      count:1488\n",
      "key:309      str:' su'      count:1480\n",
      "key:310      str:' plus'    count:1468\n",
      "key:312      str:' an'      count:1436\n",
      "key:313      str:'ine'      count:1409\n",
      "key:257      str:'tu'       count:1403\n",
      "key:314      str:'),'       count:1403\n",
      "key:315      str:'ois'      count:1365\n",
      "key:316      str:' son'     count:1364\n",
      "key:317      str:'vi'       count:1361\n",
      "key:318      str:'mb'       count:1357\n",
      "key:319      str:\"'é\"       count:1353\n",
      "key:320      str:'ut'       count:1349\n",
      "key:321      str:'age'      count:1345\n",
      "key:322      str:' Ch'      count:1343\n",
      "key:324      str:'ad'       count:1331\n",
      "key:326      str:'st'       count:1306\n",
      "key:327      str:'ill'      count:1277\n",
      "key:267      str:'eu'       count:1275\n",
      "key:328      str:'ay'       count:1273\n",
      "key:232      str:' I'       count:1271\n",
      "key:329      str:'nes'      count:1270\n",
      "key:330      str:'18'       count:1268\n",
      "key:331      str:' ||'      count:1262\n",
      "key:332      str:'du'       count:1258\n",
      "key:333      str:'che'      count:1254\n",
      "key:334      str:' Il'      count:1249\n",
      "key:335      str:' La'      count:1249\n",
      "key:32       str:'F'        count:1240\n",
      "key:336      str:' ou'      count:1236\n",
      "key:337      str:' «'       count:1234\n",
      "key:44       str:'R'        count:1233\n",
      "key:254      str:'ren'      count:1232\n",
      "key:338      str:'199'      count:1214\n",
      "key:339      str:'aux'      count:1210\n",
      "key:39       str:'M'        count:1207\n",
      "key:341      str:'oc'       count:1199\n",
      "key:31       str:'E'        count:1192\n",
      "key:343      str:'ard'      count:1188\n",
      "key:344      str:' parti'   count:1186\n",
      "key:345      str:'ous'      count:1173\n",
      "key:347      str:'ib'       count:1162\n",
      "key:275      str:'éri'      count:1159\n",
      "key:348      str:'ance'     count:1151\n",
      "key:349      str:' W'       count:1147\n",
      "key:350      str:' pré'     count:1141\n",
      "key:351      str:'rès'      count:1139\n",
      "key:352      str:' sont'    count:1138\n",
      "key:353      str:' ar'      count:1134\n",
      "key:354      str:'tique'    count:1125\n",
      "key:346      str:' ,'       count:1125\n",
      "key:272      str:'ien'      count:1123\n",
      "key:81       str:'|'        count:1120\n",
      "key:355      str:' »'       count:1119\n",
      "key:356      str:\"'A\"       count:1118\n",
      "key:28       str:'B'        count:1110\n",
      "key:357      str:'ond'      count:1104\n",
      "key:358      str:'um'       count:1098\n",
      "key:281      str:'né'       count:1097\n",
      "key:359      str:'oire'     count:1090\n",
      "key:4        str:'\"'        count:1088\n",
      "key:361      str:'ons'      count:1087\n",
      "key:360      str:' di'      count:1087\n",
      "key:363      str:'ors'      count:1078\n",
      "key:41       str:'O'        count:1073\n",
      "key:364      str:'teur'     count:1065\n",
      "key:365      str:' comp'    count:1061\n",
      "key:366      str:'rou'      count:1053\n",
      "key:367      str:'ert'      count:1037\n",
      "key:368      str:'uis'      count:1035\n",
      "key:369      str:'ob'       count:1034\n",
      "key:370      str:'ord'      count:1028\n",
      "key:371      str:'end'      count:1021\n",
      "key:277      str:'ces'      count:1020\n",
      "key:372      str:' O'       count:1017\n",
      "key:46       str:'T'        count:1015\n",
      "key:373      str:'ui'       count:1007\n",
      "key:48       str:'V'        count:1003\n",
      "key:374      str:'im'       count:992\n",
      "key:375      str:' sa'      count:989\n",
      "key:376      str:'lis'      count:982\n",
      "key:377      str:' tra'     count:981\n",
      "key:378      str:'onn'      count:981\n",
      "key:379      str:' nom'     count:978\n",
      "key:101      str:'ô'        count:972\n",
      "key:381      str:'ris'      count:971\n",
      "key:382      str:'ct'       count:970\n",
      "key:383      str:' ra'      count:969\n",
      "key:384      str:'ette'     count:965\n",
      "key:385      str:')\\n'      count:965\n",
      "key:387      str:' aux'     count:962\n",
      "key:386      str:'he'       count:961\n",
      "key:388      str:'lle'      count:952\n",
      "key:287      str:\"'un\"      count:951\n",
      "key:389      str:'ing'      count:947\n",
      "key:390      str:' pas'     count:938\n",
      "key:391      str:'mes'      count:938\n",
      "key:392      str:'la'       count:936\n",
      "key:393      str:'Le'       count:930\n",
      "key:395      str:'oir'      count:926\n",
      "key:241      str:' pl'      count:923\n",
      "key:397      str:'iste'     count:901\n",
      "key:398      str:' for'     count:891\n",
      "key:399      str:'iè'       count:878\n",
      "key:400      str:' ét'      count:871\n",
      "key:401      str:'oy'       count:868\n",
      "key:402      str:'av'       count:868\n",
      "key:403      str:'lé'       count:862\n",
      "key:47       str:'U'        count:861\n",
      "key:404      str:'Un'       count:859\n",
      "key:405      str:'ins'      count:857\n",
      "key:408      str:'id'       count:850\n",
      "key:407      str:'oci'      count:849\n",
      "key:409      str:'198'      count:843\n",
      "key:34       str:'H'        count:842\n",
      "key:411      str:'éc'       count:841\n",
      "key:410      str:'ure'      count:840\n",
      "key:412      str:'ier'      count:839\n",
      "key:413      str:' été'     count:838\n",
      "key:240      str:' e'       count:835\n",
      "key:414      str:' ;'       count:835\n",
      "key:417      str:' Les'     count:826\n",
      "key:91       str:'â'        count:820\n",
      "key:418      str:'art'      count:816\n",
      "key:420      str:' -'       count:794\n",
      "key:209      str:'ire'      count:792\n",
      "key:421      str:' av'      count:790\n",
      "key:422      str:' premi'   count:788\n",
      "key:424      str:'eur'      count:786\n",
      "key:423      str:'tin'      count:786\n",
      "key:33       str:'G'        count:783\n",
      "key:425      str:'ations'   count:783\n",
      "key:426      str:'ru'       count:771\n",
      "key:427      str:' ce'      count:770\n",
      "key:428      str:'tif'      count:769\n",
      "key:429      str:'ec'       count:767\n",
      "key:430      str:' ac'      count:764\n",
      "key:431      str:' En'      count:763\n",
      "key:432      str:' cont'    count:758\n",
      "key:433      str:'ograph'   count:757\n",
      "key:434      str:'férences' count:757\n",
      "key:87       str:'É'        count:757\n",
      "key:435      str:'oi'       count:752\n",
      "key:436      str:' Par'     count:747\n",
      "key:311      str:'ux'       count:740\n",
      "key:438      str:'ées'      count:737\n",
      "key:437      str:'od'       count:736\n",
      "key:439      str:' comme'   count:735\n",
      "key:440      str:'197'      count:735\n",
      "key:441      str:'ens'      count:729\n",
      "key:442      str:\"'une\"     count:728\n",
      "key:443      str:'amp'      count:725\n",
      "key:444      str:' al'      count:725\n",
      "key:445      str:' deux'    count:723\n",
      "key:446      str:' entre'   count:722\n",
      "key:447      str:'ussi'     count:719\n",
      "key:448      str:'olog'     count:719\n",
      "key:449      str:' français' count:718\n",
      "key:450      str:' commun'  count:717\n",
      "key:451      str:'cip'      count:714\n",
      "key:452      str:'rit'      count:713\n",
      "key:453      str:' am'      count:709\n",
      "key:454      str:' É'       count:708\n",
      "key:455      str:' app'     count:700\n",
      "key:456      str:'La'       count:698\n",
      "key:457      str:'alis'     count:697\n",
      "key:458      str:'all'      count:696\n",
      "key:459      str:'sent'     count:695\n",
      "key:460      str:'tions'    count:694\n",
      "key:461      str:' cl'      count:686\n",
      "key:462      str:' te'      count:683\n",
      "key:463      str:'iens'     count:683\n",
      "key:464      str:'ubli'     count:682\n",
      "key:465      str:'tat'      count:680\n",
      "key:466      str:'ence'     count:677\n",
      "key:467      str:'En'       count:673\n",
      "key:468      str:' déc'     count:671\n",
      "key:469      str:'aine'     count:665\n",
      "key:297      str:'mi'       count:665\n",
      "key:470      str:'ants'     count:663\n",
      "key:471      str:'ém'       count:661\n",
      "key:36       str:'J'        count:661\n",
      "key:323      str:'ub'       count:660\n",
      "key:472      str:' mar'     count:660\n",
      "key:473      str:'ign'      count:658\n",
      "key:274      str:'ès'       count:657\n",
      "key:474      str:'ang'      count:656\n",
      "key:475      str:'tres'     count:656\n",
      "key:476      str:'alement'  count:656\n",
      "key:477      str:'rin'      count:651\n",
      "key:50       str:'X'        count:650\n",
      "key:478      str:' Mar'     count:648\n",
      "key:479      str:' ses'     count:648\n",
      "key:480      str:' ti'      count:648\n",
      "key:481      str:'out'      count:645\n",
      "key:482      str:\"'in\"      count:643\n",
      "key:483      str:'sion'     count:641\n",
      "key:484      str:\"'ar\"      count:640\n",
      "key:485      str:'éd'       count:638\n",
      "key:486      str:'éric'     count:637\n",
      "key:487      str:' mais'    count:632\n",
      "key:488      str:'ture'     count:631\n",
      "key:489      str:'éné'      count:629\n",
      "key:490      str:'imp'      count:628\n",
      "key:491      str:' An'      count:624\n",
      "key:492      str:'én'       count:624\n",
      "key:493      str:'erm'      count:623\n",
      "key:494      str:' po'      count:623\n",
      "key:495      str:'ours'     count:619\n",
      "key:496      str:' ne'      count:614\n",
      "key:98       str:'î'        count:611\n",
      "key:497      str:' peu'     count:604\n",
      "key:498      str:'ét'       count:603\n",
      "key:499      str:'ass'      count:603\n",
      "key:256      str:'og'       count:580\n",
      "key:24       str:':'        count:568\n",
      "key:201      str:'20'       count:568\n",
      "key:51       str:'Y'        count:523\n",
      "key:13       str:'/'        count:511\n",
      "key:340      str:'pp'       count:509\n",
      "key:325      str:'ph'       count:494\n",
      "key:89       str:'à'        count:479\n",
      "key:342      str:' comm'    count:472\n",
      "key:210      str:' com'     count:471\n",
      "key:43       str:'Q'        count:465\n",
      "key:92       str:'ç'        count:453\n",
      "key:82       str:'\\xa0'     count:437\n",
      "key:52       str:'Z'        count:408\n",
      "key:26       str:'='        count:398\n",
      "key:99       str:'ï'        count:394\n",
      "key:5        str:'%'        count:390\n",
      "key:291      str:'||'       count:374\n",
      "key:362      str:'entre'    count:359\n",
      "key:108      str:'–'        count:350\n",
      "key:103      str:'ù'        count:336\n",
      "key:107      str:'œ'        count:321\n",
      "key:415      str:'  '       count:317\n",
      "key:86       str:'À'        count:315\n",
      "key:37       str:'K'        count:251\n",
      "key:104      str:'û'        count:245\n",
      "key:106      str:'ō'        count:221\n",
      "key:90       str:'á'        count:220\n",
      "key:85       str:'»'        count:212\n",
      "key:109      str:'—'        count:210\n",
      "key:84       str:'°'        count:203\n",
      "key:6        str:'&'        count:202\n",
      "key:105      str:'ü'        count:197\n",
      "key:71       str:'q'        count:187\n",
      "key:25       str:';'        count:170\n",
      "key:49       str:'W'        count:166\n",
      "key:100      str:'ó'        count:159\n",
      "key:284      str:'vec'      count:148\n",
      "key:88       str:'Î'        count:132\n",
      "key:54       str:']'        count:128\n",
      "key:53       str:'['        count:127\n",
      "key:96       str:'ë'        count:124\n",
      "key:396      str:'remi'     count:120\n",
      "key:380      str:'fé'       count:119\n",
      "key:3        str:'!'        count:116\n",
      "key:97       str:'í'        count:114\n",
      "key:394      str:'ranç'     count:113\n",
      "key:83       str:'«'        count:105\n",
      "key:102      str:'ö'        count:101\n",
      "key:8        str:'('        count:96\n",
      "key:419      str:'rançais'  count:96\n",
      "key:406      str:'féren'    count:95\n",
      "key:416      str:'raph'     count:71\n"
     ]
    }
   ],
   "source": [
    "if tokenizer_name == \"MostCommonRegexTokenizer\":\n",
    "    tokenized_text = tokenizer.encode(train_text)\n",
    "    flat_tokenized_text = [item for sublist in tokenized_text for item in sublist]  # flatten code\n",
    "    counter = Counter(flat_tokenized_text)\n",
    "    print('\\n'.join(f'key:{key:<8} str:{repr(tokenizer.int_to_text[key]):<10} count:{value}' for key, value in counter.most_common()))"
   ]
  },
  {
   "cell_type": "code",
   "execution_count": null,
   "id": "847fb51f",
   "metadata": {
    "papermill": {
     "duration": 0.228666,
     "end_time": "2024-02-28T10:34:54.478823",
     "exception": false,
     "start_time": "2024-02-28T10:34:54.250157",
     "status": "completed"
    },
    "tags": []
   },
   "outputs": [],
   "source": []
  },
  {
   "cell_type": "code",
   "execution_count": null,
   "id": "4794ed18",
   "metadata": {
    "papermill": {
     "duration": 0.226971,
     "end_time": "2024-02-28T10:34:54.934026",
     "exception": false,
     "start_time": "2024-02-28T10:34:54.707055",
     "status": "completed"
    },
    "tags": []
   },
   "outputs": [],
   "source": []
  },
  {
   "cell_type": "code",
   "execution_count": null,
   "id": "0c2de64f",
   "metadata": {
    "papermill": {
     "duration": 0.228224,
     "end_time": "2024-02-28T10:34:55.390059",
     "exception": false,
     "start_time": "2024-02-28T10:34:55.161835",
     "status": "completed"
    },
    "tags": []
   },
   "outputs": [],
   "source": []
  },
  {
   "cell_type": "code",
   "execution_count": null,
   "id": "21062137",
   "metadata": {
    "papermill": {
     "duration": 0.228263,
     "end_time": "2024-02-28T10:34:55.846627",
     "exception": false,
     "start_time": "2024-02-28T10:34:55.618364",
     "status": "completed"
    },
    "tags": []
   },
   "outputs": [],
   "source": []
  },
  {
   "cell_type": "code",
   "execution_count": null,
   "id": "7807c42c",
   "metadata": {
    "papermill": {
     "duration": 0.227724,
     "end_time": "2024-02-28T10:34:56.301219",
     "exception": false,
     "start_time": "2024-02-28T10:34:56.073495",
     "status": "completed"
    },
    "tags": []
   },
   "outputs": [],
   "source": []
  },
  {
   "cell_type": "code",
   "execution_count": null,
   "id": "ce45ac08",
   "metadata": {
    "papermill": {
     "duration": 0.227929,
     "end_time": "2024-02-28T10:34:56.821946",
     "exception": false,
     "start_time": "2024-02-28T10:34:56.594017",
     "status": "completed"
    },
    "tags": []
   },
   "outputs": [],
   "source": []
  },
  {
   "cell_type": "code",
   "execution_count": null,
   "id": "9fe78ed7",
   "metadata": {
    "papermill": {
     "duration": 0.227231,
     "end_time": "2024-02-28T10:34:57.276326",
     "exception": false,
     "start_time": "2024-02-28T10:34:57.049095",
     "status": "completed"
    },
    "tags": []
   },
   "outputs": [],
   "source": []
  },
  {
   "cell_type": "code",
   "execution_count": null,
   "id": "ca5d5aad",
   "metadata": {
    "papermill": {
     "duration": 0.228876,
     "end_time": "2024-02-28T10:34:57.734176",
     "exception": false,
     "start_time": "2024-02-28T10:34:57.505300",
     "status": "completed"
    },
    "tags": []
   },
   "outputs": [],
   "source": []
  },
  {
   "cell_type": "code",
   "execution_count": null,
   "id": "0aa41a91",
   "metadata": {
    "papermill": {
     "duration": 0.229397,
     "end_time": "2024-02-28T10:34:58.190157",
     "exception": false,
     "start_time": "2024-02-28T10:34:57.960760",
     "status": "completed"
    },
    "tags": []
   },
   "outputs": [],
   "source": []
  }
 ],
 "metadata": {
  "kaggle": {
   "accelerator": "none",
   "dataSources": [
    {
     "datasetId": 3521629,
     "sourceId": 6146260,
     "sourceType": "datasetVersion"
    }
   ],
   "dockerImageVersionId": 30664,
   "isGpuEnabled": false,
   "isInternetEnabled": true,
   "language": "python",
   "sourceType": "notebook"
  },
  "kernelspec": {
   "display_name": "Python 3",
   "language": "python",
   "name": "python3"
  },
  "language_info": {
   "codemirror_mode": {
    "name": "ipython",
    "version": 3
   },
   "file_extension": ".py",
   "mimetype": "text/x-python",
   "name": "python",
   "nbconvert_exporter": "python",
   "pygments_lexer": "ipython3",
   "version": "3.10.13"
  },
  "papermill": {
   "default_parameters": {},
   "duration": 1177.469767,
   "end_time": "2024-02-28T10:34:59.446302",
   "environment_variables": {},
   "exception": null,
   "input_path": "__notebook__.ipynb",
   "output_path": "__notebook__.ipynb",
   "parameters": {},
   "start_time": "2024-02-28T10:15:21.976535",
   "version": "2.5.0"
  },
  "widgets": {
   "application/vnd.jupyter.widget-state+json": {
    "state": {
     "00118e6ad10847879177574848e9775b": {
      "model_module": "@jupyter-widgets/controls",
      "model_module_version": "1.5.0",
      "model_name": "DescriptionStyleModel",
      "state": {
       "_model_module": "@jupyter-widgets/controls",
       "_model_module_version": "1.5.0",
       "_model_name": "DescriptionStyleModel",
       "_view_count": null,
       "_view_module": "@jupyter-widgets/base",
       "_view_module_version": "1.2.0",
       "_view_name": "StyleView",
       "description_width": ""
      }
     },
     "001aab423e454880984fe3206ee523fa": {
      "model_module": "@jupyter-widgets/base",
      "model_module_version": "1.2.0",
      "model_name": "LayoutModel",
      "state": {
       "_model_module": "@jupyter-widgets/base",
       "_model_module_version": "1.2.0",
       "_model_name": "LayoutModel",
       "_view_count": null,
       "_view_module": "@jupyter-widgets/base",
       "_view_module_version": "1.2.0",
       "_view_name": "LayoutView",
       "align_content": null,
       "align_items": null,
       "align_self": null,
       "border": null,
       "bottom": null,
       "display": null,
       "flex": null,
       "flex_flow": null,
       "grid_area": null,
       "grid_auto_columns": null,
       "grid_auto_flow": null,
       "grid_auto_rows": null,
       "grid_column": null,
       "grid_gap": null,
       "grid_row": null,
       "grid_template_areas": null,
       "grid_template_columns": null,
       "grid_template_rows": null,
       "height": null,
       "justify_content": null,
       "justify_items": null,
       "left": null,
       "margin": null,
       "max_height": null,
       "max_width": null,
       "min_height": null,
       "min_width": null,
       "object_fit": null,
       "object_position": null,
       "order": null,
       "overflow": null,
       "overflow_x": null,
       "overflow_y": null,
       "padding": null,
       "right": null,
       "top": null,
       "visibility": null,
       "width": null
      }
     },
     "0157e2b1e9d94738a3e9cffbcae4fddf": {
      "model_module": "@jupyter-widgets/controls",
      "model_module_version": "1.5.0",
      "model_name": "FloatProgressModel",
      "state": {
       "_dom_classes": [],
       "_model_module": "@jupyter-widgets/controls",
       "_model_module_version": "1.5.0",
       "_model_name": "FloatProgressModel",
       "_view_count": null,
       "_view_module": "@jupyter-widgets/controls",
       "_view_module_version": "1.5.0",
       "_view_name": "ProgressView",
       "bar_style": "success",
       "description": "",
       "description_tooltip": null,
       "layout": "IPY_MODEL_8643517a113f4273bd728091211d5acd",
       "max": 216022856.0,
       "min": 0.0,
       "orientation": "horizontal",
       "style": "IPY_MODEL_e091a6c0792141ce85d06e88e9803eba",
       "value": 216022856.0
      }
     },
     "016756d359324318b5af877eff0a1d8b": {
      "model_module": "@jupyter-widgets/base",
      "model_module_version": "1.2.0",
      "model_name": "LayoutModel",
      "state": {
       "_model_module": "@jupyter-widgets/base",
       "_model_module_version": "1.2.0",
       "_model_name": "LayoutModel",
       "_view_count": null,
       "_view_module": "@jupyter-widgets/base",
       "_view_module_version": "1.2.0",
       "_view_name": "LayoutView",
       "align_content": null,
       "align_items": null,
       "align_self": null,
       "border": null,
       "bottom": null,
       "display": null,
       "flex": null,
       "flex_flow": null,
       "grid_area": null,
       "grid_auto_columns": null,
       "grid_auto_flow": null,
       "grid_auto_rows": null,
       "grid_column": null,
       "grid_gap": null,
       "grid_row": null,
       "grid_template_areas": null,
       "grid_template_columns": null,
       "grid_template_rows": null,
       "height": null,
       "justify_content": null,
       "justify_items": null,
       "left": null,
       "margin": null,
       "max_height": null,
       "max_width": null,
       "min_height": null,
       "min_width": null,
       "object_fit": null,
       "object_position": null,
       "order": null,
       "overflow": null,
       "overflow_x": null,
       "overflow_y": null,
       "padding": null,
       "right": null,
       "top": null,
       "visibility": null,
       "width": null
      }
     },
     "03541a57101a442b824a892ff5cb929d": {
      "model_module": "@jupyter-widgets/controls",
      "model_module_version": "1.5.0",
      "model_name": "FloatProgressModel",
      "state": {
       "_dom_classes": [],
       "_model_module": "@jupyter-widgets/controls",
       "_model_module_version": "1.5.0",
       "_model_name": "FloatProgressModel",
       "_view_count": null,
       "_view_module": "@jupyter-widgets/controls",
       "_view_module_version": "1.5.0",
       "_view_name": "ProgressView",
       "bar_style": "success",
       "description": "",
       "description_tooltip": null,
       "layout": "IPY_MODEL_dfa3ee97513d427ea483d7f58df7a58a",
       "max": 296428023.0,
       "min": 0.0,
       "orientation": "horizontal",
       "style": "IPY_MODEL_6d6063cfedbe4de28cecff93a80aa7d6",
       "value": 296428023.0
      }
     },
     "07a18c6599134189bbf71360c39e032f": {
      "model_module": "@jupyter-widgets/base",
      "model_module_version": "1.2.0",
      "model_name": "LayoutModel",
      "state": {
       "_model_module": "@jupyter-widgets/base",
       "_model_module_version": "1.2.0",
       "_model_name": "LayoutModel",
       "_view_count": null,
       "_view_module": "@jupyter-widgets/base",
       "_view_module_version": "1.2.0",
       "_view_name": "LayoutView",
       "align_content": null,
       "align_items": null,
       "align_self": null,
       "border": null,
       "bottom": null,
       "display": null,
       "flex": null,
       "flex_flow": null,
       "grid_area": null,
       "grid_auto_columns": null,
       "grid_auto_flow": null,
       "grid_auto_rows": null,
       "grid_column": null,
       "grid_gap": null,
       "grid_row": null,
       "grid_template_areas": null,
       "grid_template_columns": null,
       "grid_template_rows": null,
       "height": null,
       "justify_content": null,
       "justify_items": null,
       "left": null,
       "margin": null,
       "max_height": null,
       "max_width": null,
       "min_height": null,
       "min_width": null,
       "object_fit": null,
       "object_position": null,
       "order": null,
       "overflow": null,
       "overflow_x": null,
       "overflow_y": null,
       "padding": null,
       "right": null,
       "top": null,
       "visibility": null,
       "width": null
      }
     },
     "07c77ea3d03043bc95938b3e4ece0a20": {
      "model_module": "@jupyter-widgets/controls",
      "model_module_version": "1.5.0",
      "model_name": "DescriptionStyleModel",
      "state": {
       "_model_module": "@jupyter-widgets/controls",
       "_model_module_version": "1.5.0",
       "_model_name": "DescriptionStyleModel",
       "_view_count": null,
       "_view_module": "@jupyter-widgets/base",
       "_view_module_version": "1.2.0",
       "_view_name": "StyleView",
       "description_width": ""
      }
     },
     "083cc38a6f4842608cd455c97a9d6871": {
      "model_module": "@jupyter-widgets/controls",
      "model_module_version": "1.5.0",
      "model_name": "ProgressStyleModel",
      "state": {
       "_model_module": "@jupyter-widgets/controls",
       "_model_module_version": "1.5.0",
       "_model_name": "ProgressStyleModel",
       "_view_count": null,
       "_view_module": "@jupyter-widgets/base",
       "_view_module_version": "1.2.0",
       "_view_name": "StyleView",
       "bar_color": null,
       "description_width": ""
      }
     },
     "091cbc7f4f7848cbab79f29b3e8abf18": {
      "model_module": "@jupyter-widgets/controls",
      "model_module_version": "1.5.0",
      "model_name": "DescriptionStyleModel",
      "state": {
       "_model_module": "@jupyter-widgets/controls",
       "_model_module_version": "1.5.0",
       "_model_name": "DescriptionStyleModel",
       "_view_count": null,
       "_view_module": "@jupyter-widgets/base",
       "_view_module_version": "1.2.0",
       "_view_name": "StyleView",
       "description_width": ""
      }
     },
     "09c31f1234184fbd9feaf075e2d4f115": {
      "model_module": "@jupyter-widgets/base",
      "model_module_version": "1.2.0",
      "model_name": "LayoutModel",
      "state": {
       "_model_module": "@jupyter-widgets/base",
       "_model_module_version": "1.2.0",
       "_model_name": "LayoutModel",
       "_view_count": null,
       "_view_module": "@jupyter-widgets/base",
       "_view_module_version": "1.2.0",
       "_view_name": "LayoutView",
       "align_content": null,
       "align_items": null,
       "align_self": null,
       "border": null,
       "bottom": null,
       "display": null,
       "flex": null,
       "flex_flow": null,
       "grid_area": null,
       "grid_auto_columns": null,
       "grid_auto_flow": null,
       "grid_auto_rows": null,
       "grid_column": null,
       "grid_gap": null,
       "grid_row": null,
       "grid_template_areas": null,
       "grid_template_columns": null,
       "grid_template_rows": null,
       "height": null,
       "justify_content": null,
       "justify_items": null,
       "left": null,
       "margin": null,
       "max_height": null,
       "max_width": null,
       "min_height": null,
       "min_width": null,
       "object_fit": null,
       "object_position": null,
       "order": null,
       "overflow": null,
       "overflow_x": null,
       "overflow_y": null,
       "padding": null,
       "right": null,
       "top": null,
       "visibility": null,
       "width": null
      }
     },
     "0b5921ac15af4ecb914b1eac47de4595": {
      "model_module": "@jupyter-widgets/controls",
      "model_module_version": "1.5.0",
      "model_name": "HBoxModel",
      "state": {
       "_dom_classes": [],
       "_model_module": "@jupyter-widgets/controls",
       "_model_module_version": "1.5.0",
       "_model_name": "HBoxModel",
       "_view_count": null,
       "_view_module": "@jupyter-widgets/controls",
       "_view_module_version": "1.5.0",
       "_view_name": "HBoxView",
       "box_style": "",
       "children": [
        "IPY_MODEL_f0734af97fe04276a5eec429a904c570",
        "IPY_MODEL_6517a4cd1999489da24b35d9c47704f8",
        "IPY_MODEL_d2862ad7e6264e5389f8aac34ce74a32"
       ],
       "layout": "IPY_MODEL_7eb1b6382eb14b00a679ce16d1f18790"
      }
     },
     "0c061618949a48788e2b4e21075da33d": {
      "model_module": "@jupyter-widgets/controls",
      "model_module_version": "1.5.0",
      "model_name": "HBoxModel",
      "state": {
       "_dom_classes": [],
       "_model_module": "@jupyter-widgets/controls",
       "_model_module_version": "1.5.0",
       "_model_name": "HBoxModel",
       "_view_count": null,
       "_view_module": "@jupyter-widgets/controls",
       "_view_module_version": "1.5.0",
       "_view_name": "HBoxView",
       "box_style": "",
       "children": [
        "IPY_MODEL_e5d61ba87d314c81b057b6a4fbdbc944",
        "IPY_MODEL_e9189f3b09ad46f2a5f81a73555dd34d",
        "IPY_MODEL_226825590ebf4617b5a486dddd5cc706"
       ],
       "layout": "IPY_MODEL_5f850c9d802b43a1803986d39409f212"
      }
     },
     "0c4d3bb582f84a3da5a39a0f810a1c39": {
      "model_module": "@jupyter-widgets/controls",
      "model_module_version": "1.5.0",
      "model_name": "HTMLModel",
      "state": {
       "_dom_classes": [],
       "_model_module": "@jupyter-widgets/controls",
       "_model_module_version": "1.5.0",
       "_model_name": "HTMLModel",
       "_view_count": null,
       "_view_module": "@jupyter-widgets/controls",
       "_view_module_version": "1.5.0",
       "_view_name": "HTMLView",
       "description": "",
       "description_tooltip": null,
       "layout": "IPY_MODEL_c9fc9c8673b64449bfe8633253443f3e",
       "placeholder": "​",
       "style": "IPY_MODEL_2ebe104d7f324e509d7c6dcf3ca19877",
       "value": "Downloading data: 100%"
      }
     },
     "0cd69362ca3e459d8a6686182e8b09f2": {
      "model_module": "@jupyter-widgets/base",
      "model_module_version": "1.2.0",
      "model_name": "LayoutModel",
      "state": {
       "_model_module": "@jupyter-widgets/base",
       "_model_module_version": "1.2.0",
       "_model_name": "LayoutModel",
       "_view_count": null,
       "_view_module": "@jupyter-widgets/base",
       "_view_module_version": "1.2.0",
       "_view_name": "LayoutView",
       "align_content": null,
       "align_items": null,
       "align_self": null,
       "border": null,
       "bottom": null,
       "display": null,
       "flex": null,
       "flex_flow": null,
       "grid_area": null,
       "grid_auto_columns": null,
       "grid_auto_flow": null,
       "grid_auto_rows": null,
       "grid_column": null,
       "grid_gap": null,
       "grid_row": null,
       "grid_template_areas": null,
       "grid_template_columns": null,
       "grid_template_rows": null,
       "height": null,
       "justify_content": null,
       "justify_items": null,
       "left": null,
       "margin": null,
       "max_height": null,
       "max_width": null,
       "min_height": null,
       "min_width": null,
       "object_fit": null,
       "object_position": null,
       "order": null,
       "overflow": null,
       "overflow_x": null,
       "overflow_y": null,
       "padding": null,
       "right": null,
       "top": null,
       "visibility": null,
       "width": null
      }
     },
     "0e6a43771d4247cbab1282825693531f": {
      "model_module": "@jupyter-widgets/base",
      "model_module_version": "1.2.0",
      "model_name": "LayoutModel",
      "state": {
       "_model_module": "@jupyter-widgets/base",
       "_model_module_version": "1.2.0",
       "_model_name": "LayoutModel",
       "_view_count": null,
       "_view_module": "@jupyter-widgets/base",
       "_view_module_version": "1.2.0",
       "_view_name": "LayoutView",
       "align_content": null,
       "align_items": null,
       "align_self": null,
       "border": null,
       "bottom": null,
       "display": null,
       "flex": null,
       "flex_flow": null,
       "grid_area": null,
       "grid_auto_columns": null,
       "grid_auto_flow": null,
       "grid_auto_rows": null,
       "grid_column": null,
       "grid_gap": null,
       "grid_row": null,
       "grid_template_areas": null,
       "grid_template_columns": null,
       "grid_template_rows": null,
       "height": null,
       "justify_content": null,
       "justify_items": null,
       "left": null,
       "margin": null,
       "max_height": null,
       "max_width": null,
       "min_height": null,
       "min_width": null,
       "object_fit": null,
       "object_position": null,
       "order": null,
       "overflow": null,
       "overflow_x": null,
       "overflow_y": null,
       "padding": null,
       "right": null,
       "top": null,
       "visibility": null,
       "width": null
      }
     },
     "0ec99ea568ef457587d2bd5eedf6cb6f": {
      "model_module": "@jupyter-widgets/base",
      "model_module_version": "1.2.0",
      "model_name": "LayoutModel",
      "state": {
       "_model_module": "@jupyter-widgets/base",
       "_model_module_version": "1.2.0",
       "_model_name": "LayoutModel",
       "_view_count": null,
       "_view_module": "@jupyter-widgets/base",
       "_view_module_version": "1.2.0",
       "_view_name": "LayoutView",
       "align_content": null,
       "align_items": null,
       "align_self": null,
       "border": null,
       "bottom": null,
       "display": null,
       "flex": null,
       "flex_flow": null,
       "grid_area": null,
       "grid_auto_columns": null,
       "grid_auto_flow": null,
       "grid_auto_rows": null,
       "grid_column": null,
       "grid_gap": null,
       "grid_row": null,
       "grid_template_areas": null,
       "grid_template_columns": null,
       "grid_template_rows": null,
       "height": null,
       "justify_content": null,
       "justify_items": null,
       "left": null,
       "margin": null,
       "max_height": null,
       "max_width": null,
       "min_height": null,
       "min_width": null,
       "object_fit": null,
       "object_position": null,
       "order": null,
       "overflow": null,
       "overflow_x": null,
       "overflow_y": null,
       "padding": null,
       "right": null,
       "top": null,
       "visibility": null,
       "width": null
      }
     },
     "1251bf2df0df4b43bd2871e537ac9311": {
      "model_module": "@jupyter-widgets/controls",
      "model_module_version": "1.5.0",
      "model_name": "DescriptionStyleModel",
      "state": {
       "_model_module": "@jupyter-widgets/controls",
       "_model_module_version": "1.5.0",
       "_model_name": "DescriptionStyleModel",
       "_view_count": null,
       "_view_module": "@jupyter-widgets/base",
       "_view_module_version": "1.2.0",
       "_view_name": "StyleView",
       "description_width": ""
      }
     },
     "14bba4215561409782fcb9335a20402f": {
      "model_module": "@jupyter-widgets/controls",
      "model_module_version": "1.5.0",
      "model_name": "ProgressStyleModel",
      "state": {
       "_model_module": "@jupyter-widgets/controls",
       "_model_module_version": "1.5.0",
       "_model_name": "ProgressStyleModel",
       "_view_count": null,
       "_view_module": "@jupyter-widgets/base",
       "_view_module_version": "1.2.0",
       "_view_name": "StyleView",
       "bar_color": null,
       "description_width": ""
      }
     },
     "154d22048b3546d5af09983ff608df4d": {
      "model_module": "@jupyter-widgets/base",
      "model_module_version": "1.2.0",
      "model_name": "LayoutModel",
      "state": {
       "_model_module": "@jupyter-widgets/base",
       "_model_module_version": "1.2.0",
       "_model_name": "LayoutModel",
       "_view_count": null,
       "_view_module": "@jupyter-widgets/base",
       "_view_module_version": "1.2.0",
       "_view_name": "LayoutView",
       "align_content": null,
       "align_items": null,
       "align_self": null,
       "border": null,
       "bottom": null,
       "display": null,
       "flex": null,
       "flex_flow": null,
       "grid_area": null,
       "grid_auto_columns": null,
       "grid_auto_flow": null,
       "grid_auto_rows": null,
       "grid_column": null,
       "grid_gap": null,
       "grid_row": null,
       "grid_template_areas": null,
       "grid_template_columns": null,
       "grid_template_rows": null,
       "height": null,
       "justify_content": null,
       "justify_items": null,
       "left": null,
       "margin": null,
       "max_height": null,
       "max_width": null,
       "min_height": null,
       "min_width": null,
       "object_fit": null,
       "object_position": null,
       "order": null,
       "overflow": null,
       "overflow_x": null,
       "overflow_y": null,
       "padding": null,
       "right": null,
       "top": null,
       "visibility": null,
       "width": null
      }
     },
     "1648439ec1b24ab088f29a34e4d4f5b6": {
      "model_module": "@jupyter-widgets/controls",
      "model_module_version": "1.5.0",
      "model_name": "HBoxModel",
      "state": {
       "_dom_classes": [],
       "_model_module": "@jupyter-widgets/controls",
       "_model_module_version": "1.5.0",
       "_model_name": "HBoxModel",
       "_view_count": null,
       "_view_module": "@jupyter-widgets/controls",
       "_view_module_version": "1.5.0",
       "_view_name": "HBoxView",
       "box_style": "",
       "children": [
        "IPY_MODEL_e2117fdbbb0d401c92fc3db8c84ed94e",
        "IPY_MODEL_71f25b62bfbe449c8424f7fa616ff06c",
        "IPY_MODEL_3f6d8ba303b94ba5ab8af7af31bc404c"
       ],
       "layout": "IPY_MODEL_1a7029b0f9bd4336b4f670beb200c045"
      }
     },
     "16b3900a0a594a1890ab661984e5c2c1": {
      "model_module": "@jupyter-widgets/base",
      "model_module_version": "1.2.0",
      "model_name": "LayoutModel",
      "state": {
       "_model_module": "@jupyter-widgets/base",
       "_model_module_version": "1.2.0",
       "_model_name": "LayoutModel",
       "_view_count": null,
       "_view_module": "@jupyter-widgets/base",
       "_view_module_version": "1.2.0",
       "_view_name": "LayoutView",
       "align_content": null,
       "align_items": null,
       "align_self": null,
       "border": null,
       "bottom": null,
       "display": null,
       "flex": null,
       "flex_flow": null,
       "grid_area": null,
       "grid_auto_columns": null,
       "grid_auto_flow": null,
       "grid_auto_rows": null,
       "grid_column": null,
       "grid_gap": null,
       "grid_row": null,
       "grid_template_areas": null,
       "grid_template_columns": null,
       "grid_template_rows": null,
       "height": null,
       "justify_content": null,
       "justify_items": null,
       "left": null,
       "margin": null,
       "max_height": null,
       "max_width": null,
       "min_height": null,
       "min_width": null,
       "object_fit": null,
       "object_position": null,
       "order": null,
       "overflow": null,
       "overflow_x": null,
       "overflow_y": null,
       "padding": null,
       "right": null,
       "top": null,
       "visibility": null,
       "width": null
      }
     },
     "194124e86d3641ada31ebfda4a739b17": {
      "model_module": "@jupyter-widgets/controls",
      "model_module_version": "1.5.0",
      "model_name": "FloatProgressModel",
      "state": {
       "_dom_classes": [],
       "_model_module": "@jupyter-widgets/controls",
       "_model_module_version": "1.5.0",
       "_model_name": "FloatProgressModel",
       "_view_count": null,
       "_view_module": "@jupyter-widgets/controls",
       "_view_module_version": "1.5.0",
       "_view_name": "ProgressView",
       "bar_style": "success",
       "description": "",
       "description_tooltip": null,
       "layout": "IPY_MODEL_aba37e1bdd7345b9bfb3b36bee93ad21",
       "max": 348323642.0,
       "min": 0.0,
       "orientation": "horizontal",
       "style": "IPY_MODEL_25d5adf10a5e4241ad73a0ab73ea4a11",
       "value": 348323642.0
      }
     },
     "1a7029b0f9bd4336b4f670beb200c045": {
      "model_module": "@jupyter-widgets/base",
      "model_module_version": "1.2.0",
      "model_name": "LayoutModel",
      "state": {
       "_model_module": "@jupyter-widgets/base",
       "_model_module_version": "1.2.0",
       "_model_name": "LayoutModel",
       "_view_count": null,
       "_view_module": "@jupyter-widgets/base",
       "_view_module_version": "1.2.0",
       "_view_name": "LayoutView",
       "align_content": null,
       "align_items": null,
       "align_self": null,
       "border": null,
       "bottom": null,
       "display": null,
       "flex": null,
       "flex_flow": null,
       "grid_area": null,
       "grid_auto_columns": null,
       "grid_auto_flow": null,
       "grid_auto_rows": null,
       "grid_column": null,
       "grid_gap": null,
       "grid_row": null,
       "grid_template_areas": null,
       "grid_template_columns": null,
       "grid_template_rows": null,
       "height": null,
       "justify_content": null,
       "justify_items": null,
       "left": null,
       "margin": null,
       "max_height": null,
       "max_width": null,
       "min_height": null,
       "min_width": null,
       "object_fit": null,
       "object_position": null,
       "order": null,
       "overflow": null,
       "overflow_x": null,
       "overflow_y": null,
       "padding": null,
       "right": null,
       "top": null,
       "visibility": null,
       "width": null
      }
     },
     "1ba51477d16043f48e4d6257f7f94fa6": {
      "model_module": "@jupyter-widgets/controls",
      "model_module_version": "1.5.0",
      "model_name": "HBoxModel",
      "state": {
       "_dom_classes": [],
       "_model_module": "@jupyter-widgets/controls",
       "_model_module_version": "1.5.0",
       "_model_name": "HBoxModel",
       "_view_count": null,
       "_view_module": "@jupyter-widgets/controls",
       "_view_module_version": "1.5.0",
       "_view_name": "HBoxView",
       "box_style": "",
       "children": [
        "IPY_MODEL_aabcaeaea981424dbf678a9a202ddfeb",
        "IPY_MODEL_2a88f400311c45cba778c0a348218644",
        "IPY_MODEL_8c17904895024b1e9545003801cbc8be"
       ],
       "layout": "IPY_MODEL_0cd69362ca3e459d8a6686182e8b09f2"
      }
     },
     "1baa7bf3f8a141d189b8d6ae3c589ded": {
      "model_module": "@jupyter-widgets/controls",
      "model_module_version": "1.5.0",
      "model_name": "DescriptionStyleModel",
      "state": {
       "_model_module": "@jupyter-widgets/controls",
       "_model_module_version": "1.5.0",
       "_model_name": "DescriptionStyleModel",
       "_view_count": null,
       "_view_module": "@jupyter-widgets/base",
       "_view_module_version": "1.2.0",
       "_view_name": "StyleView",
       "description_width": ""
      }
     },
     "1cda1376ed71421e92a24f29d456726f": {
      "model_module": "@jupyter-widgets/controls",
      "model_module_version": "1.5.0",
      "model_name": "ProgressStyleModel",
      "state": {
       "_model_module": "@jupyter-widgets/controls",
       "_model_module_version": "1.5.0",
       "_model_name": "ProgressStyleModel",
       "_view_count": null,
       "_view_module": "@jupyter-widgets/base",
       "_view_module_version": "1.2.0",
       "_view_name": "StyleView",
       "bar_color": null,
       "description_width": ""
      }
     },
     "1cee55bdcdc24acfad02f9046c12220a": {
      "model_module": "@jupyter-widgets/controls",
      "model_module_version": "1.5.0",
      "model_name": "FloatProgressModel",
      "state": {
       "_dom_classes": [],
       "_model_module": "@jupyter-widgets/controls",
       "_model_module_version": "1.5.0",
       "_model_name": "FloatProgressModel",
       "_view_count": null,
       "_view_module": "@jupyter-widgets/controls",
       "_view_module_version": "1.5.0",
       "_view_name": "ProgressView",
       "bar_style": "success",
       "description": "",
       "description_tooltip": null,
       "layout": "IPY_MODEL_ee424cee264741aebd80deb6959edda0",
       "max": 769165548.0,
       "min": 0.0,
       "orientation": "horizontal",
       "style": "IPY_MODEL_3beed0a3779943e2a73d1c09847731a2",
       "value": 769165548.0
      }
     },
     "1e03fd8eb4f0486db22df82969d53bb3": {
      "model_module": "@jupyter-widgets/controls",
      "model_module_version": "1.5.0",
      "model_name": "ProgressStyleModel",
      "state": {
       "_model_module": "@jupyter-widgets/controls",
       "_model_module_version": "1.5.0",
       "_model_name": "ProgressStyleModel",
       "_view_count": null,
       "_view_module": "@jupyter-widgets/base",
       "_view_module_version": "1.2.0",
       "_view_name": "StyleView",
       "bar_color": null,
       "description_width": ""
      }
     },
     "1edf9c6924e047c8a113dd6328a48b72": {
      "model_module": "@jupyter-widgets/controls",
      "model_module_version": "1.5.0",
      "model_name": "HBoxModel",
      "state": {
       "_dom_classes": [],
       "_model_module": "@jupyter-widgets/controls",
       "_model_module_version": "1.5.0",
       "_model_name": "HBoxModel",
       "_view_count": null,
       "_view_module": "@jupyter-widgets/controls",
       "_view_module_version": "1.5.0",
       "_view_name": "HBoxView",
       "box_style": "",
       "children": [
        "IPY_MODEL_28d9262e99df493d9522ac45b7fd5090",
        "IPY_MODEL_899fe87defec4d18930985c6bfcce379",
        "IPY_MODEL_ef63e070ac7a4c42a354b3b8ac69ed58"
       ],
       "layout": "IPY_MODEL_df4f981fea0441cba4fd3e6ef97018d4"
      }
     },
     "219945ba88a846acb8a0d5ae7a78e9b1": {
      "model_module": "@jupyter-widgets/controls",
      "model_module_version": "1.5.0",
      "model_name": "DescriptionStyleModel",
      "state": {
       "_model_module": "@jupyter-widgets/controls",
       "_model_module_version": "1.5.0",
       "_model_name": "DescriptionStyleModel",
       "_view_count": null,
       "_view_module": "@jupyter-widgets/base",
       "_view_module_version": "1.2.0",
       "_view_name": "StyleView",
       "description_width": ""
      }
     },
     "21ae8b02e8674a30b5c098c503044575": {
      "model_module": "@jupyter-widgets/base",
      "model_module_version": "1.2.0",
      "model_name": "LayoutModel",
      "state": {
       "_model_module": "@jupyter-widgets/base",
       "_model_module_version": "1.2.0",
       "_model_name": "LayoutModel",
       "_view_count": null,
       "_view_module": "@jupyter-widgets/base",
       "_view_module_version": "1.2.0",
       "_view_name": "LayoutView",
       "align_content": null,
       "align_items": null,
       "align_self": null,
       "border": null,
       "bottom": null,
       "display": null,
       "flex": null,
       "flex_flow": null,
       "grid_area": null,
       "grid_auto_columns": null,
       "grid_auto_flow": null,
       "grid_auto_rows": null,
       "grid_column": null,
       "grid_gap": null,
       "grid_row": null,
       "grid_template_areas": null,
       "grid_template_columns": null,
       "grid_template_rows": null,
       "height": null,
       "justify_content": null,
       "justify_items": null,
       "left": null,
       "margin": null,
       "max_height": null,
       "max_width": null,
       "min_height": null,
       "min_width": null,
       "object_fit": null,
       "object_position": null,
       "order": null,
       "overflow": null,
       "overflow_x": null,
       "overflow_y": null,
       "padding": null,
       "right": null,
       "top": null,
       "visibility": null,
       "width": null
      }
     },
     "21bcb62986a345b7af8e4b9d4159ba3d": {
      "model_module": "@jupyter-widgets/controls",
      "model_module_version": "1.5.0",
      "model_name": "DescriptionStyleModel",
      "state": {
       "_model_module": "@jupyter-widgets/controls",
       "_model_module_version": "1.5.0",
       "_model_name": "DescriptionStyleModel",
       "_view_count": null,
       "_view_module": "@jupyter-widgets/base",
       "_view_module_version": "1.2.0",
       "_view_name": "StyleView",
       "description_width": ""
      }
     },
     "22379c0e1a034edd81a627b9a93e643a": {
      "model_module": "@jupyter-widgets/base",
      "model_module_version": "1.2.0",
      "model_name": "LayoutModel",
      "state": {
       "_model_module": "@jupyter-widgets/base",
       "_model_module_version": "1.2.0",
       "_model_name": "LayoutModel",
       "_view_count": null,
       "_view_module": "@jupyter-widgets/base",
       "_view_module_version": "1.2.0",
       "_view_name": "LayoutView",
       "align_content": null,
       "align_items": null,
       "align_self": null,
       "border": null,
       "bottom": null,
       "display": null,
       "flex": null,
       "flex_flow": null,
       "grid_area": null,
       "grid_auto_columns": null,
       "grid_auto_flow": null,
       "grid_auto_rows": null,
       "grid_column": null,
       "grid_gap": null,
       "grid_row": null,
       "grid_template_areas": null,
       "grid_template_columns": null,
       "grid_template_rows": null,
       "height": null,
       "justify_content": null,
       "justify_items": null,
       "left": null,
       "margin": null,
       "max_height": null,
       "max_width": null,
       "min_height": null,
       "min_width": null,
       "object_fit": null,
       "object_position": null,
       "order": null,
       "overflow": null,
       "overflow_x": null,
       "overflow_y": null,
       "padding": null,
       "right": null,
       "top": null,
       "visibility": null,
       "width": null
      }
     },
     "226825590ebf4617b5a486dddd5cc706": {
      "model_module": "@jupyter-widgets/controls",
      "model_module_version": "1.5.0",
      "model_name": "HTMLModel",
      "state": {
       "_dom_classes": [],
       "_model_module": "@jupyter-widgets/controls",
       "_model_module_version": "1.5.0",
       "_model_name": "HTMLModel",
       "_view_count": null,
       "_view_module": "@jupyter-widgets/controls",
       "_view_module_version": "1.5.0",
       "_view_name": "HTMLView",
       "description": "",
       "description_tooltip": null,
       "layout": "IPY_MODEL_464b8393bd474ff1a53665eacfb117d5",
       "placeholder": "​",
       "style": "IPY_MODEL_e1b4016a1ea34690baed6ff974bb06d7",
       "value": " 284M/284M [00:06&lt;00:00, 38.8MB/s]"
      }
     },
     "22d141e83ebf435c855c314b032ed28d": {
      "model_module": "@jupyter-widgets/base",
      "model_module_version": "1.2.0",
      "model_name": "LayoutModel",
      "state": {
       "_model_module": "@jupyter-widgets/base",
       "_model_module_version": "1.2.0",
       "_model_name": "LayoutModel",
       "_view_count": null,
       "_view_module": "@jupyter-widgets/base",
       "_view_module_version": "1.2.0",
       "_view_name": "LayoutView",
       "align_content": null,
       "align_items": null,
       "align_self": null,
       "border": null,
       "bottom": null,
       "display": null,
       "flex": null,
       "flex_flow": null,
       "grid_area": null,
       "grid_auto_columns": null,
       "grid_auto_flow": null,
       "grid_auto_rows": null,
       "grid_column": null,
       "grid_gap": null,
       "grid_row": null,
       "grid_template_areas": null,
       "grid_template_columns": null,
       "grid_template_rows": null,
       "height": null,
       "justify_content": null,
       "justify_items": null,
       "left": null,
       "margin": null,
       "max_height": null,
       "max_width": null,
       "min_height": null,
       "min_width": null,
       "object_fit": null,
       "object_position": null,
       "order": null,
       "overflow": null,
       "overflow_x": null,
       "overflow_y": null,
       "padding": null,
       "right": null,
       "top": null,
       "visibility": null,
       "width": null
      }
     },
     "230baf213adc48e89276aa7f004fd08a": {
      "model_module": "@jupyter-widgets/controls",
      "model_module_version": "1.5.0",
      "model_name": "HTMLModel",
      "state": {
       "_dom_classes": [],
       "_model_module": "@jupyter-widgets/controls",
       "_model_module_version": "1.5.0",
       "_model_name": "HTMLModel",
       "_view_count": null,
       "_view_module": "@jupyter-widgets/controls",
       "_view_module_version": "1.5.0",
       "_view_name": "HTMLView",
       "description": "",
       "description_tooltip": null,
       "layout": "IPY_MODEL_bf91e9e068974313abc4eea435b19d65",
       "placeholder": "​",
       "style": "IPY_MODEL_90f67d597c78456e86c4d2ff2f38173a",
       "value": "Downloading data: 100%"
      }
     },
     "2528dc8cc520499f98c17284b6cea02d": {
      "model_module": "@jupyter-widgets/controls",
      "model_module_version": "1.5.0",
      "model_name": "HTMLModel",
      "state": {
       "_dom_classes": [],
       "_model_module": "@jupyter-widgets/controls",
       "_model_module_version": "1.5.0",
       "_model_name": "HTMLModel",
       "_view_count": null,
       "_view_module": "@jupyter-widgets/controls",
       "_view_module_version": "1.5.0",
       "_view_name": "HTMLView",
       "description": "",
       "description_tooltip": null,
       "layout": "IPY_MODEL_95d43aa2c87043be862e62ab1da5ee72",
       "placeholder": "​",
       "style": "IPY_MODEL_606ad358251849ad89f1a6c19aeb69f7",
       "value": "Downloading data: 100%"
      }
     },
     "2571d3ca23624fcfb1e96acf83e02c30": {
      "model_module": "@jupyter-widgets/base",
      "model_module_version": "1.2.0",
      "model_name": "LayoutModel",
      "state": {
       "_model_module": "@jupyter-widgets/base",
       "_model_module_version": "1.2.0",
       "_model_name": "LayoutModel",
       "_view_count": null,
       "_view_module": "@jupyter-widgets/base",
       "_view_module_version": "1.2.0",
       "_view_name": "LayoutView",
       "align_content": null,
       "align_items": null,
       "align_self": null,
       "border": null,
       "bottom": null,
       "display": null,
       "flex": null,
       "flex_flow": null,
       "grid_area": null,
       "grid_auto_columns": null,
       "grid_auto_flow": null,
       "grid_auto_rows": null,
       "grid_column": null,
       "grid_gap": null,
       "grid_row": null,
       "grid_template_areas": null,
       "grid_template_columns": null,
       "grid_template_rows": null,
       "height": null,
       "justify_content": null,
       "justify_items": null,
       "left": null,
       "margin": null,
       "max_height": null,
       "max_width": null,
       "min_height": null,
       "min_width": null,
       "object_fit": null,
       "object_position": null,
       "order": null,
       "overflow": null,
       "overflow_x": null,
       "overflow_y": null,
       "padding": null,
       "right": null,
       "top": null,
       "visibility": null,
       "width": null
      }
     },
     "25d5adf10a5e4241ad73a0ab73ea4a11": {
      "model_module": "@jupyter-widgets/controls",
      "model_module_version": "1.5.0",
      "model_name": "ProgressStyleModel",
      "state": {
       "_model_module": "@jupyter-widgets/controls",
       "_model_module_version": "1.5.0",
       "_model_name": "ProgressStyleModel",
       "_view_count": null,
       "_view_module": "@jupyter-widgets/base",
       "_view_module_version": "1.2.0",
       "_view_name": "StyleView",
       "bar_color": null,
       "description_width": ""
      }
     },
     "261203de0ac6468fb5092f1276a2543c": {
      "model_module": "@jupyter-widgets/base",
      "model_module_version": "1.2.0",
      "model_name": "LayoutModel",
      "state": {
       "_model_module": "@jupyter-widgets/base",
       "_model_module_version": "1.2.0",
       "_model_name": "LayoutModel",
       "_view_count": null,
       "_view_module": "@jupyter-widgets/base",
       "_view_module_version": "1.2.0",
       "_view_name": "LayoutView",
       "align_content": null,
       "align_items": null,
       "align_self": null,
       "border": null,
       "bottom": null,
       "display": null,
       "flex": null,
       "flex_flow": null,
       "grid_area": null,
       "grid_auto_columns": null,
       "grid_auto_flow": null,
       "grid_auto_rows": null,
       "grid_column": null,
       "grid_gap": null,
       "grid_row": null,
       "grid_template_areas": null,
       "grid_template_columns": null,
       "grid_template_rows": null,
       "height": null,
       "justify_content": null,
       "justify_items": null,
       "left": null,
       "margin": null,
       "max_height": null,
       "max_width": null,
       "min_height": null,
       "min_width": null,
       "object_fit": null,
       "object_position": null,
       "order": null,
       "overflow": null,
       "overflow_x": null,
       "overflow_y": null,
       "padding": null,
       "right": null,
       "top": null,
       "visibility": null,
       "width": null
      }
     },
     "26e43de6bf53497fa444c20608f42e0e": {
      "model_module": "@jupyter-widgets/controls",
      "model_module_version": "1.5.0",
      "model_name": "DescriptionStyleModel",
      "state": {
       "_model_module": "@jupyter-widgets/controls",
       "_model_module_version": "1.5.0",
       "_model_name": "DescriptionStyleModel",
       "_view_count": null,
       "_view_module": "@jupyter-widgets/base",
       "_view_module_version": "1.2.0",
       "_view_name": "StyleView",
       "description_width": ""
      }
     },
     "274636426f7a4409bf949d6eff8f8269": {
      "model_module": "@jupyter-widgets/base",
      "model_module_version": "1.2.0",
      "model_name": "LayoutModel",
      "state": {
       "_model_module": "@jupyter-widgets/base",
       "_model_module_version": "1.2.0",
       "_model_name": "LayoutModel",
       "_view_count": null,
       "_view_module": "@jupyter-widgets/base",
       "_view_module_version": "1.2.0",
       "_view_name": "LayoutView",
       "align_content": null,
       "align_items": null,
       "align_self": null,
       "border": null,
       "bottom": null,
       "display": null,
       "flex": null,
       "flex_flow": null,
       "grid_area": null,
       "grid_auto_columns": null,
       "grid_auto_flow": null,
       "grid_auto_rows": null,
       "grid_column": null,
       "grid_gap": null,
       "grid_row": null,
       "grid_template_areas": null,
       "grid_template_columns": null,
       "grid_template_rows": null,
       "height": null,
       "justify_content": null,
       "justify_items": null,
       "left": null,
       "margin": null,
       "max_height": null,
       "max_width": null,
       "min_height": null,
       "min_width": null,
       "object_fit": null,
       "object_position": null,
       "order": null,
       "overflow": null,
       "overflow_x": null,
       "overflow_y": null,
       "padding": null,
       "right": null,
       "top": null,
       "visibility": null,
       "width": null
      }
     },
     "28d9262e99df493d9522ac45b7fd5090": {
      "model_module": "@jupyter-widgets/controls",
      "model_module_version": "1.5.0",
      "model_name": "HTMLModel",
      "state": {
       "_dom_classes": [],
       "_model_module": "@jupyter-widgets/controls",
       "_model_module_version": "1.5.0",
       "_model_name": "HTMLModel",
       "_view_count": null,
       "_view_module": "@jupyter-widgets/controls",
       "_view_module_version": "1.5.0",
       "_view_name": "HTMLView",
       "description": "",
       "description_tooltip": null,
       "layout": "IPY_MODEL_bd71572d523345ea97e25bb939bf1c0a",
       "placeholder": "​",
       "style": "IPY_MODEL_3be1ce187aee4b889ec32860b1a95fb2",
       "value": "Downloading data: 100%"
      }
     },
     "2917688146a24882a03c69c98c7025c4": {
      "model_module": "@jupyter-widgets/base",
      "model_module_version": "1.2.0",
      "model_name": "LayoutModel",
      "state": {
       "_model_module": "@jupyter-widgets/base",
       "_model_module_version": "1.2.0",
       "_model_name": "LayoutModel",
       "_view_count": null,
       "_view_module": "@jupyter-widgets/base",
       "_view_module_version": "1.2.0",
       "_view_name": "LayoutView",
       "align_content": null,
       "align_items": null,
       "align_self": null,
       "border": null,
       "bottom": null,
       "display": null,
       "flex": null,
       "flex_flow": null,
       "grid_area": null,
       "grid_auto_columns": null,
       "grid_auto_flow": null,
       "grid_auto_rows": null,
       "grid_column": null,
       "grid_gap": null,
       "grid_row": null,
       "grid_template_areas": null,
       "grid_template_columns": null,
       "grid_template_rows": null,
       "height": null,
       "justify_content": null,
       "justify_items": null,
       "left": null,
       "margin": null,
       "max_height": null,
       "max_width": null,
       "min_height": null,
       "min_width": null,
       "object_fit": null,
       "object_position": null,
       "order": null,
       "overflow": null,
       "overflow_x": null,
       "overflow_y": null,
       "padding": null,
       "right": null,
       "top": null,
       "visibility": null,
       "width": null
      }
     },
     "29dd3877402a4dd982041989d26f3cba": {
      "model_module": "@jupyter-widgets/controls",
      "model_module_version": "1.5.0",
      "model_name": "HTMLModel",
      "state": {
       "_dom_classes": [],
       "_model_module": "@jupyter-widgets/controls",
       "_model_module_version": "1.5.0",
       "_model_name": "HTMLModel",
       "_view_count": null,
       "_view_module": "@jupyter-widgets/controls",
       "_view_module_version": "1.5.0",
       "_view_name": "HTMLView",
       "description": "",
       "description_tooltip": null,
       "layout": "IPY_MODEL_e091eb95febb4ad885b02df31fdc9b8f",
       "placeholder": "​",
       "style": "IPY_MODEL_9b3426570d7a44a18272c4f1966a1cc3",
       "value": " 216M/216M [00:04&lt;00:00, 54.3MB/s]"
      }
     },
     "2a0dd1c91279469f88283d86087879b4": {
      "model_module": "@jupyter-widgets/controls",
      "model_module_version": "1.5.0",
      "model_name": "HBoxModel",
      "state": {
       "_dom_classes": [],
       "_model_module": "@jupyter-widgets/controls",
       "_model_module_version": "1.5.0",
       "_model_name": "HBoxModel",
       "_view_count": null,
       "_view_module": "@jupyter-widgets/controls",
       "_view_module_version": "1.5.0",
       "_view_name": "HBoxView",
       "box_style": "",
       "children": [
        "IPY_MODEL_a819d58d6bfb4c5d8ddc1eae6bd59c7c",
        "IPY_MODEL_b7df0106c02f438199603f9e84ad2d79",
        "IPY_MODEL_4d0b8a74678d4aeb98f84ed774604856"
       ],
       "layout": "IPY_MODEL_c8371365d61848c6b09bbaeee0035096"
      }
     },
     "2a88f400311c45cba778c0a348218644": {
      "model_module": "@jupyter-widgets/controls",
      "model_module_version": "1.5.0",
      "model_name": "FloatProgressModel",
      "state": {
       "_dom_classes": [],
       "_model_module": "@jupyter-widgets/controls",
       "_model_module_version": "1.5.0",
       "_model_name": "FloatProgressModel",
       "_view_count": null,
       "_view_module": "@jupyter-widgets/controls",
       "_view_module_version": "1.5.0",
       "_view_name": "ProgressView",
       "bar_style": "success",
       "description": "",
       "description_tooltip": null,
       "layout": "IPY_MODEL_d9d7552b9bb84598bb0dab775da12647",
       "max": 204905052.0,
       "min": 0.0,
       "orientation": "horizontal",
       "style": "IPY_MODEL_9c898249dd5a47cea967b30d0fa729ca",
       "value": 204905052.0
      }
     },
     "2c083bba599445b98fbca5e4aa6536bc": {
      "model_module": "@jupyter-widgets/base",
      "model_module_version": "1.2.0",
      "model_name": "LayoutModel",
      "state": {
       "_model_module": "@jupyter-widgets/base",
       "_model_module_version": "1.2.0",
       "_model_name": "LayoutModel",
       "_view_count": null,
       "_view_module": "@jupyter-widgets/base",
       "_view_module_version": "1.2.0",
       "_view_name": "LayoutView",
       "align_content": null,
       "align_items": null,
       "align_self": null,
       "border": null,
       "bottom": null,
       "display": null,
       "flex": null,
       "flex_flow": null,
       "grid_area": null,
       "grid_auto_columns": null,
       "grid_auto_flow": null,
       "grid_auto_rows": null,
       "grid_column": null,
       "grid_gap": null,
       "grid_row": null,
       "grid_template_areas": null,
       "grid_template_columns": null,
       "grid_template_rows": null,
       "height": null,
       "justify_content": null,
       "justify_items": null,
       "left": null,
       "margin": null,
       "max_height": null,
       "max_width": null,
       "min_height": null,
       "min_width": null,
       "object_fit": null,
       "object_position": null,
       "order": null,
       "overflow": null,
       "overflow_x": null,
       "overflow_y": null,
       "padding": null,
       "right": null,
       "top": null,
       "visibility": null,
       "width": null
      }
     },
     "2d396ef3816a44acaf75750487c87e0e": {
      "model_module": "@jupyter-widgets/controls",
      "model_module_version": "1.5.0",
      "model_name": "ProgressStyleModel",
      "state": {
       "_model_module": "@jupyter-widgets/controls",
       "_model_module_version": "1.5.0",
       "_model_name": "ProgressStyleModel",
       "_view_count": null,
       "_view_module": "@jupyter-widgets/base",
       "_view_module_version": "1.2.0",
       "_view_name": "StyleView",
       "bar_color": null,
       "description_width": ""
      }
     },
     "2ebe104d7f324e509d7c6dcf3ca19877": {
      "model_module": "@jupyter-widgets/controls",
      "model_module_version": "1.5.0",
      "model_name": "DescriptionStyleModel",
      "state": {
       "_model_module": "@jupyter-widgets/controls",
       "_model_module_version": "1.5.0",
       "_model_name": "DescriptionStyleModel",
       "_view_count": null,
       "_view_module": "@jupyter-widgets/base",
       "_view_module_version": "1.2.0",
       "_view_name": "StyleView",
       "description_width": ""
      }
     },
     "2f439c37c2c54d0fa5342469671e5a5e": {
      "model_module": "@jupyter-widgets/base",
      "model_module_version": "1.2.0",
      "model_name": "LayoutModel",
      "state": {
       "_model_module": "@jupyter-widgets/base",
       "_model_module_version": "1.2.0",
       "_model_name": "LayoutModel",
       "_view_count": null,
       "_view_module": "@jupyter-widgets/base",
       "_view_module_version": "1.2.0",
       "_view_name": "LayoutView",
       "align_content": null,
       "align_items": null,
       "align_self": null,
       "border": null,
       "bottom": null,
       "display": null,
       "flex": null,
       "flex_flow": null,
       "grid_area": null,
       "grid_auto_columns": null,
       "grid_auto_flow": null,
       "grid_auto_rows": null,
       "grid_column": null,
       "grid_gap": null,
       "grid_row": null,
       "grid_template_areas": null,
       "grid_template_columns": null,
       "grid_template_rows": null,
       "height": null,
       "justify_content": null,
       "justify_items": null,
       "left": null,
       "margin": null,
       "max_height": null,
       "max_width": null,
       "min_height": null,
       "min_width": null,
       "object_fit": null,
       "object_position": null,
       "order": null,
       "overflow": null,
       "overflow_x": null,
       "overflow_y": null,
       "padding": null,
       "right": null,
       "top": null,
       "visibility": null,
       "width": null
      }
     },
     "2f960ddcb5be4d74aee60fcdde427412": {
      "model_module": "@jupyter-widgets/controls",
      "model_module_version": "1.5.0",
      "model_name": "HTMLModel",
      "state": {
       "_dom_classes": [],
       "_model_module": "@jupyter-widgets/controls",
       "_model_module_version": "1.5.0",
       "_model_name": "HTMLModel",
       "_view_count": null,
       "_view_module": "@jupyter-widgets/controls",
       "_view_module_version": "1.5.0",
       "_view_name": "HTMLView",
       "description": "",
       "description_tooltip": null,
       "layout": "IPY_MODEL_ceae08f054804de6a0f5c172096442d1",
       "placeholder": "​",
       "style": "IPY_MODEL_40bf20ec937b413ab312ac6154357ac3",
       "value": "Downloading data: 100%"
      }
     },
     "2fa1604ab36f4d988c2c2293c20f8853": {
      "model_module": "@jupyter-widgets/controls",
      "model_module_version": "1.5.0",
      "model_name": "ProgressStyleModel",
      "state": {
       "_model_module": "@jupyter-widgets/controls",
       "_model_module_version": "1.5.0",
       "_model_name": "ProgressStyleModel",
       "_view_count": null,
       "_view_module": "@jupyter-widgets/base",
       "_view_module_version": "1.2.0",
       "_view_name": "StyleView",
       "bar_color": null,
       "description_width": ""
      }
     },
     "2fcbdfedb32c415884c95c453df8b01b": {
      "model_module": "@jupyter-widgets/controls",
      "model_module_version": "1.5.0",
      "model_name": "DescriptionStyleModel",
      "state": {
       "_model_module": "@jupyter-widgets/controls",
       "_model_module_version": "1.5.0",
       "_model_name": "DescriptionStyleModel",
       "_view_count": null,
       "_view_module": "@jupyter-widgets/base",
       "_view_module_version": "1.2.0",
       "_view_name": "StyleView",
       "description_width": ""
      }
     },
     "30b34f575be04161983468abf70fac44": {
      "model_module": "@jupyter-widgets/base",
      "model_module_version": "1.2.0",
      "model_name": "LayoutModel",
      "state": {
       "_model_module": "@jupyter-widgets/base",
       "_model_module_version": "1.2.0",
       "_model_name": "LayoutModel",
       "_view_count": null,
       "_view_module": "@jupyter-widgets/base",
       "_view_module_version": "1.2.0",
       "_view_name": "LayoutView",
       "align_content": null,
       "align_items": null,
       "align_self": null,
       "border": null,
       "bottom": null,
       "display": null,
       "flex": null,
       "flex_flow": null,
       "grid_area": null,
       "grid_auto_columns": null,
       "grid_auto_flow": null,
       "grid_auto_rows": null,
       "grid_column": null,
       "grid_gap": null,
       "grid_row": null,
       "grid_template_areas": null,
       "grid_template_columns": null,
       "grid_template_rows": null,
       "height": null,
       "justify_content": null,
       "justify_items": null,
       "left": null,
       "margin": null,
       "max_height": null,
       "max_width": null,
       "min_height": null,
       "min_width": null,
       "object_fit": null,
       "object_position": null,
       "order": null,
       "overflow": null,
       "overflow_x": null,
       "overflow_y": null,
       "padding": null,
       "right": null,
       "top": null,
       "visibility": null,
       "width": null
      }
     },
     "3400939301d44da6a59815da030ee2ba": {
      "model_module": "@jupyter-widgets/controls",
      "model_module_version": "1.5.0",
      "model_name": "HTMLModel",
      "state": {
       "_dom_classes": [],
       "_model_module": "@jupyter-widgets/controls",
       "_model_module_version": "1.5.0",
       "_model_name": "HTMLModel",
       "_view_count": null,
       "_view_module": "@jupyter-widgets/controls",
       "_view_module_version": "1.5.0",
       "_view_name": "HTMLView",
       "description": "",
       "description_tooltip": null,
       "layout": "IPY_MODEL_0ec99ea568ef457587d2bd5eedf6cb6f",
       "placeholder": "​",
       "style": "IPY_MODEL_d325b0966377472cb91957d1d96cbaf4",
       "value": "Downloading data: 100%"
      }
     },
     "3692c2d5a19349d7b48cc4130a960ad0": {
      "model_module": "@jupyter-widgets/controls",
      "model_module_version": "1.5.0",
      "model_name": "FloatProgressModel",
      "state": {
       "_dom_classes": [],
       "_model_module": "@jupyter-widgets/controls",
       "_model_module_version": "1.5.0",
       "_model_name": "FloatProgressModel",
       "_view_count": null,
       "_view_module": "@jupyter-widgets/controls",
       "_view_module_version": "1.5.0",
       "_view_name": "ProgressView",
       "bar_style": "success",
       "description": "",
       "description_tooltip": null,
       "layout": "IPY_MODEL_fb61e5f0f52b4568ad1a8ea22daad8db",
       "max": 168714731.0,
       "min": 0.0,
       "orientation": "horizontal",
       "style": "IPY_MODEL_db1e1f5704f44ca4bfdd502ae1593b79",
       "value": 168714731.0
      }
     },
     "37f8f5a031974470a75fb1357b9a5ea5": {
      "model_module": "@jupyter-widgets/controls",
      "model_module_version": "1.5.0",
      "model_name": "DescriptionStyleModel",
      "state": {
       "_model_module": "@jupyter-widgets/controls",
       "_model_module_version": "1.5.0",
       "_model_name": "DescriptionStyleModel",
       "_view_count": null,
       "_view_module": "@jupyter-widgets/base",
       "_view_module_version": "1.2.0",
       "_view_name": "StyleView",
       "description_width": ""
      }
     },
     "3a52ea851cf84c5e9b129d5d27499c43": {
      "model_module": "@jupyter-widgets/controls",
      "model_module_version": "1.5.0",
      "model_name": "ProgressStyleModel",
      "state": {
       "_model_module": "@jupyter-widgets/controls",
       "_model_module_version": "1.5.0",
       "_model_name": "ProgressStyleModel",
       "_view_count": null,
       "_view_module": "@jupyter-widgets/base",
       "_view_module_version": "1.2.0",
       "_view_name": "StyleView",
       "bar_color": null,
       "description_width": ""
      }
     },
     "3ab4147cbe454a99a563e3d9b1e3a025": {
      "model_module": "@jupyter-widgets/base",
      "model_module_version": "1.2.0",
      "model_name": "LayoutModel",
      "state": {
       "_model_module": "@jupyter-widgets/base",
       "_model_module_version": "1.2.0",
       "_model_name": "LayoutModel",
       "_view_count": null,
       "_view_module": "@jupyter-widgets/base",
       "_view_module_version": "1.2.0",
       "_view_name": "LayoutView",
       "align_content": null,
       "align_items": null,
       "align_self": null,
       "border": null,
       "bottom": null,
       "display": null,
       "flex": null,
       "flex_flow": null,
       "grid_area": null,
       "grid_auto_columns": null,
       "grid_auto_flow": null,
       "grid_auto_rows": null,
       "grid_column": null,
       "grid_gap": null,
       "grid_row": null,
       "grid_template_areas": null,
       "grid_template_columns": null,
       "grid_template_rows": null,
       "height": null,
       "justify_content": null,
       "justify_items": null,
       "left": null,
       "margin": null,
       "max_height": null,
       "max_width": null,
       "min_height": null,
       "min_width": null,
       "object_fit": null,
       "object_position": null,
       "order": null,
       "overflow": null,
       "overflow_x": null,
       "overflow_y": null,
       "padding": null,
       "right": null,
       "top": null,
       "visibility": null,
       "width": null
      }
     },
     "3b35a1b1e4a0435486fa458150f91a9d": {
      "model_module": "@jupyter-widgets/base",
      "model_module_version": "1.2.0",
      "model_name": "LayoutModel",
      "state": {
       "_model_module": "@jupyter-widgets/base",
       "_model_module_version": "1.2.0",
       "_model_name": "LayoutModel",
       "_view_count": null,
       "_view_module": "@jupyter-widgets/base",
       "_view_module_version": "1.2.0",
       "_view_name": "LayoutView",
       "align_content": null,
       "align_items": null,
       "align_self": null,
       "border": null,
       "bottom": null,
       "display": null,
       "flex": null,
       "flex_flow": null,
       "grid_area": null,
       "grid_auto_columns": null,
       "grid_auto_flow": null,
       "grid_auto_rows": null,
       "grid_column": null,
       "grid_gap": null,
       "grid_row": null,
       "grid_template_areas": null,
       "grid_template_columns": null,
       "grid_template_rows": null,
       "height": null,
       "justify_content": null,
       "justify_items": null,
       "left": null,
       "margin": null,
       "max_height": null,
       "max_width": null,
       "min_height": null,
       "min_width": null,
       "object_fit": null,
       "object_position": null,
       "order": null,
       "overflow": null,
       "overflow_x": null,
       "overflow_y": null,
       "padding": null,
       "right": null,
       "top": null,
       "visibility": null,
       "width": null
      }
     },
     "3be1ce187aee4b889ec32860b1a95fb2": {
      "model_module": "@jupyter-widgets/controls",
      "model_module_version": "1.5.0",
      "model_name": "DescriptionStyleModel",
      "state": {
       "_model_module": "@jupyter-widgets/controls",
       "_model_module_version": "1.5.0",
       "_model_name": "DescriptionStyleModel",
       "_view_count": null,
       "_view_module": "@jupyter-widgets/base",
       "_view_module_version": "1.2.0",
       "_view_name": "StyleView",
       "description_width": ""
      }
     },
     "3beed0a3779943e2a73d1c09847731a2": {
      "model_module": "@jupyter-widgets/controls",
      "model_module_version": "1.5.0",
      "model_name": "ProgressStyleModel",
      "state": {
       "_model_module": "@jupyter-widgets/controls",
       "_model_module_version": "1.5.0",
       "_model_name": "ProgressStyleModel",
       "_view_count": null,
       "_view_module": "@jupyter-widgets/base",
       "_view_module_version": "1.2.0",
       "_view_name": "StyleView",
       "bar_color": null,
       "description_width": ""
      }
     },
     "3c2a815e3ff945b886e0240fabb622f6": {
      "model_module": "@jupyter-widgets/controls",
      "model_module_version": "1.5.0",
      "model_name": "FloatProgressModel",
      "state": {
       "_dom_classes": [],
       "_model_module": "@jupyter-widgets/controls",
       "_model_module_version": "1.5.0",
       "_model_name": "FloatProgressModel",
       "_view_count": null,
       "_view_module": "@jupyter-widgets/controls",
       "_view_module_version": "1.5.0",
       "_view_name": "ProgressView",
       "bar_style": "success",
       "description": "",
       "description_tooltip": null,
       "layout": "IPY_MODEL_654900a9f88242f7af95e719a5373509",
       "max": 219187256.0,
       "min": 0.0,
       "orientation": "horizontal",
       "style": "IPY_MODEL_2d396ef3816a44acaf75750487c87e0e",
       "value": 219187256.0
      }
     },
     "3c7ca556ad1f4b55becdb1cd2bf7c196": {
      "model_module": "@jupyter-widgets/base",
      "model_module_version": "1.2.0",
      "model_name": "LayoutModel",
      "state": {
       "_model_module": "@jupyter-widgets/base",
       "_model_module_version": "1.2.0",
       "_model_name": "LayoutModel",
       "_view_count": null,
       "_view_module": "@jupyter-widgets/base",
       "_view_module_version": "1.2.0",
       "_view_name": "LayoutView",
       "align_content": null,
       "align_items": null,
       "align_self": null,
       "border": null,
       "bottom": null,
       "display": null,
       "flex": null,
       "flex_flow": null,
       "grid_area": null,
       "grid_auto_columns": null,
       "grid_auto_flow": null,
       "grid_auto_rows": null,
       "grid_column": null,
       "grid_gap": null,
       "grid_row": null,
       "grid_template_areas": null,
       "grid_template_columns": null,
       "grid_template_rows": null,
       "height": null,
       "justify_content": null,
       "justify_items": null,
       "left": null,
       "margin": null,
       "max_height": null,
       "max_width": null,
       "min_height": null,
       "min_width": null,
       "object_fit": null,
       "object_position": null,
       "order": null,
       "overflow": null,
       "overflow_x": null,
       "overflow_y": null,
       "padding": null,
       "right": null,
       "top": null,
       "visibility": null,
       "width": null
      }
     },
     "3f6d8ba303b94ba5ab8af7af31bc404c": {
      "model_module": "@jupyter-widgets/controls",
      "model_module_version": "1.5.0",
      "model_name": "HTMLModel",
      "state": {
       "_dom_classes": [],
       "_model_module": "@jupyter-widgets/controls",
       "_model_module_version": "1.5.0",
       "_model_name": "HTMLModel",
       "_view_count": null,
       "_view_module": "@jupyter-widgets/controls",
       "_view_module_version": "1.5.0",
       "_view_name": "HTMLView",
       "description": "",
       "description_tooltip": null,
       "layout": "IPY_MODEL_2917688146a24882a03c69c98c7025c4",
       "placeholder": "​",
       "style": "IPY_MODEL_8d35601672304828a635b2e306ad7377",
       "value": " 17/17 [00:00&lt;00:00, 1324.57it/s]"
      }
     },
     "40bf20ec937b413ab312ac6154357ac3": {
      "model_module": "@jupyter-widgets/controls",
      "model_module_version": "1.5.0",
      "model_name": "DescriptionStyleModel",
      "state": {
       "_model_module": "@jupyter-widgets/controls",
       "_model_module_version": "1.5.0",
       "_model_name": "DescriptionStyleModel",
       "_view_count": null,
       "_view_module": "@jupyter-widgets/base",
       "_view_module_version": "1.2.0",
       "_view_name": "StyleView",
       "description_width": ""
      }
     },
     "40cf74ccea3b4bdfb12984176aba097b": {
      "model_module": "@jupyter-widgets/controls",
      "model_module_version": "1.5.0",
      "model_name": "DescriptionStyleModel",
      "state": {
       "_model_module": "@jupyter-widgets/controls",
       "_model_module_version": "1.5.0",
       "_model_name": "DescriptionStyleModel",
       "_view_count": null,
       "_view_module": "@jupyter-widgets/base",
       "_view_module_version": "1.2.0",
       "_view_name": "StyleView",
       "description_width": ""
      }
     },
     "40f8931d872b43869edd36ab3ad3aab8": {
      "model_module": "@jupyter-widgets/controls",
      "model_module_version": "1.5.0",
      "model_name": "ProgressStyleModel",
      "state": {
       "_model_module": "@jupyter-widgets/controls",
       "_model_module_version": "1.5.0",
       "_model_name": "ProgressStyleModel",
       "_view_count": null,
       "_view_module": "@jupyter-widgets/base",
       "_view_module_version": "1.2.0",
       "_view_name": "StyleView",
       "bar_color": null,
       "description_width": ""
      }
     },
     "422357823417445e9953dde43302e836": {
      "model_module": "@jupyter-widgets/controls",
      "model_module_version": "1.5.0",
      "model_name": "HBoxModel",
      "state": {
       "_dom_classes": [],
       "_model_module": "@jupyter-widgets/controls",
       "_model_module_version": "1.5.0",
       "_model_name": "HBoxModel",
       "_view_count": null,
       "_view_module": "@jupyter-widgets/controls",
       "_view_module_version": "1.5.0",
       "_view_name": "HBoxView",
       "box_style": "",
       "children": [
        "IPY_MODEL_f235143c1dab405292cac61e04001acc",
        "IPY_MODEL_194124e86d3641ada31ebfda4a739b17",
        "IPY_MODEL_941a585a368549cd8e3ec6370c6ea5ad"
       ],
       "layout": "IPY_MODEL_21ae8b02e8674a30b5c098c503044575"
      }
     },
     "4250a3ffe2d9497482a3a7edb502642a": {
      "model_module": "@jupyter-widgets/base",
      "model_module_version": "1.2.0",
      "model_name": "LayoutModel",
      "state": {
       "_model_module": "@jupyter-widgets/base",
       "_model_module_version": "1.2.0",
       "_model_name": "LayoutModel",
       "_view_count": null,
       "_view_module": "@jupyter-widgets/base",
       "_view_module_version": "1.2.0",
       "_view_name": "LayoutView",
       "align_content": null,
       "align_items": null,
       "align_self": null,
       "border": null,
       "bottom": null,
       "display": null,
       "flex": null,
       "flex_flow": null,
       "grid_area": null,
       "grid_auto_columns": null,
       "grid_auto_flow": null,
       "grid_auto_rows": null,
       "grid_column": null,
       "grid_gap": null,
       "grid_row": null,
       "grid_template_areas": null,
       "grid_template_columns": null,
       "grid_template_rows": null,
       "height": null,
       "justify_content": null,
       "justify_items": null,
       "left": null,
       "margin": null,
       "max_height": null,
       "max_width": null,
       "min_height": null,
       "min_width": null,
       "object_fit": null,
       "object_position": null,
       "order": null,
       "overflow": null,
       "overflow_x": null,
       "overflow_y": null,
       "padding": null,
       "right": null,
       "top": null,
       "visibility": null,
       "width": null
      }
     },
     "42db6ba65eb940d99cf8f8301a0c9c36": {
      "model_module": "@jupyter-widgets/controls",
      "model_module_version": "1.5.0",
      "model_name": "ProgressStyleModel",
      "state": {
       "_model_module": "@jupyter-widgets/controls",
       "_model_module_version": "1.5.0",
       "_model_name": "ProgressStyleModel",
       "_view_count": null,
       "_view_module": "@jupyter-widgets/base",
       "_view_module_version": "1.2.0",
       "_view_name": "StyleView",
       "bar_color": null,
       "description_width": ""
      }
     },
     "464b8393bd474ff1a53665eacfb117d5": {
      "model_module": "@jupyter-widgets/base",
      "model_module_version": "1.2.0",
      "model_name": "LayoutModel",
      "state": {
       "_model_module": "@jupyter-widgets/base",
       "_model_module_version": "1.2.0",
       "_model_name": "LayoutModel",
       "_view_count": null,
       "_view_module": "@jupyter-widgets/base",
       "_view_module_version": "1.2.0",
       "_view_name": "LayoutView",
       "align_content": null,
       "align_items": null,
       "align_self": null,
       "border": null,
       "bottom": null,
       "display": null,
       "flex": null,
       "flex_flow": null,
       "grid_area": null,
       "grid_auto_columns": null,
       "grid_auto_flow": null,
       "grid_auto_rows": null,
       "grid_column": null,
       "grid_gap": null,
       "grid_row": null,
       "grid_template_areas": null,
       "grid_template_columns": null,
       "grid_template_rows": null,
       "height": null,
       "justify_content": null,
       "justify_items": null,
       "left": null,
       "margin": null,
       "max_height": null,
       "max_width": null,
       "min_height": null,
       "min_width": null,
       "object_fit": null,
       "object_position": null,
       "order": null,
       "overflow": null,
       "overflow_x": null,
       "overflow_y": null,
       "padding": null,
       "right": null,
       "top": null,
       "visibility": null,
       "width": null
      }
     },
     "482b2d79ecc24d47940612a4e9bee231": {
      "model_module": "@jupyter-widgets/controls",
      "model_module_version": "1.5.0",
      "model_name": "ProgressStyleModel",
      "state": {
       "_model_module": "@jupyter-widgets/controls",
       "_model_module_version": "1.5.0",
       "_model_name": "ProgressStyleModel",
       "_view_count": null,
       "_view_module": "@jupyter-widgets/base",
       "_view_module_version": "1.2.0",
       "_view_name": "StyleView",
       "bar_color": null,
       "description_width": ""
      }
     },
     "48f3e20a1a15494f9bcac6b64973f890": {
      "model_module": "@jupyter-widgets/controls",
      "model_module_version": "1.5.0",
      "model_name": "ProgressStyleModel",
      "state": {
       "_model_module": "@jupyter-widgets/controls",
       "_model_module_version": "1.5.0",
       "_model_name": "ProgressStyleModel",
       "_view_count": null,
       "_view_module": "@jupyter-widgets/base",
       "_view_module_version": "1.2.0",
       "_view_name": "StyleView",
       "bar_color": null,
       "description_width": ""
      }
     },
     "49dbac514eec46c0a9c55eebe017ecdf": {
      "model_module": "@jupyter-widgets/controls",
      "model_module_version": "1.5.0",
      "model_name": "HTMLModel",
      "state": {
       "_dom_classes": [],
       "_model_module": "@jupyter-widgets/controls",
       "_model_module_version": "1.5.0",
       "_model_name": "HTMLModel",
       "_view_count": null,
       "_view_module": "@jupyter-widgets/controls",
       "_view_module_version": "1.5.0",
       "_view_name": "HTMLView",
       "description": "",
       "description_tooltip": null,
       "layout": "IPY_MODEL_274636426f7a4409bf949d6eff8f8269",
       "placeholder": "​",
       "style": "IPY_MODEL_62a3f5cc981b443aaa92a81b97e96a37",
       "value": " 205M/205M [00:04&lt;00:00, 42.3MB/s]"
      }
     },
     "4b9bc2962f004afcb931fd3aa92cee44": {
      "model_module": "@jupyter-widgets/controls",
      "model_module_version": "1.5.0",
      "model_name": "DescriptionStyleModel",
      "state": {
       "_model_module": "@jupyter-widgets/controls",
       "_model_module_version": "1.5.0",
       "_model_name": "DescriptionStyleModel",
       "_view_count": null,
       "_view_module": "@jupyter-widgets/base",
       "_view_module_version": "1.2.0",
       "_view_name": "StyleView",
       "description_width": ""
      }
     },
     "4ca5b5e4b92346769fa20944f19bbfec": {
      "model_module": "@jupyter-widgets/controls",
      "model_module_version": "1.5.0",
      "model_name": "HTMLModel",
      "state": {
       "_dom_classes": [],
       "_model_module": "@jupyter-widgets/controls",
       "_model_module_version": "1.5.0",
       "_model_name": "HTMLModel",
       "_view_count": null,
       "_view_module": "@jupyter-widgets/controls",
       "_view_module_version": "1.5.0",
       "_view_name": "HTMLView",
       "description": "",
       "description_tooltip": null,
       "layout": "IPY_MODEL_ba8fa264408c48c6b703b5b39f06d1ba",
       "placeholder": "​",
       "style": "IPY_MODEL_f8e183725387487cadcd6e7e423a4bf5",
       "value": "Resolving data files: 100%"
      }
     },
     "4d0b8a74678d4aeb98f84ed774604856": {
      "model_module": "@jupyter-widgets/controls",
      "model_module_version": "1.5.0",
      "model_name": "HTMLModel",
      "state": {
       "_dom_classes": [],
       "_model_module": "@jupyter-widgets/controls",
       "_model_module_version": "1.5.0",
       "_model_name": "HTMLModel",
       "_view_count": null,
       "_view_module": "@jupyter-widgets/controls",
       "_view_module_version": "1.5.0",
       "_view_name": "HTMLView",
       "description": "",
       "description_tooltip": null,
       "layout": "IPY_MODEL_9907c806fa4b4813b45f71314df0596d",
       "placeholder": "​",
       "style": "IPY_MODEL_00118e6ad10847879177574848e9775b",
       "value": " 205M/205M [00:04&lt;00:00, 47.4MB/s]"
      }
     },
     "4ddc42de40a74131928dba3782cc2a15": {
      "model_module": "@jupyter-widgets/controls",
      "model_module_version": "1.5.0",
      "model_name": "DescriptionStyleModel",
      "state": {
       "_model_module": "@jupyter-widgets/controls",
       "_model_module_version": "1.5.0",
       "_model_name": "DescriptionStyleModel",
       "_view_count": null,
       "_view_module": "@jupyter-widgets/base",
       "_view_module_version": "1.2.0",
       "_view_name": "StyleView",
       "description_width": ""
      }
     },
     "4ef4cb50285c4b4988710b5dac0df93e": {
      "model_module": "@jupyter-widgets/base",
      "model_module_version": "1.2.0",
      "model_name": "LayoutModel",
      "state": {
       "_model_module": "@jupyter-widgets/base",
       "_model_module_version": "1.2.0",
       "_model_name": "LayoutModel",
       "_view_count": null,
       "_view_module": "@jupyter-widgets/base",
       "_view_module_version": "1.2.0",
       "_view_name": "LayoutView",
       "align_content": null,
       "align_items": null,
       "align_self": null,
       "border": null,
       "bottom": null,
       "display": null,
       "flex": null,
       "flex_flow": null,
       "grid_area": null,
       "grid_auto_columns": null,
       "grid_auto_flow": null,
       "grid_auto_rows": null,
       "grid_column": null,
       "grid_gap": null,
       "grid_row": null,
       "grid_template_areas": null,
       "grid_template_columns": null,
       "grid_template_rows": null,
       "height": null,
       "justify_content": null,
       "justify_items": null,
       "left": null,
       "margin": null,
       "max_height": null,
       "max_width": null,
       "min_height": null,
       "min_width": null,
       "object_fit": null,
       "object_position": null,
       "order": null,
       "overflow": null,
       "overflow_x": null,
       "overflow_y": null,
       "padding": null,
       "right": null,
       "top": null,
       "visibility": null,
       "width": null
      }
     },
     "4fed37d18bb54f5ab082653a9095d27b": {
      "model_module": "@jupyter-widgets/base",
      "model_module_version": "1.2.0",
      "model_name": "LayoutModel",
      "state": {
       "_model_module": "@jupyter-widgets/base",
       "_model_module_version": "1.2.0",
       "_model_name": "LayoutModel",
       "_view_count": null,
       "_view_module": "@jupyter-widgets/base",
       "_view_module_version": "1.2.0",
       "_view_name": "LayoutView",
       "align_content": null,
       "align_items": null,
       "align_self": null,
       "border": null,
       "bottom": null,
       "display": null,
       "flex": null,
       "flex_flow": null,
       "grid_area": null,
       "grid_auto_columns": null,
       "grid_auto_flow": null,
       "grid_auto_rows": null,
       "grid_column": null,
       "grid_gap": null,
       "grid_row": null,
       "grid_template_areas": null,
       "grid_template_columns": null,
       "grid_template_rows": null,
       "height": null,
       "justify_content": null,
       "justify_items": null,
       "left": null,
       "margin": null,
       "max_height": null,
       "max_width": null,
       "min_height": null,
       "min_width": null,
       "object_fit": null,
       "object_position": null,
       "order": null,
       "overflow": null,
       "overflow_x": null,
       "overflow_y": null,
       "padding": null,
       "right": null,
       "top": null,
       "visibility": null,
       "width": null
      }
     },
     "513bc0f917084cce9f80af086273da0a": {
      "model_module": "@jupyter-widgets/base",
      "model_module_version": "1.2.0",
      "model_name": "LayoutModel",
      "state": {
       "_model_module": "@jupyter-widgets/base",
       "_model_module_version": "1.2.0",
       "_model_name": "LayoutModel",
       "_view_count": null,
       "_view_module": "@jupyter-widgets/base",
       "_view_module_version": "1.2.0",
       "_view_name": "LayoutView",
       "align_content": null,
       "align_items": null,
       "align_self": null,
       "border": null,
       "bottom": null,
       "display": null,
       "flex": null,
       "flex_flow": null,
       "grid_area": null,
       "grid_auto_columns": null,
       "grid_auto_flow": null,
       "grid_auto_rows": null,
       "grid_column": null,
       "grid_gap": null,
       "grid_row": null,
       "grid_template_areas": null,
       "grid_template_columns": null,
       "grid_template_rows": null,
       "height": null,
       "justify_content": null,
       "justify_items": null,
       "left": null,
       "margin": null,
       "max_height": null,
       "max_width": null,
       "min_height": null,
       "min_width": null,
       "object_fit": null,
       "object_position": null,
       "order": null,
       "overflow": null,
       "overflow_x": null,
       "overflow_y": null,
       "padding": null,
       "right": null,
       "top": null,
       "visibility": null,
       "width": null
      }
     },
     "517926c906a1460c8c77dac74b1b039f": {
      "model_module": "@jupyter-widgets/controls",
      "model_module_version": "1.5.0",
      "model_name": "DescriptionStyleModel",
      "state": {
       "_model_module": "@jupyter-widgets/controls",
       "_model_module_version": "1.5.0",
       "_model_name": "DescriptionStyleModel",
       "_view_count": null,
       "_view_module": "@jupyter-widgets/base",
       "_view_module_version": "1.2.0",
       "_view_name": "StyleView",
       "description_width": ""
      }
     },
     "51ef922c67034869927e49fa5e33971f": {
      "model_module": "@jupyter-widgets/base",
      "model_module_version": "1.2.0",
      "model_name": "LayoutModel",
      "state": {
       "_model_module": "@jupyter-widgets/base",
       "_model_module_version": "1.2.0",
       "_model_name": "LayoutModel",
       "_view_count": null,
       "_view_module": "@jupyter-widgets/base",
       "_view_module_version": "1.2.0",
       "_view_name": "LayoutView",
       "align_content": null,
       "align_items": null,
       "align_self": null,
       "border": null,
       "bottom": null,
       "display": null,
       "flex": null,
       "flex_flow": null,
       "grid_area": null,
       "grid_auto_columns": null,
       "grid_auto_flow": null,
       "grid_auto_rows": null,
       "grid_column": null,
       "grid_gap": null,
       "grid_row": null,
       "grid_template_areas": null,
       "grid_template_columns": null,
       "grid_template_rows": null,
       "height": null,
       "justify_content": null,
       "justify_items": null,
       "left": null,
       "margin": null,
       "max_height": null,
       "max_width": null,
       "min_height": null,
       "min_width": null,
       "object_fit": null,
       "object_position": null,
       "order": null,
       "overflow": null,
       "overflow_x": null,
       "overflow_y": null,
       "padding": null,
       "right": null,
       "top": null,
       "visibility": null,
       "width": null
      }
     },
     "53ee999abc914783bb961e59924942a4": {
      "model_module": "@jupyter-widgets/base",
      "model_module_version": "1.2.0",
      "model_name": "LayoutModel",
      "state": {
       "_model_module": "@jupyter-widgets/base",
       "_model_module_version": "1.2.0",
       "_model_name": "LayoutModel",
       "_view_count": null,
       "_view_module": "@jupyter-widgets/base",
       "_view_module_version": "1.2.0",
       "_view_name": "LayoutView",
       "align_content": null,
       "align_items": null,
       "align_self": null,
       "border": null,
       "bottom": null,
       "display": null,
       "flex": null,
       "flex_flow": null,
       "grid_area": null,
       "grid_auto_columns": null,
       "grid_auto_flow": null,
       "grid_auto_rows": null,
       "grid_column": null,
       "grid_gap": null,
       "grid_row": null,
       "grid_template_areas": null,
       "grid_template_columns": null,
       "grid_template_rows": null,
       "height": null,
       "justify_content": null,
       "justify_items": null,
       "left": null,
       "margin": null,
       "max_height": null,
       "max_width": null,
       "min_height": null,
       "min_width": null,
       "object_fit": null,
       "object_position": null,
       "order": null,
       "overflow": null,
       "overflow_x": null,
       "overflow_y": null,
       "padding": null,
       "right": null,
       "top": null,
       "visibility": null,
       "width": null
      }
     },
     "54230ff5285f4e42946c853af6a9b7ad": {
      "model_module": "@jupyter-widgets/controls",
      "model_module_version": "1.5.0",
      "model_name": "HTMLModel",
      "state": {
       "_dom_classes": [],
       "_model_module": "@jupyter-widgets/controls",
       "_model_module_version": "1.5.0",
       "_model_name": "HTMLModel",
       "_view_count": null,
       "_view_module": "@jupyter-widgets/controls",
       "_view_module_version": "1.5.0",
       "_view_name": "HTMLView",
       "description": "",
       "description_tooltip": null,
       "layout": "IPY_MODEL_c9430e68f98d4eb68b72a867a2b46146",
       "placeholder": "​",
       "style": "IPY_MODEL_e343d79c502142c8a6e91fd36c1c4e1e",
       "value": "Downloading data: 100%"
      }
     },
     "55357cefa44c497e9153fb24dc4c0cb6": {
      "model_module": "@jupyter-widgets/base",
      "model_module_version": "1.2.0",
      "model_name": "LayoutModel",
      "state": {
       "_model_module": "@jupyter-widgets/base",
       "_model_module_version": "1.2.0",
       "_model_name": "LayoutModel",
       "_view_count": null,
       "_view_module": "@jupyter-widgets/base",
       "_view_module_version": "1.2.0",
       "_view_name": "LayoutView",
       "align_content": null,
       "align_items": null,
       "align_self": null,
       "border": null,
       "bottom": null,
       "display": null,
       "flex": null,
       "flex_flow": null,
       "grid_area": null,
       "grid_auto_columns": null,
       "grid_auto_flow": null,
       "grid_auto_rows": null,
       "grid_column": null,
       "grid_gap": null,
       "grid_row": null,
       "grid_template_areas": null,
       "grid_template_columns": null,
       "grid_template_rows": null,
       "height": null,
       "justify_content": null,
       "justify_items": null,
       "left": null,
       "margin": null,
       "max_height": null,
       "max_width": null,
       "min_height": null,
       "min_width": null,
       "object_fit": null,
       "object_position": null,
       "order": null,
       "overflow": null,
       "overflow_x": null,
       "overflow_y": null,
       "padding": null,
       "right": null,
       "top": null,
       "visibility": null,
       "width": null
      }
     },
     "55f60b0c250f46c68e6cec269238da3c": {
      "model_module": "@jupyter-widgets/base",
      "model_module_version": "1.2.0",
      "model_name": "LayoutModel",
      "state": {
       "_model_module": "@jupyter-widgets/base",
       "_model_module_version": "1.2.0",
       "_model_name": "LayoutModel",
       "_view_count": null,
       "_view_module": "@jupyter-widgets/base",
       "_view_module_version": "1.2.0",
       "_view_name": "LayoutView",
       "align_content": null,
       "align_items": null,
       "align_self": null,
       "border": null,
       "bottom": null,
       "display": null,
       "flex": null,
       "flex_flow": null,
       "grid_area": null,
       "grid_auto_columns": null,
       "grid_auto_flow": null,
       "grid_auto_rows": null,
       "grid_column": null,
       "grid_gap": null,
       "grid_row": null,
       "grid_template_areas": null,
       "grid_template_columns": null,
       "grid_template_rows": null,
       "height": null,
       "justify_content": null,
       "justify_items": null,
       "left": null,
       "margin": null,
       "max_height": null,
       "max_width": null,
       "min_height": null,
       "min_width": null,
       "object_fit": null,
       "object_position": null,
       "order": null,
       "overflow": null,
       "overflow_x": null,
       "overflow_y": null,
       "padding": null,
       "right": null,
       "top": null,
       "visibility": null,
       "width": null
      }
     },
     "56663e9f74144b79acd6e629564c2330": {
      "model_module": "@jupyter-widgets/base",
      "model_module_version": "1.2.0",
      "model_name": "LayoutModel",
      "state": {
       "_model_module": "@jupyter-widgets/base",
       "_model_module_version": "1.2.0",
       "_model_name": "LayoutModel",
       "_view_count": null,
       "_view_module": "@jupyter-widgets/base",
       "_view_module_version": "1.2.0",
       "_view_name": "LayoutView",
       "align_content": null,
       "align_items": null,
       "align_self": null,
       "border": null,
       "bottom": null,
       "display": null,
       "flex": null,
       "flex_flow": null,
       "grid_area": null,
       "grid_auto_columns": null,
       "grid_auto_flow": null,
       "grid_auto_rows": null,
       "grid_column": null,
       "grid_gap": null,
       "grid_row": null,
       "grid_template_areas": null,
       "grid_template_columns": null,
       "grid_template_rows": null,
       "height": null,
       "justify_content": null,
       "justify_items": null,
       "left": null,
       "margin": null,
       "max_height": null,
       "max_width": null,
       "min_height": null,
       "min_width": null,
       "object_fit": null,
       "object_position": null,
       "order": null,
       "overflow": null,
       "overflow_x": null,
       "overflow_y": null,
       "padding": null,
       "right": null,
       "top": null,
       "visibility": null,
       "width": null
      }
     },
     "58e92f6b545642c19e915936b866dc55": {
      "model_module": "@jupyter-widgets/controls",
      "model_module_version": "1.5.0",
      "model_name": "HTMLModel",
      "state": {
       "_dom_classes": [],
       "_model_module": "@jupyter-widgets/controls",
       "_model_module_version": "1.5.0",
       "_model_name": "HTMLModel",
       "_view_count": null,
       "_view_module": "@jupyter-widgets/controls",
       "_view_module_version": "1.5.0",
       "_view_name": "HTMLView",
       "description": "",
       "description_tooltip": null,
       "layout": "IPY_MODEL_53ee999abc914783bb961e59924942a4",
       "placeholder": "​",
       "style": "IPY_MODEL_40cf74ccea3b4bdfb12984176aba097b",
       "value": " 169M/169M [00:03&lt;00:00, 52.6MB/s]"
      }
     },
     "598f7c4e46314ca98c2a98d596fccde3": {
      "model_module": "@jupyter-widgets/base",
      "model_module_version": "1.2.0",
      "model_name": "LayoutModel",
      "state": {
       "_model_module": "@jupyter-widgets/base",
       "_model_module_version": "1.2.0",
       "_model_name": "LayoutModel",
       "_view_count": null,
       "_view_module": "@jupyter-widgets/base",
       "_view_module_version": "1.2.0",
       "_view_name": "LayoutView",
       "align_content": null,
       "align_items": null,
       "align_self": null,
       "border": null,
       "bottom": null,
       "display": null,
       "flex": null,
       "flex_flow": null,
       "grid_area": null,
       "grid_auto_columns": null,
       "grid_auto_flow": null,
       "grid_auto_rows": null,
       "grid_column": null,
       "grid_gap": null,
       "grid_row": null,
       "grid_template_areas": null,
       "grid_template_columns": null,
       "grid_template_rows": null,
       "height": null,
       "justify_content": null,
       "justify_items": null,
       "left": null,
       "margin": null,
       "max_height": null,
       "max_width": null,
       "min_height": null,
       "min_width": null,
       "object_fit": null,
       "object_position": null,
       "order": null,
       "overflow": null,
       "overflow_x": null,
       "overflow_y": null,
       "padding": null,
       "right": null,
       "top": null,
       "visibility": null,
       "width": null
      }
     },
     "5bcd9217ec1a49f593f0632e13a0e0d0": {
      "model_module": "@jupyter-widgets/base",
      "model_module_version": "1.2.0",
      "model_name": "LayoutModel",
      "state": {
       "_model_module": "@jupyter-widgets/base",
       "_model_module_version": "1.2.0",
       "_model_name": "LayoutModel",
       "_view_count": null,
       "_view_module": "@jupyter-widgets/base",
       "_view_module_version": "1.2.0",
       "_view_name": "LayoutView",
       "align_content": null,
       "align_items": null,
       "align_self": null,
       "border": null,
       "bottom": null,
       "display": null,
       "flex": null,
       "flex_flow": null,
       "grid_area": null,
       "grid_auto_columns": null,
       "grid_auto_flow": null,
       "grid_auto_rows": null,
       "grid_column": null,
       "grid_gap": null,
       "grid_row": null,
       "grid_template_areas": null,
       "grid_template_columns": null,
       "grid_template_rows": null,
       "height": null,
       "justify_content": null,
       "justify_items": null,
       "left": null,
       "margin": null,
       "max_height": null,
       "max_width": null,
       "min_height": null,
       "min_width": null,
       "object_fit": null,
       "object_position": null,
       "order": null,
       "overflow": null,
       "overflow_x": null,
       "overflow_y": null,
       "padding": null,
       "right": null,
       "top": null,
       "visibility": null,
       "width": null
      }
     },
     "5be737df59904364b873f6a76ca2aaf6": {
      "model_module": "@jupyter-widgets/controls",
      "model_module_version": "1.5.0",
      "model_name": "HTMLModel",
      "state": {
       "_dom_classes": [],
       "_model_module": "@jupyter-widgets/controls",
       "_model_module_version": "1.5.0",
       "_model_name": "HTMLModel",
       "_view_count": null,
       "_view_module": "@jupyter-widgets/controls",
       "_view_module_version": "1.5.0",
       "_view_name": "HTMLView",
       "description": "",
       "description_tooltip": null,
       "layout": "IPY_MODEL_07a18c6599134189bbf71360c39e032f",
       "placeholder": "​",
       "style": "IPY_MODEL_90343d5702c84486918f1e34ccdd2dc3",
       "value": "Downloading data: 100%"
      }
     },
     "5d830a608f5a474ba2328a708979395a": {
      "model_module": "@jupyter-widgets/controls",
      "model_module_version": "1.5.0",
      "model_name": "HBoxModel",
      "state": {
       "_dom_classes": [],
       "_model_module": "@jupyter-widgets/controls",
       "_model_module_version": "1.5.0",
       "_model_name": "HBoxModel",
       "_view_count": null,
       "_view_module": "@jupyter-widgets/controls",
       "_view_module_version": "1.5.0",
       "_view_name": "HBoxView",
       "box_style": "",
       "children": [
        "IPY_MODEL_4ca5b5e4b92346769fa20944f19bbfec",
        "IPY_MODEL_feebeb9352ae461cbe7a4ea6c2d7839a",
        "IPY_MODEL_ec63f11ac77f4af68f4dc1a69a129ccf"
       ],
       "layout": "IPY_MODEL_613d4b7f608a44ae9de7a1880c70a2cd"
      }
     },
     "5f08e5bdb1be425c916a222a61de5bd7": {
      "model_module": "@jupyter-widgets/base",
      "model_module_version": "1.2.0",
      "model_name": "LayoutModel",
      "state": {
       "_model_module": "@jupyter-widgets/base",
       "_model_module_version": "1.2.0",
       "_model_name": "LayoutModel",
       "_view_count": null,
       "_view_module": "@jupyter-widgets/base",
       "_view_module_version": "1.2.0",
       "_view_name": "LayoutView",
       "align_content": null,
       "align_items": null,
       "align_self": null,
       "border": null,
       "bottom": null,
       "display": null,
       "flex": null,
       "flex_flow": null,
       "grid_area": null,
       "grid_auto_columns": null,
       "grid_auto_flow": null,
       "grid_auto_rows": null,
       "grid_column": null,
       "grid_gap": null,
       "grid_row": null,
       "grid_template_areas": null,
       "grid_template_columns": null,
       "grid_template_rows": null,
       "height": null,
       "justify_content": null,
       "justify_items": null,
       "left": null,
       "margin": null,
       "max_height": null,
       "max_width": null,
       "min_height": null,
       "min_width": null,
       "object_fit": null,
       "object_position": null,
       "order": null,
       "overflow": null,
       "overflow_x": null,
       "overflow_y": null,
       "padding": null,
       "right": null,
       "top": null,
       "visibility": null,
       "width": null
      }
     },
     "5f850c9d802b43a1803986d39409f212": {
      "model_module": "@jupyter-widgets/base",
      "model_module_version": "1.2.0",
      "model_name": "LayoutModel",
      "state": {
       "_model_module": "@jupyter-widgets/base",
       "_model_module_version": "1.2.0",
       "_model_name": "LayoutModel",
       "_view_count": null,
       "_view_module": "@jupyter-widgets/base",
       "_view_module_version": "1.2.0",
       "_view_name": "LayoutView",
       "align_content": null,
       "align_items": null,
       "align_self": null,
       "border": null,
       "bottom": null,
       "display": null,
       "flex": null,
       "flex_flow": null,
       "grid_area": null,
       "grid_auto_columns": null,
       "grid_auto_flow": null,
       "grid_auto_rows": null,
       "grid_column": null,
       "grid_gap": null,
       "grid_row": null,
       "grid_template_areas": null,
       "grid_template_columns": null,
       "grid_template_rows": null,
       "height": null,
       "justify_content": null,
       "justify_items": null,
       "left": null,
       "margin": null,
       "max_height": null,
       "max_width": null,
       "min_height": null,
       "min_width": null,
       "object_fit": null,
       "object_position": null,
       "order": null,
       "overflow": null,
       "overflow_x": null,
       "overflow_y": null,
       "padding": null,
       "right": null,
       "top": null,
       "visibility": null,
       "width": null
      }
     },
     "606ad358251849ad89f1a6c19aeb69f7": {
      "model_module": "@jupyter-widgets/controls",
      "model_module_version": "1.5.0",
      "model_name": "DescriptionStyleModel",
      "state": {
       "_model_module": "@jupyter-widgets/controls",
       "_model_module_version": "1.5.0",
       "_model_name": "DescriptionStyleModel",
       "_view_count": null,
       "_view_module": "@jupyter-widgets/base",
       "_view_module_version": "1.2.0",
       "_view_name": "StyleView",
       "description_width": ""
      }
     },
     "61302c4028f345718506a273204d237c": {
      "model_module": "@jupyter-widgets/controls",
      "model_module_version": "1.5.0",
      "model_name": "HTMLModel",
      "state": {
       "_dom_classes": [],
       "_model_module": "@jupyter-widgets/controls",
       "_model_module_version": "1.5.0",
       "_model_name": "HTMLModel",
       "_view_count": null,
       "_view_module": "@jupyter-widgets/controls",
       "_view_module_version": "1.5.0",
       "_view_name": "HTMLView",
       "description": "",
       "description_tooltip": null,
       "layout": "IPY_MODEL_154d22048b3546d5af09983ff608df4d",
       "placeholder": "​",
       "style": "IPY_MODEL_219945ba88a846acb8a0d5ae7a78e9b1",
       "value": "Downloading data: 100%"
      }
     },
     "613d4b7f608a44ae9de7a1880c70a2cd": {
      "model_module": "@jupyter-widgets/base",
      "model_module_version": "1.2.0",
      "model_name": "LayoutModel",
      "state": {
       "_model_module": "@jupyter-widgets/base",
       "_model_module_version": "1.2.0",
       "_model_name": "LayoutModel",
       "_view_count": null,
       "_view_module": "@jupyter-widgets/base",
       "_view_module_version": "1.2.0",
       "_view_name": "LayoutView",
       "align_content": null,
       "align_items": null,
       "align_self": null,
       "border": null,
       "bottom": null,
       "display": null,
       "flex": null,
       "flex_flow": null,
       "grid_area": null,
       "grid_auto_columns": null,
       "grid_auto_flow": null,
       "grid_auto_rows": null,
       "grid_column": null,
       "grid_gap": null,
       "grid_row": null,
       "grid_template_areas": null,
       "grid_template_columns": null,
       "grid_template_rows": null,
       "height": null,
       "justify_content": null,
       "justify_items": null,
       "left": null,
       "margin": null,
       "max_height": null,
       "max_width": null,
       "min_height": null,
       "min_width": null,
       "object_fit": null,
       "object_position": null,
       "order": null,
       "overflow": null,
       "overflow_x": null,
       "overflow_y": null,
       "padding": null,
       "right": null,
       "top": null,
       "visibility": null,
       "width": null
      }
     },
     "62a3f5cc981b443aaa92a81b97e96a37": {
      "model_module": "@jupyter-widgets/controls",
      "model_module_version": "1.5.0",
      "model_name": "DescriptionStyleModel",
      "state": {
       "_model_module": "@jupyter-widgets/controls",
       "_model_module_version": "1.5.0",
       "_model_name": "DescriptionStyleModel",
       "_view_count": null,
       "_view_module": "@jupyter-widgets/base",
       "_view_module_version": "1.2.0",
       "_view_name": "StyleView",
       "description_width": ""
      }
     },
     "6517a4cd1999489da24b35d9c47704f8": {
      "model_module": "@jupyter-widgets/controls",
      "model_module_version": "1.5.0",
      "model_name": "FloatProgressModel",
      "state": {
       "_dom_classes": [],
       "_model_module": "@jupyter-widgets/controls",
       "_model_module_version": "1.5.0",
       "_model_name": "FloatProgressModel",
       "_view_count": null,
       "_view_module": "@jupyter-widgets/controls",
       "_view_module_version": "1.5.0",
       "_view_name": "ProgressView",
       "bar_style": "success",
       "description": "",
       "description_tooltip": null,
       "layout": "IPY_MODEL_87c75c0da5634be9a67c0a3f0d939990",
       "max": 2564646.0,
       "min": 0.0,
       "orientation": "horizontal",
       "style": "IPY_MODEL_3a52ea851cf84c5e9b129d5d27499c43",
       "value": 2564646.0
      }
     },
     "654900a9f88242f7af95e719a5373509": {
      "model_module": "@jupyter-widgets/base",
      "model_module_version": "1.2.0",
      "model_name": "LayoutModel",
      "state": {
       "_model_module": "@jupyter-widgets/base",
       "_model_module_version": "1.2.0",
       "_model_name": "LayoutModel",
       "_view_count": null,
       "_view_module": "@jupyter-widgets/base",
       "_view_module_version": "1.2.0",
       "_view_name": "LayoutView",
       "align_content": null,
       "align_items": null,
       "align_self": null,
       "border": null,
       "bottom": null,
       "display": null,
       "flex": null,
       "flex_flow": null,
       "grid_area": null,
       "grid_auto_columns": null,
       "grid_auto_flow": null,
       "grid_auto_rows": null,
       "grid_column": null,
       "grid_gap": null,
       "grid_row": null,
       "grid_template_areas": null,
       "grid_template_columns": null,
       "grid_template_rows": null,
       "height": null,
       "justify_content": null,
       "justify_items": null,
       "left": null,
       "margin": null,
       "max_height": null,
       "max_width": null,
       "min_height": null,
       "min_width": null,
       "object_fit": null,
       "object_position": null,
       "order": null,
       "overflow": null,
       "overflow_x": null,
       "overflow_y": null,
       "padding": null,
       "right": null,
       "top": null,
       "visibility": null,
       "width": null
      }
     },
     "65f58be677c44bdd9ee800512eeceef6": {
      "model_module": "@jupyter-widgets/controls",
      "model_module_version": "1.5.0",
      "model_name": "HTMLModel",
      "state": {
       "_dom_classes": [],
       "_model_module": "@jupyter-widgets/controls",
       "_model_module_version": "1.5.0",
       "_model_name": "HTMLModel",
       "_view_count": null,
       "_view_module": "@jupyter-widgets/controls",
       "_view_module_version": "1.5.0",
       "_view_name": "HTMLView",
       "description": "",
       "description_tooltip": null,
       "layout": "IPY_MODEL_ff973fe2e5ff43388adffa0990c118a1",
       "placeholder": "​",
       "style": "IPY_MODEL_862072f1d66b462793ecc81cadddf0ad",
       "value": " 222M/222M [00:05&lt;00:00, 48.1MB/s]"
      }
     },
     "66aab068634e4d2d953790d3857f98ac": {
      "model_module": "@jupyter-widgets/controls",
      "model_module_version": "1.5.0",
      "model_name": "FloatProgressModel",
      "state": {
       "_dom_classes": [],
       "_model_module": "@jupyter-widgets/controls",
       "_model_module_version": "1.5.0",
       "_model_name": "FloatProgressModel",
       "_view_count": null,
       "_view_module": "@jupyter-widgets/controls",
       "_view_module_version": "1.5.0",
       "_view_name": "ProgressView",
       "bar_style": "success",
       "description": "",
       "description_tooltip": null,
       "layout": "IPY_MODEL_5bcd9217ec1a49f593f0632e13a0e0d0",
       "max": 130835.0,
       "min": 0.0,
       "orientation": "horizontal",
       "style": "IPY_MODEL_14bba4215561409782fcb9335a20402f",
       "value": 130835.0
      }
     },
     "66ca98595f2d48c7a12ca0dd613e042b": {
      "model_module": "@jupyter-widgets/base",
      "model_module_version": "1.2.0",
      "model_name": "LayoutModel",
      "state": {
       "_model_module": "@jupyter-widgets/base",
       "_model_module_version": "1.2.0",
       "_model_name": "LayoutModel",
       "_view_count": null,
       "_view_module": "@jupyter-widgets/base",
       "_view_module_version": "1.2.0",
       "_view_name": "LayoutView",
       "align_content": null,
       "align_items": null,
       "align_self": null,
       "border": null,
       "bottom": null,
       "display": null,
       "flex": null,
       "flex_flow": null,
       "grid_area": null,
       "grid_auto_columns": null,
       "grid_auto_flow": null,
       "grid_auto_rows": null,
       "grid_column": null,
       "grid_gap": null,
       "grid_row": null,
       "grid_template_areas": null,
       "grid_template_columns": null,
       "grid_template_rows": null,
       "height": null,
       "justify_content": null,
       "justify_items": null,
       "left": null,
       "margin": null,
       "max_height": null,
       "max_width": null,
       "min_height": null,
       "min_width": null,
       "object_fit": null,
       "object_position": null,
       "order": null,
       "overflow": null,
       "overflow_x": null,
       "overflow_y": null,
       "padding": null,
       "right": null,
       "top": null,
       "visibility": null,
       "width": null
      }
     },
     "692b7533edd747aeab5ea0baeee1288d": {
      "model_module": "@jupyter-widgets/controls",
      "model_module_version": "1.5.0",
      "model_name": "HTMLModel",
      "state": {
       "_dom_classes": [],
       "_model_module": "@jupyter-widgets/controls",
       "_model_module_version": "1.5.0",
       "_model_name": "HTMLModel",
       "_view_count": null,
       "_view_module": "@jupyter-widgets/controls",
       "_view_module_version": "1.5.0",
       "_view_name": "HTMLView",
       "description": "",
       "description_tooltip": null,
       "layout": "IPY_MODEL_598f7c4e46314ca98c2a98d596fccde3",
       "placeholder": "​",
       "style": "IPY_MODEL_e52d996357b34defa04b909b84e79cc1",
       "value": "Downloading data: 100%"
      }
     },
     "6b595cf42d0643d2ae70ddffacf6387a": {
      "model_module": "@jupyter-widgets/base",
      "model_module_version": "1.2.0",
      "model_name": "LayoutModel",
      "state": {
       "_model_module": "@jupyter-widgets/base",
       "_model_module_version": "1.2.0",
       "_model_name": "LayoutModel",
       "_view_count": null,
       "_view_module": "@jupyter-widgets/base",
       "_view_module_version": "1.2.0",
       "_view_name": "LayoutView",
       "align_content": null,
       "align_items": null,
       "align_self": null,
       "border": null,
       "bottom": null,
       "display": null,
       "flex": null,
       "flex_flow": null,
       "grid_area": null,
       "grid_auto_columns": null,
       "grid_auto_flow": null,
       "grid_auto_rows": null,
       "grid_column": null,
       "grid_gap": null,
       "grid_row": null,
       "grid_template_areas": null,
       "grid_template_columns": null,
       "grid_template_rows": null,
       "height": null,
       "justify_content": null,
       "justify_items": null,
       "left": null,
       "margin": null,
       "max_height": null,
       "max_width": null,
       "min_height": null,
       "min_width": null,
       "object_fit": null,
       "object_position": null,
       "order": null,
       "overflow": null,
       "overflow_x": null,
       "overflow_y": null,
       "padding": null,
       "right": null,
       "top": null,
       "visibility": null,
       "width": null
      }
     },
     "6c8718a608794e54a083273f15010184": {
      "model_module": "@jupyter-widgets/controls",
      "model_module_version": "1.5.0",
      "model_name": "DescriptionStyleModel",
      "state": {
       "_model_module": "@jupyter-widgets/controls",
       "_model_module_version": "1.5.0",
       "_model_name": "DescriptionStyleModel",
       "_view_count": null,
       "_view_module": "@jupyter-widgets/base",
       "_view_module_version": "1.2.0",
       "_view_name": "StyleView",
       "description_width": ""
      }
     },
     "6d6063cfedbe4de28cecff93a80aa7d6": {
      "model_module": "@jupyter-widgets/controls",
      "model_module_version": "1.5.0",
      "model_name": "ProgressStyleModel",
      "state": {
       "_model_module": "@jupyter-widgets/controls",
       "_model_module_version": "1.5.0",
       "_model_name": "ProgressStyleModel",
       "_view_count": null,
       "_view_module": "@jupyter-widgets/base",
       "_view_module_version": "1.2.0",
       "_view_name": "StyleView",
       "bar_color": null,
       "description_width": ""
      }
     },
     "6d7bfa4ae4d24878bb6e27492ea4d88a": {
      "model_module": "@jupyter-widgets/controls",
      "model_module_version": "1.5.0",
      "model_name": "HTMLModel",
      "state": {
       "_dom_classes": [],
       "_model_module": "@jupyter-widgets/controls",
       "_model_module_version": "1.5.0",
       "_model_name": "HTMLModel",
       "_view_count": null,
       "_view_module": "@jupyter-widgets/controls",
       "_view_module_version": "1.5.0",
       "_view_name": "HTMLView",
       "description": "",
       "description_tooltip": null,
       "layout": "IPY_MODEL_22379c0e1a034edd81a627b9a93e643a",
       "placeholder": "​",
       "style": "IPY_MODEL_091cbc7f4f7848cbab79f29b3e8abf18",
       "value": "Downloading data: 100%"
      }
     },
     "6e0f797419d045b7a901fde0c9607e1c": {
      "model_module": "@jupyter-widgets/base",
      "model_module_version": "1.2.0",
      "model_name": "LayoutModel",
      "state": {
       "_model_module": "@jupyter-widgets/base",
       "_model_module_version": "1.2.0",
       "_model_name": "LayoutModel",
       "_view_count": null,
       "_view_module": "@jupyter-widgets/base",
       "_view_module_version": "1.2.0",
       "_view_name": "LayoutView",
       "align_content": null,
       "align_items": null,
       "align_self": null,
       "border": null,
       "bottom": null,
       "display": null,
       "flex": null,
       "flex_flow": null,
       "grid_area": null,
       "grid_auto_columns": null,
       "grid_auto_flow": null,
       "grid_auto_rows": null,
       "grid_column": null,
       "grid_gap": null,
       "grid_row": null,
       "grid_template_areas": null,
       "grid_template_columns": null,
       "grid_template_rows": null,
       "height": null,
       "justify_content": null,
       "justify_items": null,
       "left": null,
       "margin": null,
       "max_height": null,
       "max_width": null,
       "min_height": null,
       "min_width": null,
       "object_fit": null,
       "object_position": null,
       "order": null,
       "overflow": null,
       "overflow_x": null,
       "overflow_y": null,
       "padding": null,
       "right": null,
       "top": null,
       "visibility": null,
       "width": null
      }
     },
     "71f25b62bfbe449c8424f7fa616ff06c": {
      "model_module": "@jupyter-widgets/controls",
      "model_module_version": "1.5.0",
      "model_name": "FloatProgressModel",
      "state": {
       "_dom_classes": [],
       "_model_module": "@jupyter-widgets/controls",
       "_model_module_version": "1.5.0",
       "_model_name": "FloatProgressModel",
       "_view_count": null,
       "_view_module": "@jupyter-widgets/controls",
       "_view_module_version": "1.5.0",
       "_view_name": "ProgressView",
       "bar_style": "success",
       "description": "",
       "description_tooltip": null,
       "layout": "IPY_MODEL_16b3900a0a594a1890ab661984e5c2c1",
       "max": 17.0,
       "min": 0.0,
       "orientation": "horizontal",
       "style": "IPY_MODEL_d5725397768f4f8b8ee50791601bc674",
       "value": 17.0
      }
     },
     "746a70d9df6c4f83b1242161298d3eac": {
      "model_module": "@jupyter-widgets/controls",
      "model_module_version": "1.5.0",
      "model_name": "DescriptionStyleModel",
      "state": {
       "_model_module": "@jupyter-widgets/controls",
       "_model_module_version": "1.5.0",
       "_model_name": "DescriptionStyleModel",
       "_view_count": null,
       "_view_module": "@jupyter-widgets/base",
       "_view_module_version": "1.2.0",
       "_view_name": "StyleView",
       "description_width": ""
      }
     },
     "795325a651ee4e75aaa6310266e0ce00": {
      "model_module": "@jupyter-widgets/controls",
      "model_module_version": "1.5.0",
      "model_name": "DescriptionStyleModel",
      "state": {
       "_model_module": "@jupyter-widgets/controls",
       "_model_module_version": "1.5.0",
       "_model_name": "DescriptionStyleModel",
       "_view_count": null,
       "_view_module": "@jupyter-widgets/base",
       "_view_module_version": "1.2.0",
       "_view_name": "StyleView",
       "description_width": ""
      }
     },
     "79827a1ea3284bed911107464a6dc450": {
      "model_module": "@jupyter-widgets/base",
      "model_module_version": "1.2.0",
      "model_name": "LayoutModel",
      "state": {
       "_model_module": "@jupyter-widgets/base",
       "_model_module_version": "1.2.0",
       "_model_name": "LayoutModel",
       "_view_count": null,
       "_view_module": "@jupyter-widgets/base",
       "_view_module_version": "1.2.0",
       "_view_name": "LayoutView",
       "align_content": null,
       "align_items": null,
       "align_self": null,
       "border": null,
       "bottom": null,
       "display": null,
       "flex": null,
       "flex_flow": null,
       "grid_area": null,
       "grid_auto_columns": null,
       "grid_auto_flow": null,
       "grid_auto_rows": null,
       "grid_column": null,
       "grid_gap": null,
       "grid_row": null,
       "grid_template_areas": null,
       "grid_template_columns": null,
       "grid_template_rows": null,
       "height": null,
       "justify_content": null,
       "justify_items": null,
       "left": null,
       "margin": null,
       "max_height": null,
       "max_width": null,
       "min_height": null,
       "min_width": null,
       "object_fit": null,
       "object_position": null,
       "order": null,
       "overflow": null,
       "overflow_x": null,
       "overflow_y": null,
       "padding": null,
       "right": null,
       "top": null,
       "visibility": null,
       "width": null
      }
     },
     "7aa1bd58612b4926a47d8e8cf605a155": {
      "model_module": "@jupyter-widgets/base",
      "model_module_version": "1.2.0",
      "model_name": "LayoutModel",
      "state": {
       "_model_module": "@jupyter-widgets/base",
       "_model_module_version": "1.2.0",
       "_model_name": "LayoutModel",
       "_view_count": null,
       "_view_module": "@jupyter-widgets/base",
       "_view_module_version": "1.2.0",
       "_view_name": "LayoutView",
       "align_content": null,
       "align_items": null,
       "align_self": null,
       "border": null,
       "bottom": null,
       "display": null,
       "flex": null,
       "flex_flow": null,
       "grid_area": null,
       "grid_auto_columns": null,
       "grid_auto_flow": null,
       "grid_auto_rows": null,
       "grid_column": null,
       "grid_gap": null,
       "grid_row": null,
       "grid_template_areas": null,
       "grid_template_columns": null,
       "grid_template_rows": null,
       "height": null,
       "justify_content": null,
       "justify_items": null,
       "left": null,
       "margin": null,
       "max_height": null,
       "max_width": null,
       "min_height": null,
       "min_width": null,
       "object_fit": null,
       "object_position": null,
       "order": null,
       "overflow": null,
       "overflow_x": null,
       "overflow_y": null,
       "padding": null,
       "right": null,
       "top": null,
       "visibility": null,
       "width": null
      }
     },
     "7b23da31e86f4e8fb6346ff2f849486a": {
      "model_module": "@jupyter-widgets/base",
      "model_module_version": "1.2.0",
      "model_name": "LayoutModel",
      "state": {
       "_model_module": "@jupyter-widgets/base",
       "_model_module_version": "1.2.0",
       "_model_name": "LayoutModel",
       "_view_count": null,
       "_view_module": "@jupyter-widgets/base",
       "_view_module_version": "1.2.0",
       "_view_name": "LayoutView",
       "align_content": null,
       "align_items": null,
       "align_self": null,
       "border": null,
       "bottom": null,
       "display": null,
       "flex": null,
       "flex_flow": null,
       "grid_area": null,
       "grid_auto_columns": null,
       "grid_auto_flow": null,
       "grid_auto_rows": null,
       "grid_column": null,
       "grid_gap": null,
       "grid_row": null,
       "grid_template_areas": null,
       "grid_template_columns": null,
       "grid_template_rows": null,
       "height": null,
       "justify_content": null,
       "justify_items": null,
       "left": null,
       "margin": null,
       "max_height": null,
       "max_width": null,
       "min_height": null,
       "min_width": null,
       "object_fit": null,
       "object_position": null,
       "order": null,
       "overflow": null,
       "overflow_x": null,
       "overflow_y": null,
       "padding": null,
       "right": null,
       "top": null,
       "visibility": null,
       "width": null
      }
     },
     "7c5af007464140468ffa31c5db0d4c2e": {
      "model_module": "@jupyter-widgets/controls",
      "model_module_version": "1.5.0",
      "model_name": "FloatProgressModel",
      "state": {
       "_dom_classes": [],
       "_model_module": "@jupyter-widgets/controls",
       "_model_module_version": "1.5.0",
       "_model_name": "FloatProgressModel",
       "_view_count": null,
       "_view_module": "@jupyter-widgets/controls",
       "_view_module_version": "1.5.0",
       "_view_name": "ProgressView",
       "bar_style": "success",
       "description": "",
       "description_tooltip": null,
       "layout": "IPY_MODEL_eafd7b671ec449c6b0a7af70fd80550c",
       "max": 221881001.0,
       "min": 0.0,
       "orientation": "horizontal",
       "style": "IPY_MODEL_482b2d79ecc24d47940612a4e9bee231",
       "value": 221881001.0
      }
     },
     "7d7297fbe5a3440495791b9d986a450d": {
      "model_module": "@jupyter-widgets/controls",
      "model_module_version": "1.5.0",
      "model_name": "DescriptionStyleModel",
      "state": {
       "_model_module": "@jupyter-widgets/controls",
       "_model_module_version": "1.5.0",
       "_model_name": "DescriptionStyleModel",
       "_view_count": null,
       "_view_module": "@jupyter-widgets/base",
       "_view_module_version": "1.2.0",
       "_view_name": "StyleView",
       "description_width": ""
      }
     },
     "7e7e95dcf765449dacd4e43619dda039": {
      "model_module": "@jupyter-widgets/controls",
      "model_module_version": "1.5.0",
      "model_name": "DescriptionStyleModel",
      "state": {
       "_model_module": "@jupyter-widgets/controls",
       "_model_module_version": "1.5.0",
       "_model_name": "DescriptionStyleModel",
       "_view_count": null,
       "_view_module": "@jupyter-widgets/base",
       "_view_module_version": "1.2.0",
       "_view_name": "StyleView",
       "description_width": ""
      }
     },
     "7eb1b6382eb14b00a679ce16d1f18790": {
      "model_module": "@jupyter-widgets/base",
      "model_module_version": "1.2.0",
      "model_name": "LayoutModel",
      "state": {
       "_model_module": "@jupyter-widgets/base",
       "_model_module_version": "1.2.0",
       "_model_name": "LayoutModel",
       "_view_count": null,
       "_view_module": "@jupyter-widgets/base",
       "_view_module_version": "1.2.0",
       "_view_name": "LayoutView",
       "align_content": null,
       "align_items": null,
       "align_self": null,
       "border": null,
       "bottom": null,
       "display": null,
       "flex": null,
       "flex_flow": null,
       "grid_area": null,
       "grid_auto_columns": null,
       "grid_auto_flow": null,
       "grid_auto_rows": null,
       "grid_column": null,
       "grid_gap": null,
       "grid_row": null,
       "grid_template_areas": null,
       "grid_template_columns": null,
       "grid_template_rows": null,
       "height": null,
       "justify_content": null,
       "justify_items": null,
       "left": null,
       "margin": null,
       "max_height": null,
       "max_width": null,
       "min_height": null,
       "min_width": null,
       "object_fit": null,
       "object_position": null,
       "order": null,
       "overflow": null,
       "overflow_x": null,
       "overflow_y": null,
       "padding": null,
       "right": null,
       "top": null,
       "visibility": null,
       "width": null
      }
     },
     "7ff18a7585614b0296f55a5d94d017b8": {
      "model_module": "@jupyter-widgets/controls",
      "model_module_version": "1.5.0",
      "model_name": "HTMLModel",
      "state": {
       "_dom_classes": [],
       "_model_module": "@jupyter-widgets/controls",
       "_model_module_version": "1.5.0",
       "_model_name": "HTMLModel",
       "_view_count": null,
       "_view_module": "@jupyter-widgets/controls",
       "_view_module_version": "1.5.0",
       "_view_name": "HTMLView",
       "description": "",
       "description_tooltip": null,
       "layout": "IPY_MODEL_dc4a620a94f74eb9a32b41f48ebcedfc",
       "placeholder": "​",
       "style": "IPY_MODEL_26e43de6bf53497fa444c20608f42e0e",
       "value": "Downloading data: 100%"
      }
     },
     "82f7ec6cd20b4045851e2649e525697d": {
      "model_module": "@jupyter-widgets/controls",
      "model_module_version": "1.5.0",
      "model_name": "HBoxModel",
      "state": {
       "_dom_classes": [],
       "_model_module": "@jupyter-widgets/controls",
       "_model_module_version": "1.5.0",
       "_model_name": "HBoxModel",
       "_view_count": null,
       "_view_module": "@jupyter-widgets/controls",
       "_view_module_version": "1.5.0",
       "_view_name": "HBoxView",
       "box_style": "",
       "children": [
        "IPY_MODEL_692b7533edd747aeab5ea0baeee1288d",
        "IPY_MODEL_a3c347b9ba2d4d48a541983b38c62080",
        "IPY_MODEL_c0d874c939b14fa5acaa1a6010e443c1"
       ],
       "layout": "IPY_MODEL_a82a151b097140a0a53c90b2caba15a4"
      }
     },
     "83fa9ab2a8104e64b4cc143e86e78957": {
      "model_module": "@jupyter-widgets/controls",
      "model_module_version": "1.5.0",
      "model_name": "DescriptionStyleModel",
      "state": {
       "_model_module": "@jupyter-widgets/controls",
       "_model_module_version": "1.5.0",
       "_model_name": "DescriptionStyleModel",
       "_view_count": null,
       "_view_module": "@jupyter-widgets/base",
       "_view_module_version": "1.2.0",
       "_view_name": "StyleView",
       "description_width": ""
      }
     },
     "852b30ec313440ec943641801fee836e": {
      "model_module": "@jupyter-widgets/base",
      "model_module_version": "1.2.0",
      "model_name": "LayoutModel",
      "state": {
       "_model_module": "@jupyter-widgets/base",
       "_model_module_version": "1.2.0",
       "_model_name": "LayoutModel",
       "_view_count": null,
       "_view_module": "@jupyter-widgets/base",
       "_view_module_version": "1.2.0",
       "_view_name": "LayoutView",
       "align_content": null,
       "align_items": null,
       "align_self": null,
       "border": null,
       "bottom": null,
       "display": null,
       "flex": null,
       "flex_flow": null,
       "grid_area": null,
       "grid_auto_columns": null,
       "grid_auto_flow": null,
       "grid_auto_rows": null,
       "grid_column": null,
       "grid_gap": null,
       "grid_row": null,
       "grid_template_areas": null,
       "grid_template_columns": null,
       "grid_template_rows": null,
       "height": null,
       "justify_content": null,
       "justify_items": null,
       "left": null,
       "margin": null,
       "max_height": null,
       "max_width": null,
       "min_height": null,
       "min_width": null,
       "object_fit": null,
       "object_position": null,
       "order": null,
       "overflow": null,
       "overflow_x": null,
       "overflow_y": null,
       "padding": null,
       "right": null,
       "top": null,
       "visibility": null,
       "width": null
      }
     },
     "859cbf25e79c45218ad52009685c4f54": {
      "model_module": "@jupyter-widgets/controls",
      "model_module_version": "1.5.0",
      "model_name": "ProgressStyleModel",
      "state": {
       "_model_module": "@jupyter-widgets/controls",
       "_model_module_version": "1.5.0",
       "_model_name": "ProgressStyleModel",
       "_view_count": null,
       "_view_module": "@jupyter-widgets/base",
       "_view_module_version": "1.2.0",
       "_view_name": "StyleView",
       "bar_color": null,
       "description_width": ""
      }
     },
     "862072f1d66b462793ecc81cadddf0ad": {
      "model_module": "@jupyter-widgets/controls",
      "model_module_version": "1.5.0",
      "model_name": "DescriptionStyleModel",
      "state": {
       "_model_module": "@jupyter-widgets/controls",
       "_model_module_version": "1.5.0",
       "_model_name": "DescriptionStyleModel",
       "_view_count": null,
       "_view_module": "@jupyter-widgets/base",
       "_view_module_version": "1.2.0",
       "_view_name": "StyleView",
       "description_width": ""
      }
     },
     "8643517a113f4273bd728091211d5acd": {
      "model_module": "@jupyter-widgets/base",
      "model_module_version": "1.2.0",
      "model_name": "LayoutModel",
      "state": {
       "_model_module": "@jupyter-widgets/base",
       "_model_module_version": "1.2.0",
       "_model_name": "LayoutModel",
       "_view_count": null,
       "_view_module": "@jupyter-widgets/base",
       "_view_module_version": "1.2.0",
       "_view_name": "LayoutView",
       "align_content": null,
       "align_items": null,
       "align_self": null,
       "border": null,
       "bottom": null,
       "display": null,
       "flex": null,
       "flex_flow": null,
       "grid_area": null,
       "grid_auto_columns": null,
       "grid_auto_flow": null,
       "grid_auto_rows": null,
       "grid_column": null,
       "grid_gap": null,
       "grid_row": null,
       "grid_template_areas": null,
       "grid_template_columns": null,
       "grid_template_rows": null,
       "height": null,
       "justify_content": null,
       "justify_items": null,
       "left": null,
       "margin": null,
       "max_height": null,
       "max_width": null,
       "min_height": null,
       "min_width": null,
       "object_fit": null,
       "object_position": null,
       "order": null,
       "overflow": null,
       "overflow_x": null,
       "overflow_y": null,
       "padding": null,
       "right": null,
       "top": null,
       "visibility": null,
       "width": null
      }
     },
     "864a0eec0c69458787c9c04cadf90838": {
      "model_module": "@jupyter-widgets/controls",
      "model_module_version": "1.5.0",
      "model_name": "HBoxModel",
      "state": {
       "_dom_classes": [],
       "_model_module": "@jupyter-widgets/controls",
       "_model_module_version": "1.5.0",
       "_model_name": "HBoxModel",
       "_view_count": null,
       "_view_module": "@jupyter-widgets/controls",
       "_view_module_version": "1.5.0",
       "_view_name": "HBoxView",
       "box_style": "",
       "children": [
        "IPY_MODEL_6d7bfa4ae4d24878bb6e27492ea4d88a",
        "IPY_MODEL_0157e2b1e9d94738a3e9cffbcae4fddf",
        "IPY_MODEL_29dd3877402a4dd982041989d26f3cba"
       ],
       "layout": "IPY_MODEL_ac8005f09a864a0c9b735e74bb0b7ecc"
      }
     },
     "86b17ffb79194adc8e433d2f2e56bc01": {
      "model_module": "@jupyter-widgets/base",
      "model_module_version": "1.2.0",
      "model_name": "LayoutModel",
      "state": {
       "_model_module": "@jupyter-widgets/base",
       "_model_module_version": "1.2.0",
       "_model_name": "LayoutModel",
       "_view_count": null,
       "_view_module": "@jupyter-widgets/base",
       "_view_module_version": "1.2.0",
       "_view_name": "LayoutView",
       "align_content": null,
       "align_items": null,
       "align_self": null,
       "border": null,
       "bottom": null,
       "display": null,
       "flex": null,
       "flex_flow": null,
       "grid_area": null,
       "grid_auto_columns": null,
       "grid_auto_flow": null,
       "grid_auto_rows": null,
       "grid_column": null,
       "grid_gap": null,
       "grid_row": null,
       "grid_template_areas": null,
       "grid_template_columns": null,
       "grid_template_rows": null,
       "height": null,
       "justify_content": null,
       "justify_items": null,
       "left": null,
       "margin": null,
       "max_height": null,
       "max_width": null,
       "min_height": null,
       "min_width": null,
       "object_fit": null,
       "object_position": null,
       "order": null,
       "overflow": null,
       "overflow_x": null,
       "overflow_y": null,
       "padding": null,
       "right": null,
       "top": null,
       "visibility": null,
       "width": null
      }
     },
     "87347803d9d542c2af4c78141285aff0": {
      "model_module": "@jupyter-widgets/base",
      "model_module_version": "1.2.0",
      "model_name": "LayoutModel",
      "state": {
       "_model_module": "@jupyter-widgets/base",
       "_model_module_version": "1.2.0",
       "_model_name": "LayoutModel",
       "_view_count": null,
       "_view_module": "@jupyter-widgets/base",
       "_view_module_version": "1.2.0",
       "_view_name": "LayoutView",
       "align_content": null,
       "align_items": null,
       "align_self": null,
       "border": null,
       "bottom": null,
       "display": null,
       "flex": null,
       "flex_flow": null,
       "grid_area": null,
       "grid_auto_columns": null,
       "grid_auto_flow": null,
       "grid_auto_rows": null,
       "grid_column": null,
       "grid_gap": null,
       "grid_row": null,
       "grid_template_areas": null,
       "grid_template_columns": null,
       "grid_template_rows": null,
       "height": null,
       "justify_content": null,
       "justify_items": null,
       "left": null,
       "margin": null,
       "max_height": null,
       "max_width": null,
       "min_height": null,
       "min_width": null,
       "object_fit": null,
       "object_position": null,
       "order": null,
       "overflow": null,
       "overflow_x": null,
       "overflow_y": null,
       "padding": null,
       "right": null,
       "top": null,
       "visibility": null,
       "width": null
      }
     },
     "87c75c0da5634be9a67c0a3f0d939990": {
      "model_module": "@jupyter-widgets/base",
      "model_module_version": "1.2.0",
      "model_name": "LayoutModel",
      "state": {
       "_model_module": "@jupyter-widgets/base",
       "_model_module_version": "1.2.0",
       "_model_name": "LayoutModel",
       "_view_count": null,
       "_view_module": "@jupyter-widgets/base",
       "_view_module_version": "1.2.0",
       "_view_name": "LayoutView",
       "align_content": null,
       "align_items": null,
       "align_self": null,
       "border": null,
       "bottom": null,
       "display": null,
       "flex": null,
       "flex_flow": null,
       "grid_area": null,
       "grid_auto_columns": null,
       "grid_auto_flow": null,
       "grid_auto_rows": null,
       "grid_column": null,
       "grid_gap": null,
       "grid_row": null,
       "grid_template_areas": null,
       "grid_template_columns": null,
       "grid_template_rows": null,
       "height": null,
       "justify_content": null,
       "justify_items": null,
       "left": null,
       "margin": null,
       "max_height": null,
       "max_width": null,
       "min_height": null,
       "min_width": null,
       "object_fit": null,
       "object_position": null,
       "order": null,
       "overflow": null,
       "overflow_x": null,
       "overflow_y": null,
       "padding": null,
       "right": null,
       "top": null,
       "visibility": null,
       "width": null
      }
     },
     "899fe87defec4d18930985c6bfcce379": {
      "model_module": "@jupyter-widgets/controls",
      "model_module_version": "1.5.0",
      "model_name": "FloatProgressModel",
      "state": {
       "_dom_classes": [],
       "_model_module": "@jupyter-widgets/controls",
       "_model_module_version": "1.5.0",
       "_model_name": "FloatProgressModel",
       "_view_count": null,
       "_view_module": "@jupyter-widgets/controls",
       "_view_module_version": "1.5.0",
       "_view_name": "ProgressView",
       "bar_style": "success",
       "description": "",
       "description_tooltip": null,
       "layout": "IPY_MODEL_016756d359324318b5af877eff0a1d8b",
       "max": 210280297.0,
       "min": 0.0,
       "orientation": "horizontal",
       "style": "IPY_MODEL_e84447dd36a5468ab13a86af74ac9798",
       "value": 210280297.0
      }
     },
     "89fd034f85e54e99b71724b3390fb85f": {
      "model_module": "@jupyter-widgets/base",
      "model_module_version": "1.2.0",
      "model_name": "LayoutModel",
      "state": {
       "_model_module": "@jupyter-widgets/base",
       "_model_module_version": "1.2.0",
       "_model_name": "LayoutModel",
       "_view_count": null,
       "_view_module": "@jupyter-widgets/base",
       "_view_module_version": "1.2.0",
       "_view_name": "LayoutView",
       "align_content": null,
       "align_items": null,
       "align_self": null,
       "border": null,
       "bottom": null,
       "display": null,
       "flex": null,
       "flex_flow": null,
       "grid_area": null,
       "grid_auto_columns": null,
       "grid_auto_flow": null,
       "grid_auto_rows": null,
       "grid_column": null,
       "grid_gap": null,
       "grid_row": null,
       "grid_template_areas": null,
       "grid_template_columns": null,
       "grid_template_rows": null,
       "height": null,
       "justify_content": null,
       "justify_items": null,
       "left": null,
       "margin": null,
       "max_height": null,
       "max_width": null,
       "min_height": null,
       "min_width": null,
       "object_fit": null,
       "object_position": null,
       "order": null,
       "overflow": null,
       "overflow_x": null,
       "overflow_y": null,
       "padding": null,
       "right": null,
       "top": null,
       "visibility": null,
       "width": null
      }
     },
     "8c17904895024b1e9545003801cbc8be": {
      "model_module": "@jupyter-widgets/controls",
      "model_module_version": "1.5.0",
      "model_name": "HTMLModel",
      "state": {
       "_dom_classes": [],
       "_model_module": "@jupyter-widgets/controls",
       "_model_module_version": "1.5.0",
       "_model_name": "HTMLModel",
       "_view_count": null,
       "_view_module": "@jupyter-widgets/controls",
       "_view_module_version": "1.5.0",
       "_view_name": "HTMLView",
       "description": "",
       "description_tooltip": null,
       "layout": "IPY_MODEL_261203de0ac6468fb5092f1276a2543c",
       "placeholder": "​",
       "style": "IPY_MODEL_795325a651ee4e75aaa6310266e0ce00",
       "value": " 205M/205M [00:04&lt;00:00, 45.7MB/s]"
      }
     },
     "8d35601672304828a635b2e306ad7377": {
      "model_module": "@jupyter-widgets/controls",
      "model_module_version": "1.5.0",
      "model_name": "DescriptionStyleModel",
      "state": {
       "_model_module": "@jupyter-widgets/controls",
       "_model_module_version": "1.5.0",
       "_model_name": "DescriptionStyleModel",
       "_view_count": null,
       "_view_module": "@jupyter-widgets/base",
       "_view_module_version": "1.2.0",
       "_view_name": "StyleView",
       "description_width": ""
      }
     },
     "90343d5702c84486918f1e34ccdd2dc3": {
      "model_module": "@jupyter-widgets/controls",
      "model_module_version": "1.5.0",
      "model_name": "DescriptionStyleModel",
      "state": {
       "_model_module": "@jupyter-widgets/controls",
       "_model_module_version": "1.5.0",
       "_model_name": "DescriptionStyleModel",
       "_view_count": null,
       "_view_module": "@jupyter-widgets/base",
       "_view_module_version": "1.2.0",
       "_view_name": "StyleView",
       "description_width": ""
      }
     },
     "90f67d597c78456e86c4d2ff2f38173a": {
      "model_module": "@jupyter-widgets/controls",
      "model_module_version": "1.5.0",
      "model_name": "DescriptionStyleModel",
      "state": {
       "_model_module": "@jupyter-widgets/controls",
       "_model_module_version": "1.5.0",
       "_model_name": "DescriptionStyleModel",
       "_view_count": null,
       "_view_module": "@jupyter-widgets/base",
       "_view_module_version": "1.2.0",
       "_view_name": "StyleView",
       "description_width": ""
      }
     },
     "941a585a368549cd8e3ec6370c6ea5ad": {
      "model_module": "@jupyter-widgets/controls",
      "model_module_version": "1.5.0",
      "model_name": "HTMLModel",
      "state": {
       "_dom_classes": [],
       "_model_module": "@jupyter-widgets/controls",
       "_model_module_version": "1.5.0",
       "_model_name": "HTMLModel",
       "_view_count": null,
       "_view_module": "@jupyter-widgets/controls",
       "_view_module_version": "1.5.0",
       "_view_name": "HTMLView",
       "description": "",
       "description_tooltip": null,
       "layout": "IPY_MODEL_b3ce65efae994f07ad8f902ec5ffb765",
       "placeholder": "​",
       "style": "IPY_MODEL_83fa9ab2a8104e64b4cc143e86e78957",
       "value": " 348M/348M [00:07&lt;00:00, 57.4MB/s]"
      }
     },
     "95d43aa2c87043be862e62ab1da5ee72": {
      "model_module": "@jupyter-widgets/base",
      "model_module_version": "1.2.0",
      "model_name": "LayoutModel",
      "state": {
       "_model_module": "@jupyter-widgets/base",
       "_model_module_version": "1.2.0",
       "_model_name": "LayoutModel",
       "_view_count": null,
       "_view_module": "@jupyter-widgets/base",
       "_view_module_version": "1.2.0",
       "_view_name": "LayoutView",
       "align_content": null,
       "align_items": null,
       "align_self": null,
       "border": null,
       "bottom": null,
       "display": null,
       "flex": null,
       "flex_flow": null,
       "grid_area": null,
       "grid_auto_columns": null,
       "grid_auto_flow": null,
       "grid_auto_rows": null,
       "grid_column": null,
       "grid_gap": null,
       "grid_row": null,
       "grid_template_areas": null,
       "grid_template_columns": null,
       "grid_template_rows": null,
       "height": null,
       "justify_content": null,
       "justify_items": null,
       "left": null,
       "margin": null,
       "max_height": null,
       "max_width": null,
       "min_height": null,
       "min_width": null,
       "object_fit": null,
       "object_position": null,
       "order": null,
       "overflow": null,
       "overflow_x": null,
       "overflow_y": null,
       "padding": null,
       "right": null,
       "top": null,
       "visibility": null,
       "width": null
      }
     },
     "9907c806fa4b4813b45f71314df0596d": {
      "model_module": "@jupyter-widgets/base",
      "model_module_version": "1.2.0",
      "model_name": "LayoutModel",
      "state": {
       "_model_module": "@jupyter-widgets/base",
       "_model_module_version": "1.2.0",
       "_model_name": "LayoutModel",
       "_view_count": null,
       "_view_module": "@jupyter-widgets/base",
       "_view_module_version": "1.2.0",
       "_view_name": "LayoutView",
       "align_content": null,
       "align_items": null,
       "align_self": null,
       "border": null,
       "bottom": null,
       "display": null,
       "flex": null,
       "flex_flow": null,
       "grid_area": null,
       "grid_auto_columns": null,
       "grid_auto_flow": null,
       "grid_auto_rows": null,
       "grid_column": null,
       "grid_gap": null,
       "grid_row": null,
       "grid_template_areas": null,
       "grid_template_columns": null,
       "grid_template_rows": null,
       "height": null,
       "justify_content": null,
       "justify_items": null,
       "left": null,
       "margin": null,
       "max_height": null,
       "max_width": null,
       "min_height": null,
       "min_width": null,
       "object_fit": null,
       "object_position": null,
       "order": null,
       "overflow": null,
       "overflow_x": null,
       "overflow_y": null,
       "padding": null,
       "right": null,
       "top": null,
       "visibility": null,
       "width": null
      }
     },
     "9a5178ec7e2d410eac0fecaa66aebffc": {
      "model_module": "@jupyter-widgets/controls",
      "model_module_version": "1.5.0",
      "model_name": "DescriptionStyleModel",
      "state": {
       "_model_module": "@jupyter-widgets/controls",
       "_model_module_version": "1.5.0",
       "_model_name": "DescriptionStyleModel",
       "_view_count": null,
       "_view_module": "@jupyter-widgets/base",
       "_view_module_version": "1.2.0",
       "_view_name": "StyleView",
       "description_width": ""
      }
     },
     "9b3426570d7a44a18272c4f1966a1cc3": {
      "model_module": "@jupyter-widgets/controls",
      "model_module_version": "1.5.0",
      "model_name": "DescriptionStyleModel",
      "state": {
       "_model_module": "@jupyter-widgets/controls",
       "_model_module_version": "1.5.0",
       "_model_name": "DescriptionStyleModel",
       "_view_count": null,
       "_view_module": "@jupyter-widgets/base",
       "_view_module_version": "1.2.0",
       "_view_name": "StyleView",
       "description_width": ""
      }
     },
     "9c898249dd5a47cea967b30d0fa729ca": {
      "model_module": "@jupyter-widgets/controls",
      "model_module_version": "1.5.0",
      "model_name": "ProgressStyleModel",
      "state": {
       "_model_module": "@jupyter-widgets/controls",
       "_model_module_version": "1.5.0",
       "_model_name": "ProgressStyleModel",
       "_view_count": null,
       "_view_module": "@jupyter-widgets/base",
       "_view_module_version": "1.2.0",
       "_view_name": "StyleView",
       "bar_color": null,
       "description_width": ""
      }
     },
     "a3c347b9ba2d4d48a541983b38c62080": {
      "model_module": "@jupyter-widgets/controls",
      "model_module_version": "1.5.0",
      "model_name": "FloatProgressModel",
      "state": {
       "_dom_classes": [],
       "_model_module": "@jupyter-widgets/controls",
       "_model_module_version": "1.5.0",
       "_model_name": "FloatProgressModel",
       "_view_count": null,
       "_view_module": "@jupyter-widgets/controls",
       "_view_module_version": "1.5.0",
       "_view_name": "ProgressView",
       "bar_style": "success",
       "description": "",
       "description_tooltip": null,
       "layout": "IPY_MODEL_87347803d9d542c2af4c78141285aff0",
       "max": 258843380.0,
       "min": 0.0,
       "orientation": "horizontal",
       "style": "IPY_MODEL_ab6cb7874f234d1a8b020175f32f7f2f",
       "value": 258843380.0
      }
     },
     "a7c82c974bf649fcb10969117b8bb1d2": {
      "model_module": "@jupyter-widgets/controls",
      "model_module_version": "1.5.0",
      "model_name": "HBoxModel",
      "state": {
       "_dom_classes": [],
       "_model_module": "@jupyter-widgets/controls",
       "_model_module_version": "1.5.0",
       "_model_name": "HBoxModel",
       "_view_count": null,
       "_view_module": "@jupyter-widgets/controls",
       "_view_module_version": "1.5.0",
       "_view_name": "HBoxView",
       "box_style": "",
       "children": [
        "IPY_MODEL_0c4d3bb582f84a3da5a39a0f810a1c39",
        "IPY_MODEL_3c2a815e3ff945b886e0240fabb622f6",
        "IPY_MODEL_e2938d855cbe44559bd794f2bbaefd52"
       ],
       "layout": "IPY_MODEL_4250a3ffe2d9497482a3a7edb502642a"
      }
     },
     "a819d58d6bfb4c5d8ddc1eae6bd59c7c": {
      "model_module": "@jupyter-widgets/controls",
      "model_module_version": "1.5.0",
      "model_name": "HTMLModel",
      "state": {
       "_dom_classes": [],
       "_model_module": "@jupyter-widgets/controls",
       "_model_module_version": "1.5.0",
       "_model_name": "HTMLModel",
       "_view_count": null,
       "_view_module": "@jupyter-widgets/controls",
       "_view_module_version": "1.5.0",
       "_view_name": "HTMLView",
       "description": "",
       "description_tooltip": null,
       "layout": "IPY_MODEL_56663e9f74144b79acd6e629564c2330",
       "placeholder": "​",
       "style": "IPY_MODEL_7e7e95dcf765449dacd4e43619dda039",
       "value": "Downloading data: 100%"
      }
     },
     "a82a151b097140a0a53c90b2caba15a4": {
      "model_module": "@jupyter-widgets/base",
      "model_module_version": "1.2.0",
      "model_name": "LayoutModel",
      "state": {
       "_model_module": "@jupyter-widgets/base",
       "_model_module_version": "1.2.0",
       "_model_name": "LayoutModel",
       "_view_count": null,
       "_view_module": "@jupyter-widgets/base",
       "_view_module_version": "1.2.0",
       "_view_name": "LayoutView",
       "align_content": null,
       "align_items": null,
       "align_self": null,
       "border": null,
       "bottom": null,
       "display": null,
       "flex": null,
       "flex_flow": null,
       "grid_area": null,
       "grid_auto_columns": null,
       "grid_auto_flow": null,
       "grid_auto_rows": null,
       "grid_column": null,
       "grid_gap": null,
       "grid_row": null,
       "grid_template_areas": null,
       "grid_template_columns": null,
       "grid_template_rows": null,
       "height": null,
       "justify_content": null,
       "justify_items": null,
       "left": null,
       "margin": null,
       "max_height": null,
       "max_width": null,
       "min_height": null,
       "min_width": null,
       "object_fit": null,
       "object_position": null,
       "order": null,
       "overflow": null,
       "overflow_x": null,
       "overflow_y": null,
       "padding": null,
       "right": null,
       "top": null,
       "visibility": null,
       "width": null
      }
     },
     "aabcaeaea981424dbf678a9a202ddfeb": {
      "model_module": "@jupyter-widgets/controls",
      "model_module_version": "1.5.0",
      "model_name": "HTMLModel",
      "state": {
       "_dom_classes": [],
       "_model_module": "@jupyter-widgets/controls",
       "_model_module_version": "1.5.0",
       "_model_name": "HTMLModel",
       "_view_count": null,
       "_view_module": "@jupyter-widgets/controls",
       "_view_module_version": "1.5.0",
       "_view_name": "HTMLView",
       "description": "",
       "description_tooltip": null,
       "layout": "IPY_MODEL_0e6a43771d4247cbab1282825693531f",
       "placeholder": "​",
       "style": "IPY_MODEL_f66b8938c7ee4b70ae549df9ccf2b702",
       "value": "Downloading data: 100%"
      }
     },
     "aaf31f4e09e3408d8a0e503ea250910e": {
      "model_module": "@jupyter-widgets/controls",
      "model_module_version": "1.5.0",
      "model_name": "HBoxModel",
      "state": {
       "_dom_classes": [],
       "_model_module": "@jupyter-widgets/controls",
       "_model_module_version": "1.5.0",
       "_model_name": "HBoxModel",
       "_view_count": null,
       "_view_module": "@jupyter-widgets/controls",
       "_view_module_version": "1.5.0",
       "_view_name": "HBoxView",
       "box_style": "",
       "children": [
        "IPY_MODEL_230baf213adc48e89276aa7f004fd08a",
        "IPY_MODEL_7c5af007464140468ffa31c5db0d4c2e",
        "IPY_MODEL_65f58be677c44bdd9ee800512eeceef6"
       ],
       "layout": "IPY_MODEL_2c083bba599445b98fbca5e4aa6536bc"
      }
     },
     "ab6cb7874f234d1a8b020175f32f7f2f": {
      "model_module": "@jupyter-widgets/controls",
      "model_module_version": "1.5.0",
      "model_name": "ProgressStyleModel",
      "state": {
       "_model_module": "@jupyter-widgets/controls",
       "_model_module_version": "1.5.0",
       "_model_name": "ProgressStyleModel",
       "_view_count": null,
       "_view_module": "@jupyter-widgets/base",
       "_view_module_version": "1.2.0",
       "_view_name": "StyleView",
       "bar_color": null,
       "description_width": ""
      }
     },
     "aba37e1bdd7345b9bfb3b36bee93ad21": {
      "model_module": "@jupyter-widgets/base",
      "model_module_version": "1.2.0",
      "model_name": "LayoutModel",
      "state": {
       "_model_module": "@jupyter-widgets/base",
       "_model_module_version": "1.2.0",
       "_model_name": "LayoutModel",
       "_view_count": null,
       "_view_module": "@jupyter-widgets/base",
       "_view_module_version": "1.2.0",
       "_view_name": "LayoutView",
       "align_content": null,
       "align_items": null,
       "align_self": null,
       "border": null,
       "bottom": null,
       "display": null,
       "flex": null,
       "flex_flow": null,
       "grid_area": null,
       "grid_auto_columns": null,
       "grid_auto_flow": null,
       "grid_auto_rows": null,
       "grid_column": null,
       "grid_gap": null,
       "grid_row": null,
       "grid_template_areas": null,
       "grid_template_columns": null,
       "grid_template_rows": null,
       "height": null,
       "justify_content": null,
       "justify_items": null,
       "left": null,
       "margin": null,
       "max_height": null,
       "max_width": null,
       "min_height": null,
       "min_width": null,
       "object_fit": null,
       "object_position": null,
       "order": null,
       "overflow": null,
       "overflow_x": null,
       "overflow_y": null,
       "padding": null,
       "right": null,
       "top": null,
       "visibility": null,
       "width": null
      }
     },
     "ac8005f09a864a0c9b735e74bb0b7ecc": {
      "model_module": "@jupyter-widgets/base",
      "model_module_version": "1.2.0",
      "model_name": "LayoutModel",
      "state": {
       "_model_module": "@jupyter-widgets/base",
       "_model_module_version": "1.2.0",
       "_model_name": "LayoutModel",
       "_view_count": null,
       "_view_module": "@jupyter-widgets/base",
       "_view_module_version": "1.2.0",
       "_view_name": "LayoutView",
       "align_content": null,
       "align_items": null,
       "align_self": null,
       "border": null,
       "bottom": null,
       "display": null,
       "flex": null,
       "flex_flow": null,
       "grid_area": null,
       "grid_auto_columns": null,
       "grid_auto_flow": null,
       "grid_auto_rows": null,
       "grid_column": null,
       "grid_gap": null,
       "grid_row": null,
       "grid_template_areas": null,
       "grid_template_columns": null,
       "grid_template_rows": null,
       "height": null,
       "justify_content": null,
       "justify_items": null,
       "left": null,
       "margin": null,
       "max_height": null,
       "max_width": null,
       "min_height": null,
       "min_width": null,
       "object_fit": null,
       "object_position": null,
       "order": null,
       "overflow": null,
       "overflow_x": null,
       "overflow_y": null,
       "padding": null,
       "right": null,
       "top": null,
       "visibility": null,
       "width": null
      }
     },
     "adbd1ee288e54c35ad504af462afc3c1": {
      "model_module": "@jupyter-widgets/base",
      "model_module_version": "1.2.0",
      "model_name": "LayoutModel",
      "state": {
       "_model_module": "@jupyter-widgets/base",
       "_model_module_version": "1.2.0",
       "_model_name": "LayoutModel",
       "_view_count": null,
       "_view_module": "@jupyter-widgets/base",
       "_view_module_version": "1.2.0",
       "_view_name": "LayoutView",
       "align_content": null,
       "align_items": null,
       "align_self": null,
       "border": null,
       "bottom": null,
       "display": null,
       "flex": null,
       "flex_flow": null,
       "grid_area": null,
       "grid_auto_columns": null,
       "grid_auto_flow": null,
       "grid_auto_rows": null,
       "grid_column": null,
       "grid_gap": null,
       "grid_row": null,
       "grid_template_areas": null,
       "grid_template_columns": null,
       "grid_template_rows": null,
       "height": null,
       "justify_content": null,
       "justify_items": null,
       "left": null,
       "margin": null,
       "max_height": null,
       "max_width": null,
       "min_height": null,
       "min_width": null,
       "object_fit": null,
       "object_position": null,
       "order": null,
       "overflow": null,
       "overflow_x": null,
       "overflow_y": null,
       "padding": null,
       "right": null,
       "top": null,
       "visibility": null,
       "width": null
      }
     },
     "b3ce65efae994f07ad8f902ec5ffb765": {
      "model_module": "@jupyter-widgets/base",
      "model_module_version": "1.2.0",
      "model_name": "LayoutModel",
      "state": {
       "_model_module": "@jupyter-widgets/base",
       "_model_module_version": "1.2.0",
       "_model_name": "LayoutModel",
       "_view_count": null,
       "_view_module": "@jupyter-widgets/base",
       "_view_module_version": "1.2.0",
       "_view_name": "LayoutView",
       "align_content": null,
       "align_items": null,
       "align_self": null,
       "border": null,
       "bottom": null,
       "display": null,
       "flex": null,
       "flex_flow": null,
       "grid_area": null,
       "grid_auto_columns": null,
       "grid_auto_flow": null,
       "grid_auto_rows": null,
       "grid_column": null,
       "grid_gap": null,
       "grid_row": null,
       "grid_template_areas": null,
       "grid_template_columns": null,
       "grid_template_rows": null,
       "height": null,
       "justify_content": null,
       "justify_items": null,
       "left": null,
       "margin": null,
       "max_height": null,
       "max_width": null,
       "min_height": null,
       "min_width": null,
       "object_fit": null,
       "object_position": null,
       "order": null,
       "overflow": null,
       "overflow_x": null,
       "overflow_y": null,
       "padding": null,
       "right": null,
       "top": null,
       "visibility": null,
       "width": null
      }
     },
     "b7df0106c02f438199603f9e84ad2d79": {
      "model_module": "@jupyter-widgets/controls",
      "model_module_version": "1.5.0",
      "model_name": "FloatProgressModel",
      "state": {
       "_dom_classes": [],
       "_model_module": "@jupyter-widgets/controls",
       "_model_module_version": "1.5.0",
       "_model_name": "FloatProgressModel",
       "_view_count": null,
       "_view_module": "@jupyter-widgets/controls",
       "_view_module_version": "1.5.0",
       "_view_name": "ProgressView",
       "bar_style": "success",
       "description": "",
       "description_tooltip": null,
       "layout": "IPY_MODEL_09c31f1234184fbd9feaf075e2d4f115",
       "max": 205056704.0,
       "min": 0.0,
       "orientation": "horizontal",
       "style": "IPY_MODEL_40f8931d872b43869edd36ab3ad3aab8",
       "value": 205056704.0
      }
     },
     "b9046b1c040743b4b4ac01a9e6a0c191": {
      "model_module": "@jupyter-widgets/controls",
      "model_module_version": "1.5.0",
      "model_name": "HTMLModel",
      "state": {
       "_dom_classes": [],
       "_model_module": "@jupyter-widgets/controls",
       "_model_module_version": "1.5.0",
       "_model_name": "HTMLModel",
       "_view_count": null,
       "_view_module": "@jupyter-widgets/controls",
       "_view_module_version": "1.5.0",
       "_view_name": "HTMLView",
       "description": "",
       "description_tooltip": null,
       "layout": "IPY_MODEL_4ef4cb50285c4b4988710b5dac0df93e",
       "placeholder": "​",
       "style": "IPY_MODEL_ed2c57b61b4e4e5b912e9339fcd95b30",
       "value": " 214M/214M [00:04&lt;00:00, 52.1MB/s]"
      }
     },
     "ba8fa264408c48c6b703b5b39f06d1ba": {
      "model_module": "@jupyter-widgets/base",
      "model_module_version": "1.2.0",
      "model_name": "LayoutModel",
      "state": {
       "_model_module": "@jupyter-widgets/base",
       "_model_module_version": "1.2.0",
       "_model_name": "LayoutModel",
       "_view_count": null,
       "_view_module": "@jupyter-widgets/base",
       "_view_module_version": "1.2.0",
       "_view_name": "LayoutView",
       "align_content": null,
       "align_items": null,
       "align_self": null,
       "border": null,
       "bottom": null,
       "display": null,
       "flex": null,
       "flex_flow": null,
       "grid_area": null,
       "grid_auto_columns": null,
       "grid_auto_flow": null,
       "grid_auto_rows": null,
       "grid_column": null,
       "grid_gap": null,
       "grid_row": null,
       "grid_template_areas": null,
       "grid_template_columns": null,
       "grid_template_rows": null,
       "height": null,
       "justify_content": null,
       "justify_items": null,
       "left": null,
       "margin": null,
       "max_height": null,
       "max_width": null,
       "min_height": null,
       "min_width": null,
       "object_fit": null,
       "object_position": null,
       "order": null,
       "overflow": null,
       "overflow_x": null,
       "overflow_y": null,
       "padding": null,
       "right": null,
       "top": null,
       "visibility": null,
       "width": null
      }
     },
     "bd71572d523345ea97e25bb939bf1c0a": {
      "model_module": "@jupyter-widgets/base",
      "model_module_version": "1.2.0",
      "model_name": "LayoutModel",
      "state": {
       "_model_module": "@jupyter-widgets/base",
       "_model_module_version": "1.2.0",
       "_model_name": "LayoutModel",
       "_view_count": null,
       "_view_module": "@jupyter-widgets/base",
       "_view_module_version": "1.2.0",
       "_view_name": "LayoutView",
       "align_content": null,
       "align_items": null,
       "align_self": null,
       "border": null,
       "bottom": null,
       "display": null,
       "flex": null,
       "flex_flow": null,
       "grid_area": null,
       "grid_auto_columns": null,
       "grid_auto_flow": null,
       "grid_auto_rows": null,
       "grid_column": null,
       "grid_gap": null,
       "grid_row": null,
       "grid_template_areas": null,
       "grid_template_columns": null,
       "grid_template_rows": null,
       "height": null,
       "justify_content": null,
       "justify_items": null,
       "left": null,
       "margin": null,
       "max_height": null,
       "max_width": null,
       "min_height": null,
       "min_width": null,
       "object_fit": null,
       "object_position": null,
       "order": null,
       "overflow": null,
       "overflow_x": null,
       "overflow_y": null,
       "padding": null,
       "right": null,
       "top": null,
       "visibility": null,
       "width": null
      }
     },
     "be795cc436b34ebcb6609c463628d0f3": {
      "model_module": "@jupyter-widgets/controls",
      "model_module_version": "1.5.0",
      "model_name": "DescriptionStyleModel",
      "state": {
       "_model_module": "@jupyter-widgets/controls",
       "_model_module_version": "1.5.0",
       "_model_name": "DescriptionStyleModel",
       "_view_count": null,
       "_view_module": "@jupyter-widgets/base",
       "_view_module_version": "1.2.0",
       "_view_name": "StyleView",
       "description_width": ""
      }
     },
     "bf91e9e068974313abc4eea435b19d65": {
      "model_module": "@jupyter-widgets/base",
      "model_module_version": "1.2.0",
      "model_name": "LayoutModel",
      "state": {
       "_model_module": "@jupyter-widgets/base",
       "_model_module_version": "1.2.0",
       "_model_name": "LayoutModel",
       "_view_count": null,
       "_view_module": "@jupyter-widgets/base",
       "_view_module_version": "1.2.0",
       "_view_name": "LayoutView",
       "align_content": null,
       "align_items": null,
       "align_self": null,
       "border": null,
       "bottom": null,
       "display": null,
       "flex": null,
       "flex_flow": null,
       "grid_area": null,
       "grid_auto_columns": null,
       "grid_auto_flow": null,
       "grid_auto_rows": null,
       "grid_column": null,
       "grid_gap": null,
       "grid_row": null,
       "grid_template_areas": null,
       "grid_template_columns": null,
       "grid_template_rows": null,
       "height": null,
       "justify_content": null,
       "justify_items": null,
       "left": null,
       "margin": null,
       "max_height": null,
       "max_width": null,
       "min_height": null,
       "min_width": null,
       "object_fit": null,
       "object_position": null,
       "order": null,
       "overflow": null,
       "overflow_x": null,
       "overflow_y": null,
       "padding": null,
       "right": null,
       "top": null,
       "visibility": null,
       "width": null
      }
     },
     "c01eccf52a4a420abd9a64d5ca156ad8": {
      "model_module": "@jupyter-widgets/base",
      "model_module_version": "1.2.0",
      "model_name": "LayoutModel",
      "state": {
       "_model_module": "@jupyter-widgets/base",
       "_model_module_version": "1.2.0",
       "_model_name": "LayoutModel",
       "_view_count": null,
       "_view_module": "@jupyter-widgets/base",
       "_view_module_version": "1.2.0",
       "_view_name": "LayoutView",
       "align_content": null,
       "align_items": null,
       "align_self": null,
       "border": null,
       "bottom": null,
       "display": null,
       "flex": null,
       "flex_flow": null,
       "grid_area": null,
       "grid_auto_columns": null,
       "grid_auto_flow": null,
       "grid_auto_rows": null,
       "grid_column": null,
       "grid_gap": null,
       "grid_row": null,
       "grid_template_areas": null,
       "grid_template_columns": null,
       "grid_template_rows": null,
       "height": null,
       "justify_content": null,
       "justify_items": null,
       "left": null,
       "margin": null,
       "max_height": null,
       "max_width": null,
       "min_height": null,
       "min_width": null,
       "object_fit": null,
       "object_position": null,
       "order": null,
       "overflow": null,
       "overflow_x": null,
       "overflow_y": null,
       "padding": null,
       "right": null,
       "top": null,
       "visibility": null,
       "width": null
      }
     },
     "c05835ef8cbe4d6a82cb124d425c7ef2": {
      "model_module": "@jupyter-widgets/controls",
      "model_module_version": "1.5.0",
      "model_name": "HBoxModel",
      "state": {
       "_dom_classes": [],
       "_model_module": "@jupyter-widgets/controls",
       "_model_module_version": "1.5.0",
       "_model_name": "HBoxModel",
       "_view_count": null,
       "_view_module": "@jupyter-widgets/controls",
       "_view_module_version": "1.5.0",
       "_view_name": "HBoxView",
       "box_style": "",
       "children": [
        "IPY_MODEL_2f960ddcb5be4d74aee60fcdde427412",
        "IPY_MODEL_03541a57101a442b824a892ff5cb929d",
        "IPY_MODEL_c2e4231b02c24116a03c8d08e9b43ce4"
       ],
       "layout": "IPY_MODEL_5f08e5bdb1be425c916a222a61de5bd7"
      }
     },
     "c0d874c939b14fa5acaa1a6010e443c1": {
      "model_module": "@jupyter-widgets/controls",
      "model_module_version": "1.5.0",
      "model_name": "HTMLModel",
      "state": {
       "_dom_classes": [],
       "_model_module": "@jupyter-widgets/controls",
       "_model_module_version": "1.5.0",
       "_model_name": "HTMLModel",
       "_view_count": null,
       "_view_module": "@jupyter-widgets/controls",
       "_view_module_version": "1.5.0",
       "_view_name": "HTMLView",
       "description": "",
       "description_tooltip": null,
       "layout": "IPY_MODEL_22d141e83ebf435c855c314b032ed28d",
       "placeholder": "​",
       "style": "IPY_MODEL_7d7297fbe5a3440495791b9d986a450d",
       "value": " 259M/259M [00:05&lt;00:00, 52.8MB/s]"
      }
     },
     "c13ec7e4c0704616992aafb0982577c8": {
      "model_module": "@jupyter-widgets/controls",
      "model_module_version": "1.5.0",
      "model_name": "DescriptionStyleModel",
      "state": {
       "_model_module": "@jupyter-widgets/controls",
       "_model_module_version": "1.5.0",
       "_model_name": "DescriptionStyleModel",
       "_view_count": null,
       "_view_module": "@jupyter-widgets/base",
       "_view_module_version": "1.2.0",
       "_view_name": "StyleView",
       "description_width": ""
      }
     },
     "c19ad7752c33468ba44c33a970046931": {
      "model_module": "@jupyter-widgets/controls",
      "model_module_version": "1.5.0",
      "model_name": "FloatProgressModel",
      "state": {
       "_dom_classes": [],
       "_model_module": "@jupyter-widgets/controls",
       "_model_module_version": "1.5.0",
       "_model_name": "FloatProgressModel",
       "_view_count": null,
       "_view_module": "@jupyter-widgets/controls",
       "_view_module_version": "1.5.0",
       "_view_name": "ProgressView",
       "bar_style": "success",
       "description": "",
       "description_tooltip": null,
       "layout": "IPY_MODEL_3ab4147cbe454a99a563e3d9b1e3a025",
       "max": 204977310.0,
       "min": 0.0,
       "orientation": "horizontal",
       "style": "IPY_MODEL_48f3e20a1a15494f9bcac6b64973f890",
       "value": 204977310.0
      }
     },
     "c2e4231b02c24116a03c8d08e9b43ce4": {
      "model_module": "@jupyter-widgets/controls",
      "model_module_version": "1.5.0",
      "model_name": "HTMLModel",
      "state": {
       "_dom_classes": [],
       "_model_module": "@jupyter-widgets/controls",
       "_model_module_version": "1.5.0",
       "_model_name": "HTMLModel",
       "_view_count": null,
       "_view_module": "@jupyter-widgets/controls",
       "_view_module_version": "1.5.0",
       "_view_name": "HTMLView",
       "description": "",
       "description_tooltip": null,
       "layout": "IPY_MODEL_7aa1bd58612b4926a47d8e8cf605a155",
       "placeholder": "​",
       "style": "IPY_MODEL_4ddc42de40a74131928dba3782cc2a15",
       "value": " 296M/296M [00:06&lt;00:00, 52.7MB/s]"
      }
     },
     "c7a11aa9b6ed4ec2875dafbf52211693": {
      "model_module": "@jupyter-widgets/base",
      "model_module_version": "1.2.0",
      "model_name": "LayoutModel",
      "state": {
       "_model_module": "@jupyter-widgets/base",
       "_model_module_version": "1.2.0",
       "_model_name": "LayoutModel",
       "_view_count": null,
       "_view_module": "@jupyter-widgets/base",
       "_view_module_version": "1.2.0",
       "_view_name": "LayoutView",
       "align_content": null,
       "align_items": null,
       "align_self": null,
       "border": null,
       "bottom": null,
       "display": null,
       "flex": null,
       "flex_flow": null,
       "grid_area": null,
       "grid_auto_columns": null,
       "grid_auto_flow": null,
       "grid_auto_rows": null,
       "grid_column": null,
       "grid_gap": null,
       "grid_row": null,
       "grid_template_areas": null,
       "grid_template_columns": null,
       "grid_template_rows": null,
       "height": null,
       "justify_content": null,
       "justify_items": null,
       "left": null,
       "margin": null,
       "max_height": null,
       "max_width": null,
       "min_height": null,
       "min_width": null,
       "object_fit": null,
       "object_position": null,
       "order": null,
       "overflow": null,
       "overflow_x": null,
       "overflow_y": null,
       "padding": null,
       "right": null,
       "top": null,
       "visibility": null,
       "width": null
      }
     },
     "c8371365d61848c6b09bbaeee0035096": {
      "model_module": "@jupyter-widgets/base",
      "model_module_version": "1.2.0",
      "model_name": "LayoutModel",
      "state": {
       "_model_module": "@jupyter-widgets/base",
       "_model_module_version": "1.2.0",
       "_model_name": "LayoutModel",
       "_view_count": null,
       "_view_module": "@jupyter-widgets/base",
       "_view_module_version": "1.2.0",
       "_view_name": "LayoutView",
       "align_content": null,
       "align_items": null,
       "align_self": null,
       "border": null,
       "bottom": null,
       "display": null,
       "flex": null,
       "flex_flow": null,
       "grid_area": null,
       "grid_auto_columns": null,
       "grid_auto_flow": null,
       "grid_auto_rows": null,
       "grid_column": null,
       "grid_gap": null,
       "grid_row": null,
       "grid_template_areas": null,
       "grid_template_columns": null,
       "grid_template_rows": null,
       "height": null,
       "justify_content": null,
       "justify_items": null,
       "left": null,
       "margin": null,
       "max_height": null,
       "max_width": null,
       "min_height": null,
       "min_width": null,
       "object_fit": null,
       "object_position": null,
       "order": null,
       "overflow": null,
       "overflow_x": null,
       "overflow_y": null,
       "padding": null,
       "right": null,
       "top": null,
       "visibility": null,
       "width": null
      }
     },
     "c9430e68f98d4eb68b72a867a2b46146": {
      "model_module": "@jupyter-widgets/base",
      "model_module_version": "1.2.0",
      "model_name": "LayoutModel",
      "state": {
       "_model_module": "@jupyter-widgets/base",
       "_model_module_version": "1.2.0",
       "_model_name": "LayoutModel",
       "_view_count": null,
       "_view_module": "@jupyter-widgets/base",
       "_view_module_version": "1.2.0",
       "_view_name": "LayoutView",
       "align_content": null,
       "align_items": null,
       "align_self": null,
       "border": null,
       "bottom": null,
       "display": null,
       "flex": null,
       "flex_flow": null,
       "grid_area": null,
       "grid_auto_columns": null,
       "grid_auto_flow": null,
       "grid_auto_rows": null,
       "grid_column": null,
       "grid_gap": null,
       "grid_row": null,
       "grid_template_areas": null,
       "grid_template_columns": null,
       "grid_template_rows": null,
       "height": null,
       "justify_content": null,
       "justify_items": null,
       "left": null,
       "margin": null,
       "max_height": null,
       "max_width": null,
       "min_height": null,
       "min_width": null,
       "object_fit": null,
       "object_position": null,
       "order": null,
       "overflow": null,
       "overflow_x": null,
       "overflow_y": null,
       "padding": null,
       "right": null,
       "top": null,
       "visibility": null,
       "width": null
      }
     },
     "c9fc9c8673b64449bfe8633253443f3e": {
      "model_module": "@jupyter-widgets/base",
      "model_module_version": "1.2.0",
      "model_name": "LayoutModel",
      "state": {
       "_model_module": "@jupyter-widgets/base",
       "_model_module_version": "1.2.0",
       "_model_name": "LayoutModel",
       "_view_count": null,
       "_view_module": "@jupyter-widgets/base",
       "_view_module_version": "1.2.0",
       "_view_name": "LayoutView",
       "align_content": null,
       "align_items": null,
       "align_self": null,
       "border": null,
       "bottom": null,
       "display": null,
       "flex": null,
       "flex_flow": null,
       "grid_area": null,
       "grid_auto_columns": null,
       "grid_auto_flow": null,
       "grid_auto_rows": null,
       "grid_column": null,
       "grid_gap": null,
       "grid_row": null,
       "grid_template_areas": null,
       "grid_template_columns": null,
       "grid_template_rows": null,
       "height": null,
       "justify_content": null,
       "justify_items": null,
       "left": null,
       "margin": null,
       "max_height": null,
       "max_width": null,
       "min_height": null,
       "min_width": null,
       "object_fit": null,
       "object_position": null,
       "order": null,
       "overflow": null,
       "overflow_x": null,
       "overflow_y": null,
       "padding": null,
       "right": null,
       "top": null,
       "visibility": null,
       "width": null
      }
     },
     "cc4e36d3acb141388ec31d71bbe1ca3c": {
      "model_module": "@jupyter-widgets/base",
      "model_module_version": "1.2.0",
      "model_name": "LayoutModel",
      "state": {
       "_model_module": "@jupyter-widgets/base",
       "_model_module_version": "1.2.0",
       "_model_name": "LayoutModel",
       "_view_count": null,
       "_view_module": "@jupyter-widgets/base",
       "_view_module_version": "1.2.0",
       "_view_name": "LayoutView",
       "align_content": null,
       "align_items": null,
       "align_self": null,
       "border": null,
       "bottom": null,
       "display": null,
       "flex": null,
       "flex_flow": null,
       "grid_area": null,
       "grid_auto_columns": null,
       "grid_auto_flow": null,
       "grid_auto_rows": null,
       "grid_column": null,
       "grid_gap": null,
       "grid_row": null,
       "grid_template_areas": null,
       "grid_template_columns": null,
       "grid_template_rows": null,
       "height": null,
       "justify_content": null,
       "justify_items": null,
       "left": null,
       "margin": null,
       "max_height": null,
       "max_width": null,
       "min_height": null,
       "min_width": null,
       "object_fit": null,
       "object_position": null,
       "order": null,
       "overflow": null,
       "overflow_x": null,
       "overflow_y": null,
       "padding": null,
       "right": null,
       "top": null,
       "visibility": null,
       "width": null
      }
     },
     "cc9838b9356c48a3b78b7d7e9355a6e4": {
      "model_module": "@jupyter-widgets/base",
      "model_module_version": "1.2.0",
      "model_name": "LayoutModel",
      "state": {
       "_model_module": "@jupyter-widgets/base",
       "_model_module_version": "1.2.0",
       "_model_name": "LayoutModel",
       "_view_count": null,
       "_view_module": "@jupyter-widgets/base",
       "_view_module_version": "1.2.0",
       "_view_name": "LayoutView",
       "align_content": null,
       "align_items": null,
       "align_self": null,
       "border": null,
       "bottom": null,
       "display": null,
       "flex": null,
       "flex_flow": null,
       "grid_area": null,
       "grid_auto_columns": null,
       "grid_auto_flow": null,
       "grid_auto_rows": null,
       "grid_column": null,
       "grid_gap": null,
       "grid_row": null,
       "grid_template_areas": null,
       "grid_template_columns": null,
       "grid_template_rows": null,
       "height": null,
       "justify_content": null,
       "justify_items": null,
       "left": null,
       "margin": null,
       "max_height": null,
       "max_width": null,
       "min_height": null,
       "min_width": null,
       "object_fit": null,
       "object_position": null,
       "order": null,
       "overflow": null,
       "overflow_x": null,
       "overflow_y": null,
       "padding": null,
       "right": null,
       "top": null,
       "visibility": null,
       "width": null
      }
     },
     "cd41ab0dfc5d487db7013d7f869f0479": {
      "model_module": "@jupyter-widgets/controls",
      "model_module_version": "1.5.0",
      "model_name": "HTMLModel",
      "state": {
       "_dom_classes": [],
       "_model_module": "@jupyter-widgets/controls",
       "_model_module_version": "1.5.0",
       "_model_name": "HTMLModel",
       "_view_count": null,
       "_view_module": "@jupyter-widgets/controls",
       "_view_module_version": "1.5.0",
       "_view_name": "HTMLView",
       "description": "",
       "description_tooltip": null,
       "layout": "IPY_MODEL_86b17ffb79194adc8e433d2f2e56bc01",
       "placeholder": "​",
       "style": "IPY_MODEL_1baa7bf3f8a141d189b8d6ae3c589ded",
       "value": " 769M/769M [00:16&lt;00:00, 51.2MB/s]"
      }
     },
     "cdbc496f9ebe410d917052bf1ce1852b": {
      "model_module": "@jupyter-widgets/controls",
      "model_module_version": "1.5.0",
      "model_name": "HBoxModel",
      "state": {
       "_dom_classes": [],
       "_model_module": "@jupyter-widgets/controls",
       "_model_module_version": "1.5.0",
       "_model_name": "HBoxModel",
       "_view_count": null,
       "_view_module": "@jupyter-widgets/controls",
       "_view_module_version": "1.5.0",
       "_view_name": "HBoxView",
       "box_style": "",
       "children": [
        "IPY_MODEL_3400939301d44da6a59815da030ee2ba",
        "IPY_MODEL_d2386e32899342ef840e40e98037f670",
        "IPY_MODEL_d6676426aa024e45b84ad3cc0117c2a8"
       ],
       "layout": "IPY_MODEL_3c7ca556ad1f4b55becdb1cd2bf7c196"
      }
     },
     "ceae08f054804de6a0f5c172096442d1": {
      "model_module": "@jupyter-widgets/base",
      "model_module_version": "1.2.0",
      "model_name": "LayoutModel",
      "state": {
       "_model_module": "@jupyter-widgets/base",
       "_model_module_version": "1.2.0",
       "_model_name": "LayoutModel",
       "_view_count": null,
       "_view_module": "@jupyter-widgets/base",
       "_view_module_version": "1.2.0",
       "_view_name": "LayoutView",
       "align_content": null,
       "align_items": null,
       "align_self": null,
       "border": null,
       "bottom": null,
       "display": null,
       "flex": null,
       "flex_flow": null,
       "grid_area": null,
       "grid_auto_columns": null,
       "grid_auto_flow": null,
       "grid_auto_rows": null,
       "grid_column": null,
       "grid_gap": null,
       "grid_row": null,
       "grid_template_areas": null,
       "grid_template_columns": null,
       "grid_template_rows": null,
       "height": null,
       "justify_content": null,
       "justify_items": null,
       "left": null,
       "margin": null,
       "max_height": null,
       "max_width": null,
       "min_height": null,
       "min_width": null,
       "object_fit": null,
       "object_position": null,
       "order": null,
       "overflow": null,
       "overflow_x": null,
       "overflow_y": null,
       "padding": null,
       "right": null,
       "top": null,
       "visibility": null,
       "width": null
      }
     },
     "cf2b75bf24fd4e49a913d27abdb0e587": {
      "model_module": "@jupyter-widgets/controls",
      "model_module_version": "1.5.0",
      "model_name": "HTMLModel",
      "state": {
       "_dom_classes": [],
       "_model_module": "@jupyter-widgets/controls",
       "_model_module_version": "1.5.0",
       "_model_name": "HTMLModel",
       "_view_count": null,
       "_view_module": "@jupyter-widgets/controls",
       "_view_module_version": "1.5.0",
       "_view_name": "HTMLView",
       "description": "",
       "description_tooltip": null,
       "layout": "IPY_MODEL_cc4e36d3acb141388ec31d71bbe1ca3c",
       "placeholder": "​",
       "style": "IPY_MODEL_d318188a1df24a68a5c2934df7fd505d",
       "value": " 131k/131k [00:00&lt;00:00, 717kB/s]"
      }
     },
     "d2386e32899342ef840e40e98037f670": {
      "model_module": "@jupyter-widgets/controls",
      "model_module_version": "1.5.0",
      "model_name": "FloatProgressModel",
      "state": {
       "_dom_classes": [],
       "_model_module": "@jupyter-widgets/controls",
       "_model_module_version": "1.5.0",
       "_model_name": "FloatProgressModel",
       "_view_count": null,
       "_view_module": "@jupyter-widgets/controls",
       "_view_module_version": "1.5.0",
       "_view_name": "ProgressView",
       "bar_style": "success",
       "description": "",
       "description_tooltip": null,
       "layout": "IPY_MODEL_6e0f797419d045b7a901fde0c9607e1c",
       "max": 185595041.0,
       "min": 0.0,
       "orientation": "horizontal",
       "style": "IPY_MODEL_1e03fd8eb4f0486db22df82969d53bb3",
       "value": 185595041.0
      }
     },
     "d26c9256b0874940bf026916f98e5a72": {
      "model_module": "@jupyter-widgets/controls",
      "model_module_version": "1.5.0",
      "model_name": "HTMLModel",
      "state": {
       "_dom_classes": [],
       "_model_module": "@jupyter-widgets/controls",
       "_model_module_version": "1.5.0",
       "_model_name": "HTMLModel",
       "_view_count": null,
       "_view_module": "@jupyter-widgets/controls",
       "_view_module_version": "1.5.0",
       "_view_name": "HTMLView",
       "description": "",
       "description_tooltip": null,
       "layout": "IPY_MODEL_cc9838b9356c48a3b78b7d7e9355a6e4",
       "placeholder": "​",
       "style": "IPY_MODEL_4b9bc2962f004afcb931fd3aa92cee44",
       "value": " 186M/186M [00:04&lt;00:00, 54.2MB/s]"
      }
     },
     "d2862ad7e6264e5389f8aac34ce74a32": {
      "model_module": "@jupyter-widgets/controls",
      "model_module_version": "1.5.0",
      "model_name": "HTMLModel",
      "state": {
       "_dom_classes": [],
       "_model_module": "@jupyter-widgets/controls",
       "_model_module_version": "1.5.0",
       "_model_name": "HTMLModel",
       "_view_count": null,
       "_view_module": "@jupyter-widgets/controls",
       "_view_module_version": "1.5.0",
       "_view_name": "HTMLView",
       "description": "",
       "description_tooltip": null,
       "layout": "IPY_MODEL_e45c8c7ccf504426a99b3e0182a0cd1d",
       "placeholder": "​",
       "style": "IPY_MODEL_f007ab3185914354a1646c575ff8d172",
       "value": " 2564646/2564646 [00:44&lt;00:00, 70213.60 examples/s]"
      }
     },
     "d318188a1df24a68a5c2934df7fd505d": {
      "model_module": "@jupyter-widgets/controls",
      "model_module_version": "1.5.0",
      "model_name": "DescriptionStyleModel",
      "state": {
       "_model_module": "@jupyter-widgets/controls",
       "_model_module_version": "1.5.0",
       "_model_name": "DescriptionStyleModel",
       "_view_count": null,
       "_view_module": "@jupyter-widgets/base",
       "_view_module_version": "1.2.0",
       "_view_name": "StyleView",
       "description_width": ""
      }
     },
     "d325b0966377472cb91957d1d96cbaf4": {
      "model_module": "@jupyter-widgets/controls",
      "model_module_version": "1.5.0",
      "model_name": "DescriptionStyleModel",
      "state": {
       "_model_module": "@jupyter-widgets/controls",
       "_model_module_version": "1.5.0",
       "_model_name": "DescriptionStyleModel",
       "_view_count": null,
       "_view_module": "@jupyter-widgets/base",
       "_view_module_version": "1.2.0",
       "_view_name": "StyleView",
       "description_width": ""
      }
     },
     "d3e969b8b60144d98e31d8c3eeec73bb": {
      "model_module": "@jupyter-widgets/controls",
      "model_module_version": "1.5.0",
      "model_name": "HBoxModel",
      "state": {
       "_dom_classes": [],
       "_model_module": "@jupyter-widgets/controls",
       "_model_module_version": "1.5.0",
       "_model_name": "HBoxModel",
       "_view_count": null,
       "_view_module": "@jupyter-widgets/controls",
       "_view_module_version": "1.5.0",
       "_view_name": "HBoxView",
       "box_style": "",
       "children": [
        "IPY_MODEL_61302c4028f345718506a273204d237c",
        "IPY_MODEL_1cee55bdcdc24acfad02f9046c12220a",
        "IPY_MODEL_cd41ab0dfc5d487db7013d7f869f0479"
       ],
       "layout": "IPY_MODEL_7b23da31e86f4e8fb6346ff2f849486a"
      }
     },
     "d5725397768f4f8b8ee50791601bc674": {
      "model_module": "@jupyter-widgets/controls",
      "model_module_version": "1.5.0",
      "model_name": "ProgressStyleModel",
      "state": {
       "_model_module": "@jupyter-widgets/controls",
       "_model_module_version": "1.5.0",
       "_model_name": "ProgressStyleModel",
       "_view_count": null,
       "_view_module": "@jupyter-widgets/base",
       "_view_module_version": "1.2.0",
       "_view_name": "StyleView",
       "bar_color": null,
       "description_width": ""
      }
     },
     "d5ba6fe8b58b4d158e5171366a7e94c0": {
      "model_module": "@jupyter-widgets/controls",
      "model_module_version": "1.5.0",
      "model_name": "HBoxModel",
      "state": {
       "_dom_classes": [],
       "_model_module": "@jupyter-widgets/controls",
       "_model_module_version": "1.5.0",
       "_model_name": "HBoxModel",
       "_view_count": null,
       "_view_module": "@jupyter-widgets/controls",
       "_view_module_version": "1.5.0",
       "_view_name": "HBoxView",
       "box_style": "",
       "children": [
        "IPY_MODEL_dff016d047544855a3c468f9acaab0bf",
        "IPY_MODEL_66aab068634e4d2d953790d3857f98ac",
        "IPY_MODEL_cf2b75bf24fd4e49a913d27abdb0e587"
       ],
       "layout": "IPY_MODEL_79827a1ea3284bed911107464a6dc450"
      }
     },
     "d6676426aa024e45b84ad3cc0117c2a8": {
      "model_module": "@jupyter-widgets/controls",
      "model_module_version": "1.5.0",
      "model_name": "HTMLModel",
      "state": {
       "_dom_classes": [],
       "_model_module": "@jupyter-widgets/controls",
       "_model_module_version": "1.5.0",
       "_model_name": "HTMLModel",
       "_view_count": null,
       "_view_module": "@jupyter-widgets/controls",
       "_view_module_version": "1.5.0",
       "_view_name": "HTMLView",
       "description": "",
       "description_tooltip": null,
       "layout": "IPY_MODEL_eae4998796af4d6a9574242a77c2392a",
       "placeholder": "​",
       "style": "IPY_MODEL_2fcbdfedb32c415884c95c453df8b01b",
       "value": " 186M/186M [00:04&lt;00:00, 45.7MB/s]"
      }
     },
     "d72ecd0c87524a94906244f78388a192": {
      "model_module": "@jupyter-widgets/controls",
      "model_module_version": "1.5.0",
      "model_name": "FloatProgressModel",
      "state": {
       "_dom_classes": [],
       "_model_module": "@jupyter-widgets/controls",
       "_model_module_version": "1.5.0",
       "_model_name": "FloatProgressModel",
       "_view_count": null,
       "_view_module": "@jupyter-widgets/controls",
       "_view_module_version": "1.5.0",
       "_view_name": "ProgressView",
       "bar_style": "success",
       "description": "",
       "description_tooltip": null,
       "layout": "IPY_MODEL_eb85c784e1204bc1b538898779f9c63b",
       "max": 421583910.0,
       "min": 0.0,
       "orientation": "horizontal",
       "style": "IPY_MODEL_859cbf25e79c45218ad52009685c4f54",
       "value": 421583910.0
      }
     },
     "d9d7552b9bb84598bb0dab775da12647": {
      "model_module": "@jupyter-widgets/base",
      "model_module_version": "1.2.0",
      "model_name": "LayoutModel",
      "state": {
       "_model_module": "@jupyter-widgets/base",
       "_model_module_version": "1.2.0",
       "_model_name": "LayoutModel",
       "_view_count": null,
       "_view_module": "@jupyter-widgets/base",
       "_view_module_version": "1.2.0",
       "_view_name": "LayoutView",
       "align_content": null,
       "align_items": null,
       "align_self": null,
       "border": null,
       "bottom": null,
       "display": null,
       "flex": null,
       "flex_flow": null,
       "grid_area": null,
       "grid_auto_columns": null,
       "grid_auto_flow": null,
       "grid_auto_rows": null,
       "grid_column": null,
       "grid_gap": null,
       "grid_row": null,
       "grid_template_areas": null,
       "grid_template_columns": null,
       "grid_template_rows": null,
       "height": null,
       "justify_content": null,
       "justify_items": null,
       "left": null,
       "margin": null,
       "max_height": null,
       "max_width": null,
       "min_height": null,
       "min_width": null,
       "object_fit": null,
       "object_position": null,
       "order": null,
       "overflow": null,
       "overflow_x": null,
       "overflow_y": null,
       "padding": null,
       "right": null,
       "top": null,
       "visibility": null,
       "width": null
      }
     },
     "db17bfbcf6bc43388fbe84eb03220f0a": {
      "model_module": "@jupyter-widgets/controls",
      "model_module_version": "1.5.0",
      "model_name": "HBoxModel",
      "state": {
       "_dom_classes": [],
       "_model_module": "@jupyter-widgets/controls",
       "_model_module_version": "1.5.0",
       "_model_name": "HBoxModel",
       "_view_count": null,
       "_view_module": "@jupyter-widgets/controls",
       "_view_module_version": "1.5.0",
       "_view_name": "HBoxView",
       "box_style": "",
       "children": [
        "IPY_MODEL_7ff18a7585614b0296f55a5d94d017b8",
        "IPY_MODEL_dfb52f4fc72a4b30818ebf739968355d",
        "IPY_MODEL_d26c9256b0874940bf026916f98e5a72"
       ],
       "layout": "IPY_MODEL_51ef922c67034869927e49fa5e33971f"
      }
     },
     "db1e1f5704f44ca4bfdd502ae1593b79": {
      "model_module": "@jupyter-widgets/controls",
      "model_module_version": "1.5.0",
      "model_name": "ProgressStyleModel",
      "state": {
       "_model_module": "@jupyter-widgets/controls",
       "_model_module_version": "1.5.0",
       "_model_name": "ProgressStyleModel",
       "_view_count": null,
       "_view_module": "@jupyter-widgets/base",
       "_view_module_version": "1.2.0",
       "_view_name": "StyleView",
       "bar_color": null,
       "description_width": ""
      }
     },
     "dc154ce533b24248b5e3e6e3121d0c98": {
      "model_module": "@jupyter-widgets/controls",
      "model_module_version": "1.5.0",
      "model_name": "HBoxModel",
      "state": {
       "_dom_classes": [],
       "_model_module": "@jupyter-widgets/controls",
       "_model_module_version": "1.5.0",
       "_model_name": "HBoxModel",
       "_view_count": null,
       "_view_module": "@jupyter-widgets/controls",
       "_view_module_version": "1.5.0",
       "_view_name": "HBoxView",
       "box_style": "",
       "children": [
        "IPY_MODEL_5be737df59904364b873f6a76ca2aaf6",
        "IPY_MODEL_3692c2d5a19349d7b48cc4130a960ad0",
        "IPY_MODEL_58e92f6b545642c19e915936b866dc55"
       ],
       "layout": "IPY_MODEL_6b595cf42d0643d2ae70ddffacf6387a"
      }
     },
     "dc4a620a94f74eb9a32b41f48ebcedfc": {
      "model_module": "@jupyter-widgets/base",
      "model_module_version": "1.2.0",
      "model_name": "LayoutModel",
      "state": {
       "_model_module": "@jupyter-widgets/base",
       "_model_module_version": "1.2.0",
       "_model_name": "LayoutModel",
       "_view_count": null,
       "_view_module": "@jupyter-widgets/base",
       "_view_module_version": "1.2.0",
       "_view_name": "LayoutView",
       "align_content": null,
       "align_items": null,
       "align_self": null,
       "border": null,
       "bottom": null,
       "display": null,
       "flex": null,
       "flex_flow": null,
       "grid_area": null,
       "grid_auto_columns": null,
       "grid_auto_flow": null,
       "grid_auto_rows": null,
       "grid_column": null,
       "grid_gap": null,
       "grid_row": null,
       "grid_template_areas": null,
       "grid_template_columns": null,
       "grid_template_rows": null,
       "height": null,
       "justify_content": null,
       "justify_items": null,
       "left": null,
       "margin": null,
       "max_height": null,
       "max_width": null,
       "min_height": null,
       "min_width": null,
       "object_fit": null,
       "object_position": null,
       "order": null,
       "overflow": null,
       "overflow_x": null,
       "overflow_y": null,
       "padding": null,
       "right": null,
       "top": null,
       "visibility": null,
       "width": null
      }
     },
     "df4f981fea0441cba4fd3e6ef97018d4": {
      "model_module": "@jupyter-widgets/base",
      "model_module_version": "1.2.0",
      "model_name": "LayoutModel",
      "state": {
       "_model_module": "@jupyter-widgets/base",
       "_model_module_version": "1.2.0",
       "_model_name": "LayoutModel",
       "_view_count": null,
       "_view_module": "@jupyter-widgets/base",
       "_view_module_version": "1.2.0",
       "_view_name": "LayoutView",
       "align_content": null,
       "align_items": null,
       "align_self": null,
       "border": null,
       "bottom": null,
       "display": null,
       "flex": null,
       "flex_flow": null,
       "grid_area": null,
       "grid_auto_columns": null,
       "grid_auto_flow": null,
       "grid_auto_rows": null,
       "grid_column": null,
       "grid_gap": null,
       "grid_row": null,
       "grid_template_areas": null,
       "grid_template_columns": null,
       "grid_template_rows": null,
       "height": null,
       "justify_content": null,
       "justify_items": null,
       "left": null,
       "margin": null,
       "max_height": null,
       "max_width": null,
       "min_height": null,
       "min_width": null,
       "object_fit": null,
       "object_position": null,
       "order": null,
       "overflow": null,
       "overflow_x": null,
       "overflow_y": null,
       "padding": null,
       "right": null,
       "top": null,
       "visibility": null,
       "width": null
      }
     },
     "dfa3ee97513d427ea483d7f58df7a58a": {
      "model_module": "@jupyter-widgets/base",
      "model_module_version": "1.2.0",
      "model_name": "LayoutModel",
      "state": {
       "_model_module": "@jupyter-widgets/base",
       "_model_module_version": "1.2.0",
       "_model_name": "LayoutModel",
       "_view_count": null,
       "_view_module": "@jupyter-widgets/base",
       "_view_module_version": "1.2.0",
       "_view_name": "LayoutView",
       "align_content": null,
       "align_items": null,
       "align_self": null,
       "border": null,
       "bottom": null,
       "display": null,
       "flex": null,
       "flex_flow": null,
       "grid_area": null,
       "grid_auto_columns": null,
       "grid_auto_flow": null,
       "grid_auto_rows": null,
       "grid_column": null,
       "grid_gap": null,
       "grid_row": null,
       "grid_template_areas": null,
       "grid_template_columns": null,
       "grid_template_rows": null,
       "height": null,
       "justify_content": null,
       "justify_items": null,
       "left": null,
       "margin": null,
       "max_height": null,
       "max_width": null,
       "min_height": null,
       "min_width": null,
       "object_fit": null,
       "object_position": null,
       "order": null,
       "overflow": null,
       "overflow_x": null,
       "overflow_y": null,
       "padding": null,
       "right": null,
       "top": null,
       "visibility": null,
       "width": null
      }
     },
     "dfb52f4fc72a4b30818ebf739968355d": {
      "model_module": "@jupyter-widgets/controls",
      "model_module_version": "1.5.0",
      "model_name": "FloatProgressModel",
      "state": {
       "_dom_classes": [],
       "_model_module": "@jupyter-widgets/controls",
       "_model_module_version": "1.5.0",
       "_model_name": "FloatProgressModel",
       "_view_count": null,
       "_view_module": "@jupyter-widgets/controls",
       "_view_module_version": "1.5.0",
       "_view_name": "ProgressView",
       "bar_style": "success",
       "description": "",
       "description_tooltip": null,
       "layout": "IPY_MODEL_513bc0f917084cce9f80af086273da0a",
       "max": 185553661.0,
       "min": 0.0,
       "orientation": "horizontal",
       "style": "IPY_MODEL_42db6ba65eb940d99cf8f8301a0c9c36",
       "value": 185553661.0
      }
     },
     "dff016d047544855a3c468f9acaab0bf": {
      "model_module": "@jupyter-widgets/controls",
      "model_module_version": "1.5.0",
      "model_name": "HTMLModel",
      "state": {
       "_dom_classes": [],
       "_model_module": "@jupyter-widgets/controls",
       "_model_module_version": "1.5.0",
       "_model_name": "HTMLModel",
       "_view_count": null,
       "_view_module": "@jupyter-widgets/controls",
       "_view_module_version": "1.5.0",
       "_view_name": "HTMLView",
       "description": "",
       "description_tooltip": null,
       "layout": "IPY_MODEL_55357cefa44c497e9153fb24dc4c0cb6",
       "placeholder": "​",
       "style": "IPY_MODEL_21bcb62986a345b7af8e4b9d4159ba3d",
       "value": "Downloading readme: 100%"
      }
     },
     "dffcc54831c74ea39c1744a3f71b9a39": {
      "model_module": "@jupyter-widgets/controls",
      "model_module_version": "1.5.0",
      "model_name": "HTMLModel",
      "state": {
       "_dom_classes": [],
       "_model_module": "@jupyter-widgets/controls",
       "_model_module_version": "1.5.0",
       "_model_name": "HTMLModel",
       "_view_count": null,
       "_view_module": "@jupyter-widgets/controls",
       "_view_module_version": "1.5.0",
       "_view_name": "HTMLView",
       "description": "",
       "description_tooltip": null,
       "layout": "IPY_MODEL_3b35a1b1e4a0435486fa458150f91a9d",
       "placeholder": "​",
       "style": "IPY_MODEL_6c8718a608794e54a083273f15010184",
       "value": "Downloading data: 100%"
      }
     },
     "e091a6c0792141ce85d06e88e9803eba": {
      "model_module": "@jupyter-widgets/controls",
      "model_module_version": "1.5.0",
      "model_name": "ProgressStyleModel",
      "state": {
       "_model_module": "@jupyter-widgets/controls",
       "_model_module_version": "1.5.0",
       "_model_name": "ProgressStyleModel",
       "_view_count": null,
       "_view_module": "@jupyter-widgets/base",
       "_view_module_version": "1.2.0",
       "_view_name": "StyleView",
       "bar_color": null,
       "description_width": ""
      }
     },
     "e091eb95febb4ad885b02df31fdc9b8f": {
      "model_module": "@jupyter-widgets/base",
      "model_module_version": "1.2.0",
      "model_name": "LayoutModel",
      "state": {
       "_model_module": "@jupyter-widgets/base",
       "_model_module_version": "1.2.0",
       "_model_name": "LayoutModel",
       "_view_count": null,
       "_view_module": "@jupyter-widgets/base",
       "_view_module_version": "1.2.0",
       "_view_name": "LayoutView",
       "align_content": null,
       "align_items": null,
       "align_self": null,
       "border": null,
       "bottom": null,
       "display": null,
       "flex": null,
       "flex_flow": null,
       "grid_area": null,
       "grid_auto_columns": null,
       "grid_auto_flow": null,
       "grid_auto_rows": null,
       "grid_column": null,
       "grid_gap": null,
       "grid_row": null,
       "grid_template_areas": null,
       "grid_template_columns": null,
       "grid_template_rows": null,
       "height": null,
       "justify_content": null,
       "justify_items": null,
       "left": null,
       "margin": null,
       "max_height": null,
       "max_width": null,
       "min_height": null,
       "min_width": null,
       "object_fit": null,
       "object_position": null,
       "order": null,
       "overflow": null,
       "overflow_x": null,
       "overflow_y": null,
       "padding": null,
       "right": null,
       "top": null,
       "visibility": null,
       "width": null
      }
     },
     "e1b4016a1ea34690baed6ff974bb06d7": {
      "model_module": "@jupyter-widgets/controls",
      "model_module_version": "1.5.0",
      "model_name": "DescriptionStyleModel",
      "state": {
       "_model_module": "@jupyter-widgets/controls",
       "_model_module_version": "1.5.0",
       "_model_name": "DescriptionStyleModel",
       "_view_count": null,
       "_view_module": "@jupyter-widgets/base",
       "_view_module_version": "1.2.0",
       "_view_name": "StyleView",
       "description_width": ""
      }
     },
     "e2117fdbbb0d401c92fc3db8c84ed94e": {
      "model_module": "@jupyter-widgets/controls",
      "model_module_version": "1.5.0",
      "model_name": "HTMLModel",
      "state": {
       "_dom_classes": [],
       "_model_module": "@jupyter-widgets/controls",
       "_model_module_version": "1.5.0",
       "_model_name": "HTMLModel",
       "_view_count": null,
       "_view_module": "@jupyter-widgets/controls",
       "_view_module_version": "1.5.0",
       "_view_name": "HTMLView",
       "description": "",
       "description_tooltip": null,
       "layout": "IPY_MODEL_e61b77b6b2ac40dbbd74a3f60917d5f0",
       "placeholder": "​",
       "style": "IPY_MODEL_517926c906a1460c8c77dac74b1b039f",
       "value": "Computing checksums: 100%"
      }
     },
     "e2938d855cbe44559bd794f2bbaefd52": {
      "model_module": "@jupyter-widgets/controls",
      "model_module_version": "1.5.0",
      "model_name": "HTMLModel",
      "state": {
       "_dom_classes": [],
       "_model_module": "@jupyter-widgets/controls",
       "_model_module_version": "1.5.0",
       "_model_name": "HTMLModel",
       "_view_count": null,
       "_view_module": "@jupyter-widgets/controls",
       "_view_module_version": "1.5.0",
       "_view_name": "HTMLView",
       "description": "",
       "description_tooltip": null,
       "layout": "IPY_MODEL_89fd034f85e54e99b71724b3390fb85f",
       "placeholder": "​",
       "style": "IPY_MODEL_1251bf2df0df4b43bd2871e537ac9311",
       "value": " 219M/219M [00:05&lt;00:00, 48.7MB/s]"
      }
     },
     "e343d79c502142c8a6e91fd36c1c4e1e": {
      "model_module": "@jupyter-widgets/controls",
      "model_module_version": "1.5.0",
      "model_name": "DescriptionStyleModel",
      "state": {
       "_model_module": "@jupyter-widgets/controls",
       "_model_module_version": "1.5.0",
       "_model_name": "DescriptionStyleModel",
       "_view_count": null,
       "_view_module": "@jupyter-widgets/base",
       "_view_module_version": "1.2.0",
       "_view_name": "StyleView",
       "description_width": ""
      }
     },
     "e45c8c7ccf504426a99b3e0182a0cd1d": {
      "model_module": "@jupyter-widgets/base",
      "model_module_version": "1.2.0",
      "model_name": "LayoutModel",
      "state": {
       "_model_module": "@jupyter-widgets/base",
       "_model_module_version": "1.2.0",
       "_model_name": "LayoutModel",
       "_view_count": null,
       "_view_module": "@jupyter-widgets/base",
       "_view_module_version": "1.2.0",
       "_view_name": "LayoutView",
       "align_content": null,
       "align_items": null,
       "align_self": null,
       "border": null,
       "bottom": null,
       "display": null,
       "flex": null,
       "flex_flow": null,
       "grid_area": null,
       "grid_auto_columns": null,
       "grid_auto_flow": null,
       "grid_auto_rows": null,
       "grid_column": null,
       "grid_gap": null,
       "grid_row": null,
       "grid_template_areas": null,
       "grid_template_columns": null,
       "grid_template_rows": null,
       "height": null,
       "justify_content": null,
       "justify_items": null,
       "left": null,
       "margin": null,
       "max_height": null,
       "max_width": null,
       "min_height": null,
       "min_width": null,
       "object_fit": null,
       "object_position": null,
       "order": null,
       "overflow": null,
       "overflow_x": null,
       "overflow_y": null,
       "padding": null,
       "right": null,
       "top": null,
       "visibility": null,
       "width": null
      }
     },
     "e52d996357b34defa04b909b84e79cc1": {
      "model_module": "@jupyter-widgets/controls",
      "model_module_version": "1.5.0",
      "model_name": "DescriptionStyleModel",
      "state": {
       "_model_module": "@jupyter-widgets/controls",
       "_model_module_version": "1.5.0",
       "_model_name": "DescriptionStyleModel",
       "_view_count": null,
       "_view_module": "@jupyter-widgets/base",
       "_view_module_version": "1.2.0",
       "_view_name": "StyleView",
       "description_width": ""
      }
     },
     "e5d61ba87d314c81b057b6a4fbdbc944": {
      "model_module": "@jupyter-widgets/controls",
      "model_module_version": "1.5.0",
      "model_name": "HTMLModel",
      "state": {
       "_dom_classes": [],
       "_model_module": "@jupyter-widgets/controls",
       "_model_module_version": "1.5.0",
       "_model_name": "HTMLModel",
       "_view_count": null,
       "_view_module": "@jupyter-widgets/controls",
       "_view_module_version": "1.5.0",
       "_view_name": "HTMLView",
       "description": "",
       "description_tooltip": null,
       "layout": "IPY_MODEL_adbd1ee288e54c35ad504af462afc3c1",
       "placeholder": "​",
       "style": "IPY_MODEL_9a5178ec7e2d410eac0fecaa66aebffc",
       "value": "Downloading data: 100%"
      }
     },
     "e6005a8859f34529af7a88f525fd6fc1": {
      "model_module": "@jupyter-widgets/controls",
      "model_module_version": "1.5.0",
      "model_name": "HBoxModel",
      "state": {
       "_dom_classes": [],
       "_model_module": "@jupyter-widgets/controls",
       "_model_module_version": "1.5.0",
       "_model_name": "HBoxModel",
       "_view_count": null,
       "_view_module": "@jupyter-widgets/controls",
       "_view_module_version": "1.5.0",
       "_view_name": "HBoxView",
       "box_style": "",
       "children": [
        "IPY_MODEL_54230ff5285f4e42946c853af6a9b7ad",
        "IPY_MODEL_fdb7e07c7807418495343a44b5e3100d",
        "IPY_MODEL_b9046b1c040743b4b4ac01a9e6a0c191"
       ],
       "layout": "IPY_MODEL_c7a11aa9b6ed4ec2875dafbf52211693"
      }
     },
     "e61b77b6b2ac40dbbd74a3f60917d5f0": {
      "model_module": "@jupyter-widgets/base",
      "model_module_version": "1.2.0",
      "model_name": "LayoutModel",
      "state": {
       "_model_module": "@jupyter-widgets/base",
       "_model_module_version": "1.2.0",
       "_model_name": "LayoutModel",
       "_view_count": null,
       "_view_module": "@jupyter-widgets/base",
       "_view_module_version": "1.2.0",
       "_view_name": "LayoutView",
       "align_content": null,
       "align_items": null,
       "align_self": null,
       "border": null,
       "bottom": null,
       "display": null,
       "flex": null,
       "flex_flow": null,
       "grid_area": null,
       "grid_auto_columns": null,
       "grid_auto_flow": null,
       "grid_auto_rows": null,
       "grid_column": null,
       "grid_gap": null,
       "grid_row": null,
       "grid_template_areas": null,
       "grid_template_columns": null,
       "grid_template_rows": null,
       "height": null,
       "justify_content": null,
       "justify_items": null,
       "left": null,
       "margin": null,
       "max_height": null,
       "max_width": null,
       "min_height": null,
       "min_width": null,
       "object_fit": null,
       "object_position": null,
       "order": null,
       "overflow": null,
       "overflow_x": null,
       "overflow_y": null,
       "padding": null,
       "right": null,
       "top": null,
       "visibility": null,
       "width": null
      }
     },
     "e84447dd36a5468ab13a86af74ac9798": {
      "model_module": "@jupyter-widgets/controls",
      "model_module_version": "1.5.0",
      "model_name": "ProgressStyleModel",
      "state": {
       "_model_module": "@jupyter-widgets/controls",
       "_model_module_version": "1.5.0",
       "_model_name": "ProgressStyleModel",
       "_view_count": null,
       "_view_module": "@jupyter-widgets/base",
       "_view_module_version": "1.2.0",
       "_view_name": "StyleView",
       "bar_color": null,
       "description_width": ""
      }
     },
     "e9189f3b09ad46f2a5f81a73555dd34d": {
      "model_module": "@jupyter-widgets/controls",
      "model_module_version": "1.5.0",
      "model_name": "FloatProgressModel",
      "state": {
       "_dom_classes": [],
       "_model_module": "@jupyter-widgets/controls",
       "_model_module_version": "1.5.0",
       "_model_name": "FloatProgressModel",
       "_view_count": null,
       "_view_module": "@jupyter-widgets/controls",
       "_view_module_version": "1.5.0",
       "_view_name": "ProgressView",
       "bar_style": "success",
       "description": "",
       "description_tooltip": null,
       "layout": "IPY_MODEL_4fed37d18bb54f5ab082653a9095d27b",
       "max": 283697339.0,
       "min": 0.0,
       "orientation": "horizontal",
       "style": "IPY_MODEL_083cc38a6f4842608cd455c97a9d6871",
       "value": 283697339.0
      }
     },
     "ea6b580facd84f36b38635e5a121e53d": {
      "model_module": "@jupyter-widgets/controls",
      "model_module_version": "1.5.0",
      "model_name": "HTMLModel",
      "state": {
       "_dom_classes": [],
       "_model_module": "@jupyter-widgets/controls",
       "_model_module_version": "1.5.0",
       "_model_name": "HTMLModel",
       "_view_count": null,
       "_view_module": "@jupyter-widgets/controls",
       "_view_module_version": "1.5.0",
       "_view_name": "HTMLView",
       "description": "",
       "description_tooltip": null,
       "layout": "IPY_MODEL_2f439c37c2c54d0fa5342469671e5a5e",
       "placeholder": "​",
       "style": "IPY_MODEL_be795cc436b34ebcb6609c463628d0f3",
       "value": " 422M/422M [00:09&lt;00:00, 54.6MB/s]"
      }
     },
     "eae4998796af4d6a9574242a77c2392a": {
      "model_module": "@jupyter-widgets/base",
      "model_module_version": "1.2.0",
      "model_name": "LayoutModel",
      "state": {
       "_model_module": "@jupyter-widgets/base",
       "_model_module_version": "1.2.0",
       "_model_name": "LayoutModel",
       "_view_count": null,
       "_view_module": "@jupyter-widgets/base",
       "_view_module_version": "1.2.0",
       "_view_name": "LayoutView",
       "align_content": null,
       "align_items": null,
       "align_self": null,
       "border": null,
       "bottom": null,
       "display": null,
       "flex": null,
       "flex_flow": null,
       "grid_area": null,
       "grid_auto_columns": null,
       "grid_auto_flow": null,
       "grid_auto_rows": null,
       "grid_column": null,
       "grid_gap": null,
       "grid_row": null,
       "grid_template_areas": null,
       "grid_template_columns": null,
       "grid_template_rows": null,
       "height": null,
       "justify_content": null,
       "justify_items": null,
       "left": null,
       "margin": null,
       "max_height": null,
       "max_width": null,
       "min_height": null,
       "min_width": null,
       "object_fit": null,
       "object_position": null,
       "order": null,
       "overflow": null,
       "overflow_x": null,
       "overflow_y": null,
       "padding": null,
       "right": null,
       "top": null,
       "visibility": null,
       "width": null
      }
     },
     "eafd7b671ec449c6b0a7af70fd80550c": {
      "model_module": "@jupyter-widgets/base",
      "model_module_version": "1.2.0",
      "model_name": "LayoutModel",
      "state": {
       "_model_module": "@jupyter-widgets/base",
       "_model_module_version": "1.2.0",
       "_model_name": "LayoutModel",
       "_view_count": null,
       "_view_module": "@jupyter-widgets/base",
       "_view_module_version": "1.2.0",
       "_view_name": "LayoutView",
       "align_content": null,
       "align_items": null,
       "align_self": null,
       "border": null,
       "bottom": null,
       "display": null,
       "flex": null,
       "flex_flow": null,
       "grid_area": null,
       "grid_auto_columns": null,
       "grid_auto_flow": null,
       "grid_auto_rows": null,
       "grid_column": null,
       "grid_gap": null,
       "grid_row": null,
       "grid_template_areas": null,
       "grid_template_columns": null,
       "grid_template_rows": null,
       "height": null,
       "justify_content": null,
       "justify_items": null,
       "left": null,
       "margin": null,
       "max_height": null,
       "max_width": null,
       "min_height": null,
       "min_width": null,
       "object_fit": null,
       "object_position": null,
       "order": null,
       "overflow": null,
       "overflow_x": null,
       "overflow_y": null,
       "padding": null,
       "right": null,
       "top": null,
       "visibility": null,
       "width": null
      }
     },
     "eb85c784e1204bc1b538898779f9c63b": {
      "model_module": "@jupyter-widgets/base",
      "model_module_version": "1.2.0",
      "model_name": "LayoutModel",
      "state": {
       "_model_module": "@jupyter-widgets/base",
       "_model_module_version": "1.2.0",
       "_model_name": "LayoutModel",
       "_view_count": null,
       "_view_module": "@jupyter-widgets/base",
       "_view_module_version": "1.2.0",
       "_view_name": "LayoutView",
       "align_content": null,
       "align_items": null,
       "align_self": null,
       "border": null,
       "bottom": null,
       "display": null,
       "flex": null,
       "flex_flow": null,
       "grid_area": null,
       "grid_auto_columns": null,
       "grid_auto_flow": null,
       "grid_auto_rows": null,
       "grid_column": null,
       "grid_gap": null,
       "grid_row": null,
       "grid_template_areas": null,
       "grid_template_columns": null,
       "grid_template_rows": null,
       "height": null,
       "justify_content": null,
       "justify_items": null,
       "left": null,
       "margin": null,
       "max_height": null,
       "max_width": null,
       "min_height": null,
       "min_width": null,
       "object_fit": null,
       "object_position": null,
       "order": null,
       "overflow": null,
       "overflow_x": null,
       "overflow_y": null,
       "padding": null,
       "right": null,
       "top": null,
       "visibility": null,
       "width": null
      }
     },
     "ec63f11ac77f4af68f4dc1a69a129ccf": {
      "model_module": "@jupyter-widgets/controls",
      "model_module_version": "1.5.0",
      "model_name": "HTMLModel",
      "state": {
       "_dom_classes": [],
       "_model_module": "@jupyter-widgets/controls",
       "_model_module_version": "1.5.0",
       "_model_name": "HTMLModel",
       "_view_count": null,
       "_view_module": "@jupyter-widgets/controls",
       "_view_module_version": "1.5.0",
       "_view_name": "HTMLView",
       "description": "",
       "description_tooltip": null,
       "layout": "IPY_MODEL_852b30ec313440ec943641801fee836e",
       "placeholder": "​",
       "style": "IPY_MODEL_37f8f5a031974470a75fb1357b9a5ea5",
       "value": " 17/17 [00:00&lt;00:00, 20.98it/s]"
      }
     },
     "ed2c57b61b4e4e5b912e9339fcd95b30": {
      "model_module": "@jupyter-widgets/controls",
      "model_module_version": "1.5.0",
      "model_name": "DescriptionStyleModel",
      "state": {
       "_model_module": "@jupyter-widgets/controls",
       "_model_module_version": "1.5.0",
       "_model_name": "DescriptionStyleModel",
       "_view_count": null,
       "_view_module": "@jupyter-widgets/base",
       "_view_module_version": "1.2.0",
       "_view_name": "StyleView",
       "description_width": ""
      }
     },
     "ee424cee264741aebd80deb6959edda0": {
      "model_module": "@jupyter-widgets/base",
      "model_module_version": "1.2.0",
      "model_name": "LayoutModel",
      "state": {
       "_model_module": "@jupyter-widgets/base",
       "_model_module_version": "1.2.0",
       "_model_name": "LayoutModel",
       "_view_count": null,
       "_view_module": "@jupyter-widgets/base",
       "_view_module_version": "1.2.0",
       "_view_name": "LayoutView",
       "align_content": null,
       "align_items": null,
       "align_self": null,
       "border": null,
       "bottom": null,
       "display": null,
       "flex": null,
       "flex_flow": null,
       "grid_area": null,
       "grid_auto_columns": null,
       "grid_auto_flow": null,
       "grid_auto_rows": null,
       "grid_column": null,
       "grid_gap": null,
       "grid_row": null,
       "grid_template_areas": null,
       "grid_template_columns": null,
       "grid_template_rows": null,
       "height": null,
       "justify_content": null,
       "justify_items": null,
       "left": null,
       "margin": null,
       "max_height": null,
       "max_width": null,
       "min_height": null,
       "min_width": null,
       "object_fit": null,
       "object_position": null,
       "order": null,
       "overflow": null,
       "overflow_x": null,
       "overflow_y": null,
       "padding": null,
       "right": null,
       "top": null,
       "visibility": null,
       "width": null
      }
     },
     "ef63e070ac7a4c42a354b3b8ac69ed58": {
      "model_module": "@jupyter-widgets/controls",
      "model_module_version": "1.5.0",
      "model_name": "HTMLModel",
      "state": {
       "_dom_classes": [],
       "_model_module": "@jupyter-widgets/controls",
       "_model_module_version": "1.5.0",
       "_model_name": "HTMLModel",
       "_view_count": null,
       "_view_module": "@jupyter-widgets/controls",
       "_view_module_version": "1.5.0",
       "_view_name": "HTMLView",
       "description": "",
       "description_tooltip": null,
       "layout": "IPY_MODEL_001aab423e454880984fe3206ee523fa",
       "placeholder": "​",
       "style": "IPY_MODEL_c13ec7e4c0704616992aafb0982577c8",
       "value": " 210M/210M [00:04&lt;00:00, 46.0MB/s]"
      }
     },
     "f007ab3185914354a1646c575ff8d172": {
      "model_module": "@jupyter-widgets/controls",
      "model_module_version": "1.5.0",
      "model_name": "DescriptionStyleModel",
      "state": {
       "_model_module": "@jupyter-widgets/controls",
       "_model_module_version": "1.5.0",
       "_model_name": "DescriptionStyleModel",
       "_view_count": null,
       "_view_module": "@jupyter-widgets/base",
       "_view_module_version": "1.2.0",
       "_view_name": "StyleView",
       "description_width": ""
      }
     },
     "f0734af97fe04276a5eec429a904c570": {
      "model_module": "@jupyter-widgets/controls",
      "model_module_version": "1.5.0",
      "model_name": "HTMLModel",
      "state": {
       "_dom_classes": [],
       "_model_module": "@jupyter-widgets/controls",
       "_model_module_version": "1.5.0",
       "_model_name": "HTMLModel",
       "_view_count": null,
       "_view_module": "@jupyter-widgets/controls",
       "_view_module_version": "1.5.0",
       "_view_name": "HTMLView",
       "description": "",
       "description_tooltip": null,
       "layout": "IPY_MODEL_30b34f575be04161983468abf70fac44",
       "placeholder": "​",
       "style": "IPY_MODEL_746a70d9df6c4f83b1242161298d3eac",
       "value": "Generating train split: 100%"
      }
     },
     "f235143c1dab405292cac61e04001acc": {
      "model_module": "@jupyter-widgets/controls",
      "model_module_version": "1.5.0",
      "model_name": "HTMLModel",
      "state": {
       "_dom_classes": [],
       "_model_module": "@jupyter-widgets/controls",
       "_model_module_version": "1.5.0",
       "_model_name": "HTMLModel",
       "_view_count": null,
       "_view_module": "@jupyter-widgets/controls",
       "_view_module_version": "1.5.0",
       "_view_name": "HTMLView",
       "description": "",
       "description_tooltip": null,
       "layout": "IPY_MODEL_66ca98595f2d48c7a12ca0dd613e042b",
       "placeholder": "​",
       "style": "IPY_MODEL_07c77ea3d03043bc95938b3e4ece0a20",
       "value": "Downloading data: 100%"
      }
     },
     "f4017d135de446e8a8389b434e65560b": {
      "model_module": "@jupyter-widgets/controls",
      "model_module_version": "1.5.0",
      "model_name": "HBoxModel",
      "state": {
       "_dom_classes": [],
       "_model_module": "@jupyter-widgets/controls",
       "_model_module_version": "1.5.0",
       "_model_name": "HBoxModel",
       "_view_count": null,
       "_view_module": "@jupyter-widgets/controls",
       "_view_module_version": "1.5.0",
       "_view_name": "HBoxView",
       "box_style": "",
       "children": [
        "IPY_MODEL_2528dc8cc520499f98c17284b6cea02d",
        "IPY_MODEL_d72ecd0c87524a94906244f78388a192",
        "IPY_MODEL_ea6b580facd84f36b38635e5a121e53d"
       ],
       "layout": "IPY_MODEL_55f60b0c250f46c68e6cec269238da3c"
      }
     },
     "f66b8938c7ee4b70ae549df9ccf2b702": {
      "model_module": "@jupyter-widgets/controls",
      "model_module_version": "1.5.0",
      "model_name": "DescriptionStyleModel",
      "state": {
       "_model_module": "@jupyter-widgets/controls",
       "_model_module_version": "1.5.0",
       "_model_name": "DescriptionStyleModel",
       "_view_count": null,
       "_view_module": "@jupyter-widgets/base",
       "_view_module_version": "1.2.0",
       "_view_name": "StyleView",
       "description_width": ""
      }
     },
     "f8e183725387487cadcd6e7e423a4bf5": {
      "model_module": "@jupyter-widgets/controls",
      "model_module_version": "1.5.0",
      "model_name": "DescriptionStyleModel",
      "state": {
       "_model_module": "@jupyter-widgets/controls",
       "_model_module_version": "1.5.0",
       "_model_name": "DescriptionStyleModel",
       "_view_count": null,
       "_view_module": "@jupyter-widgets/base",
       "_view_module_version": "1.2.0",
       "_view_name": "StyleView",
       "description_width": ""
      }
     },
     "f93085f74b654effb494a3f9cddd24ec": {
      "model_module": "@jupyter-widgets/controls",
      "model_module_version": "1.5.0",
      "model_name": "HBoxModel",
      "state": {
       "_dom_classes": [],
       "_model_module": "@jupyter-widgets/controls",
       "_model_module_version": "1.5.0",
       "_model_name": "HBoxModel",
       "_view_count": null,
       "_view_module": "@jupyter-widgets/controls",
       "_view_module_version": "1.5.0",
       "_view_name": "HBoxView",
       "box_style": "",
       "children": [
        "IPY_MODEL_dffcc54831c74ea39c1744a3f71b9a39",
        "IPY_MODEL_c19ad7752c33468ba44c33a970046931",
        "IPY_MODEL_49dbac514eec46c0a9c55eebe017ecdf"
       ],
       "layout": "IPY_MODEL_c01eccf52a4a420abd9a64d5ca156ad8"
      }
     },
     "f9c01cfb1a2543dcbee5f07f2aacc288": {
      "model_module": "@jupyter-widgets/base",
      "model_module_version": "1.2.0",
      "model_name": "LayoutModel",
      "state": {
       "_model_module": "@jupyter-widgets/base",
       "_model_module_version": "1.2.0",
       "_model_name": "LayoutModel",
       "_view_count": null,
       "_view_module": "@jupyter-widgets/base",
       "_view_module_version": "1.2.0",
       "_view_name": "LayoutView",
       "align_content": null,
       "align_items": null,
       "align_self": null,
       "border": null,
       "bottom": null,
       "display": null,
       "flex": null,
       "flex_flow": null,
       "grid_area": null,
       "grid_auto_columns": null,
       "grid_auto_flow": null,
       "grid_auto_rows": null,
       "grid_column": null,
       "grid_gap": null,
       "grid_row": null,
       "grid_template_areas": null,
       "grid_template_columns": null,
       "grid_template_rows": null,
       "height": null,
       "justify_content": null,
       "justify_items": null,
       "left": null,
       "margin": null,
       "max_height": null,
       "max_width": null,
       "min_height": null,
       "min_width": null,
       "object_fit": null,
       "object_position": null,
       "order": null,
       "overflow": null,
       "overflow_x": null,
       "overflow_y": null,
       "padding": null,
       "right": null,
       "top": null,
       "visibility": null,
       "width": null
      }
     },
     "fb61e5f0f52b4568ad1a8ea22daad8db": {
      "model_module": "@jupyter-widgets/base",
      "model_module_version": "1.2.0",
      "model_name": "LayoutModel",
      "state": {
       "_model_module": "@jupyter-widgets/base",
       "_model_module_version": "1.2.0",
       "_model_name": "LayoutModel",
       "_view_count": null,
       "_view_module": "@jupyter-widgets/base",
       "_view_module_version": "1.2.0",
       "_view_name": "LayoutView",
       "align_content": null,
       "align_items": null,
       "align_self": null,
       "border": null,
       "bottom": null,
       "display": null,
       "flex": null,
       "flex_flow": null,
       "grid_area": null,
       "grid_auto_columns": null,
       "grid_auto_flow": null,
       "grid_auto_rows": null,
       "grid_column": null,
       "grid_gap": null,
       "grid_row": null,
       "grid_template_areas": null,
       "grid_template_columns": null,
       "grid_template_rows": null,
       "height": null,
       "justify_content": null,
       "justify_items": null,
       "left": null,
       "margin": null,
       "max_height": null,
       "max_width": null,
       "min_height": null,
       "min_width": null,
       "object_fit": null,
       "object_position": null,
       "order": null,
       "overflow": null,
       "overflow_x": null,
       "overflow_y": null,
       "padding": null,
       "right": null,
       "top": null,
       "visibility": null,
       "width": null
      }
     },
     "fdb7e07c7807418495343a44b5e3100d": {
      "model_module": "@jupyter-widgets/controls",
      "model_module_version": "1.5.0",
      "model_name": "FloatProgressModel",
      "state": {
       "_dom_classes": [],
       "_model_module": "@jupyter-widgets/controls",
       "_model_module_version": "1.5.0",
       "_model_name": "FloatProgressModel",
       "_view_count": null,
       "_view_module": "@jupyter-widgets/controls",
       "_view_module_version": "1.5.0",
       "_view_name": "ProgressView",
       "bar_style": "success",
       "description": "",
       "description_tooltip": null,
       "layout": "IPY_MODEL_f9c01cfb1a2543dcbee5f07f2aacc288",
       "max": 214272535.0,
       "min": 0.0,
       "orientation": "horizontal",
       "style": "IPY_MODEL_2fa1604ab36f4d988c2c2293c20f8853",
       "value": 214272535.0
      }
     },
     "feebeb9352ae461cbe7a4ea6c2d7839a": {
      "model_module": "@jupyter-widgets/controls",
      "model_module_version": "1.5.0",
      "model_name": "FloatProgressModel",
      "state": {
       "_dom_classes": [],
       "_model_module": "@jupyter-widgets/controls",
       "_model_module_version": "1.5.0",
       "_model_name": "FloatProgressModel",
       "_view_count": null,
       "_view_module": "@jupyter-widgets/controls",
       "_view_module_version": "1.5.0",
       "_view_name": "ProgressView",
       "bar_style": "success",
       "description": "",
       "description_tooltip": null,
       "layout": "IPY_MODEL_2571d3ca23624fcfb1e96acf83e02c30",
       "max": 17.0,
       "min": 0.0,
       "orientation": "horizontal",
       "style": "IPY_MODEL_1cda1376ed71421e92a24f29d456726f",
       "value": 17.0
      }
     },
     "ff973fe2e5ff43388adffa0990c118a1": {
      "model_module": "@jupyter-widgets/base",
      "model_module_version": "1.2.0",
      "model_name": "LayoutModel",
      "state": {
       "_model_module": "@jupyter-widgets/base",
       "_model_module_version": "1.2.0",
       "_model_name": "LayoutModel",
       "_view_count": null,
       "_view_module": "@jupyter-widgets/base",
       "_view_module_version": "1.2.0",
       "_view_name": "LayoutView",
       "align_content": null,
       "align_items": null,
       "align_self": null,
       "border": null,
       "bottom": null,
       "display": null,
       "flex": null,
       "flex_flow": null,
       "grid_area": null,
       "grid_auto_columns": null,
       "grid_auto_flow": null,
       "grid_auto_rows": null,
       "grid_column": null,
       "grid_gap": null,
       "grid_row": null,
       "grid_template_areas": null,
       "grid_template_columns": null,
       "grid_template_rows": null,
       "height": null,
       "justify_content": null,
       "justify_items": null,
       "left": null,
       "margin": null,
       "max_height": null,
       "max_width": null,
       "min_height": null,
       "min_width": null,
       "object_fit": null,
       "object_position": null,
       "order": null,
       "overflow": null,
       "overflow_x": null,
       "overflow_y": null,
       "padding": null,
       "right": null,
       "top": null,
       "visibility": null,
       "width": null
      }
     }
    },
    "version_major": 2,
    "version_minor": 0
   }
  }
 },
 "nbformat": 4,
 "nbformat_minor": 5
}
